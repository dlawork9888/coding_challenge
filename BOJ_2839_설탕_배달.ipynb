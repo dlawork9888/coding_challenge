{
 "cells": [
  {
   "cell_type": "markdown",
   "id": "2bc082ba-10a9-4979-9d4b-758fdaacd6e1",
   "metadata": {},
   "source": [
    "# BOJ. 2839. 설탕 배달\n",
    "https://www.acmicpc.net/problem/2839"
   ]
  },
  {
   "cell_type": "code",
   "execution_count": 1,
   "id": "3004fb17-c284-4a8f-887d-dec8269c475b",
   "metadata": {
    "tags": []
   },
   "outputs": [
    {
     "name": "stdin",
     "output_type": "stream",
     "text": [
      " 18\n"
     ]
    },
    {
     "name": "stdout",
     "output_type": "stream",
     "text": [
      "4\n"
     ]
    }
   ],
   "source": [
    "# 5x + 3y = N\n",
    "# (x,y) 중 x가 제일 큰 쌍\n",
    "def bags(N):\n",
    "    for x in range(N//5, -1, -1):\n",
    "        if (N - 5*x) % 3 == 0:\n",
    "            return x + (N - 5*x)//3\n",
    "    return -1\n",
    "print(bags(int(input())))"
   ]
  },
  {
   "cell_type": "code",
   "execution_count": null,
   "id": "d58a6569-46cd-4396-b712-00a18baae396",
   "metadata": {},
   "outputs": [],
   "source": []
  }
 ],
 "metadata": {
  "kernelspec": {
   "display_name": "Python 3 (ipykernel)",
   "language": "python",
   "name": "python3"
  },
  "language_info": {
   "codemirror_mode": {
    "name": "ipython",
    "version": 3
   },
   "file_extension": ".py",
   "mimetype": "text/x-python",
   "name": "python",
   "nbconvert_exporter": "python",
   "pygments_lexer": "ipython3",
   "version": "3.11.5"
  }
 },
 "nbformat": 4,
 "nbformat_minor": 5
}
