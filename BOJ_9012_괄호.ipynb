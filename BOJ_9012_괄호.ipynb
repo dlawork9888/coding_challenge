{
 "cells": [
  {
   "cell_type": "markdown",
   "id": "58bfec1a-9b80-41e6-9b6a-bcde8e2aa9e1",
   "metadata": {},
   "source": [
    "# BOJ. 9012. 괄호\n",
    "https://www.acmicpc.net/problem/9012"
   ]
  },
  {
   "cell_type": "code",
   "execution_count": 6,
   "id": "fd0272ca-c73d-448d-85c4-7f4a720b9fe8",
   "metadata": {
    "tags": []
   },
   "outputs": [
    {
     "name": "stdin",
     "output_type": "stream",
     "text": [
      " 6\n",
      " (())())\n"
     ]
    },
    {
     "name": "stdout",
     "output_type": "stream",
     "text": [
      "NO\n"
     ]
    },
    {
     "name": "stdin",
     "output_type": "stream",
     "text": [
      " (((()())()\n"
     ]
    },
    {
     "name": "stdout",
     "output_type": "stream",
     "text": [
      "NO\n"
     ]
    },
    {
     "name": "stdin",
     "output_type": "stream",
     "text": [
      " (()())((()))\n"
     ]
    },
    {
     "name": "stdout",
     "output_type": "stream",
     "text": [
      "YES\n"
     ]
    },
    {
     "name": "stdin",
     "output_type": "stream",
     "text": [
      " ((()()(()))(((())))()\n"
     ]
    },
    {
     "name": "stdout",
     "output_type": "stream",
     "text": [
      "NO\n"
     ]
    },
    {
     "name": "stdin",
     "output_type": "stream",
     "text": [
      " ()()()()(()()())()\n"
     ]
    },
    {
     "name": "stdout",
     "output_type": "stream",
     "text": [
      "YES\n"
     ]
    },
    {
     "name": "stdin",
     "output_type": "stream",
     "text": [
      " (()((())()(\n"
     ]
    },
    {
     "name": "stdout",
     "output_type": "stream",
     "text": [
      "NO\n"
     ]
    }
   ],
   "source": [
    "# 올바른 괄호 쌍 => STACK !\n",
    "def VPS(PS):\n",
    "    stack = []\n",
    "    for p in PS:\n",
    "        if p == '(':\n",
    "            stack.append(p)\n",
    "        else: # ')'\n",
    "            if not stack or stack[-1] == ')':\n",
    "                stack.append(p)\n",
    "            else: # 스택이 차있고 stack top이 여는 괄호일때\n",
    "                stack.pop()\n",
    "    if stack:\n",
    "        return 'NO'\n",
    "    return 'YES'\n",
    "\n",
    "for _ in range(int(input())):\n",
    "    print(VPS(input()))"
   ]
  },
  {
   "cell_type": "code",
   "execution_count": null,
   "id": "300fe2c9-430d-4ba4-8217-f49ac77b76d6",
   "metadata": {},
   "outputs": [],
   "source": [
    "# ? 모듈 테스트\n"
   ]
  }
 ],
 "metadata": {
  "kernelspec": {
   "display_name": "Python 3 (ipykernel)",
   "language": "python",
   "name": "python3"
  },
  "language_info": {
   "codemirror_mode": {
    "name": "ipython",
    "version": 3
   },
   "file_extension": ".py",
   "mimetype": "text/x-python",
   "name": "python",
   "nbconvert_exporter": "python",
   "pygments_lexer": "ipython3",
   "version": "3.11.5"
  }
 },
 "nbformat": 4,
 "nbformat_minor": 5
}
