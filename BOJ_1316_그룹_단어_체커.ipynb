{
 "cells": [
  {
   "cell_type": "markdown",
   "id": "67749186-308d-460f-bf4a-26aa6ed25674",
   "metadata": {
    "tags": []
   },
   "source": [
    "# BOJ. 1316. 그룹 단어 체커\n",
    "https://www.acmicpc.net/problem/1316"
   ]
  },
  {
   "cell_type": "code",
   "execution_count": 6,
   "id": "3c362254-0291-4d85-9208-33780a293db3",
   "metadata": {
    "tags": []
   },
   "outputs": [
    {
     "name": "stdin",
     "output_type": "stream",
     "text": [
      " 4\n",
      " aba\n",
      " abab\n",
      " abcabc\n",
      " a\n"
     ]
    },
    {
     "name": "stdout",
     "output_type": "stream",
     "text": [
      "1\n"
     ]
    }
   ],
   "source": [
    "def check(word):\n",
    "    # 길이가 100밖에 안되니 해시는 안써도 될듯\\\n",
    "    atoms = []\n",
    "    now_c = ''\n",
    "    for c in word:\n",
    "        if c == now_c:\n",
    "            continue\n",
    "        if not c in atoms:\n",
    "            atoms.append(c)\n",
    "            now_c = c\n",
    "        else: # atoms에 있는 경우는 그룹단어가 아님\n",
    "            return False\n",
    "    return True\n",
    "\n",
    "\n",
    "count = 0\n",
    "for _ in range(int(input())):\n",
    "    word = input()\n",
    "    if check(word) == True:\n",
    "        count += 1\n",
    "print(count)"
   ]
  },
  {
   "cell_type": "code",
   "execution_count": null,
   "id": "4b329e67-1d0d-4169-9a16-a809c3566673",
   "metadata": {},
   "outputs": [],
   "source": []
  }
 ],
 "metadata": {
  "kernelspec": {
   "display_name": "Python 3 (ipykernel)",
   "language": "python",
   "name": "python3"
  },
  "language_info": {
   "codemirror_mode": {
    "name": "ipython",
    "version": 3
   },
   "file_extension": ".py",
   "mimetype": "text/x-python",
   "name": "python",
   "nbconvert_exporter": "python",
   "pygments_lexer": "ipython3",
   "version": "3.11.5"
  }
 },
 "nbformat": 4,
 "nbformat_minor": 5
}
