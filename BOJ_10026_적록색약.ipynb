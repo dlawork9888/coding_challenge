{
 "cells": [
  {
   "cell_type": "markdown",
   "id": "1c3a2324-2f47-4653-9956-26c628aa3a48",
   "metadata": {
    "tags": []
   },
   "source": [
    "# BOJ. 10026. 적록색약\n",
    "### https://www.acmicpc.net/problem/10026"
   ]
  },
  {
   "cell_type": "code",
   "execution_count": 3,
   "id": "0cd27bdf-6b4f-4df5-82e0-ac3da54d6922",
   "metadata": {
    "tags": []
   },
   "outputs": [
    {
     "name": "stdin",
     "output_type": "stream",
     "text": [
      " 5\n",
      " RRRBB\n",
      " GGBBB\n",
      " BBBRR\n",
      " BBRRR\n",
      " RRRRR\n"
     ]
    },
    {
     "name": "stdout",
     "output_type": "stream",
     "text": [
      "[['R', 'R', 'R', 'B', 'B'], ['G', 'G', 'B', 'B', 'B'], ['B', 'B', 'B', 'R', 'R'], ['B', 'B', 'R', 'R', 'R'], ['R', 'R', 'R', 'R', 'R']]\n"
     ]
    }
   ],
   "source": [
    "# 입력 처리\n",
    "N = int(input())\n",
    "grid = []\n",
    "for _ in range(N):\n",
    "    grid.append([x for x in input()])\n",
    "print(grid)"
   ]
  },
  {
   "cell_type": "code",
   "execution_count": 16,
   "id": "5e875993-94a0-4902-8950-a0c6dc8a1c6e",
   "metadata": {
    "tags": []
   },
   "outputs": [
    {
     "data": {
      "text/plain": [
       "4"
      ]
     },
     "execution_count": 16,
     "metadata": {},
     "output_type": "execute_result"
    }
   ],
   "source": [
    "from collections import deque\n",
    "\n",
    "def bfs(grid):\n",
    "    # directions\n",
    "    d_row = [1,0,-1,0]\n",
    "    d_col = [0,1,0,-1]\n",
    "    \n",
    "    count = 0\n",
    "    visited = [[False for col in range(len(grid[0]))] for row in range(len(grid))]\n",
    "    flag = False\n",
    "    while True:\n",
    "        # 시작 노드 찾기\n",
    "        start_node = [-1,-1]\n",
    "        break_flag = False\n",
    "        for row_idx, row in enumerate(visited):\n",
    "            for col_idx, ele in enumerate(row):\n",
    "                if ele == False:\n",
    "                    start_node = [row_idx, col_idx]\n",
    "                    break_flag = True\n",
    "                    break\n",
    "            if break_flag:\n",
    "                break\n",
    "        if start_node == [-1,-1]:\n",
    "            break\n",
    "        # 시작 노드부터 탐색\n",
    "        target_color = grid[start_node[0]][start_node[1]]\n",
    "        dq = deque()\n",
    "        dq.append(start_node)\n",
    "        visited[start_node[0]][start_node[1]] = True\n",
    "        while dq:\n",
    "            now_row, now_col = dq.popleft()\n",
    "            for i in range(4):\n",
    "                next_row = now_row + d_row[i]\n",
    "                next_col = now_col + d_col[i]\n",
    "                # in grid + visited?\n",
    "                if 0 <= next_row < len(grid) and 0 <= next_col < len(grid[0]) and visited[next_row][next_col] == False:\n",
    "                    # same color?\n",
    "                    if grid[next_row][next_col] == target_color:\n",
    "                        dq.append([next_row, next_col])\n",
    "                        visited[next_row][next_col] = True\n",
    "        count += 1\n",
    "    return count\n",
    "\n",
    "bfs(grid)"
   ]
  },
  {
   "cell_type": "code",
   "execution_count": 27,
   "id": "00d48c1e-b394-4390-9743-4a58df07a78a",
   "metadata": {
    "tags": []
   },
   "outputs": [
    {
     "name": "stdin",
     "output_type": "stream",
     "text": [
      " 5\n",
      " RRRBB\n",
      " GGBBB\n",
      " BBBRR\n",
      " BBRRR\n",
      " RRRRR\n"
     ]
    },
    {
     "name": "stdout",
     "output_type": "stream",
     "text": [
      "4 3\n"
     ]
    }
   ],
   "source": [
    "# 통합\n",
    "    \n",
    "from collections import deque\n",
    "\n",
    "# 입력 처리\n",
    "N = int(input())\n",
    "grid = []\n",
    "for _ in range(N):\n",
    "    grid.append([x for x in input()])\n",
    "\n",
    "def bfs(grid):\n",
    "    # directions\n",
    "    d_row = [1,0,-1,0]\n",
    "    d_col = [0,1,0,-1]\n",
    "    \n",
    "    count = 0\n",
    "    visited = [[False for col in range(len(grid[0]))] for row in range(len(grid))]\n",
    "    flag = False\n",
    "    while True:\n",
    "        # 시작 노드 찾기\n",
    "        start_node = [-1,-1]\n",
    "        break_flag = False\n",
    "        for row_idx, row in enumerate(visited):\n",
    "            for col_idx, ele in enumerate(row):\n",
    "                if ele == False:\n",
    "                    start_node = [row_idx, col_idx]\n",
    "                    break_flag = True\n",
    "                    break\n",
    "            if break_flag:\n",
    "                break\n",
    "        if start_node == [-1,-1]:\n",
    "            break\n",
    "        # 시작 노드부터 탐색\n",
    "        target_color = grid[start_node[0]][start_node[1]]\n",
    "        dq = deque()\n",
    "        dq.append(start_node)\n",
    "        visited[start_node[0]][start_node[1]] = True\n",
    "        while dq:\n",
    "            now_row, now_col = dq.popleft()\n",
    "            for i in range(4):\n",
    "                next_row = now_row + d_row[i]\n",
    "                next_col = now_col + d_col[i]\n",
    "                # in grid + visited?\n",
    "                if 0 <= next_row < len(grid) and 0 <= next_col < len(grid[0]) and visited[next_row][next_col] == False:\n",
    "                    # same color?\n",
    "                    if grid[next_row][next_col] == target_color:\n",
    "                        dq.append([next_row, next_col])\n",
    "                        visited[next_row][next_col] = True\n",
    "        count += 1\n",
    "    return count\n",
    "\n",
    "abnormal_grid = [['X' if ele == 'R' or ele == 'G' else 'Y' for ele in row] for row in grid]\n",
    "print(f\"{bfs(grid)} {bfs(abnormal_grid)}\")\n"
   ]
  },
  {
   "cell_type": "code",
   "execution_count": null,
   "id": "b7de71a7-6700-42b6-96f5-90904427e406",
   "metadata": {},
   "outputs": [],
   "source": []
  }
 ],
 "metadata": {
  "kernelspec": {
   "display_name": "Python 3 (ipykernel)",
   "language": "python",
   "name": "python3"
  },
  "language_info": {
   "codemirror_mode": {
    "name": "ipython",
    "version": 3
   },
   "file_extension": ".py",
   "mimetype": "text/x-python",
   "name": "python",
   "nbconvert_exporter": "python",
   "pygments_lexer": "ipython3",
   "version": "3.11.5"
  }
 },
 "nbformat": 4,
 "nbformat_minor": 5
}
