{
 "cells": [
  {
   "cell_type": "markdown",
   "id": "c1a90a2b-a3f3-4361-8db6-302cd8fe0ac5",
   "metadata": {},
   "source": [
    "# BOJ. 15591. Moontube (Silver)\n",
    "https://www.acmicpc.net/problem/15591"
   ]
  },
  {
   "cell_type": "code",
   "execution_count": 2,
   "id": "cd2ba395-54d7-42de-bab5-57ba82451ed8",
   "metadata": {
    "tags": []
   },
   "outputs": [
    {
     "name": "stdin",
     "output_type": "stream",
     "text": [
      " 4 3\n",
      " 1 2 3\n",
      " 2 3 2\n",
      " 2 4 4\n",
      " 1 2\n",
      " 4 1\n",
      " 3 1\n"
     ]
    }
   ],
   "source": [
    "from collections import defaultdict \n",
    "# 입력 처리\n",
    "def input_process():\n",
    "    # N, Q\n",
    "    N, Q = [int(x) for x in input().split()]\n",
    "    # 인접리스트, 무방향 그래프\n",
    "    adj_list = defaultdict(list)\n",
    "    for _ in range(N-1):\n",
    "        p, q, r = [int(x) for x in input().split()]\n",
    "        adj_list[p].append((q,r)) # 상대 정점, 가중치\n",
    "        adj_list[q].append((p,r))\n",
    "    # 질문\n",
    "    questions = []\n",
    "    for _ in range(Q):\n",
    "        questions.append([int(x) for x in input().split()])\n",
    "    return N, Q, adj_list, questions\n",
    "\n",
    "N, Q, adj_list, questions = input_process()"
   ]
  },
  {
   "cell_type": "code",
   "execution_count": 3,
   "id": "d5374273-fa3d-49e5-b086-991b8a39b75f",
   "metadata": {
    "tags": []
   },
   "outputs": [
    {
     "data": {
      "text/plain": [
       "(4,\n",
       " 3,\n",
       " defaultdict(list,\n",
       "             {1: [(2, 3)],\n",
       "              2: [(1, 3), (3, 2), (4, 4)],\n",
       "              3: [(2, 2)],\n",
       "              4: [(2, 4)]}),\n",
       " [[1, 2], [4, 1], [3, 1]])"
      ]
     },
     "execution_count": 3,
     "metadata": {},
     "output_type": "execute_result"
    }
   ],
   "source": [
    "N, Q, adj_list, questions"
   ]
  },
  {
   "cell_type": "code",
   "execution_count": 4,
   "id": "b8d92780-3d42-4db7-9473-4b2e0d713d28",
   "metadata": {
    "tags": []
   },
   "outputs": [
    {
     "data": {
      "text/plain": [
       "'\\n1 (3) 2 (2) 3 \\n     (4) \\n      4\\n'"
      ]
     },
     "execution_count": 4,
     "metadata": {},
     "output_type": "execute_result"
    }
   ],
   "source": [
    "\"\"\"\n",
    "1 (3) 2 (2) 3 \n",
    "     (4) \n",
    "      4\n",
    "\"\"\""
   ]
  },
  {
   "cell_type": "code",
   "execution_count": 38,
   "id": "1fa5d13f-3a61-456e-aedc-b75d478820ad",
   "metadata": {
    "tags": []
   },
   "outputs": [
    {
     "data": {
      "text/plain": [
       "3"
      ]
     },
     "execution_count": 38,
     "metadata": {},
     "output_type": "execute_result"
    }
   ],
   "source": [
    "import math\n",
    "def answer_process(N, adj_list, question):\n",
    "    k, v = question\n",
    "    #print(f'가중치가 {k}라면 {v}를 보고 있는 소들은 몇개의 추천을?')\n",
    "    answer = 0\n",
    "    # dfs\n",
    "    start_node = v\n",
    "    mins = [math.inf for _ in range(N + 1)]\n",
    "    stack = [start_node]\n",
    "    mins[start_node] = math.inf\n",
    "    while stack:\n",
    "        now_node = stack.pop()\n",
    "        #print(f'---now_node: {now_node}')\n",
    "        for adj_node, weight in adj_list[now_node]:\n",
    "            #print(f'adj_node, weight: {adj_node, weight}')\n",
    "            if mins[adj_node] != math.inf or adj_node == start_node:\n",
    "                #print('탐색한 노드')\n",
    "                continue\n",
    "            # 탐색 안한 노드라면\n",
    "            if mins[now_node] > weight:\n",
    "                mins[adj_node] = weight\n",
    "            else:\n",
    "                mins[adj_node] = mins[now_node]\n",
    "            stack.append(adj_node)\n",
    "    #print(f'------------mins: {mins}')\n",
    "    answer = 0\n",
    "    for x in mins:\n",
    "        if x != math.inf and x >= k:\n",
    "            answer += 1\n",
    "    return answer\n",
    "answer_process(N, adj_list, questions[0])"
   ]
  },
  {
   "cell_type": "code",
   "execution_count": 39,
   "id": "afb0b313-f93e-4d41-a969-fee0dc40ba30",
   "metadata": {
    "tags": []
   },
   "outputs": [
    {
     "name": "stdin",
     "output_type": "stream",
     "text": [
      " 4 3\n",
      " 1 2 3\n",
      " 2 3 2\n",
      " 2 4 4\n",
      " 1 2\n",
      " 4 1\n",
      " 3 1\n"
     ]
    },
    {
     "name": "stdout",
     "output_type": "stream",
     "text": [
      "3\n",
      "0\n",
      "2\n"
     ]
    }
   ],
   "source": [
    "# 최종\n",
    "\n",
    "from collections import defaultdict \n",
    "# 입력 처리\n",
    "def input_process():\n",
    "    # N, Q\n",
    "    N, Q = [int(x) for x in input().split()]\n",
    "    # 인접리스트, 무방향 그래프\n",
    "    adj_list = defaultdict(list)\n",
    "    for _ in range(N-1):\n",
    "        p, q, r = [int(x) for x in input().split()]\n",
    "        adj_list[p].append((q,r)) # 상대 정점, 가중치\n",
    "        adj_list[q].append((p,r))\n",
    "    # 질문\n",
    "    questions = []\n",
    "    for _ in range(Q):\n",
    "        questions.append([int(x) for x in input().split()])\n",
    "    return N, Q, adj_list, questions\n",
    "\n",
    "import math\n",
    "def answer_process(N, adj_list, question):\n",
    "    k, v = question\n",
    "    #print(f'가중치가 {k}라면 {v}를 보고 있는 소들은 몇개의 추천을?')\n",
    "    answer = 0\n",
    "    # dfs\n",
    "    start_node = v\n",
    "    mins = [math.inf for _ in range(N + 1)]\n",
    "    stack = [start_node]\n",
    "    mins[start_node] = math.inf\n",
    "    while stack:\n",
    "        now_node = stack.pop()\n",
    "        #print(f'---now_node: {now_node}')\n",
    "        for adj_node, weight in adj_list[now_node]:\n",
    "            #print(f'adj_node, weight: {adj_node, weight}')\n",
    "            if mins[adj_node] != math.inf or adj_node == start_node:\n",
    "                #print('탐색한 노드')\n",
    "                continue\n",
    "            # 탐색 안한 노드라면\n",
    "            if mins[now_node] > weight:\n",
    "                mins[adj_node] = weight\n",
    "            else:\n",
    "                mins[adj_node] = mins[now_node]\n",
    "            stack.append(adj_node)\n",
    "    #print(f'------------mins: {mins}')\n",
    "    answer = 0\n",
    "    for x in mins:\n",
    "        if x != math.inf and x >= k:\n",
    "            answer += 1\n",
    "    return answer\n",
    "\n",
    "N, Q, adj_list, questions = input_process()\n",
    "for question in questions:\n",
    "    answer = answer_process(N, adj_list, question)\n",
    "    print(answer)"
   ]
  },
  {
   "cell_type": "code",
   "execution_count": 40,
   "id": "4f47c5b4-3ad5-400b-a13a-1047b618a45b",
   "metadata": {
    "tags": []
   },
   "outputs": [],
   "source": [
    "# 다익스트라와 비슷하다고 생각했지만...\n",
    "# 풀이가 난잡해진 것 같다"
   ]
  },
  {
   "cell_type": "code",
   "execution_count": null,
   "id": "b24167e2-35ac-4fe7-aa0a-88604344da3f",
   "metadata": {},
   "outputs": [],
   "source": []
  }
 ],
 "metadata": {
  "kernelspec": {
   "display_name": "Python 3 (ipykernel)",
   "language": "python",
   "name": "python3"
  },
  "language_info": {
   "codemirror_mode": {
    "name": "ipython",
    "version": 3
   },
   "file_extension": ".py",
   "mimetype": "text/x-python",
   "name": "python",
   "nbconvert_exporter": "python",
   "pygments_lexer": "ipython3",
   "version": "3.11.5"
  }
 },
 "nbformat": 4,
 "nbformat_minor": 5
}
