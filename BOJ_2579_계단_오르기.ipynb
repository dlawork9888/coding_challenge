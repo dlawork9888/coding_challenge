{
 "cells": [
  {
   "cell_type": "markdown",
   "id": "d303fc17-1061-4c7a-856f-d22f3e825c44",
   "metadata": {},
   "source": [
    "# BOJ. 2579. 계단 오르기"
   ]
  },
  {
   "cell_type": "code",
   "execution_count": 5,
   "id": "8972bd48-3723-4c28-95e1-700016772b53",
   "metadata": {
    "tags": []
   },
   "outputs": [
    {
     "name": "stdin",
     "output_type": "stream",
     "text": [
      " 6\n",
      " 10\n",
      " 20\n",
      " 15\n",
      " 25\n",
      " 10\n",
      " 20\n"
     ]
    }
   ],
   "source": [
    "## 입력 처리\n",
    "n_stair = int(input())\n",
    "scores = []\n",
    "for _ in range(n_stair):\n",
    "    scores.append(int(input()))"
   ]
  },
  {
   "cell_type": "code",
   "execution_count": 7,
   "id": "d029f658-8d6f-4b4a-87cc-83757a87016d",
   "metadata": {
    "tags": []
   },
   "outputs": [],
   "source": [
    "# 한번에 한 계단씩 또는 두 계단씩\n",
    "# 연속된 세 개의 계단 다 밟으면 안됨\n",
    "# 마지막 계단은 반드시 밟아야 함\n",
    "\n",
    "# n번째 계단에서의 최댓값 <= n-1번째에서 전계단 안밝고올라온거 vs n - 2번째의 계단에서 전에 계단안밟고 올라온거 vs n-2번째 계단에서 전에 계단 밟고 올라온거"
   ]
  },
  {
   "cell_type": "code",
   "execution_count": 8,
   "id": "712a5ced-efb9-4fcc-aae7-cb1d2a0e1fa0",
   "metadata": {
    "tags": []
   },
   "outputs": [],
   "source": [
    "dp = []\n",
    "for i in range(n_stair):\n",
    "    if i == 0:\n",
    "        dp.append([0, scores[0]])\n",
    "        continue\n",
    "    if i == 2:\n",
    "        dp.append([scores[0], scores[0]+scores[1]])\n",
    "        continue\n",
    "    # 전 계단에서 올라온 것\n",
    "    from_before = dp[i-1][0] + scores[i]\n",
    "    # 전전 계단에서 올라온 것\n",
    "    from_bebefore = max([dp[i-2][1] + scores[i], dp[i-2][0] + scores[i]])\n",
    "    dp.append([from_bebefore, from_before])"
   ]
  },
  {
   "cell_type": "code",
   "execution_count": 10,
   "id": "7495d002-bac2-4bd8-8735-916d20061055",
   "metadata": {
    "tags": []
   },
   "outputs": [
    {
     "name": "stdout",
     "output_type": "stream",
     "text": [
      "75\n"
     ]
    }
   ],
   "source": [
    "print(max(dp[-1]))"
   ]
  },
  {
   "cell_type": "code",
   "execution_count": 17,
   "id": "04b5b22b-142c-4afd-8820-9e40e0c477b0",
   "metadata": {
    "tags": []
   },
   "outputs": [
    {
     "name": "stdin",
     "output_type": "stream",
     "text": [
      " 6\n",
      " 10\n",
      " 20\n",
      " 15\n",
      " 25\n",
      " 10\n",
      " 20\n"
     ]
    },
    {
     "name": "stdout",
     "output_type": "stream",
     "text": [
      "75\n"
     ]
    }
   ],
   "source": [
    "# 통합\n",
    "\n",
    "## 입력 처리\n",
    "n_stair = int(input())\n",
    "scores = []\n",
    "for _ in range(n_stair):\n",
    "    scores.append(int(input()))\n",
    "    \n",
    "dp = []\n",
    "for i in range(n_stair):\n",
    "    if i == 0:\n",
    "        dp.append([0, scores[0]])\n",
    "        continue\n",
    "    if i == 1:\n",
    "        dp.append([scores[1], scores[0]+scores[1]])\n",
    "        continue\n",
    "    # 전 계단에서 올라온 것\n",
    "    from_before = dp[i-1][0] + scores[i]\n",
    "    # 전전 계단에서 올라온 것\n",
    "    from_bebefore = max([dp[i-2][1] + scores[i], dp[i-2][0] + scores[i]])\n",
    "    dp.append([from_bebefore, from_before])\n",
    "    \n",
    "print(max(dp[-1]))"
   ]
  },
  {
   "cell_type": "code",
   "execution_count": 18,
   "id": "a9f235cb-a906-4ac0-ab35-e8dc4c4d8a8e",
   "metadata": {
    "tags": []
   },
   "outputs": [
    {
     "data": {
      "text/plain": [
       "[[0, 10], [20, 30], [25, 35], [55, 50], [45, 65], [75, 65]]"
      ]
     },
     "execution_count": 18,
     "metadata": {},
     "output_type": "execute_result"
    }
   ],
   "source": [
    "dp"
   ]
  }
 ],
 "metadata": {
  "kernelspec": {
   "display_name": "Python 3 (ipykernel)",
   "language": "python",
   "name": "python3"
  },
  "language_info": {
   "codemirror_mode": {
    "name": "ipython",
    "version": 3
   },
   "file_extension": ".py",
   "mimetype": "text/x-python",
   "name": "python",
   "nbconvert_exporter": "python",
   "pygments_lexer": "ipython3",
   "version": "3.11.5"
  }
 },
 "nbformat": 4,
 "nbformat_minor": 5
}
