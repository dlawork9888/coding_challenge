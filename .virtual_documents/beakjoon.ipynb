





 # Combination 구하기
 # 5C3 = 5*4*3/3*2*1 = 5P3/3P3
 # => permutation 구하기
 # 5P3 = 5*4P2 = 5*4*3P1


def permutation(n,m):
    result = 1
    if m == 1:
        return n
    else:
        return n * permutation(n-1,m-1)

for T in range(int(input())):
    m,n = [int(x) for x in input().split()]
    print(int(permutation(n,m)/permutation(m,m)))
    








# 지민이가 가지고 있는 막대의 길이를 모두 더한다. 처음에는 64cm 막대 하나만 가지고 있다. 
#이때, 합이 X보다 크다면, 아래와 같은 과정을 반복한다.

    #가지고 있는 막대 중 길이가 가장 짧은 것을 절반으로 자른다.
    #만약, 위에서 자른 막대의 절반 중 하나를 버리고 남아있는 막대의 길이의 합이 X보다 크거나 같다면, 위에서 자른 막대의 절반 중 하나를 버린다.
    
#이제, 남아있는 모든 막대를 풀로 붙여서 Xcm를 만든다.


def process(X):
    sticks = [64]
    while sum(sticks) > X: # 막대기의 합이 X가 아닐동안 반복 
        now_stick = sticks.pop()
        half = now_stick//2
        sticks.append(half)
        if not sum(sticks) >= X:
            sticks.append(half)
    return len(sticks)
    
print(process(int(input())))
        








# 비내림차순 => 오른차순
# 우선순위가 같다면, 사전순으로


from collections import deque

def input_process():
    N = int(input())
    A = [int(x) for x in input().split()]
    return N,A

N, A = input_process()
A_sorted = deque(sorted(A))
P = ['' for x in range(N)]
count = 0
while A_sorted:
    now_num = A_sorted.popleft()
    for idx, num in enumerate(A):
        if num == now_num and P[idx] == '':
            P[idx] = str(count)
            count += 1
print(' '.join(P))








# 완전 탐색?
# BFS? 
# check 활용
# 왼쪽 위가 black, white인 체스판과 몇개의 원소가 다른지 비교
# Convolutional layer와 비슷하게 작동


N, M = [int(x) for x in input().split()]
# 행이 몇개, 열이 몇개
board = []
for _ in range(N):
    board.append([x for x in input()])
white_start = ['W','B','W','B','W','B','W','B']
black_start = ['B','W','B','W','B','W','B','W']
ws_cb = []
bs_cb = []
for i in range(8):
    if i % 2 == 0:
        ws_cb.append(white_start)
        bs_cb.append(black_start)
    else:
        ws_cb.append(black_start)
        bs_cb.append(white_start)

from collections import deque
import math
check = [[False for _ in range(M - 7)] for _ in range(N - 7)]
d_row = [-1,0,1,0]
d_col = [0,1,0,-1]
dq = deque()
start_node = (0,0)
dq.append(start_node)
"""
for row in check:
    for el in row:
        print(el, end = ' ')
    print()
for row in board:
    for el in row:
        print(el, end = ' ')
    print()
"""
min_count = math.inf
while dq:
    now_node = dq.popleft()
    #print(f'now_node : {now_node}')
    check[now_node[0]][now_node[1]] = True
    now_board = []
    for i in range(now_node[0], now_node[0]+8):
        row = board[i]
        now_board.append(row[now_node[1]:now_node[1]+8])
    ws_count = 0
    bs_count = 0
    for i in range(8):
        for j in range(8):
            if ws_cb[i][j] != now_board[i][j]:
                ws_count += 1
            if bs_cb[i][j] != now_board[i][j]:
                bs_count += 1
    if min_count > ws_count:
        min_count = ws_count
    if min_count > bs_count:
        min_count = bs_count
    for i in range(4):
        #print('!')
        # 다음 탐색할 노드 집어넣는 로직
        next_node = (now_node[0]+d_row[i], now_node[1]+d_col[i])
        if 0 <= next_node[0] <= N - 8 and 0 <= next_node[1] <= M-8:
            if check[next_node[0]][next_node[1]] == False:
                #print('!')
                dq.append(next_node)
print(min_count)


# => 로직은 잘 돌아가지만 시간초과
# 사실.. bfs로 풀 이유가 없긴함
# bfs를 사용하지 않고 풀어보자


N, M = [int(x) for x in input().split()]
# 행이 몇개, 열이 몇개
board = []
for _ in range(N):
    board.append([x for x in input()])
white_start = ['W','B','W','B','W','B','W','B']
black_start = ['B','W','B','W','B','W','B','W']
ws_cb = []
bs_cb = []
for i in range(8):
    if i % 2 == 0:
        ws_cb.append(white_start)
        bs_cb.append(black_start)
    else:
        ws_cb.append(black_start)
        bs_cb.append(white_start)
        
import math
min_count = math.inf

for i in range(N-7):
    for j in range(M-7):
        #print(f'start_point = {i},{j}')
        ws_count = 0 
        bs_count = 0
        for m in range(8):
            for n in range(8):
                if ws_cb[m][n] != board[i+m][j+n]:
                    ws_count += 1
                if bs_cb[m][n] != board[i+m][j+n]:
                    bs_count += 1
        if min_count > ws_count:
            min_count = ws_count
        if min_count > bs_count:
            min_count = bs_count
print(min_count)








# X가 3으로 나누어 떨어지면, 3으로 나눈다.
# X가 2로 나누어 떨어지면, 2로 나눈다.
# 1을 뺀다.

# 6으로 나누어자는 수 => 2와 3 둘 다로 나누어짐.
# => 3으로 먼저 나누면 더 작은 수가 되지 않을까>
# => 어차피 6으로 나누어지면 3으로 나누든 2로 나누든 상관없다. 어차피 둘 다 할거니까.


def process(X):
    if X % 3 == 0:
        X = X//3
    elif X % 2 == 0:
        X = X//2
    else:
        X -= 1
    #print(X)
    return X

count = 0

N = int(input())
while N != 1:
    N = process(N)
    count += 1
    
print(count)


# 주어진 순서로 따라가면 최솟값이 산출되지않음. 
# DP 사용
# n번째 있는 애들 중 3가지 연산 중 가능한 걸 수행하고 그 n번째의 리스트에 추가
# n번째 리스트 => 연산을 n번 수행한 결과

# 루프문 
# dp_list에 다음 항 추가
# 지금 항에 있는 녀석들한테 수행할 수 있는 계산 수행하고 다음 항에 추가
# 이때, 추가할 값이 1이면 다음 항의 인덱스를 출력하고 종료


# 반례 => 1


dp_list = [[int(input())]]
now_index = 0
Flag = False

while True:
    # 반례용
    if dp_list[0][0] == 1:
        print(0)
        break
        
    dp_list.append([])
    for x in dp_list[now_index]:
        if x%3 == 0:
            dp_list[now_index + 1].append(x//3)
            if x//3 == 1:
                print(now_index + 1)
                Flag = True
                break
        if x%2 == 0:
            dp_list[now_index + 1].append(x//2)
            if x//2 == 1:
                print(now_index + 1)
                Flag = True
                break
        dp_list[now_index + 1].append(x - 1)
        if x - 1 == 1:
            print(now_index + 1)
            Flag = True
            break
    now_index += 1
    #print(dp_list)
    if Flag == True:
        break








# 에라토스테네스의 체 안씀
# 2부터 n//2 + 1까지만 확인


M, N = [int(x) for x in input().split()]
for x in range(M,N+1):
    if x == 1:
        continue
    flag = True
    for i in range(2,x//2+2):
        if x%i == 0:
            # 나누어떨어지면 소수가 아님
            flag = False
            break
    if flag == True:
        print(x)


# 에라토스테네스의 체 사용!
# 에라토스테네스의 체

n = 100
num_list = [False, False] + [True] * (n-1) # n번째 인덱스까지 있음. 0,1,2,...,n
primes = []
for i in range(2,n+1):
    if num_list[i] == True:
        primes.append(i)
        for j in range(2*i, n+1, i):
            num_list[j] = False
print(primes)


##### 어느 수가 소수이면, 그 수의 배수를 모두 지움!


M, N = [int(x) for x in input().split()]
# num_list 생성 
num_list = [False, False] + [True]*(N+1) # 0,1,2,...,n번째 인덱스까지
for i in range(2, N+1):
    if num_list[i] == True: # 소수이면,
        # 배수 다 지움
        if M <= i <= N:
            print(i)
        for j in range(i*2, N+1, i):
            num_list[j] = False








# 정점 1000 
# 인접 행렬 시 => 4,000,000 바이트 => 4기가 => 인접 리스트로


from collections import defaultdict
from collections import deque

N, M, V = [int(x) for x in input().split()]
# 인접 리스트
adj_list = defaultdict(list)
for i in range(1,N+1):
    adj_list[i] = []

print(adj_list)
for _ in range(M):
    start, end = [int(x) for x in input().split()]
    adj_list[start].append(end)
    adj_list[end].append(start)

#print(adj_list)


for key in adj_list.keys():
    adj_list[key].sort(reverse = True)

# DFS 
# 노드 방문 횟수
dfs_visit = [False for x in range(N + 1)]
dfs_visit[0] = True
dfs_route = []
# DFS 실행
dq = deque()
dq.append(V)
# pop
# 방문 안한 노드면
#     방문 표시
#     그 정점에 인접한 방문하지 않은 모든 정점을 스택에 넣음
while dq:
    now_node = dq.pop()
    if dfs_visit[now_node] == False:
        dfs_visit[now_node] = True
        dfs_route.append(now_node)
        connected = adj_list[now_node]
        for node in connected:
            if dfs_visit[node] == False:
                dq.append(node)
# BFS
bfs_visit = [False for x in range(N + 1)]
bfs_visit[0] = True
bfs_route = []
# bfs 실행
dq = deque()
dq.append(V)
# 큐에서 뺸다
# 방문 표시
# 큐에 인접한 노드들 중에서 방문 안한걸 넣는다 
while dq:
    now_node = dq.popleft()
    #print(f'now_node : {now_node}')
    if bfs_visit[now_node] == False:
        bfs_visit[now_node] = True
        bfs_route.append(now_node)
        connected = adj_list[now_node]
        for node in reversed(connected): # 여기 중요 (단, 방문할 수 있는 정점이 여러 개인 경우에는 정점 번호가 작은 것을 먼저 방문)
            if bfs_visit[node] == False:
                dq.append(node)
    #print(f'dq :{dq}')
    
print(' '.join([str(x) for x in dfs_route]))
print(' '.join([str(x) for x in bfs_route]))


### 통합
from collections import defaultdict
from collections import deque

N, M, V = [int(x) for x in input().split()]
# 인접 리스트
adj_list = defaultdict(list)
for i in range(1,N+1):
    adj_list[i] = []

#print(adj_list)
for _ in range(M):
    start, end = [int(x) for x in input().split()]
    adj_list[start].append(end)
    adj_list[end].append(start)

#print(adj_list)

for key in adj_list.keys():
    adj_list[key].sort(reverse = True)

# DFS 
# 노드 방문 횟수
dfs_visit = [False for x in range(N + 1)]
dfs_visit[0] = True
dfs_route = []
# DFS 실행
dq = deque()
dq.append(V)
# pop
# 방문 안한 노드면
#     방문 표시
#     그 정점에 인접한 방문하지 않은 모든 정점을 스택에 넣음
while dq:
    now_node = dq.pop()
    if dfs_visit[now_node] == False:
        dfs_visit[now_node] = True
        dfs_route.append(now_node)
        connected = adj_list[now_node]
        for node in connected:
            if dfs_visit[node] == False:
                dq.append(node)
# BFS
bfs_visit = [False for x in range(N + 1)]
bfs_visit[0] = True
bfs_route = []
# bfs 실행
dq = deque()
dq.append(V)
# 큐에서 뺸다
# 방문 표시
# 큐에 인접한 노드들 중에서 방문 안한걸 넣는다 
while dq:
    now_node = dq.popleft()
    #print(f'now_node : {now_node}')
    if bfs_visit[now_node] == False:
        bfs_visit[now_node] = True
        bfs_route.append(now_node)
        connected = adj_list[now_node]
        for node in reversed(connected): # 여기 중요 (단, 방문할 수 있는 정점이 여러 개인 경우에는 정점 번호가 작은 것을 먼저 방문)
            if bfs_visit[node] == False:
                dq.append(node)
    #print(f'dq :{dq}')
    
print(' '.join([str(x) for x in dfs_route]))
print(' '.join([str(x) for x in bfs_route]))


# => 런타임 에러
# adj_list 주석 처리 해버렸음
# 에러 메시지 확인 잘하기








from collections import deque

T = int(input())

def return_map():
    M,N,K = [int(x) for x in input().split()]
    map = [[0 for _ in range(M)] for _ in range(N)]
    for _ in range(K):
        X, Y = [int(x) for x in input().split()]
        map[Y][X] = 1
    return map

                    



def how_many_flood_fill(map):
    # directions
    d_row = [-1,0,1,0]
    d_col = [0,1,0,-1]
    
    num = 0
    # map에서 하나라도 1이라면, 계속 bfs를 실행
    while any([any(row) for row in map]):
        #print('!')
        # 시작 노드 찾기(좌표, 행, 렬)
        start_node = [0,0]
        for r_idx, row in enumerate(map):
            for c_idx, col in enumerate(row):
                if map[r_idx][c_idx] == 1:
                    start_node = [r_idx, c_idx]
                    break
        #print(f'start_node : {start_node}')
        # bfs
        dq = deque()
        dq.append(start_node)
        while dq:
            now_node = dq.popleft()
            # 방문 표시
            map[now_node[0]][now_node[1]] = 0
            for i in range(4): # 4방향에 대해
                next_node = [now_node[0]+d_row[i], now_node[1]+d_col[i]]
                if 0 <= next_node[0] < len(map) and 0 <= next_node[1] < len(map[0]):
                    if map[next_node[0]][next_node[1]] == 1:
                        queue.append(next_node)
        num += 1
    return num


# 통합
from collections import deque

def return_map():
    M,N,K = [int(x) for x in input().split()]
    map = [[0 for _ in range(M)] for _ in range(N)]
    for _ in range(K):
        X, Y = [int(x) for x in input().split()]
        map[Y][X] = 1
    return map
    
def how_many_flood_fill(map):
    # directions
    d_row = [-1,0,1,0]
    d_col = [0,1,0,-1]
    
    num = 0
    # map에서 하나라도 1이라면, 계속 bfs를 실행
    while any([any(row) for row in map]):
        #print('!')
        # 시작 노드 찾기(좌표, 행, 렬)
        start_node = [0,0]
        for r_idx, row in enumerate(map):
            for c_idx, col in enumerate(row):
                if map[r_idx][c_idx] == 1:
                    start_node = [r_idx, c_idx]
                    break
        #print(f'start_node : {start_node}')
        # bfs
        dq = deque()
        dq.append(start_node)
        while dq:
            now_node = dq.popleft()
            # 방문 표시
            map[now_node[0]][now_node[1]] = 0
            for i in range(4): # 4방향에 대해
                next_node = [now_node[0]+d_row[i], now_node[1]+d_col[i]]
                if 0 <= next_node[0] < len(map) and 0 <= next_node[1] < len(map[0]):
                    if map[next_node[0]][next_node[1]] == 1:
                        dq.append(next_node)
        num += 1
    return num

T = int(input())
for _ in range(T):
    print(how_many_flood_fill(return_map()))
    


# => 메모리 초과


##### 50*50*int => 10000bytes => 10KB
from collections import deque

def return_map():
    M,N,K = [int(x) for x in input().split()]
    map = [[0 for _ in range(M)] for _ in range(N)]
    for _ in range(K):
        X, Y = [int(x) for x in input().split()]
        map[Y][X] = 1
    return map
    
def how_many_flood_fill(map):
    # directions
    d_row = [-1,0,1,0]
    d_col = [0,1,0,-1]
    
    num = 0
    # map에서 하나라도 1이라면, 계속 dfs를 실행
    while any([any(row) for row in map]):
        #print('!')
        # 시작 노드 찾기(좌표, 행, 렬)
        start_node = [0,0]
        for r_idx, row in enumerate(map):
            for c_idx, col in enumerate(row):
                if map[r_idx][c_idx] == 1:
                    start_node = [r_idx, c_idx]
                    break
        #print(f'start_node : {start_node}')
        # dfs
        dq = deque()
        dq.append(start_node)
        while dq:
            now_node = dq.pop()
            # 방문 표시
            map[now_node[0]][now_node[1]] = 0
            for i in range(4): # 4방향에 대해
                next_node = [now_node[0]+d_row[i], now_node[1]+d_col[i]]
                if 0 <= next_node[0] < len(map) and 0 <= next_node[1] < len(map[0]):
                    if map[next_node[0]][next_node[1]] == 1:
                        dq.append(next_node)
        num += 1
    return num

T = int(input())
for _ in range(T):
    print(how_many_flood_fill(return_map()))
    


# dfs로 푸니까 메모리 초과 안남!








import math
rows, cols = [int(x) for x in input().split()] # N 몇번째 열, M 몇번쨰 행
map = []
for _ in range(rows):
    row = []
    for x in input():
        if x == '1':
            row.append(True) # 갈 수 있음
        else:
            row.append(False) # 갈 수 없음
    map.append(row)
path_len_map = [[math.inf for _ in range(cols)] for _ in range(rows)]


# 최소 경로 길이 => BFS
from collections import deque

# directions
d_row = [1,0,-1,0]
d_col = [0,1,0,-1]

start_node = [0,0]
dq = deque()
dq.append(start_node)

path_len_map[0][0] = 1
while dq:
    # 노드 까기
    # 방문 표시
    # 주변 노드 탐색
    # 주변 갈 수 있는 노드에 지금 노드의 path len + 1
    now_node = dq.popleft)
    #print(f'now_node : {now_node}')
    now_r = now_node[0]
    now_c = now_node[1]
    map[now_r][now_c] = False
    now_path_len = path_len_map[now_r][now_c]
    for i in range(4):
        next_node = [now_r + d_row[i], now_c + d_col[i]]
        #print(f'next_node : {next_node}')
        next_r = next_node[0]
        next_c = next_node[1]
        # in map? 
        if 0 <= next_r < len(map) and 0 <= next_c < len(map[0]):
            #print(f'in map!')
            # not visited?
            if map[next_r][next_c] == True: # 갈 수 있으면
                #print(f'now visited!')
                # 원래 path len보다 짧으면
                if path_len_map[next_r][next_c] > now_path_len + 1:
                    path_len_map[next_r][next_c] = now_path_len + 1 # 갱신
                    dq.append(next_node)
print(path_len_map[-1][-1])


import math

rows, cols = [int(x) for x in input().split()] 
map = []
for _ in range(rows):
    row = []
    for x in input():
        if x == '1':
            row.append(True) # 갈 수 있음
        else:
            row.append(False) # 갈 수 없음
    map.append(row)
path_len_map = [[math.inf for _ in range(cols)] for _ in range(rows)]

from collections import deque

# directions
d_row = [1,0,-1,0]
d_col = [0,1,0,-1]

start_node = [0,0]
dq = deque()
dq.append(start_node)

path_len_map[0][0] = 1
while dq:
    # 노드 까기
    # 방문 표시
    # 주변 노드 탐색
    # 주변 갈 수 있는 노드에 지금 노드의 path len + 1
    now_node = dq.popleft()
    #print(f'now_node : {now_node}')
    now_r = now_node[0]
    now_c = now_node[1]
    map[now_r][now_c] = False
    now_path_len = path_len_map[now_r][now_c]
    for i in range(4):
        next_node = [now_r + d_row[i], now_c + d_col[i]]
        #print(f'next_node : {next_node}')
        next_r = next_node[0]
        next_c = next_node[1]
        # in map? 
        if 0 <= next_r < len(map) and 0 <= next_c < len(map[0]):
            #print(f'in map!')
            # not visited?
            if map[next_r][next_c] == True: # 갈 수 있으면
                #print(f'now visited!')
                # 원래 path len보다 짧으면
                if path_len_map[next_r][next_c] > now_path_len + 1:
                    path_len_map[next_r][next_c] = now_path_len + 1 # 갱신
                    dq.append(next_node)
print(path_len_map[-1][-1])


path_len_map








# 입력 처리
def input_process():
    cols, rows = [int(x) for x in input().split()]
    map = []
    visited = []
    for i in range(rows):
        row = [int(x) for x in input().split()]
        visited_row = []
        for ele in row:
            if ele != -1:
                visited_row.append(False)
            else:
                visited_row.append(True)
        map.append(row)
        visited.append(visited_row)
    return map, visited
    # map => map
    # visted => 방문한 노드(+못가는 노드) => True, 방문 안한 노드 => False

map, visited = input_process()


map = [[1, -1, 0, 0, 0, 0],
       [0, -1, 0, 0, 0, 0],
       [0, 0, 0, 0, -1, 0],
       [0, 0, 0, 0, -1, 1]]



visited = [[False, True, False, False, False, False],
            [False, True, False, False, False, False],
            [False, False, False, False, True, False],
            [False, False, False, False, True, False]]


# 며칠이 지나야 상자들의 토마토가 다 익는지
# 토마토 위치가 주어지면 그 토마토 주위 토마토를 익히는 모듈
def make_1s(loc): #(row, col)
    # 익은 토마토들
    made_1s = []
    # directions
    d_row = [1,0,-1,0]
    d_col = [0,1,0,-1]
    for i in range(4):
        near = [loc[0] + d_row[i], loc[1] + d_col[i]]
        near_r = near[0]
        near_c = near[1]
        if 0 <= near_r < len(map) and 0 <= near_c < len(map[0]):
            # map안에 있는지
            if map[near_r][near_c] != -1:
                # 토마토가 없는 지라기 아닌지
                # 아니면 익히기
                map[near_r][near_c] = 1
                made_1s.append([near_r, near_c])
    return made_1s


# 1노드 찾기
def find_1s(map, day): # 맵, 익은 날짜
    one_list = deque()
    for row_idx, row in enumerate(map):
        for col_idx, ele in enumerate(row):
            if ele == 1 and visited[row_idx][col_idx] == False: #익었고 아직 방문 안 한 노드를 찾음
                one_list.append([row_idx, col_idx, day])
    return one_list 
    # [r_loc, c_loc, 익은 날짜] 들을 반환

find_1(map, 0)


# 방문하지 않은 익은 토마토를 찾아서
# 방문 했다고 표시하고
# 토마토 주변의 익지 않은 토마토를 익히고
# 이번에 익은 토마토들의 위치와 day를 반환
def make_1s(loc_day): #(row, col, day)
    # 익은 토마토의 위치와 day를 받아서
    visited[loc_day[0]][loc_day[1]] = True
    # 그 위치를 방문했다고 표시
    # 익은 토마토들 저장 리스트
    made_1s = deque()
    # directions
    d_row = [1,0,-1,0]
    d_col = [0,1,0,-1]
    for i in range(4):
        near = [loc_day[0] + d_row[i], loc_day[1] + d_col[i]]
        near_r = near[0]
        near_c = near[1]
        if 0 <= near_r < len(map) and 0 <= near_c < len(map[0]):
            # map안에 있는지
            if map[near_r][near_c] != -1 and visited[near_r][near_c] == False:
                # 토마토가 없는 지라기 아닌지
                # 아니면 익히기
                map[near_r][near_c] = 1
                made_1s.append([near_r, near_c, loc_day[2]+1])
    return made_1s
    # 이번에 익은 토마토의 위치와 익은 날짜를 반환


# 처음에 익은 토마토들을 찾아서 덱에 넣기
dq = deque()
dq += find_1s(map, 0)
max_day = 0
while dq:
    now_node = dq.popleft()
    if now_node[2] > max_day:
        max_day = now_node[2]
    #print(now_node)
    dq += make_1s(now_node)

if all([all(row) for row in visited]):
    print(max_day)
else: 
    print(-1)


# 통합
from collections import deque
# 입력 처리
def input_process():
    cols, rows = [int(x) for x in input().split()]
    map = []
    visited = []
    for i in range(rows):
        row = [int(x) for x in input().split()]
        visited_row = []
        for ele in row:
            if ele != -1:
                visited_row.append(False)
            else:
                visited_row.append(True)
        map.append(row)
        visited.append(visited_row)
    return map, visited
    # map => map
    # visted => 방문한 노드(+못가는 노드) => True, 방문 안한 노드 => False

map, visited = input_process()

# 1노드 찾기
def find_1s(map, day): # 맵, 익은 날짜
    one_list = deque()
    for row_idx, row in enumerate(map):
        for col_idx, ele in enumerate(row):
            if ele == 1 and visited[row_idx][col_idx] == False: #익었고 아직 방문 안 한 노드를 찾음
                one_list.append([row_idx, col_idx, day])
    return one_list 
    # [r_loc, c_loc, 익은 날짜] 들을 반환

# 방문하지 않은 익은 토마토를 찾아서
# 방문 했다고 표시하고
# 토마토 주변의 익지 않은 토마토를 익히고
# 이번에 익은 토마토들의 위치와 day를 반환
def make_1s(loc_day): #(row, col, day)
    # 익은 토마토의 위치와 day를 받아서
    visited[loc_day[0]][loc_day[1]] = True
    # 그 위치를 방문했다고 표시
    # 익은 토마토들 저장 리스트
    made_1s = deque()
    # directions
    d_row = [1,0,-1,0]
    d_col = [0,1,0,-1]
    for i in range(4):
        near = [loc_day[0] + d_row[i], loc_day[1] + d_col[i]]
        near_r = near[0]
        near_c = near[1]
        if 0 <= near_r < len(map) and 0 <= near_c < len(map[0]):
            # map안에 있는지
            if map[near_r][near_c] != -1 and visited[near_r][near_c] == False:
                # 토마토가 없는 자리가 아닌지
                # 아니면 익히기
                map[near_r][near_c] = 1
                made_1s.append([near_r, near_c, loc_day[2]+1])
    return made_1s
    # 이번에 익은 토마토의 위치와 익은 날짜를 반환

# 처음에 익은 토마토들을 찾아서 덱에 넣기
dq = deque()
dq += find_1s(map, 0)
max_day = 0
while dq:
    now_node = dq.popleft()
    if now_node[2] > max_day:
        max_day = now_node[2]
    #print(now_node)
    dq += make_1s(now_node)

if all([all(row) for row in visited]):
    print(max_day)
else: 
    print(-1)



# bfs => 메모리 초과 
# 그래서 dfs로 바꿨더니 틀림 => 아무래도 처음에 1이 두개일때 하나로 쭉쭉 나아가면 나머지 1이 익히는 다른 토마토를 고려하지 못함.
# 힙을 사용해볼까 => ㄴ


# 아예 생각을 바꿔서
# 덱이 한번 비어버리면 => day += 1
# 그리고 그날 익은 토마토들의 위치를 다시 덱에 넣음
# 그리고 또 덱을 한번 싹 비움(그리고 주변 토마토들 익히기)
# 덱에 넣을 토마토가 없으면 탐색 종료
# 다 방문했는지 조사해서 하나라도 False(방문 안했는디?) => print(-1)
# 다 방문했다 => print(day)


from collections import deque
# 입력 처리
def input_process():
    cols, rows = [int(x) for x in input().split()]
    map = []
    visited = []
    for i in range(rows):
        row = [int(x) for x in input().split()]
        visited_row = []
        for ele in row:
            if ele != -1:
                visited_row.append(False)
            else:
                visited_row.append(True)
        map.append(row)
        visited.append(visited_row)
    return map, visited
    # map => map
    # visted => 방문한 노드(+못가는 노드) => True, 방문 안한 노드 => False
map, visited = input_process()

# 초반 익은 토마토 찾기
def find_1s(map): # 맵
    one_dq = deque()
    for row_idx, row in enumerate(map):
        for col_idx, ele in enumerate(row):
            if ele == 1 and visited[row_idx][col_idx] == False: #익었고 아직 방문 안 한 노드를 찾음
                one_dq.append([row_idx, col_idx])
    return one_dq
# 찾은 익은 토마토들 덱에 넣기    
dq = deque()
dq += find_1s(map)
day = 0
# dq엔 익은 토마토들의 위치가 있음
while dq: 
    temp_dq = deque()
    while dq:
        now_node = dq.popleft()
        now_r = now_node[0]
        now_c = now_node[1]
        # 일단 방문 표시 하고
        #visited[now_r][now_c] = True
        # 주변 토마토들을 익히자
        # directions
        d_row = [1,0,-1,0]
        d_col = [0,1,0,-1]
        for i in range(4):
            near = [now_r + d_row[i], now_c + d_col[i]]
            near_r = near[0]
            near_c = near[1]
            if 0 <= near_r < len(map) and 0 <= near_c < len(map[0]):
            # map안에 있는지
                if map[near_r][near_c] != -1 and visited[near_r][near_c] == False:
                    # 토마토가 없는 자리가 아닌지
                    # + 방문하지 않은 토마토인지
                    map[near_r][near_c] = 1 # 익히고
                    visited[near_r][near_c] 
                    temp_dq.append(near)
    # 덱이 비었으면 day += 1
    day += 1
    dq = temp_dq

if all([all(row) for row in visited]):
    print(day-1)
else:
    print(-1)
                



