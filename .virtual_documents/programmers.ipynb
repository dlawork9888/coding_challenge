














triangle = [[7]]

def solution(triangle):
    
    sum_table = triangle[-1]
    print(f'현재 sum_table : {sum_table}')
    
    i = len(triangle) - 2 #밑에서 두번째라인부터 접근
    
    while i > -1:
        print(f'현재 i : {i}')
        new_sum_table = []
        now_line = triangle[i] 
        j = 0
        while j < len(now_line):
            print(f'현재 j : {j}')
            print(f'sum_table : {sum_table}')
            if sum_table[j] > sum_table[j+1]:
                new_sum_table.append(now_line[j] + sum_table[j])
            else:
                new_sum_table.append(now_line[j] + sum_table[j+1])
            j += 1
        sum_table = new_sum_table
        i -= 1
    
    answer = sum_table[0]
    
    return answer


solution(triangle)








triangle = [[7], [3, 8], [8, 1, 0], [2, 7, 4, 4], [4, 5, 2, 6, 5]]

def solution(triangle):
    
    dp = triangle[-1]
    
    for i in range(len(triangle) - 2, -1, -1):
        line = triangle[i]
        #print(f'현재 라인은 index {i} 라인')
        #print(f'dp : {dp}')
        for j in range(len(line)):
            if dp[j] > dp[j+1]:
                line[j] += dp[j]
            else:
                line[j] += dp[j+1]
        dp = line
        
    return dp[0]
    
solution(triangle)


list(range(10,0,-1))














def solution(N, number):
    n = N
    # node = (현재 계산된 결과, 계산 횟수)
    # 한번 사용한 결과는 저장해놓자
    results = [[],[n],[n*11],[n*111],[n*1111],[n*11111], [n*111111], [n*1111111], [n*11111111]]
    #print(f'최초 results : {results}')
    
    # 2번 사용한 결과부터 계산하므로 1번 사용한 계산 결과에 N이 있는지는 테스트할 수 없다
    # N이 1번 사용한 결과가 되려면, N = number, 즉 주어진 수가 만들고자하는 결과값이 되는 경우다
    if n == number:
        return 1
    
    for i in range(2,9): #i번 사용한 결과, 2번 사용한 결과부터 계산
        #print(f'{i}번 사용한 결과 계산')
        i_list = results[i] # i번 사용한 결과들
        # 사용 결과 쌍 만들기
        pairs = []
        for j in range(1,i):
            pair = (j,i - j)
            pairs.append(pair)
        pairs = sorted(list(set(pairs)))
        #print(f'pairs : {pairs}')
        for pair in pairs:
            fronts = results[pair[0]]
            backs = results[pair[1]]
            
            for front in fronts:
                for back in backs:
                    i_list.append(front + back)
                    i_list.append(front - back)
                    i_list.append(front * back)
                    if back != 0:
                        i_list.append(front // back)
            if number in i_list:
                return i
    return -1
        
solution(7, 7)














from itertools import permutation
import math 

def input_process(arr):
    nums = []
    ops = []
    for element in arr:
        if element == '-' or element == '+':
            nums.append(int(element))
            ops.append(element)
            
    return nums, ops
# ([1,2,3],['+','-'])의 형태로 반환

def solution(arr):
    results = []
    # 연산 순서 계산
    nums, ops = input_process(arr)
    ops_count = len(ops)
    cal_orders = permutation(range(len(ops)))
    for cal_order in cal_orders:
        cal_order = list(cal_order) #[1,0,2]
        now_cal_index = cal_order.index(min(cal_order))
        
        now_nums = nums[:]
        now_ops = ops[:]
        part_result = math.ind 
        if now_ops[now_cal_index] == '+':
            part_result = now_nums[now_cal_index] + now_nums[now_cal_index]
        else:
            part_result = now_nums[now_cal_index] + now_nums[now_cal_index]
#이거 말고 진짜 생각남. 이거 아닌것같음





import math
def input_process(arr):
    nums = []
    ops = []
    for element in arr:
        if element == '-' or element == '+':
            ops.append(element)
        else:
            nums.append(int(element))
    return nums, ops


def solution(arr):
    nums, ops = input_process(arr)
    indexes = list(range(len(nums)))
    max_dp = [[] for x in range(len(ops) + 1)]
    min_dp = [[] for x in range(len(ops) + 1)]
    max_dp[0] = nums
    min_dp[0] = nums
    
    for i in range(1, len(ops) + 1):
        #print(f'---------i = {i}')
        for j in range(0, len(indexes) - i):
            temp = [x for x in range(j,j+i+1)]
            #print(f'지금 계산하려는 => {temp}')
            minimum = math.inf
            maximum = -1*math.inf
            for k in range(len(temp) - 1):
                front = temp[0:k+1]
                back = temp[k+1:]
                #print(f'front : {front}\nback  : {back}')
                if ops[front[-1]] == '+':
                    temp2 = max_dp[len(front)-1][front[0]] + max_dp[len(back)-1][back[0]]
                    if temp2 < minimum:
                        minimum = temp2
                    if temp2 > maximum:
                        maximum = temp2
                else:
                    temp2 = min_dp[len(front)-1][front[0]] - min_dp[len(back)-1][back[0]]
                    if temp2 < minimum:
                        minimum = temp2
                    if temp2 > maximum:
                        maximum = temp2
            max_dp[i].append(maximum)
            min_dp[i].append(minimum)    
    return max_dp[-1][0]

solution(["1", "-", "3", "+", "5", "-", "8"])











def solution(m, n, puddles):
    puddles = [[x[1], x[0]] for x in puddles]
    dp = [[0 for _ in range(m+1)] for _ in range(n+1)]
    dp[1][1] = 1

    for i in range(1, n+1):
        for j in range(1, m+1):
            if i == 1 and j == 1: continue
            if [i,j] in puddles: continue
            else: 
                dp[i][j] = (dp[i - 1][j] + dp[i][j - 1]) % 1000000007

    return dp[n][m]
solution(4,3,[[3,2]])


from collections import deque

def solution(m, n, puddles):
    dp = [[-1 for _ in range(m)] for _ in range(n)] 
    dp[0][0] = 1
    for puddle in puddles:
        dp[puddle[1]-1][puddle[0]-1] = -2
    """
    for row in dp:
        for element in row:
            print(element, end = ' ')
        print()
    """
    queue = deque()
    start_node = (0,0)
    queue.append(start_node)
    
    while queue:
        now_node = queue.popleft()
        nr = now_node[0]
        nc = now_node[1]
        #print(f'---------현재 위치 : r:{nr} c:{nc}')
        
        if dp[nr][nc] != -1: # 탐색된 노드라면
            pass
        else:
            temp = 0
            if nc - 1 >= 0:
                if dp[nr][nc - 1] != -2:
                    temp += dp[nr][nc - 1]
            if nr - 1 >= 0:
                if dp[nr - 1][nc] != -2:
                    temp += dp[nr - 1][nc]
            dp[nr][nc] = temp
            
            #print(f'현재 노드에 dp값 저장! {temp}')
            
        if nc < m - 1: #=> 오른쪽 마지막에 위치한게 아니고 
            if dp[nr][nc + 1] != -2: #오른쪽이 웅덩이가 아님
                #print(f'오른쪽으로 갈 수 있음! => {nr},{nc + 1} 큐에 추가')
                queue.append((nr, nc + 1))
        #아래로 갈 수 있으면
        if nr < n - 1: # => 아래 마지막에 위치한게 아니고
            if dp[nr + 1][nc] != -2: #아래쪽이 웅덩이가 아님
                #print(f'아래쪽으로 갈 수 있음! => {nr + 1},{nc} 큐에 추가')
                queue.append((nr + 1, nc))

    """                
    for row in dp:
        for element in row:
            print(element, end = ' ')
        print()
    """
        
    return dp[n-1][m-1]
#왜 틀렸지....














def solution(n, lost, reserve):
    # 중복 처리
    lost = set(lost)
    reserve = set(reserve)
    intersection = set.intersection(lost, reserve)
    lost = set(lost) - intersection
    reserve = set(reserve) - intersection
    
    students = [1 for x in range(n + 2)]
    students[0] = -1 # 더미
    students[-1] = -1 # 더미
    for i in lost:
        students[i] = 0
    for i in reserve:
        students[i] = 2
        
    # [-1,1,2,0,1,2,1,2,0,-1]
    for i in range(1,n+1):
        if students[i] == 2:
            if students[i - 1] == 0:
                students[i] -= 1
                students[i - 1] += 1
            elif students[i + 1] == 0:
                students[i] -= 1
                students[i + 1] += 1
    count = 0
    for i in students:
        if i >= 1:
            count += 1

    return count

solution(5, [2,4], [1,3,5])












def solution(name):
    #알파벳 전처리
    alphabets = ["A","B","C","D","E","F","G","H","I","J","K","L","M","N","O","P","Q","R","S","T","U","V","W","X","Y","Z"]
    alphabet_dic = dict()
    for i in range(14):
        alphabet_dic[alphabets[i]] = i
    temp = 1
    for i in range(25,13,-1):
        alphabet_dic[alphabets[i]] = temp
        temp += 1
    #print(alphabet_dic)
    
    #오른쪽 왼쪽 이동 최소 이동거리 도출
    first_not_A = -1
    for i in range(1,len(name)):
        if name[i] != 'A':
            first_not_A = i
            break
    last_not_A = -1
    for i in range(len(name) - 1, 0, -1):
        if name[i] != 'A':
            last_not_A = i
            break
    print(f'{first_not_A} {last_not_A}')
    
    horizontal_count = -1
    if first_not_A == -1 and last_not_A == -1:
        horizontal_count = 0
    else:
        left_move = last_not_A
        right_move = len(name) - first_not_A
        if left_move > right_move:
            horizontal_count = right_move
        else:
            horizontal_count = left_move
    print(horizontal_count)
       
    vertical_count = 0
    for x in name:
        vertical_count += alphabet_dic[x]
    print(vertical_count)
    
    return vertical_count + horizontal_count
    
solution("ABBBAAAAABB")






def solution(name):
    #알파벳 전처리
    alphabets = ["A","B","C","D","E","F","G","H","I","J","K","L","M","N","O","P","Q","R","S","T","U","V","W","X","Y","Z"]
    alphabet_dic = dict()
    for i in range(14):
        alphabet_dic[alphabets[i]] = i
    temp = 1
    for i in range(25,13,-1):
        alphabet_dic[alphabets[i]] = temp
        temp += 1
    #print(alphabet_dic)
    
    #print('-----------horizontal_count 계산')
    boolean_list = [False for x in range(len(name))]
    for i in range(len(name)):
        if name[i] == 'A':
            boolean_list[i] = True
            
    #print(f'boolean_list : {boolean_list}')
    boolean_list[0] = True
    cursor = 0
    horizontal_count = 0
    while not all(boolean_list):
        near_right = 0
        near_left = 0 
        for i in range(1, len(name)):
            if boolean_list[(cursor + i)%len(name)] == False:
                near_right = i
                break
        for i in range(1, len(name)):
            if boolean_list[(cursor - i)%len(name)] == False:
                near_left = i
                break
        if near_right < near_left:
            cursor = cursor + near_right
            cursor = cursor % len(name)
            boolean_list[cursor] = True
            horizontal_count += near_right
        else:
            cursor = cursor - near_left
            cursor = cursor % len(name)
            boolean_list[cursor] = True
            horizontal_count += near_left
    

    vertical_count = 0
    for x in name:
        vertical_count += alphabet_dic[x]
    print(vertical_count)
    
    return vertical_count + horizontal_count
    
solution("ZZZAAAZ")






def solution(name):
    #알파벳 전처리
    alphabets = ["A","B","C","D","E","F","G","H","I","J","K","L","M","N","O","P","Q","R","S","T","U","V","W","X","Y","Z"]
    alphabet_dic = dict()
    for i in range(14):
        alphabet_dic[alphabets[i]] = i
    temp = 1
    for i in range(25,13,-1):
        alphabet_dic[alphabets[i]] = temp
        temp += 1
    #print(alphabet_dic)
    
    #print('-----------horizontal_count 계산')
    boolean_list = [False for x in range(len(name))]
    for i in range(len(name)):
        if name[i] == 'A':
            boolean_list[i] = True
            
    #print(f'boolean_list : {boolean_list}')
    boolean_list[0] = True
    cursor = 0
    horizontal_count = 0
    while not all(boolean_list):
        print(f'현재 커서 위치 : {cursor}')
        near_right = 0
        near_left = 0 
        near_right_A = 0
        near_left_A = 0
        for i in range(1, len(name)):
            if boolean_list[(cursor + i)%len(name)] == False:
                near_right = i
                break
        for i in range(1, len(name)):
            if boolean_list[(cursor - i)%len(name)] == False:
                near_left = i
                break
        for i in range(1, len(name)):
            if boolean_list[(cursor + i)%len(name)] == True:
                near_right_A = i
                break
        for i in range(1, len(name)):
            if boolean_list[(cursor - i)%len(name)] == True:
                near_left_A = i
                break
        print(f'near_right : {near_right}\nnear_left : {near_left}')
        print(f'near_right_A : {near_right_A}\nnear_left_A : {near_left_A}')
        
        if near_right == near_left:
            if near_right_A < near_left_A:
                cursor = cursor + near_right
                cursor = cursor % len(name)
                boolean_list[cursor] = True
                horizontal_count += near_right
            else:
                cursor = cursor - near_left
                cursor = cursor % len(name)
                boolean_list[cursor] = True
                horizontal_count += near_left
        elif near_right < near_left:
            cursor = cursor + near_right
            cursor = cursor % len(name)
            boolean_list[cursor] = True
            horizontal_count += near_right
        else:
            cursor = cursor - near_left
            cursor = cursor % len(name)
            boolean_list[cursor] = True
            horizontal_count += near_left
            
            
    vertical_count = 0
    for x in name:
        vertical_count += alphabet_dic[x]
    print(vertical_count)
    
    return vertical_count + horizontal_count
    
solution("ZZAAAZZ")





from collections import deque
import math
def solution(name):
    #알파벳 전처리
    alphabets = ["A","B","C","D","E","F","G","H","I","J","K","L","M","N","O","P","Q","R","S","T","U","V","W","X","Y","Z"]
    alphabet_dic = dict()
    for i in range(14):
        alphabet_dic[alphabets[i]] = i
    temp = 1
    for i in range(25,13,-1):
        alphabet_dic[alphabets[i]] = temp
        temp += 1
    #print(alphabet_dic)
    vertical_count = 0
    for x in name:
        vertical_count += alphabet_dic[x]
    
    
    boolean_list = [False for x in range(len(name))]
    for i in range(len(name)):
        if name[i] == 'A':
            boolean_list[i] = True
    
    horizontal_min = math.inf
    #print(f'boolean_list : {boolean_list}')
    boolean_list[0] = True
    
    queue = deque()
    queue.append([0,0,boolean_list])
    
    while queue:
        #print(queue)
        now_node = queue.popleft()
        #print(f'now node : {now_node}')
        now_count = now_node[0]
        now_cursor = now_node[1]
        now_bl = now_node[2]
        
        if all(now_bl):
            #print(f'now node : {now_node}')
            if horizontal_min > now_count:
                horizontal_min = now_count
            continue
        #오른쪽 이동
        near_right = 0
        for i in range(1, len(name)):
            if now_bl[(now_cursor + i)%len(name)] == False:
                near_right = i
                break
        right_count = now_count + near_right
        right_cursor = now_cursor + i
        #print(f'=============={right_cursor}')
        right_cursor = right_cursor % len(name)
        right_bl = now_bl[:]
        right_bl[right_cursor] = True
        right_node = [right_count, right_cursor, right_bl]
        queue.append(right_node)
        
        near_left = 0
        for i in range(1, len(name)):
            if now_bl[(now_cursor - i)%len(name)] == False:
                near_left = i
                break
        left_count = now_count + near_left
        left_cursor = now_cursor - near_left
        left_cursor = left_cursor % len(name)
        left_bl = now_bl[:]
        left_bl[left_cursor] = True
        left_node = [left_count, left_cursor, left_bl]
        queue.append(left_node)
        
    return vertical_count + horizontal_min
    
solution("JEROEN")














def solution(number, k):
    stack = []
    for index, element in enumerate(number):
        while stack and k and stack[-1] < int(element):
            stack.pop()
            k -= 1
        stack.append(int(element))
    stack = [str(x) for x in stack]
    answer = ''.join(stack[:len(number) - k])
    return answer
    
        
        
solution("4177252841", 4)
#12341234, 3


















def solution(answers):
    pattern_1 = [1,2,3,4,5]
    pattern_2 = [2,1,2,3,2,4,2,5]
    pattern_3 = [3,3,1,1,2,2,4,4,5,5]
    student_scores = [0,0,0]
    for i, answer in enumerate(answers):
        if answer == pattern_1[i%len(pattern_1)]:
            student_scores[0] += 1
        if answer == pattern_2[i%len(pattern_2)]:
            student_scores[1] += 1
        if answer == pattern_3[i%len(pattern_3)]:
            student_scores[2] += 1
    print(student_scores)
    max_score = max(student_scores)
    return_value = []
    for i, element in enumerate(student_scores, start = 1):
        if element == max_score:
            return_value.append(i)
    return return_value
    
solution([1, 3, 2, 4, 2])








from itertools import permutations
def solution(numbers):
    p = []
    for i in range(len(numbers)):
        p += list(permutations(numbers, i+1))
    p = set([int(''.join(x)) for x in p])
    print(p)
    count = 0
    for x in p:
        #print(f'현재 검사 대상: {x} ')
        #자기보다 작은 수로 나누어 떨어지면 소수가 아님
        #자신보다 작은 수로도 나누어 떨어지는 경우가 단 한번도 없다면 소수임
        #자신보다 작은 수로 단 한번이라도 나누어떨어지면 소수가 아님
        if x == 1 or x == 0: continue
        flag = True
        for less_than_x in range(2,x//2+1):
            if x % less_than_x == 0:
                flag = False
                #print(f'{less_than_x} 소수가 아님')
                break
        if flag == True:
            count += 1
        
    return count
    
solution('101')














def solution(brown, yellow):
    mn = brown + yellow
    for i in range(1,mn//2+1):
        m = i
        if mn % i == 0:
            n = mn//i
            if brown == 2*m + 2*n -4:
                return [n,m]
        
solution(10,2)











from collections import deque

def solution(k, dungeons):
    visited = [False for x in range(len(dungeons))]
    start_node = [k, visited]
    
    max_count = 0
    
    queue = deque()
    queue.append(start_node)
    
    while queue:
        now_node = queue.pop()
        #print(f'현재 노드 : {now_node}')
        now_k = now_node[0]
        now_visited = now_node[1]
        
        now_count = 0 
        for x in now_visited:
            if x == True: 
                now_count += 1
        #print(f'현재 카운트 : {now_count}')
        if now_count > max_count:
            max_count = now_count
        
        for i, element in enumerate(now_visited):
            #print(f'탐색 던전 : {i}')
            if element == False:
                dungeon_info = dungeons[i]
                if now_k >= dungeon_info[0]:
                    new_visited = now_visited[:]
                    after_k = now_k - dungeon_info[1]
                    #print(f'after_k : {after_k}')
                    new_visited[i] = True
                    new_node = [after_k, new_visited]
                    queue.append(new_node)
        
    return max_count
                    
solution(80, [[80,20],[50,40],[30,10]])














def return_adj_mat(n,wires):
    adj_mat = [[False for x in range(n)] for x in range(n)]
    
    for wire in wires:
        adj_mat[wire[0]-1][wire[1]-1] = True
        adj_mat[wire[1]-1][wire[0]-1] = True
    
    return adj_mat


input_adj_mat = return_adj_mat(4, [[1,2],[2,3]])


from collections import deque
import copy
def return_after(n, input_adj_mat):
    adj_mat = copy.deepcopy(input_adj_mat)
    queue = deque()
    
    #시작 노드
    start_node = -1
    for i in range(n):
        for j in range(n):
            if adj_mat[i][j] == True:
                start_node = i
    if start_node == -1:
        return False
    
    queue.append(start_node)
    count = 1
    while queue:
        now_node = queue.pop()
        for i in range(n):
            if adj_mat[now_node][i] == True:
                queue.append(i)
                count += 1
                adj_mat[now_node][i] = False
                adj_mat[i][now_node] = False
    
    return count, adj_mat
        
    
return_after(4, input_adj_mat)





from itertools import combinations
from collections import deque
import copy
import math 

def return_adj_mat(n,wires):
    adj_mat = [[False for x in range(n)] for x in range(n)]
    
    for wire in wires:
        adj_mat[wire[0]-1][wire[1]-1] = True
        adj_mat[wire[1]-1][wire[0]-1] = True
    
    return adj_mat


def return_after(n, input_adj_mat):
    adj_mat = copy.deepcopy(input_adj_mat)
    queue = deque()
    
    #시작 노드
    start_node = -1
    for i in range(n):
        for j in range(n):
            if adj_mat[i][j] == True:
                start_node = i

    queue.append(start_node)
    count = 1
    while queue:
        now_node = queue.pop()
        for i in range(n):
            if adj_mat[now_node][i] == True:
                queue.append(i)
                count += 1
                adj_mat[now_node][i] = False
                adj_mat[i][now_node] = False
    
    return count, adj_mat


def solution(n, wires):
    coms = combinations(wires, n-2)
    min_count = math.inf 
    for com in coms:
        com = list(com)
        input_adj_mat = return_adj_mat(n, com)
        count_1, input_adj_mat = return_after(n, input_adj_mat)
        count_2, input_adj_mat = return_after(n, input_adj_mat)
        if min_count > abs(count_1 - count_2):
            min_count = abs(count_1 - count_2)
    return min_count















def solution(word):
    aeiou = ['U', 'O', 'I', 'E', 'A']
    stack = []
    stack += aeiou
    count = 0
    while stack:
        now_node = stack.pop()
        #print(now_node)
        count += 1
        if word == now_node:
            return count
        if len(now_node) < 5:
            for x in aeiou:
                new_node = now_node + x
                stack.append(new_node)
    return -1

solution('I')

















import heapq

def solution(scoville, K):
    heapq.heapify(scoville)
    count = 0
    while scoville[0] < K:
        food_1 = heapq.heappop(scoville)
        food_2 = heapq.heappop(scoville)
        new_scoville = food_1 + (food_2 * 2)
        count += 1
        heapq.heappush(scoville, new_scoville)
        if len(scoville) == 1 and scoville[0] < K:
            return -1
    return count

solution([1, 2, 3, 9, 10, 12], 7)














import heapq

def solution(jobs):
    num_of_jobs = len(jobs)
    heapq.heapify(jobs)
    #print(jobs)
    min_heap = [] # 작업 대기 힙
    finish_time = 0
    count = 0 
    t = 0
    while True:
        #print(f'now_t : {t}')
        if min_heap:
            if finish_time <= t:
                #print(f'현재 min_heap 작업 실행 , {min_heap[0]}')
                job_request = heapq.heappop(min_heap)
                request_time = job_request[1]
                working_time = job_request[0]
                finish_time = t + working_time
                count += finish_time - request_time
                #print(f'count : {count}')
        if jobs:
            while t == jobs[0][0]:
                job_request = heapq.heappop(jobs)
                request_time = job_request[0]
                working_time = job_request[1]
                #print(f'현재 작업 요청 들어옴, working_time : {working_time}')
                if finish_time <= t:
                    #print(f'들어온 작업 바로 수행')
                    finish_time = t + working_time
                    count += finish_time - request_time
                else:
                    #print(f'들어온 작업 바로 수행 불가, min_heap에 추가')
                    heapq.heappush(min_heap, [working_time, request_time])
                if not jobs:
                    break
        if t > finish_time and not jobs and not min_heap:
            break
        t += 1
            
                    
    return count//num_of_jobs


solution([[0, 3],[3, 6]])





from collections import deque
import heapq

def solution(jobs):
    n = len(jobs)
    jobs.sort(key = lambda x: x[0])
    jobs = deque(jobs)
    heap = []
    finish_time = 0
    working_time_sum = 0
    t = 0
    while heap or jobs:
        if heap and t >= finish_time:
            #print(f'힙에 작업 있고 바로 실행가능')
            now_job = heapq.heappop(heap)
            finish_time = t + now_job[0]
            working_time_sum += finish_time - now_job[1]
        while jobs and jobs[0][0] == t:
            #print(f'작업이 들어옴')
            if finish_time <= t:
                #print(f'바로 실행 가능')
                now_job = jobs.popleft()
                finish_time += t + now_job[1]
                working_time_sum += finish_time - now_job[0]
            else:
                #print(f'바로 실행 불가')
                now_job = jobs.popleft()
                heapq.heappush(heap, [now_job[1],now_job[0]])
        t += 1
    
    return working_time_sum//n


solution( [[7, 8], [3, 5], [8, 6]])





# 다른 사람의 메인 풀이
from heapq import heappush, heappop
def solution(jobs):
    jobs.sort()
    n = len(jobs)
    heap = []
    now = ans = 0
    while jobs or heap: #일단 작업이 있는 동안은 계속 반복
        while jobs and now >= jobs[0][0]:
            #지금 시점보다 작은 애들 죄다 힙에 때려박기
            heappush(heap,jobs.pop(0)[::-1])
        if jobs and not heap:
            now_job = jobs.pop(0)
            now = now_job[0]
            heappush(heap, now_job[::-1])
        j = heappop(heap)
        now += j[0]
        ans += now-j[-1]
    return ans//n



solution([[0, 3],[3, 6]])











import heapq
import math
def solution(operations):
    share_dic = dict()
    min_heap = []
    max_heap = []
    
    for op in operations:
        op = op.split()
        op[1] = int(op[1])
        if op[0] == 'I':
            heapq.heappush(min_heap, op[1])
            heapq.heappush(max_heap, -1 * op[1])
            if op[1] in share_dic:
                share_dic[op[1]] += 1
            else:
                share_dic[op[1]] = 1
        else: # D 연산
            if op[1] == -1: #최소 삭제 연산
                while True:
                    if not min_heap:
                        break
                    else:
                        target = min_heap[0]
                        if target in share_dic:
                            heapq.heappop(min_heap)
                            if share_dic[target] == 1:
                                del share_dic[target] 
                            else:
                                share_dic[target] -= 1
                            break
                        else: #share_dic에 없을떄
                            heapq.heappop(min_heap)
                            continue
            else: #최대 삭제 연산
                while True:
                    if not max_heap:
                        break
                    else:
                        target = -1 * max_heap[0]
                        if target in share_dic:
                            heapq.heappop(max_heap)
                            if share_dic[target] == 1:
                                del share_dic[target] 
                            else:
                                share_dic[target] -= 1
                            break
                        else: #share_dic에 없을떄
                            heapq.heappop(max_heap)
                            continue
    print(share_dic)
    print(min_heap)
    print(max_heap)
    min_value, max_value = 0, 0
    while True:
        if min_heap:
            target = heapq.heappop(min_heap)
            if target in share_dic:
                min_value = target
                break
            else:
                continue
        else:#힙이 비었음
            break
    while True:
        if max_heap:
            target = -1 * heapq.heappop(max_heap)
            if target in share_dic:
                max_value = target
                break
            else:
                continue
        else: 
            break
    
    return [max_value, min_value]
            
            


solution(["I -45", "I 653", "D 1", "I -642", "I 45", "I 97", "D 1", "D -1", "I 333"])

















def solution(participant, completion):
    p_dict = dict()
    for p in participant:
        if p in p_dict:
            p_dict[p] += 1
        else:
            p_dict[p] = 1
    
    for c in completion:
        if p_dict[c] == 1:
            del p_dict[c]
        else:
            p_dict[c] -= 1
            
    return list(p_dict.keys())[0]














def solution(phone_book):
    phone_dict = dict()
    for phone_num in phone_book:
        for i in range(1, len(phone_num)):
            if not phone_num[0:i] in phone_dict:
                phone_dict[phone_num[0:i]] = True
    
    for phone_num in phone_book:
        if phone_num in phone_dict:
            return False
    
    return True

















def solution(clothes):
    cloth_dict = dict()
    for cloth in clothes:
        if not cloth[1] in cloth_dict:
            cloth_dict[cloth[1]] = 1
        else:
            cloth_dict[cloth[1]] += 1
    nums = list(cloth_dict.values())
    answer = 1
    for num in nums:
        answer *= num+1
    return answer - 1


solution([["yellow_hat", "headgear"], ["blue_sunglasses", "eyewear"], ["green_turban", "headgear"]])











import heapq

def solution(genres, plays):
    
    genres_dict = dict()
    genres_heaps = dict()
    
    for i in range(len(genres)):
        
        if not genres[i] in genres_dict:
            genres_dict[genres[i]] = plays[i]
        else:
            genres_dict[genres[i]] += plays[i]
        
        if not genres[i] in genres_heaps:
            genres_heaps[genres[i]] = []
            heapq.heappush(genres_heaps[genres[i]],(-1*plays[i], i))
        else:
            heapq.heappush(genres_heaps[genres[i]],(-1*plays[i], i))
            
    
    #print(genres_dict)
    #print(genres_heaps)
    
    max_genres = []
    count = 0
    while True:
        target = max(genres_dict, key = genres_dict.get)
        max_genres.append(target)
        del genres_dict[target]
        count += 1
        if count == 2 or len(genres_dict) == 0:
            break
    #print(max_genres)
    
    output_plays = []
    for max_genre in max_genres:
        count_2 = 0 
        while True:
            if genres_heaps[max_genre]:
                target = heapq.heappop(genres_heaps[max_genre])
                output_plays.append(target[1])
                count_2 += 1
            else:
                break
            if count_2 == 2:
                break
    #print(output_plays)

    return output_plays
    


solution(["classic", "pop", "classic", "classic", "pop", "blues"],[500, 600, 150, 800, 2500,3000])





import heapq
from collections import deque

def solution(genres, plays):
    
    genres_dict = dict()
    genres_plays = {} # (노래 횟수, 노래 인덱스)
    
    for i in range(len(genres)):
        
        if not genres[i] in genres_dict:
            genres_dict[genres[i]] = plays[i]
        else:
            genres_dict[genres[i]] += plays[i]
        
        if not genres[i] in genres_plays:
            genres_plays[genres[i]] = []
            genres_plays[genres[i]].append((-plays[i],i))
        else:
            genres_plays[genres[i]].append((-plays[i],i))
      
    for genre in genres_plays.keys():
        genres_plays[genre] = deque(sorted(genres_plays[genre], key = lambda x: (x[0],x[1])))
        
    # genres_plays 정렬
    #print(genres_dict)
    print(genres_plays)
    
    max_genres = []
    #count = 0
    while True:
        target = max(genres_dict, key = genres_dict.get)
        max_genres.append(target)
        del genres_dict[target]
        if len(genres_dict) == 0:
            break
    print(max_genres)
    
    output = []
    for max_genre in max_genres:
        count_2 = 0
        while True:
            if genres_plays[max_genre]:
                target = genres_plays[max_genre].popleft()
                output.append(target[1])
                count_2 += 1
            else:
                break
            if count_2 > 2: 
                break
    return output


solution(["classic", "pop", "classic", "classic", "pop", "blues"],[500, 600, 150, 800, 2500,3000])


genres =['a','b','a']
plays =[1,2,3]
solution(genres, plays)


genres = ["classic", "pop", "classic", "classic", "pop"]
plays =[500, 600, 501, 800, 900]
solution(genres, plays)








from collections import defaultdict

def solution(genres, plays):
    # defaultdict 사용
    # 없는 key값이 들어오면 default값으로 value를 생성
    genre_dict = defaultdict(list)
    genre_play_dict = defaultdict(int)
    for i in range(len(plays)):
        genre_dict[genres[i]].append((plays[i],i))
        genre_play_dict[genres[i]] += plays[i]
    for key in genre_dict.keys():
        genre_dict[key].sort(key = lambda x:x[0], reverse = True)
    print(genre_dict)
    print(genre_play_dict)
    genre_top = list(genre_play_dict.items())
    genre_top.sort(key = lambda x:x[1], reverse = True)
    print(genre_top)
    result = []
    for x in genre_top:
        result += genre_dict[x[0]][:2]
    result = [x[1] for x in result]
    return result














from itertools import combinations
list(combinations([1,2,3], 2))


from itertools import combinations

def solution(nums):
    coms = list(combinations(nums,len(nums)//2))
    max_count = 0 
    for com in coms:
        com = set(com)
        if max_count < len(com):
            max_count = len(com)
    return max_count








def solution(nums):
    mon_dict = dict()
    for num in nums:
        if not num in mon_dict:
            mon_dict[num] = 1
        else:
            mon_dict[num] += 1
    if len(nums)//2 > len(mon_dict):
        return len(mon_dict)
    else:
        return len(nums)//2
        


solution([1,2,3,4,1,2,3,4,5,6])











def solution(s):
    stack = []
    for x in s:
        if stack:
            if stack[-1] == '(':
                if x == ')':
                    stack.pop()
                else:
                    stack.append(x)
            else:
                stack.append(x)
        else:
            stack.append(x)
    
    if stack:
        return False
    else:
        return True


solution('()()()(')














from collections import deque

def solution(progresses, speeds):
    days = []
    for i in range(len(progresses)):
        count = 0
        while progresses[i] < 100:
            progresses[i] += speeds[i]
            count += 1
        days.append(count)
    
    queue = deque()
    answer = []
    for day in days:
        if not queue:
            queue.append(day)
        else:
            if day <= queue[0]:
                queue.append(day)
            else:
                answer.append(len(queue))
                queue.clear()
                queue.append(day)
    answer.append(len(queue))
    
    return answer


solution([95, 90, 99, 99, 80, 99],[1, 1, 1, 1, 1, 1])











from collections import deque

def solution(priorities, location):
    index_list = deque(range(len(priorities))) #[0,1,2,3]
    priorities = deque(priorities)
    
    exe_count = 0
    while index_list:
        max_priority = max(priorities)
        now_work = index_list.popleft()
        now_priority = priorities.popleft()
        if now_priority >= max_priority:
            #print('execute')
            exe_count += 1
            if now_work == location:
                return exe_count
        else:
            index_list.append(now_work)
            priorities.append(now_priority)
            #print('do not execute')
        
    return -1


solution([2, 1, 3, 2], 2)











def solution(prices):
    prices = [[x,0] for x in prices]
    for i in range(len(prices)):
        prices[i].append(i)
    # print(prices) 
    # [값, 버틴 기간, 원래 인덱스]
    stack = []
    pops = []
    for price in prices:
        for i in range(len(stack)):
            stack[i][1] += 1
        if stack:
            while True:
                if stack[-1][0] <= price[0]:
                    stack.append(price)
                    break
                else:
                    pops.append(stack.pop()) 
        else:
            stack.append(price)
    pops += stack
    pops.sort(key = lambda x: x[2])
    result = []
    for pop in pops:
        result.append(pop[1])
    return result


solution([1, 2, 3, 3, 2, 3])








def solution(prices):
    result = [0 for _ in range(len(prices))]
    stack = []
    
    for i in range(len(prices)):
        #print(f'current price : {prices[i]}')
        for j in stack:
            result[j] += 1
        while stack:
            if prices[stack[-1]] > prices[i]:
                stack.pop()
                #print(f'pop! stack : {stack}')
                continue
            else:
                stack.append(i)
                break
        if not stack:
            stack.append(i)
            #print(f'not stack stack.append({i})')
            continue
        #print(f'stack : {stack}')
    return result  


solution([1,2,3,2,3])








def solution(prices):
    # enumerate 사용
    # 리스트의 값과 인덱스에 동시 접근 =
    # stack 사용 
    # => 스택이 비었으면 넣고, 
    #   스택이 비지 않았을때,
    #       stack[-1]보다 지금 값이 크거나 같으면 넣음 
    #       stack[-1]보다 지금 값이 작으면 
    #           not stack이거나 stack[-1]이 지금값보다 크거나 같을때까지 pop
    # stack에서 나올 때 필요한 것 => [원래 인덱스, 버틴 기간]
    stack = []
    pops = []
    for idx, price in enumerate(prices):
        #print(f'현재 idx : {idx}')
        #print(f'stack : {stack}')
        if not stack:
            #print(f'스택 비었음, idx : {idx}, price : {price} 추가')
            stack.append([idx, price])
        else:
            if stack[-1][1] <= price:
                #print(f'stack[-1][1] : {stack[-1][1]}이 현재 price {price}보다 작거나 같음')
                stack.append([idx, price])
            else:
                while True:
                    if not stack or stack[-1][1] <= price:
                        stack.append([idx, price])
                        break
                    else:
                        popped = stack.pop()
                        pops.append([popped[0], idx - popped[0]])
    while stack: #끝까지 스택에 있던 애들은 끝가지 버틴 것.
        now_node = stack.pop()
        pops.append([now_node[0], len(prices) - 1 - now_node[0]])

    pops.sort(key = lambda x: x[0])
    result = [x[1] for x in pops]
    return result

















from collections import deque

def solution(bridge_length, weight, truck_weights):
    count = 1
    truck_weights = deque(truck_weights)
    on_bridge = deque()
    on_bridge_w = 0
    while True:
        #print(f'now count : {count}')
        #print(f'on_bridge : {on_bridge}')
        #print(f'on_bridge_w : {on_bridge_w}')
        for i in range(len(on_bridge)):
            on_bridge[i][1] -= 1
        if on_bridge:
            if on_bridge[0][1] == 0:
                out_truck = on_bridge.popleft()
                on_bridge_w -= out_truck[0]
        if truck_weights:
            if on_bridge_w + truck_weights[0] <= weight:
                in_truck_w = truck_weights.popleft()
                on_bridge_w += in_truck_w
                on_bridge.append([in_truck_w, bridge_length])
        if not truck_weights and not on_bridge:
            break
        count += 1
        
    return count


solution(100,100,[10])

















from itertools import permutations

def solution(numbers):
    numbers = [str(x) for x in numbers]
    numbers = list(permutations(numbers))
    max_num = 0
    for coms in numbers:
        target = int(''.join(coms))
        if max_num < target:
            max_num = target
    return str(max_num)


solution([6,3,2])





def solution(numbers):
    numbers = [str(x) for x in numbers]
    for i in range(len(numbers)):
        #print(f'i : {i}')
        while True:
            now_num = numbers[i]
            #print(f'now_num : {now_num}')
            if i != 0:
                #print(f'?')
                front = numbers[i-1]
                switch = int(now_num + front)
                #print(f'switch : {switch}')
                not_switch = int(front + now_num)
                #print(f'numbers : {numbers}')
                if switch > not_switch:
                    #print(f'switch!')
                    temp = front
                    numbers[i - 1] = now_num
                    numbers[i] = temp
                    i -= 1
                else:
                    break
            else:
                
                break
    if all(x == '0' for x in numbers):
        return '0'
    return ''.join(numbers)



solution([1,0,9,99])





def solution(numbers):
    numbers = list(map(str, numbers))
    numbers.sort(key=lambda x: x * 4, reverse=True)  # 정렬 기준을 변경하여 가장 큰 수부터 정렬
    print(numbers)
    if all(x == '0' for x in numbers):
        return '0'
    return ''.join(numbers)



solution([1,0,9,98])





'12121212' < '122122122122'








def solution(citations):
    # [9,9,9,9,9] => 5편, 5회 이상 인용 => 5개 => h인덱스 5
    # 이분 탐색?
    # [4,4,4,4,4] => 5편, 5회 이상 0편 => 5편 2회 이상 5편 => 3회이상 5편 =>4회 이상 5편 
    # [3,0,6,1,5] => 5편 => 5회 이상 2편 => 2회 이상 3편 => 3회 이상 3편 => 4회 이상 2편
    print('new')
    start = 0 
    end = len(citations)
    target = end
    while True:
        print(f'target : {target}')
        if start == target: 
            break
        more = 0
        less = 0
        for citation in citations:
            if citation >= target:
                more += 1
        if more >= target:
            start = target
            target = (start+end)//2
            continue
        else: 
            end = target
            target = (start+end)//2
            continue
            
    return target

print(solution([10, 50, 100]))





def binary_search(target, data):
    data.sort()
    start = 0
    end = len(data) - 1

    while start <= end:
        mid = (start + end) // 2

        if data[mid] == target:
            return mid 
        elif data[mid] < target:
            ###
            start = mid + 1
        else:
            ###
            end = mid -1

    return None








from collections import deque
import copy

def solution(numbers, target):
    # 노드 정의 => [계산 결과, [계산한 숫자 배열(boolean)]]
    queue = deque()
    start_node = [0, [False for _ in range(len(numbers))]]
    queue.append(start_node)
    
    count = 0
    while queue:
        #print(f'queue : {queue}')
        now_node = queue.popleft()
        now_result = now_node[0]
        now_boolean = now_node[1]
        if all(now_boolean): 
            if now_result == target:
                count += 1
            continue
        #now_node[1]을 순회
        not_cal = False
        for i in range(len(now_boolean)):
            if now_boolean[i] == False:
                not_cal = i
                break
        #print(f'not_cal : {not_cal}')
        new_boolean = copy.deepcopy(now_boolean)
        new_boolean[i] = True
        plus = [now_result + numbers[not_cal], new_boolean]
        minus = [now_result - numbers[not_cal], new_boolean]
        queue.append(plus)
        #print(f'plus : {plus}')
        queue.append(minus)
        #print(f'minus : {minus}')
    return count


solution([1,2,3],0)





from collections import deque

def solution(numbers, target):
    # node => [결과, 계산헤야하는 숫자 인덱스]
    start_node = [0,0]
    queue = deque()
    queue.append(start_node)
    count = 0 
    while queue:
        now_node = queue.popleft()
        if now_node[1] == len(numbers):
            if now_node[0] == target:
                count += 1
            continue
        else:
            plus = [now_node[0] + numbers[now_node[1]],now_node[1]+1]
            minus = [now_node[0] - numbers[now_node[1]],now_node[1]+1]
            queue.append(plus)
            queue.append(minus)
    return count











from collections import deque
def solution(n, computers):
    # n은 노드 리스트 
    node_list = [False for x in range(n)]
    #print(f'node_list : {node_list}')
    # computers => 인접리스트
    # 몇개의 그래프가 있는지
    """
    for row in computers:
        for x in row:
            print(x, end = ' ')
        print()
    """
    # 큐 루프가 한번 돌면 count += 1
    count = 0 
    # 탐색하지 않은 노드가 있을 떄
    count = 0
    while not all(node_list):
        #print(f'node_list : {node_list}')
        start_node = -1
        for i in range(len(node_list)):
            if node_list[i] == False: # 탐색하지 않았다면
                start_node = i
                break
        #print(f'start_node : {start_node}')
        queue = deque()
        queue.append(start_node)
        # 탐색한 노드와 이어진걸 큐에 넣기
        while queue:
            now_node = queue.popleft()
            #print(f'now_node : {now_node}')
            computers[now_node][now_node] = 0
            """
            for row in computers:
                for x in row:
                    print(x, end = ' ')
                print()
            """
            for i in range(len(computers[now_node])):
                if computers[now_node][i] == 1:
                    #print(f'연결된 노드 : {i}')
                    queue.append(i)
                    computers[now_node][i] = 0
                    computers[i][now_node] = 0
            node_list[now_node] = True
        count += 1
    return count
            


solution(3,[[1, 1, 0], [1, 1, 0], [0, 0, 1]])











from collections import deque
def solution(n, computers):
    # n은 노드 리스트 
    node_list = [False for x in range(n)]
    #print(f'node_list : {node_list}')
    # computers => 인접리스트
    # 몇개의 그래프가 있는지
    """
    for row in computers:
        for x in row:
            print(x, end = ' ')
        print()
    """
    # 큐 루프가 한번 돌면 count += 1
    count = 0 
    # 탐색하지 않은 노드가 있을 떄
    count = 0
    while not all(node_list):
        #print(f'node_list : {node_list}')
        start_node = -1
        for i in range(len(node_list)):
            if node_list[i] == False: # 탐색하지 않았다면
                start_node = i
                break
        #print(f'start_node : {start_node}')
        queue = deque()
        queue.append(start_node)
        # 탐색한 노드와 이어진걸 큐에 넣기
        while queue:
            now_node = queue.popleft()
            #print(f'now_node : {now_node}')
            computers[now_node][now_node] = 0
            """
            for row in computers:
                for x in row:
                    print(x, end = ' ')
                print()
            """
            for i in range(len(computers[now_node])):
                if computers[now_node][i] == 1:
                    #print(f'연결된 노드 : {i}')
                    queue.append(i)
                    computers[now_node][i] = 0
                    computers[i][now_node] = 0
            node_list[now_node] = True
        count += 1
    return count











from collections import deque

def solution(maps):
    #min_maps에 탐색된 좌표까지의 최단거리를 저장, 미방문 노드는 -1
    min_maps = [[-1 for i in range(len(maps[0]))] for j in range(len(maps))]
    #print(min_maps)
    d_row = [1,0,-1,0]
    d_col = [0,-1,0,1]
    queue = deque()
    start_node = [0,0] #시작 좌표
    queue.append(start_node)
    min_maps[0][0] = 1 # 시작 좌표 방문했다고 표시
    while queue:
        now_node = queue.popleft() #현재 좌표
        now_node_path = min_maps[now_node[0]][now_node[1]] #현재 좌표까지의 최소 경로 
        #현재 위치에서 갈 수 있는 좌표 탐색
        #print(now_node)
        for i in range(4):
            next_node = [now_node[0] + d_row[i], now_node[1] + d_col[i]]
            #print(f'next_node : {next_node}')
            if 0 <= next_node[0] < len(maps) and 0<= next_node[1] < len(maps[0]): #maps안에 있음
                #print(f'조건 1 통과!')
                if maps[next_node[0]][next_node[1]] != 0: #벽이 아님
                    #print(f'조건 2 통과!')
                    #디버그
                    """
                    for row in min_maps:
                        for x in row:
                            print(x, end =' ')
                        print()
                    """
                    if min_maps[next_node[0]][next_node[1]] == -1: # 미방문노드임
                        #print(f'조건 3통과')
                        min_maps[next_node[0]][next_node[1]] = now_node_path + 1
                        queue.append(next_node)
    return min_maps[-1][-1]











from collections import deque

def solution(begin, target, words):
    n = len(words[0])
    word_dict = dict()
    for word in words:
        word_dict[word] = True
    # 딕셔너리 조작법 연습 필요
    """
    for key in word_dict.keys():
        print(key)
    """
    result = 0
    queue = deque()
    start_node = (begin, 0)
    queue.append(start_node)
    while queue:
        print(f'queue : {queue}')
        now_node = queue.popleft()
        now_word = now_node[0]
        now_path = now_node[1]a
        if now_word == target:
            result = now_path
            break
        del_list = []
        for del_word in del_list:
            del word_dict[del_word]
        # 하나만 바꿔서 만들 수 있는 녀석이 있는지 탐색
        for word in word_dict.keys():
            # 단어에 대해서
            count = 0
            for i in range(n):
                # 철자에 대해서
                if word[i] != now_word[i]:
                    count += 1
            if count == 1:
                new_node = (word, now_path + 1)
                queue.append(new_node)
                del_list.append(word)
    return result





from collections import deque
def solution(begin, target, words):
    n = len(words[0])
    # 방문한 단어 배열
    visited = [0 for _ in range(len(words))]
    # 방문한 적이 없으면 0, 아니면 몇번째에 방문했는지
    queue = deque()
    start_node = begin
    queue.append(start_node)
    result = 0
    while queue:
        now_node = queue.popleft()
        now_node_index = -1
        if now_node == target:
            result = visited[now_node_index]
            break
        for i in range(len(words)):
            if words[i] == now_node:
                now_node_index = i
        for x in range(len(words)):
            if visited[x] != 0:
                #방문한적 있으면
                continue
            word = words[x]
            count = 0
            for i in range(n):
                if word[i] != now_node[i]:
                    count += 1
            if count == 1:
                visited[x] += visited[now_node_index] + 1
                queue.append(word)
    return result





from collections import deque
def solution(begin, target, words):
    # 단어 딕셔너리 변환 => {'단어' : 몇번째에 탐색됐는지}
    n = len(words[0]) #단어 길이
    word_dict = dict()
    for word in words:
        word_dict[word] = 0
    queue = deque()
    queue.append(begin)
    while queue:
        now_node = queue.popleft()
        print(f'now_node : {now_node}')
        print(f'queue : {queue}')
        # 지금 노드가 target일 경우 => word_dict에서 그 값을 반환
        # 지금 노드가 begin일 경우 => now_node_path = 0
        # 아닐 경우 => now_node_path = word_dict에서의 그 값
        now_node_path = 0
        if now_node == target:
            return word_dict[now_node]
        elif now_node == begin:
            now_node_path = 0
        else:
            now_node_path = word_dict[now_node]
        # now_node, now_node_path
        # 방문하지 않은 노드들에 대해 한자리만 바꿔서 만들 수 있는 단어인지 검사
        for word in words:
            #방문?
            if word_dict[word] == 0: #방문하지 않았다면
                #지금 노드에서 한자리만 바꿔서 만들 수 있음?
                count = 0
                for i in range(n):
                    if word[i] != now_node[i]:
                        count += 1
                if count == 1: #한자리만 바꿔서 만들 수 있다면
                    queue.append(word)
                    word_dict[word] = now_node_path + 1
    return 0











from collections import deque
import math
from collections import Counter
def solution(begin, target, words):
    visited = [False for x in range(len(words))]
    dq = deque()
    dq.append([begin,visited])
    answers = []
    while dq:
        #print(f'dq : {dq}')
        now_word, now_visited = dq.popleft()
        #print(f'now_word:{now_word}, now_visited : {now_visited}')
        # 지금 시점에서 방문하지 않은 단어들을 찾음, idx => 방문하지 않은 단어의 인덱스
        if now_word == target:
            answers.append(Counter(now_visited)[True])
        for idx, is_visited in enumerate(now_visited):
            #print(f'방문하지 않은 단어 찾기 idx, is_visited : {idx}, {is_visited}')
            if not is_visited:
                #print(f'!')
                # 방문하지 않은 단어에 대해
                count = 0
                for i in range(len(words[0])):
                    #print(f'now_word[i] != words[idx][i] => {now_word[i]} {words[idx][i]}')
                    if now_word[i] != words[idx][i]:
                        count += 1
                if count == 1:
                    #print('!')
                    new_visited = now_visited[:]
                    new_visited[idx] = True
                    dq.append([words[idx], new_visited])
    if answers:
        return min(answers)
    else:
        return 0











from collections import deque
import copy

def solution(tickets):
    # 방향 그래프 => 인접 리스트
    #만일 가능한 경로가 2개 이상일 경우 알파벳 순서가 앞서는 경로를 return 합니다. => 문자열 합쳐서 대소비교?
    
    # 인접리스트 => dict()
    adj_list = dict()
    visited = dict()
    ticket_num = len(tickets)
    for ticket in tickets:
        start = ticket[0]
        end = ticket[1]
        #인접 리스트
        if not start in adj_list: #없으면
            adj_list[start] = [end]
        else: #있으면
            adj_list[start].append(end)
    #print(adj_list)#	{'ICN': ['SFO', 'ATL'], 'SFO': ['ATL'], 'ATL': ['ICN', 'SFO']}
    
    paths = []
    for starting in adj_list.keys():
        # node = [지금 노드,여기까지의 경로'str']
        adj = copy.deepcopy(adj_list)
        queue = deque()
        queue.append([starting, starting])
        while queue:
            now_node = queue.popleft()
            now_airport = now_node[0]
            now_path = now_node[1]
            if len(now_path) == 3*(ticket_num + 1):
                paths.append(now_path)
            adj_nodes = adj[now_airport]
            for adj_node in adj_nodes:
                queue.append([adj_node, now_path + adj_node])
            #간선 지우기
            adj_nodes.clear()
                
    print(paths)
    
 
        











solution([["ICN", "JFK"], ["HND", "IAD"], ["JFK", "HND"]])





from collections import deque
import copy

def solution(tickets):
    # 방향 그래프 => 인접 리스트
    #만일 가능한 경로가 2개 이상일 경우 알파벳 순서가 앞서는 경로를 return 합니다. => 문자열 합쳐서 대소비교?
    
    # 인접리스트 => dict()
    adj_list = dict()
    visited = dict()
    ticket_num = len(tickets)
    for ticket in tickets:
        start = ticket[0]
        end = ticket[1]
        #인접 리스트
        if not start in adj_list: #없으면
            adj_list[start] = [end]
        else: #있으면
            adj_list[start].append(end)
    print(adj_list)#	{'ICN': ['SFO', 'ATL'], 'SFO': ['ATL'], 'ATL': ['ICN', 'SFO']}
    
    paths = []
    for starting in adj_list.keys():
        print(f'starting : {starting}')
        # node = [지금 노드,여기까지의 경로'str']
        adj = copy.deepcopy(adj_list)
        queue = deque()
        queue.append([starting, starting])
        while queue:
            print(f'q : {queue}')
            now_node = queue.popleft()
            now_airport = now_node[0]
            now_path = now_node[1]
            if len(now_path) == 3*(ticket_num + 1):
                paths.append(now_path)
            if now_airport in adj:
                adj_nodes = adj[now_airport]
                for adj_node in adj_nodes:
                    queue.append([adj_node, now_path + adj_node])
                #간선 지우기
                adj_nodes.clear()
                
    paths.sort()
    #모든 도시를 방문할 수 없는 경우는 주어지지 않습니다.
    #3자리씩 자르기
    return paths
 
        


solution([["ICN", "SFO"], ["ICN", "ATL"], ["SFO", "ATL"], ["ATL", "ICN"], ["ATL", "SFO"]])
#	["ICN", "ATL", "ICN", "SFO", "ATL", "SFO"]





from collections import defaultdict

def solution(tickets):
    t_dict = defaultdict(list)
    
    for s, e in tickets:
        t_dict[s].append(e)
    
    for t_key in t_dict.keys():
        t_dict[t_key].sort(reverse = True)
    print(t_dict)
    
    answer = []
    path = ["ICN"]
    
    while path:
        now = path[-1]    
        print(f'now : {now}')
        if now not in t_dict or len(t_dict[now]) == 0:
            print(f'now가 t_dict에 없거나 now에서 갈 수 있는 길이 없음')
            answer.append(path.pop())
            print(f'path에서 pop,path : {path}')
            print(f'answer에 추가, answer : {answer}')
        else:
            print(f'now에서 갈 수 있는 노드가 있음')
            path.append(t_dict[now].pop())
            print(f't_dict : {t_dict}')
            print(f'path : {path}')
    return answer


solution([["ICN", "SFO"], ["ICN", "ATL"], ["SFO", "ATL"], ["ATL", "ICN"], ["ATL","SFO"]])





from collections import deque

def solution(tickets):
    # 인접 리스트
    adj_list = dict()
    for ticket in tickets:
        start = ticket[0] 
        end = ticket[1]
        if not start in adj_list:
            adj_list[start] = [end]
        else:
            adj_list[start].append(end)
    #인접 리스트 알파벳 순으로 정렬 => 알파벳 빠른게 먼저 가게끔    
    check_list = dict() #체크리스트에 있으면 갈 수 있는 길이 있음
    for key in adj_list.keys():
        check_list[key] = True
        adj_list[key].sort()
        adj_list[key] = deque(adj_list[key])
    print(adj_list)
    print(check_list)
    #{'ICN': ['ATL','SFO'], 'SFO': ['ATL'], 'ATL': ['ICN','SFO']}
    dq = deque()
    start_node = 'ICN'
    dq.append(start_node)
    path = []
    while dq:
        print(f'path : {path}')
        now_node = dq.pop()
        path.append(now_node)
        print(f'now_node : {now_node}')
        if now_node in check_list:
            print(f'갈 수 있음')
            next_node = adj_list[now_node].popleft()
            dq.append(next_node)
            print(f'next_node: {next_node}')
            if not adj_list[now_node]:
                print(f'다른 갈 수 있는 길이 없음: {adj_list}')
                del check_list[now_node]
        else: #갈 수 있는 길이 없음
            print(f'갈 수 없음')
            if len(path) == len(tickets) + 1:
                return path
            else: #티켓 다 안씀
                #path top에서 갈 수 있는 길이 없는 동안 => path[-1]이 check리스트에 없으면 갈 수 있는 길이 없음
                while not path[-1] in check_list:
                    path.pop()
                dq.appendleft(path[-1])
                    
    return path
                
                
        


solution([["ICN", "JFK"], ["ICN", "AAD"], ["JFK", "ICN"]])








from collections import deque

def solution(tickets):
    # 인접 리스트
    adj_list = dict()
    for ticket in tickets:
        start = ticket[0] 
        end = ticket[1]
        if not start in adj_list:
            adj_list[start] = [end]
        else:
            adj_list[start].append(end)
    #인접 리스트 알파벳 순으로 정렬 => 알파벳 빠른게 먼저 가게끔    
    for key in adj_list.keys():
        adj_list[key].sort()
        adj_list[key] = deque(adj_list[key])
    print(adj_list)
    dq = deque()
    start_node = 'ICN'
    dq.append(start_node)
    path = []
    while dq:
        print(dq)
        now_node = dq.pop()
        print(f'now_node : {now_node}')
        path.append(now_node)
        print(f'path : {path}')
        if now_node in adj_list:
            if adj_list[now_node]:
                print(f'갈 수 있음')
                next_node = adj_list[now_node].popleft()
                dq.append(next_node)
        else:
            print(f'못감')
            if len(path) == len(tickets) + 1:
                print('!')
                return path
            else: #티켓 다 안씀
                for i in range(len(path),0,-1):
                    # 경로 살리기
                    if path[i-1] in adj_list:
                        adj_list[path[i-1]].append(path[i])
                        path.pop()
                path.pop()
                dq.append('ICN')

                
    return path       


solution([["ICN", "AAA"], ["ICN", "CCC"], ["CCC", "DDD"], ["AAA", "BBB"], ["AAA", "BBB"], ["DDD", "ICN"], ["BBB", "AAA"]])





from collections import deque
import copy

def solution(tickets):
    used = [False for x in range(len(tickets))]
    
    start_node = [['ICN'],used]
    queue = deque()
    queue.append(start_node)
    
    paths = []
    while queue:
        now_path, now_used = queue.popleft()
        if all(now_used):
            paths.append(now_path)
        for idx, ticket in enumerate(tickets):
            if now_used[idx] == False and ticket[0] == now_path[-1]:
                next_path = now_path + [ticket[1]]
                next_used = copy.deepcopy(now_used)
                next_used[idx] = True
                queue.append([next_path, next_used])
    paths.sort()
    return paths[0]


solution([["ICN", "AAA"], ["ICN", "CCC"], ["CCC", "DDD"], ["AAA", "BBB"], ["AAA", "BBB"], ["DDD", "ICN"], ["BBB", "AAA"]])











def solution(rectangle, characterX, characterY, itemX, itemY):
    # 꼭짓점 뽑기
    











# 1. 장르 총 재생수
# 2. 장르 내 재생수 Top2
# 2-1. 재생수가 같으면 고유번호가 낮은 순

# genres ["classic", "pop", "classic", "classic", "pop"]
# plays  [500, 600, 150, 800, 2500]
# 장르 총 플레이 

from collections import deque
from collections import defaultdict

def solution(genres, plays):
    genres_play = defaultdict(int)
    genres_top2 = defaultdict(deque)
    # 장르별 Top 2 로직
        # 2개일떄
        # top1 보다 크다 => 앞에 넣고 뒤에 빼기
        # 가운데다 => 뒤에 넣고 뒤에 빼기
        # top 2보다 작다 => 암것도 안하기
        # top1보다 큰가? 
        # 크거나 같다면 
        # 같다면
        # top2보다 큰가?
        # 1개일떄
        # top1보다 큰가
        # 없을떄
        # 갖다 박기
    def top2_logic(dq, song): #[(idx, plays),(idx, plays)] / (idx, plays)
        if len(dq) == 2:
            if song[1] >= dq[0][1]:
                # Top1 보다 많은(같은) 재생수
                if song[1] == dq[0][1]:
                    # 재생수가 같을때
                    if song[0] < dq[0][0]:
                        # 고유번호가 작다면
                        # 밀어내기
                        dq.appendleft(song)
                        dq.pop()
                    else:
                        # 고유번호가 크다면 
                        # 뒤에 넣기
                        dq.pop()
                        dq.append(song)
                else:
                    # 재생수가 클떄
                    # 밀어 내기
                    dq.appendleft(song)
                    dq.pop()
            else

    # 순회
    for idx, genre in enumerate(genres):
        # 장르 총 횟수 딕셔너리 채우기
        genres_play[genre] += plays[idx]
        # 장르별 Top 2 만들기


## 와 이건 진짜 아닌듯


# genre_play_dict 
# genre_song_dict 
from collections import defaultdict

def solution(genres, plays):
    genre_play_dict = defaultdict(int)
    genre_song_dict = defaultdict(list)

    # 순회
    for idx, genre in enumerate(genres):
        genre_play_dict[genre] += plays[idx]
        genre_song_dict[genre].append((idx, plays[idx])) # 고유번호, 재생수

    # dict => list => 정렬
    genre_play_list = list(genre_play_dict.items())
    genre_play_list.sort(key = lambda x: x[1], reverse = True) ## 문법
    """
    lambda x: x[1]
    =
    def func(x):
        return x[1]
    """
    answer = []
    for genre, play in genre_play_list: # 원소는 튜플, play는 안씀
        # 고유번호, 재생수
        genre_song_dict[genre].sort(key = lambda x: (x[1], -x[0]), reverse = True) # 마이너스!
        # 1차 기준 x[1] => 재생수는 내림차
        # 2차 기준 x[0] => 고유번호는 오름차, 
        # 1차 기준 위상 동일 => 2차 기준 비교
        for x in genre_song_dict[genre][:2]:
            answer.append(x[0])
    return answer


solution(['a', 'b', 'a', 'a'], [1,2,3,3])


[][:2]


# 다시 풀어보면, 해시보다 파이썬 신기한(유용한 문법)을 잘 알면 좋은 문제같음
# .sort(key = lambda x:x[1], -x[0], reverse = True)
# => 기준 차원에 각각 다른 reverse 를 적용하는 방법 => 마이너스 활용은 굿!
# 간단한 리스트 인덱싱의 좋은점 
# temp_list[:10] => 원소가 10개가 안되어도 되는 대까지 인덱싱 해준다
# 리마인드용으로 아주 굿! 











from collections import deque

def solution(n, computers):
    #인접 행렬임
    visited = [False for _ in range(n)]
    def bfs():
        # 시작 노드를 넣고 방문 표시
        # 노드 빼기 -> 미방문 인접 노드 큐에 넣기 -> 방문 표시
        # 큐가 빌 때까지 

        # 시작 노드 탐색
        start_node = -1
        for idx, node in enumerate(visited):
            if node == False:
                start_node = idx
                break
        # 시작 노드 넣고 방문 처리
        dq = deque()
        dq.append(start_node)
        visited[start_node] = True
        while dq:
            now_node = dq.popleft()
            print(f'now_node: {now_node}')
            # 연결 노드 조사
            for adj_node in computers[now_node]: # 연결된 노드 중
                if visited[adj_node] == False: # 미방문이면
                    dq.append(adj_node) # 큐에 넣고
                    visited[adj_node] = True # 방문 처리
                    print(f'방문:{visited}')
            print(f'dq:{dq}')
    count = 0
    while not all(visited) == True:
        print(f'visited:{visited}')
        bfs()
        count += 1

    return count
                    


solution(3,[[1, 1, 0], [1, 1, 1], [0, 1, 1]])



