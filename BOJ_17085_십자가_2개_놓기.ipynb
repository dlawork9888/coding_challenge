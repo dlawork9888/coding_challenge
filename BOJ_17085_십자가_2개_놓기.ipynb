{
 "cells": [
  {
   "cell_type": "markdown",
   "metadata": {},
   "source": [
    "# BOJ. 17085. 십자가 2개 놓기\n",
    "https://www.acmicpc.net/problem/17085"
   ]
  },
  {
   "cell_type": "code",
   "execution_count": 68,
   "metadata": {},
   "outputs": [],
   "source": [
    "# 입력 처리\n",
    "n_row, n_col = [int(x) for x in input().split()]\n",
    "\n",
    "grid = []\n",
    "for i in range(n_row):\n",
    "    grid.append([True if x == '#' else False for x in input()])\n",
    "\n"
   ]
  },
  {
   "cell_type": "code",
   "execution_count": 69,
   "metadata": {},
   "outputs": [
    {
     "data": {
      "text/plain": [
       "[[False, True, False, False, True, False],\n",
       " [True, True, True, True, True, True],\n",
       " [False, True, False, False, True, False],\n",
       " [True, True, True, True, True, True],\n",
       " [False, True, False, False, True, False],\n",
       " [False, True, False, False, True, False]]"
      ]
     },
     "execution_count": 69,
     "metadata": {},
     "output_type": "execute_result"
    }
   ],
   "source": [
    "grid"
   ]
  },
  {
   "cell_type": "code",
   "execution_count": 70,
   "metadata": {},
   "outputs": [
    {
     "data": {
      "text/plain": [
       "5"
      ]
     },
     "execution_count": 70,
     "metadata": {},
     "output_type": "execute_result"
    }
   ],
   "source": [
    "# 십자가 최대 길이\n",
    "max_length = min(n_col, n_row) if min(n_col, n_row) % 2 == 1 else min(n_col, n_row) - 1\n",
    "max_length"
   ]
  },
  {
   "cell_type": "code",
   "execution_count": 71,
   "metadata": {},
   "outputs": [
    {
     "data": {
      "text/plain": [
       "defaultdict(list,\n",
       "            {3: [[1, 1], [1, 4], [3, 1], [3, 4]],\n",
       "             1: [[0, 1],\n",
       "              [0, 4],\n",
       "              [1, 0],\n",
       "              [1, 1],\n",
       "              [1, 2],\n",
       "              [1, 3],\n",
       "              [1, 4],\n",
       "              [1, 5],\n",
       "              [2, 1],\n",
       "              [2, 4],\n",
       "              [3, 0],\n",
       "              [3, 1],\n",
       "              [3, 2],\n",
       "              [3, 3],\n",
       "              [3, 4],\n",
       "              [3, 5],\n",
       "              [4, 1],\n",
       "              [4, 4],\n",
       "              [5, 1],\n",
       "              [5, 4]]})"
      ]
     },
     "execution_count": 71,
     "metadata": {},
     "output_type": "execute_result"
    }
   ],
   "source": [
    "from collections import defaultdict\n",
    "\n",
    "\n",
    "# center_loc => [center_row, center_col]\n",
    "# shift => center를 기준으로 몇칸을 이동하는지\n",
    "def center_validation(grid, center_loc, shift):\n",
    "    #print(f'center_loc: {center_loc}')\n",
    "    #print(f'shift: {shift}')\n",
    "    center_row, center_col = center_loc\n",
    "    ##### 중심은 못가는 위치인가?\n",
    "    if grid[center_row][center_col] == False:\n",
    "        return False\n",
    "    ##### 아래로\n",
    "    for i in range(1, shift + 1):\n",
    "        # 그리드 안쪽에 없나? 못가는 위치인가? => 하나라도 걸리면 return False\n",
    "        if 0 <= center_row + i < len(grid) and 0 <= center_col < len(grid[0]) and grid[center_row + i][center_col] == True:\n",
    "            pass\n",
    "        else:\n",
    "            return False\n",
    "    ##### 위로\n",
    "    for i in range(1, shift + 1):\n",
    "        # 그리드 안쪽에 없나? 못가는 위치인가? => 하나라도 걸리면 return False\n",
    "        if 0 <= center_row - i < len(grid) and 0 <= center_col < len(grid[0]) and grid[center_row - i][center_col] == True:\n",
    "            pass\n",
    "        else:\n",
    "            return False\n",
    "    ##### 오른쪽으로\n",
    "    for i in range(1, shift+1):\n",
    "        # 그리드 안쪽에 없나? 못가는 위치인가? => 하나라도 걸리면 return False\n",
    "        if 0 <= center_row < len(grid) and 0 <= center_col + i < len(grid[0]) and grid[center_row][center_col + i] == True:\n",
    "            pass\n",
    "        else:    \n",
    "            return False\n",
    "    ##### 왼쪽으로\n",
    "    for i in range(1, shift+1):\n",
    "        # 그리드 안쪽에 없나? 못가는 위치인가? => 하나라도 걸리면 return False\n",
    "        if 0 <= center_row < len(grid) and 0 <= center_col - i < len(grid[0]) and grid[center_row][center_col - i] == True:\n",
    "            pass\n",
    "        else:    \n",
    "            return False\n",
    "    return True\n",
    "\n",
    "center_locs = defaultdict(list)\n",
    "\n",
    "for cross_length in range(max_length, 0, -2): # 5,3,1\n",
    "    #print(f'cross_length: {cross_length}')\n",
    "    # 몇번째 row\n",
    "    for row in range(cross_length//2, n_row - cross_length//2):\n",
    "        for col in range(cross_length//2, n_col - cross_length//2):\n",
    "            if center_validation(grid, [row, col], cross_length//2) == True:\n",
    "                center_locs[cross_length].append([row,col])\n",
    "\n",
    "center_locs"
   ]
  },
  {
   "cell_type": "code",
   "execution_count": 72,
   "metadata": {},
   "outputs": [
    {
     "data": {
      "text/plain": [
       "[(3, 3), (3, 1), (1, 1)]"
      ]
     },
     "execution_count": 72,
     "metadata": {},
     "output_type": "execute_result"
    }
   ],
   "source": [
    "def return_combs(center_locs):\n",
    "    keys = list(center_locs.keys())\n",
    "    #print(keys)\n",
    "    combs = []\n",
    "    for first_idx ,first_key in enumerate(keys):\n",
    "        for second_idx, second_key in enumerate(keys[first_idx:]):\n",
    "            if len(center_locs[second_key]) == 1:\n",
    "                continue\n",
    "            combs.append((first_key, second_key))\n",
    "    combs.sort(key = lambda x: -((x[0]*2-1)*(x[1]*2-1)))\n",
    "    return combs\n",
    "return_combs(center_locs)"
   ]
  },
  {
   "cell_type": "code",
   "execution_count": 73,
   "metadata": {},
   "outputs": [
    {
     "data": {
      "text/plain": [
       "25"
      ]
     },
     "execution_count": 73,
     "metadata": {},
     "output_type": "execute_result"
    }
   ],
   "source": [
    "import copy\n",
    "\n",
    "def draw_on_grid(temp_grid, center_loc, shift):\n",
    "    center_row, center_col = center_loc\n",
    "    ##### 아래로\n",
    "    for i in range(1, shift+1):\n",
    "        temp_grid[center_row + i][center_col] = False\n",
    "    ##### 위로\n",
    "    for i in range(1, shift+1):\n",
    "        temp_grid[center_row - i][center_col] = False\n",
    "    ##### 오른쪽\n",
    "    for i in range(1, shift+1):\n",
    "        temp_grid[center_row][center_col + i] = False\n",
    "    ##### 왼쪽\n",
    "    for i in range(1, shift+1):\n",
    "        temp_grid[center_row][center_col - i] = False\n",
    "    return temp_grid \n",
    "\n",
    "\n",
    "def last_step(grid, center_locs):\n",
    "    for comb in return_combs(center_locs):\n",
    "        if comb[0] == comb[1]: # 길이가 같은 조합에 대해\n",
    "            cross_length = comb[0]\n",
    "            locs = center_locs[cross_length]\n",
    "            for first_idx, first_loc in enumerate(locs):\n",
    "                temp_grid = copy.deepcopy(grid)\n",
    "                temp_grid = draw_on_grid(temp_grid, first_loc, cross_length//2)\n",
    "                for second_loc in locs[first_idx + 1:]:\n",
    "                    if center_validation(temp_grid, second_loc, cross_length//2) == True:\n",
    "                        return (cross_length*2-1)**2\n",
    "        else: #길이가 다른 조합에 대해\n",
    "            first_locs = center_locs[comb[0]]\n",
    "            second_locs = center_locs[comb[1]]\n",
    "            for first_loc in first_locs:\n",
    "                temp_grid = copy.deepcopy(grid)\n",
    "                temp_grid = draw_on_grid(temp_grid, first_loc, comb[0]//2)\n",
    "                print(temp_grid)\n",
    "                for second_loc in second_locs:\n",
    "                    if center_validation(temp_grid, second_loc, comb[1]//2) == True:\n",
    "                        return (comb[0]*2-1)*(comb[1]*2-1)\n",
    "\n",
    "last_step(grid, center_locs)"
   ]
  },
  {
   "cell_type": "markdown",
   "metadata": {},
   "source": [
    "# 하.. 통합 !"
   ]
  },
  {
   "cell_type": "code",
   "execution_count": 74,
   "metadata": {},
   "outputs": [
    {
     "name": "stdout",
     "output_type": "stream",
     "text": [
      "25\n"
     ]
    }
   ],
   "source": [
    "# 입력 처리\n",
    "n_row, n_col = [int(x) for x in input().split()]\n",
    "\n",
    "grid = []\n",
    "for i in range(n_row):\n",
    "    grid.append([True if x == '#' else False for x in input()])\n",
    "\n",
    "# 십자가 최대 길이\n",
    "max_length = min(n_col, n_row) if min(n_col, n_row) % 2 == 1 else min(n_col, n_row) - 1\n",
    "\n",
    "from collections import defaultdict\n",
    "\n",
    "\n",
    "# center_loc => [center_row, center_col]\n",
    "# shift => center를 기준으로 몇칸을 이동하는지\n",
    "def center_validation(grid, center_loc, shift):\n",
    "    #print(f'center_loc: {center_loc}')\n",
    "    #print(f'shift: {shift}')\n",
    "    center_row, center_col = center_loc\n",
    "    ##### 중심은 못가는 위치인가?\n",
    "    if grid[center_row][center_col] == False:\n",
    "        return False\n",
    "    ##### 아래로\n",
    "    for i in range(1, shift + 1):\n",
    "        # 그리드 안쪽에 없나? 못가는 위치인가? => 하나라도 걸리면 return False\n",
    "        if 0 <= center_row + i < len(grid) and 0 <= center_col < len(grid[0]) and grid[center_row + i][center_col] == True:\n",
    "            pass\n",
    "        else:\n",
    "            return False\n",
    "    ##### 위로\n",
    "    for i in range(1, shift + 1):\n",
    "        # 그리드 안쪽에 없나? 못가는 위치인가? => 하나라도 걸리면 return False\n",
    "        if 0 <= center_row - i < len(grid) and 0 <= center_col < len(grid[0]) and grid[center_row - i][center_col] == True:\n",
    "            pass\n",
    "        else:\n",
    "            return False\n",
    "    ##### 오른쪽으로\n",
    "    for i in range(1, shift+1):\n",
    "        # 그리드 안쪽에 없나? 못가는 위치인가? => 하나라도 걸리면 return False\n",
    "        if 0 <= center_row < len(grid) and 0 <= center_col + i < len(grid[0]) and grid[center_row][center_col + i] == True:\n",
    "            pass\n",
    "        else:    \n",
    "            return False\n",
    "    ##### 왼쪽으로\n",
    "    for i in range(1, shift+1):\n",
    "        # 그리드 안쪽에 없나? 못가는 위치인가? => 하나라도 걸리면 return False\n",
    "        if 0 <= center_row < len(grid) and 0 <= center_col - i < len(grid[0]) and grid[center_row][center_col - i] == True:\n",
    "            pass\n",
    "        else:    \n",
    "            return False\n",
    "    return True\n",
    "\n",
    "center_locs = defaultdict(list)\n",
    "\n",
    "for cross_length in range(max_length, 0, -2): # 5,3,1\n",
    "    #print(f'cross_length: {cross_length}')\n",
    "    # 몇번째 row\n",
    "    for row in range(cross_length//2, n_row - cross_length//2):\n",
    "        for col in range(cross_length//2, n_col - cross_length//2):\n",
    "            if center_validation(grid, [row, col], cross_length//2) == True:\n",
    "                center_locs[cross_length].append([row,col])\n",
    "\n",
    "def return_combs(center_locs):\n",
    "    keys = list(center_locs.keys())\n",
    "    #print(keys)\n",
    "    combs = []\n",
    "    for first_idx ,first_key in enumerate(keys):\n",
    "        for second_idx, second_key in enumerate(keys[first_idx:]):\n",
    "            if len(center_locs[second_key]) == 1:\n",
    "                continue\n",
    "            combs.append((first_key, second_key))\n",
    "    combs.sort(key = lambda x: -((x[0]*2-1)*(x[1]*2-1)))\n",
    "    return combs\n",
    "\n",
    "import copy\n",
    "\n",
    "def draw_on_grid(temp_grid, center_loc, shift):\n",
    "    center_row, center_col = center_loc\n",
    "    ##### 아래로\n",
    "    for i in range(1, shift+1):\n",
    "        temp_grid[center_row + i][center_col] = False\n",
    "    ##### 위로\n",
    "    for i in range(1, shift+1):\n",
    "        temp_grid[center_row - i][center_col] = False\n",
    "    ##### 오른쪽\n",
    "    for i in range(1, shift+1):\n",
    "        temp_grid[center_row][center_col + i] = False\n",
    "    ##### 왼쪽\n",
    "    for i in range(1, shift+1):\n",
    "        temp_grid[center_row][center_col - i] = False\n",
    "    return temp_grid \n",
    "\n",
    "\n",
    "def last_step(grid, center_locs):\n",
    "    for comb in return_combs(center_locs):\n",
    "        if comb[0] == comb[1]: # 길이가 같은 조합에 대해\n",
    "            cross_length = comb[0]\n",
    "            locs = center_locs[cross_length]\n",
    "            for first_idx, first_loc in enumerate(locs):\n",
    "                temp_grid = copy.deepcopy(grid)\n",
    "                temp_grid = draw_on_grid(temp_grid, first_loc, cross_length//2)\n",
    "                for second_loc in locs[first_idx + 1:]:\n",
    "                    if center_validation(temp_grid, second_loc, cross_length//2) == True:\n",
    "                        return (cross_length*2-1)**2\n",
    "        else: #길이가 다른 조합에 대해\n",
    "            first_locs = center_locs[comb[0]]\n",
    "            second_locs = center_locs[comb[1]]\n",
    "            for first_loc in first_locs:\n",
    "                temp_grid = copy.deepcopy(grid)\n",
    "                temp_grid = draw_on_grid(temp_grid, first_loc, comb[0]//2)\n",
    "                #print(temp_grid)\n",
    "                for second_loc in second_locs:\n",
    "                    if center_validation(temp_grid, second_loc, comb[1]//2) == True:\n",
    "                        return (comb[0]*2-1)*(comb[1]*2-1)\n",
    "\n",
    "print(last_step(grid, center_locs))"
   ]
  },
  {
   "cell_type": "code",
   "execution_count": null,
   "metadata": {},
   "outputs": [],
   "source": [
    "# 하 .. 입력도 얼마 안되는데... 시간 조금 줄여보겠다고... 시간을 너무 썼다..."
   ]
  }
 ],
 "metadata": {
  "kernelspec": {
   "display_name": "Python 3",
   "language": "python",
   "name": "python3"
  },
  "language_info": {
   "codemirror_mode": {
    "name": "ipython",
    "version": 3
   },
   "file_extension": ".py",
   "mimetype": "text/x-python",
   "name": "python",
   "nbconvert_exporter": "python",
   "pygments_lexer": "ipython3",
   "version": "3.12.4"
  }
 },
 "nbformat": 4,
 "nbformat_minor": 2
}
