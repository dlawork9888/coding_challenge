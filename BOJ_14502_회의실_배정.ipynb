{
 "cells": [
  {
   "cell_type": "markdown",
   "id": "af2dfa79-dd2d-4f5d-a390-524e79e8648b",
   "metadata": {},
   "source": [
    "# BOJ. 14502. 회의실 배정\n",
    "https://www.acmicpc.net/problem/14502"
   ]
  },
  {
   "cell_type": "code",
   "execution_count": 2,
   "id": "832d4f5e-4747-4c81-85b8-24de5994b83c",
   "metadata": {
    "tags": []
   },
   "outputs": [
    {
     "name": "stdin",
     "output_type": "stream",
     "text": [
      " 7 7\n",
      " 2 0 0 0 1 1 0\n",
      " 0 0 1 0 1 2 0\n",
      " 0 1 1 0 1 0 0\n",
      " 0 1 0 0 0 0 0\n",
      " 0 0 0 0 0 1 1\n",
      " 0 1 0 0 0 0 0\n",
      " 0 1 0 0 0 0 0\n"
     ]
    }
   ],
   "source": [
    "N, M = [int(x) for x in input().split()]\n",
    "lab_map = [[int(x) for x in input().split()] for _ in range(N)]"
   ]
  },
  {
   "cell_type": "code",
   "execution_count": 3,
   "id": "1a037226-bdd4-4257-a7df-c7a3b92f5a65",
   "metadata": {
    "tags": []
   },
   "outputs": [],
   "source": [
    "\n",
    "def how_many_0_after_flood(lab_map):\n",
    "    # directions\n",
    "    d_row = [-1, 0, 1, 0]\n",
    "    d_col = [0, -1, 0, 1]\n",
    "    while True:\n",
    "        start_node = [-1,-1]\n",
    "        for row_idx, row in enumerate(lab_map):\n",
    "            break_flag = False\n",
    "            for col_idx, ele in enumerate(row):\n",
    "                if ele == 2:\n",
    "                    start_node = [row_idx, col_idx]\n",
    "                    break_flag = True\n",
    "                    break\n",
    "            if break_flag == True:\n",
    "                break\n",
    "        if start_node == [-1,-1]:\n",
    "            #print(f'start_node not found')\n",
    "            break\n",
    "        #print(f'start_node: {start_node}')\n",
    "        lab_map[start_node[0]][start_node[1]] = 3\n",
    "        stack = []\n",
    "        stack.append(start_node)\n",
    "        while stack:\n",
    "            now_row, now_col = stack.pop()\n",
    "            for i in range(4):\n",
    "                next_row = now_row + d_row[i]\n",
    "                next_col = now_col + d_col[i]\n",
    "                # in map?\n",
    "                if 0 <= next_row < N and 0 <= next_col < M:\n",
    "                    # 갈 수 있나?\n",
    "                    if lab_map[next_row][next_col] == 0:\n",
    "                        lab_map[next_row][next_col] = 3\n",
    "                        stack.append([next_row, next_col])\n",
    "    # 0 탐색\n",
    "    count = 0\n",
    "    for row in lab_map:\n",
    "        for ele in row:\n",
    "            if ele == 0:\n",
    "                count += 1\n",
    "    return count"
   ]
  },
  {
   "cell_type": "code",
   "execution_count": 4,
   "id": "77260047-8998-4418-8a11-4aa77b76d655",
   "metadata": {
    "tags": []
   },
   "outputs": [
    {
     "data": {
      "text/plain": [
       "0"
      ]
     },
     "execution_count": 4,
     "metadata": {},
     "output_type": "execute_result"
    }
   ],
   "source": [
    "import copy\n",
    "test_lab_map = copy.deepcopy(lab_map)\n",
    "how_many_0_after_flood(test_lab_map)"
   ]
  },
  {
   "cell_type": "code",
   "execution_count": 5,
   "id": "951b04b9-53ee-4c75-9c5f-03b374d19e18",
   "metadata": {
    "tags": []
   },
   "outputs": [
    {
     "data": {
      "text/plain": [
       "27"
      ]
     },
     "execution_count": 5,
     "metadata": {},
     "output_type": "execute_result"
    }
   ],
   "source": [
    "zero_locs = []\n",
    "for row_idx, row in enumerate(lab_map):\n",
    "    for col_idx, ele in enumerate(row):\n",
    "        if ele == 0:\n",
    "            zero_locs.append([row_idx, col_idx])\n",
    "\n",
    "max_count = 0            \n",
    "for first_idx, first_loc in enumerate(zero_locs):\n",
    "    for second_idx, second_loc in enumerate(zero_locs[first_idx+1:]):\n",
    "        for third_idx, third_loc in enumerate(zero_locs[second_idx+1:]):\n",
    "            test_lab_map = copy.deepcopy(lab_map)\n",
    "            test_lab_map[first_loc[0]][first_loc[1]] = 1\n",
    "            test_lab_map[second_loc[0]][second_loc[1]] = 1\n",
    "            test_lab_map[third_loc[0]][third_loc[1]] = 1\n",
    "            zero_count = how_many_0_after_flood(test_lab_map)\n",
    "            if max_count < zero_count:\n",
    "                max_count = zero_count\n",
    "max_count "
   ]
  },
  {
   "cell_type": "code",
   "execution_count": null,
   "id": "8ac49141-8ddc-41c5-b735-cd616373f141",
   "metadata": {},
   "outputs": [],
   "source": [
    "import copy\n",
    "\n",
    "# 최종\n",
    "N, M = [int(x) for x in input().split()]\n",
    "lab_map = [[int(x) for x in input().split()] for _ in range(N)]\n",
    "\n",
    "def how_many_0_after_flood(lab_map):\n",
    "    # directions\n",
    "    d_row = [-1, 0, 1, 0]\n",
    "    d_col = [0, -1, 0, 1]\n",
    "    while True:\n",
    "        start_node = [-1,-1]\n",
    "        for row_idx, row in enumerate(lab_map):\n",
    "            break_flag = False\n",
    "            for col_idx, ele in enumerate(row):\n",
    "                if ele == 2:\n",
    "                    start_node = [row_idx, col_idx]\n",
    "                    break_flag = True\n",
    "                    break\n",
    "            if break_flag == True:\n",
    "                break\n",
    "        if start_node == [-1,-1]:\n",
    "            #print(f'start_node not found')\n",
    "            break\n",
    "        #print(f'start_node: {start_node}')\n",
    "        lab_map[start_node[0]][start_node[1]] = 3\n",
    "        stack = []\n",
    "        stack.append(start_node)\n",
    "        while stack:\n",
    "            now_row, now_col = stack.pop()\n",
    "            for i in range(4):\n",
    "                next_row = now_row + d_row[i]\n",
    "                next_col = now_col + d_col[i]\n",
    "                # in map?\n",
    "                if 0 <= next_row < N and 0 <= next_col < M:\n",
    "                    # 갈 수 있나?\n",
    "                    if lab_map[next_row][next_col] == 0:\n",
    "                        lab_map[next_row][next_col] = 3\n",
    "                        stack.append([next_row, next_col])\n",
    "    # 0 탐색\n",
    "    count = 0\n",
    "    for row in lab_map:\n",
    "        for ele in row:\n",
    "            if ele == 0:\n",
    "                count += 1\n",
    "    return count\n",
    "\n",
    "zero_locs = []\n",
    "for row_idx, row in enumerate(lab_map):\n",
    "    for col_idx, ele in enumerate(row):\n",
    "        if ele == 0:\n",
    "            zero_locs.append([row_idx, col_idx])\n",
    "\n",
    "max_count = 0            \n",
    "for first_idx, first_loc in enumerate(zero_locs):\n",
    "    for second_idx, second_loc in enumerate(zero_locs[first_idx+1:]):\n",
    "        for third_idx, third_loc in enumerate(zero_locs[second_idx+1:]):\n",
    "            test_lab_map = copy.deepcopy(lab_map)\n",
    "            test_lab_map[first_loc[0]][first_loc[1]] = 1\n",
    "            test_lab_map[second_loc[0]][second_loc[1]] = 1\n",
    "            test_lab_map[third_loc[0]][third_loc[1]] = 1\n",
    "            zero_count = how_many_0_after_flood(test_lab_map)\n",
    "            if max_count < zero_count:\n",
    "                max_count = zero_count\n",
    "print(max_count)"
   ]
  },
  {
   "cell_type": "code",
   "execution_count": 1,
   "id": "a4c3ae46-687a-4c17-9c62-f4b5679c9d00",
   "metadata": {
    "tags": []
   },
   "outputs": [
    {
     "ename": "NameError",
     "evalue": "name 'lab_map' is not defined",
     "output_type": "error",
     "traceback": [
      "\u001b[1;31m---------------------------------------------------------------------------\u001b[0m",
      "\u001b[1;31mNameError\u001b[0m                                 Traceback (most recent call last)",
      "Cell \u001b[1;32mIn[1], line 81\u001b[0m\n\u001b[0;32m     78\u001b[0m \u001b[38;5;66;03m### 벽 세우기\u001b[39;00m\n\u001b[0;32m     79\u001b[0m \u001b[38;5;66;03m# 모든 0의 좌표\u001b[39;00m\n\u001b[0;32m     80\u001b[0m zero_locs \u001b[38;5;241m=\u001b[39m []\n\u001b[1;32m---> 81\u001b[0m \u001b[38;5;28;01mfor\u001b[39;00m row_idx, row \u001b[38;5;129;01min\u001b[39;00m \u001b[38;5;28menumerate\u001b[39m(lab_map):\n\u001b[0;32m     82\u001b[0m     \u001b[38;5;28;01mfor\u001b[39;00m col_idx, ele \u001b[38;5;129;01min\u001b[39;00m \u001b[38;5;28menumerate\u001b[39m(row):\n\u001b[0;32m     83\u001b[0m         \u001b[38;5;28;01mif\u001b[39;00m ele \u001b[38;5;241m==\u001b[39m \u001b[38;5;241m0\u001b[39m:\n",
      "\u001b[1;31mNameError\u001b[0m: name 'lab_map' is not defined"
     ]
    }
   ],
   "source": [
    "# 끊겨서 다시 풀기\n",
    "import copy\n",
    "\n",
    "### 입력 처리\n",
    "N, M = [int(x) for x in input().split()]\n",
    "lab_map = []\n",
    "for _ in range(N):\n",
    "    lab_map.append([int(x) for x in input().split()])\n",
    "\n",
    "    \n",
    "##### 디버그 용도 테스트 입력\n",
    "\"\"\"\n",
    "N,M = 7,7\n",
    "lab_map = [\n",
    "    [2,0,0,0,1,1,0],\n",
    "    [0,0,1,0,1,2,0],\n",
    "    [0,1,1,0,1,0,0],\n",
    "    [0,1,0,0,0,0,0],\n",
    "    [0,0,0,0,0,1,1],\n",
    "    [0,1,0,0,0,0,0],\n",
    "    [0,1,0,0,0,0,0]\n",
    "]\n",
    "\"\"\"\n",
    "### 퍼져나갔을 때 안전 영역의 크기를 반환하는 함수\n",
    "# directions\n",
    "d_row = [0,1,0,-1]\n",
    "d_col = [1,0,-1,0]\n",
    "def how_many_zeros_after_diffusion(lab_map):\n",
    "    # 확산\n",
    "    while True:\n",
    "        # 시작 노드 찾기\n",
    "        start_node = [-1,-1]\n",
    "        for row_idx, row in enumerate(lab_map):\n",
    "            for col_idx, ele in enumerate(row):\n",
    "                if ele == 2:\n",
    "                    start_node[0] = row_idx\n",
    "                    start_node[1] = col_idx\n",
    "        if start_node[0] == -1 and start_node[1] == -1:\n",
    "            break\n",
    "        # diffusion start\n",
    "        # 확산된 건 3으로\n",
    "        lab_map[start_node[0]][start_node[1]] = 3\n",
    "        stack = []\n",
    "        stack.append(start_node) \n",
    "        while stack:\n",
    "            now_row, now_col = stack.pop()\n",
    "            for i in range(4):\n",
    "                next_row = now_row + d_row[i]\n",
    "                next_col = now_col + d_col[i]\n",
    "                # in map?\n",
    "                if 0 <= next_row < len(lab_map) and 0 <= next_col < len(lab_map[0]):\n",
    "                    # able to diffusion?\n",
    "                    if lab_map[next_row][next_col] == 0:\n",
    "                        lab_map[next_row][next_col] = 3\n",
    "                        stack.append([next_row, next_col])\n",
    "    # 확산 후 0 count\n",
    "    count = 0\n",
    "    for row in lab_map:\n",
    "        for ele in row:\n",
    "            if ele == 0:\n",
    "                count += 1\n",
    "    \"\"\"\n",
    "    # debug\n",
    "    if count > 30:\n",
    "        print(count)\n",
    "    \n",
    "        # debug\n",
    "        for row in lab_map:\n",
    "            for ele in row:\n",
    "                print(ele, end = ' ')\n",
    "            print()\n",
    "        print()\n",
    "        print()\n",
    "    \"\"\"\n",
    "    return count\n",
    "\n",
    "### 벽 세우기\n",
    "# 모든 0의 좌표\n",
    "zero_locs = []\n",
    "for row_idx, row in enumerate(lab_map):\n",
    "    for col_idx, ele in enumerate(row):\n",
    "        if ele == 0:\n",
    "            zero_locs.append([row_idx, col_idx])\n",
    "# 벽 3개 세우기\n",
    "max_count = -1\n",
    "for first_loc_idx, first_loc in enumerate(zero_locs[:-2]):\n",
    "    for second_loc_idx, second_loc in enumerate(zero_locs[first_loc_idx + 1:-1]):\n",
    "        second_loc_idx += first_loc_idx + 1\n",
    "        for third_loc_idx, third_loc in enumerate(zero_locs[second_loc_idx + 1:]):\n",
    "            test_lab_map = copy.deepcopy(lab_map)\n",
    "            test_lab_map[first_loc[0]][first_loc[1]] = 1\n",
    "            test_lab_map[second_loc[0]][second_loc[1]] = 1\n",
    "            test_lab_map[third_loc[0]][third_loc[1]] = 1\n",
    "            now_count = how_many_zeros_after_diffusion(test_lab_map)\n",
    "            if now_count > max_count:\n",
    "                max_count = now_count\n",
    "print(max_count)"
   ]
  },
  {
   "cell_type": "code",
   "execution_count": 24,
   "id": "a72dffd4-a2f7-45d1-8a3e-fda163d366d1",
   "metadata": {
    "tags": []
   },
   "outputs": [
    {
     "name": "stdout",
     "output_type": "stream",
     "text": [
      "1\n",
      "[0, 1, 0]\n",
      "1\n",
      "[0, 1, 1]\n",
      "1\n",
      "[0, 1, 2]\n",
      "2\n",
      "[0, 2, 0]\n",
      "2\n",
      "[0, 2, 1]\n",
      "3\n",
      "[0, 3, 0]\n",
      "2\n",
      "[1, 2, 0]\n",
      "2\n",
      "[1, 2, 1]\n",
      "3\n",
      "[1, 3, 0]\n",
      "3\n",
      "[2, 3, 0]\n"
     ]
    }
   ],
   "source": [
    "zero_locs = [0,1,2,3,4]\n",
    "for first_loc_idx, first_loc in enumerate(zero_locs[:-2]):\n",
    "    for second_loc_idx, second_loc in enumerate(zero_locs[first_loc_idx + 1:-1]):\n",
    "        second_loc_idx = first_loc_idx + second_loc_idx + 1\n",
    "        for third_loc_idx, third_loc in enumerate(zero_locs[second_loc_idx + 1:]):\n",
    "            print(second_loc_idx)\n",
    "            print([first_loc_idx, second_loc_idx, third_loc_idx])"
   ]
  },
  {
   "cell_type": "code",
   "execution_count": null,
   "id": "10923658-b2b8-4c8c-9612-36425ee54d4e",
   "metadata": {},
   "outputs": [],
   "source": []
  }
 ],
 "metadata": {
  "kernelspec": {
   "display_name": "Python 3 (ipykernel)",
   "language": "python",
   "name": "python3"
  },
  "language_info": {
   "codemirror_mode": {
    "name": "ipython",
    "version": 3
   },
   "file_extension": ".py",
   "mimetype": "text/x-python",
   "name": "python",
   "nbconvert_exporter": "python",
   "pygments_lexer": "ipython3",
   "version": "3.11.5"
  }
 },
 "nbformat": 4,
 "nbformat_minor": 5
}
