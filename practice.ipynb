{
 "cells": [
  {
   "cell_type": "markdown",
   "id": "1f088e35-68ef-419b-b832-62a3ac8b8408",
   "metadata": {
    "tags": []
   },
   "source": [
    "# 플로이드-와샬 과정 확인"
   ]
  },
  {
   "cell_type": "code",
   "execution_count": 1,
   "id": "4322fb9c-a117-4c8f-ad68-bf42b70bd98c",
   "metadata": {
    "tags": []
   },
   "outputs": [
    {
     "name": "stdout",
     "output_type": "stream",
     "text": [
      "초기 거리 행렬:\n",
      "[0, 5, inf, 10]\n",
      "[inf, 0, 3, inf]\n",
      "[inf, inf, 0, 1]\n",
      "[inf, inf, inf, 0]\n",
      "\n",
      "\n",
      "1번째 노드를 거쳐 갈 때 거리 행렬:\n",
      "[0, 5, inf, 10]\n",
      "[inf, 0, 3, inf]\n",
      "[inf, inf, 0, 1]\n",
      "[inf, inf, inf, 0]\n",
      "\n",
      "\n",
      "2번째 노드를 거쳐 갈 때 거리 행렬:\n",
      "[0, 5, 8, 10]\n",
      "[inf, 0, 3, inf]\n",
      "[inf, inf, 0, 1]\n",
      "[inf, inf, inf, 0]\n",
      "\n",
      "\n",
      "3번째 노드를 거쳐 갈 때 거리 행렬:\n",
      "[0, 5, 8, 9]\n",
      "[inf, 0, 3, 4]\n",
      "[inf, inf, 0, 1]\n",
      "[inf, inf, inf, 0]\n",
      "\n",
      "\n",
      "4번째 노드를 거쳐 갈 때 거리 행렬:\n",
      "[0, 5, 8, 9]\n",
      "[inf, 0, 3, 4]\n",
      "[inf, inf, 0, 1]\n",
      "[inf, inf, inf, 0]\n",
      "\n",
      "\n"
     ]
    },
    {
     "data": {
      "text/plain": [
       "[[0, 5, 8, 9], [inf, 0, 3, 4], [inf, inf, 0, 1], [inf, inf, inf, 0]]"
      ]
     },
     "execution_count": 1,
     "metadata": {},
     "output_type": "execute_result"
    }
   ],
   "source": [
    "def floyd_warshall_with_prints(n, edges):\n",
    "    # 최단 거리 정보를 저장할 2차원 배열 초기화\n",
    "    dist = [[float('inf')] * n for _ in range(n)]\n",
    "    \n",
    "    # 자기 자신으로의 거리는 0으로 설정\n",
    "    for i in range(n):\n",
    "        dist[i][i] = 0\n",
    "    \n",
    "    # 주어진 간선 정보를 바탕으로 초기 거리 설정\n",
    "    for u, v, w in edges:\n",
    "        dist[u][v] = w\n",
    "    \n",
    "    print(\"초기 거리 행렬:\")\n",
    "    for row in dist:\n",
    "        print(row)\n",
    "    print(\"\\n\")\n",
    "    \n",
    "    # 플로이드-워셜 알고리즘 적용\n",
    "    for k in range(n):\n",
    "        for i in range(n):\n",
    "            for j in range(n):\n",
    "                if dist[i][j] > dist[i][k] + dist[k][j]:\n",
    "                    dist[i][j] = dist[i][k] + dist[k][j]\n",
    "        \n",
    "        print(f\"{k+1}번째 노드를 거쳐 갈 때 거리 행렬:\")\n",
    "        for row in dist:\n",
    "            print(row)\n",
    "        print(\"\\n\")\n",
    "    \n",
    "    return dist\n",
    "\n",
    "# 예제: 노드 수와 간선 정보 (시작 노드, 끝 노드, 가중치)\n",
    "n = 4\n",
    "edges = [\n",
    "    (0, 1, 5),\n",
    "    (0, 3, 10),\n",
    "    (1, 2, 3),\n",
    "    (2, 3, 1)\n",
    "]\n",
    "\n",
    "# 최단 거리 계산 및 출력\n",
    "floyd_warshall_with_prints(n, edges)\n"
   ]
  },
  {
   "cell_type": "code",
   "execution_count": null,
   "id": "fe305009-512b-4478-8850-9317cc921dc6",
   "metadata": {},
   "outputs": [],
   "source": []
  }
 ],
 "metadata": {
  "kernelspec": {
   "display_name": "Python 3 (ipykernel)",
   "language": "python",
   "name": "python3"
  },
  "language_info": {
   "codemirror_mode": {
    "name": "ipython",
    "version": 3
   },
   "file_extension": ".py",
   "mimetype": "text/x-python",
   "name": "python",
   "nbconvert_exporter": "python",
   "pygments_lexer": "ipython3",
   "version": "3.11.5"
  }
 },
 "nbformat": 4,
 "nbformat_minor": 5
}
