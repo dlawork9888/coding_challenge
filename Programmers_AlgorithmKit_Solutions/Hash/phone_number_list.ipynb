{
 "cells": [
  {
   "cell_type": "markdown",
   "id": "b8905007-00fc-4fd3-8cb4-cae602ba87e7",
   "metadata": {},
   "source": [
    "# 전화번호 목록\n",
    "\n",
    "## 문제 설명\n",
    "\n",
    "전화번호부에 적힌 전화번호 중, 한 번호가 다른 번호의 접두어인 경우가 있는지 확인하려 합니다.\n",
    "전화번호가 다음과 같을 경우, 구조대 전화번호는 영석이의 전화번호의 접두사입니다.\n",
    "\n",
    "- 구조대 : 119\n",
    "- 박준영 : 97 674 223\n",
    "- 지영석 : 11 9552 4421\n",
    "\n",
    "전화번호부에 적힌 전화번호를 담은 배열 phone_book 이 solution 함수의 매개변수로 주어질 때, 어떤 번호가 다른 번호의 접두어인 경우가 있으면 false를 그렇지 않으면 true를 return 하도록 solution 함수를 작성해주세요.\n",
    "\n",
    "## 제한 사항\n",
    "\n",
    "- phone_book의 길이는 1 이상 1,000,000 이하입니다.\n",
    "- 각 전화번호의 길이는 1 이상 20 이하입니다.\n",
    "- 같은 전화번호가 중복해서 들어있지 않습니다.\n",
    "\n",
    "## 입출력 예제\n",
    "| phone_book                        | return |\n",
    "|------------------------------------|--------|\n",
    "| [\"119\", \"97674223\", \"1195524421\"]  | false  |\n",
    "| [\"123\",\"456\",\"789\"]                | true   |\n",
    "| [\"12\",\"123\",\"1235\",\"567\",\"88\"]     | false  |\n"
   ]
  },
  {
   "cell_type": "markdown",
   "id": "3d3740a4-9a36-4878-9fd7-688c7a967efe",
   "metadata": {},
   "source": [
    "# 풀이 - 1\n",
    "\n",
    "- phone_book에 같은 번호는 없음\n",
    "- 연락처 개수 n, 연락처 길이는 최대 20이니 신경안씀\n",
    "- 한 번호에 대해 접두어의 경우를 모두 dict에 저장 -> O(n)\n",
    "- phone_book안의 번호에 대해 -> O(n)\n",
    "    - dict에 존재한다면 false를 return \n",
    "    - 존재하지 않는다면 true를 return\n",
    "    \n",
    "시간복잡도: O(n) + O(n) => O(n)"
   ]
  },
  {
   "cell_type": "code",
   "execution_count": 4,
   "id": "6b7c5828-1085-4017-8353-37927a90cee5",
   "metadata": {
    "tags": []
   },
   "outputs": [],
   "source": [
    "testcases = [\n",
    "    [\"119\", \"97674223\", \"1195524421\"],\n",
    "    [\"123\",\"456\",\"789\"],\n",
    "    [\"12\",\"123\",\"1235\",\"567\",\"88\"]\n",
    "]"
   ]
  },
  {
   "cell_type": "code",
   "execution_count": 5,
   "id": "02f18e79-5325-499e-9944-d0f8d35a00fe",
   "metadata": {
    "tags": []
   },
   "outputs": [],
   "source": [
    "def solution(phone_book):\n",
    "    phone_dict = dict()\n",
    "    for phone_num in phone_book:\n",
    "        for i in range(1, len(phone_num)):\n",
    "            if not phone_num[0:i] in phone_dict:\n",
    "                phone_dict[phone_num[0:i]] = True\n",
    "    for phone_num in phone_book:\n",
    "        if phone_num in phone_dict:\n",
    "            return False\n",
    "        \n",
    "    return True"
   ]
  },
  {
   "cell_type": "code",
   "execution_count": 6,
   "id": "81b820c0-ffa8-4c04-b0c5-425e576ea06f",
   "metadata": {
    "tags": []
   },
   "outputs": [
    {
     "name": "stdout",
     "output_type": "stream",
     "text": [
      "False\n",
      "True\n",
      "False\n"
     ]
    }
   ],
   "source": [
    "for testcase in testcases:\n",
    "    print(solution(testcase))"
   ]
  }
 ],
 "metadata": {
  "kernelspec": {
   "display_name": "Python 3 (ipykernel)",
   "language": "python",
   "name": "python3"
  },
  "language_info": {
   "codemirror_mode": {
    "name": "ipython",
    "version": 3
   },
   "file_extension": ".py",
   "mimetype": "text/x-python",
   "name": "python",
   "nbconvert_exporter": "python",
   "pygments_lexer": "ipython3",
   "version": "3.11.5"
  }
 },
 "nbformat": 4,
 "nbformat_minor": 5
}
