{
 "cells": [
  {
   "cell_type": "markdown",
   "id": "28bb9b9c-f1ca-484d-8844-6b41a73bf9d8",
   "metadata": {},
   "source": [
    "# 완주하지 못한 선수\n",
    "\n",
    "## 문제 설명\n",
    "\n",
    "수많은 마라톤 선수들이 마라톤에 참여하였습니다. 단 한 명의 선수를 제외하고는 모든 선수가 마라톤을 완주하였습니다.\n",
    "\n",
    "마라톤에 참여한 선수들의 이름이 담긴 배열 participant와 완주한 선수들의 이름이 담긴 배열 completion이 주어질 때, 완주하지 못한 선수의 이름을 return 하도록 solution 함수를 작성해주세요.\n",
    "\n",
    "## 제한사항\n",
    "\n",
    "- 마라톤 경기에 참여한 선수의 수는 1명 이상 100,000명 이하입니다.\n",
    "- completion의 길이는 participant의 길이보다 1 작습니다.\n",
    "- 참가자의 이름은 1개 이상 20개 이하의 알파벳 소문자로 이루어져 있습니다.\n",
    "- 참가자 중에는 동명이인이 있을 수 있습니다.\n",
    "\n",
    "## 입출력 예\n",
    "\n",
    "| participant                         | completion                           | return   |\n",
    "|--------------------------------------|--------------------------------------|----------|\n",
    "| [\"leo\", \"kiki\", \"eden\"]              | [\"eden\", \"kiki\"]                     | \"leo\"    |\n",
    "| [\"marina\", \"josipa\", \"nikola\", \"vinko\", \"filipa\"] | [\"josipa\", \"filipa\", \"marina\", \"nikola\"] | \"vinko\"  |\n",
    "| [\"mislav\", \"stanko\", \"mislav\", \"ana\"]| [\"stanko\", \"ana\", \"mislav\"]          | \"mislav\" |\n"
   ]
  },
  {
   "cell_type": "markdown",
   "id": "a554ff68-2a05-4fce-bf0b-32414793715a",
   "metadata": {},
   "source": [
    "# 풀이 - 1\n",
    "\n",
    "- 완주하지 못한 선수는 한명\n",
    "- participant와 completion 정렬 -> 2*O(nlogn)\n",
    "- completion의 인덱스를 참조하며 앞에서부터 순차 비교 -> O(n)\n",
    "    - 다른 사람이 발견되면 그 다른 사람을 return\n",
    "    - 다른 사람이 발견되지 않았다면 participant의 마지막 원소를 return\n",
    "    \n",
    "시간복잡도: 2*O(nlogn) + O(N) = O(nlogn)"
   ]
  },
  {
   "cell_type": "code",
   "execution_count": 4,
   "id": "a3218829-2add-425f-8b55-01c3a276a40a",
   "metadata": {
    "tags": []
   },
   "outputs": [],
   "source": [
    "testcases = [\n",
    "    [[\"leo\", \"kiki\", \"eden\"],[\"eden\", \"kiki\"]],\n",
    "    [[\"marina\", \"josipa\", \"nikola\", \"vinko\", \"filipa\"],[\"josipa\", \"filipa\", \"marina\", \"nikola\"]],\n",
    "    [[\"mislav\", \"stanko\", \"mislav\", \"ana\"],[\"stanko\", \"ana\", \"mislav\"]]\n",
    "]"
   ]
  },
  {
   "cell_type": "code",
   "execution_count": 5,
   "id": "f375de9c-590e-4545-9722-6dd5bc038e31",
   "metadata": {
    "tags": []
   },
   "outputs": [],
   "source": [
    "def solution(participant, completion):\n",
    "    participant.sort()\n",
    "    completion.sort()\n",
    "    for i in range(len(completion)):\n",
    "        if participant[i] != completion[i]:\n",
    "            return participant[i]\n",
    "    return participant[-1]"
   ]
  },
  {
   "cell_type": "code",
   "execution_count": 7,
   "id": "af4e1761-d704-41c0-8917-50bd2febd85e",
   "metadata": {
    "tags": []
   },
   "outputs": [
    {
     "name": "stdout",
     "output_type": "stream",
     "text": [
      "leo\n",
      "vinko\n",
      "mislav\n"
     ]
    }
   ],
   "source": [
    "for testcase in testcases:\n",
    "    print(solution(testcase[0], testcase[1]))"
   ]
  }
 ],
 "metadata": {
  "kernelspec": {
   "display_name": "Python 3 (ipykernel)",
   "language": "python",
   "name": "python3"
  },
  "language_info": {
   "codemirror_mode": {
    "name": "ipython",
    "version": 3
   },
   "file_extension": ".py",
   "mimetype": "text/x-python",
   "name": "python",
   "nbconvert_exporter": "python",
   "pygments_lexer": "ipython3",
   "version": "3.11.5"
  }
 },
 "nbformat": 4,
 "nbformat_minor": 5
}
