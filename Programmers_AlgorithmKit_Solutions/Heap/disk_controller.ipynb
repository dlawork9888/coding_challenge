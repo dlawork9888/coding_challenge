{
 "cells": [
  {
   "cell_type": "markdown",
   "id": "09d729cb-85ce-4cdf-842c-02b3e2542810",
   "metadata": {},
   "source": [
    "# 디스크 컨트롤러\n",
    "\n",
    "## 문제 설명\n",
    "\n",
    "하드디스크는 한 번에 하나의 작업만 수행할 수 있습니다. 디스크 컨트롤러를 구현하는 방법은 여러 가지가 있습니다. 가장 일반적인 방법은 요청이 들어온 순서대로 처리하는 것입니다.\n",
    "\n",
    "예를 들어\n",
    "```\n",
    "- 0ms 시점에 3ms가 소요되는 A작업 요청\n",
    "- 1ms 시점에 9ms가 소요되는 B작업 요청\n",
    "- 2ms 시점에 6ms가 소요되는 C작업 요청\n",
    "```\n",
    "와 같은 요청이 들어왔습니다. 이를 그림으로 표현하면 아래와 같습니다.\n",
    "![](https://grepp-programmers.s3.amazonaws.com/files/production/b68eb5cec6/38dc6a53-2d21-4c72-90ac-f059729c51d5.png)\n",
    "한 번에 하나의 요청만을 수행할 수 있기 때문에 각각의 작업을 요청받은 순서대로 처리하면 다음과 같이 처리 됩니다.\n",
    "![](https://grepp-programmers.s3.amazonaws.com/files/production/5e677b4646/90b91fde-cac4-42c1-98b8-8f8431c52dcf.png)\n",
    "\n",
    "```\n",
    "- A: 3ms 시점에 작업 완료 (요청에서 종료까지 : 3ms)\n",
    "- B: 1ms부터 대기하다가, 3ms 시점에 작업을 시작해서 12ms 시점에 작업 완료(요청에서 종료까지 : 11ms)\n",
    "- C: 2ms부터 대기하다가, 12ms 시점에 작업을 시작해서 18ms 시점에 작업 완료(요청에서 종료까지 : 16ms)\n",
    "```\n",
    "이 때 각 작업의 요청부터 종료까지 걸린 시간의 평균은 10ms(= (3 + 11 + 16) / 3)가 됩니다.\n",
    "\n",
    "하지만 A → C → B 순서대로 처리하면\n",
    "\n",
    "![](https://grepp-programmers.s3.amazonaws.com/files/production/9eb7c5a6f1/a6cff04d-86bb-4b5b-98bf-6359158940ac.png)\n",
    "\n",
    "```\n",
    "- A: 3ms 시점에 작업 완료(요청에서 종료까지 : 3ms)\n",
    "- C: 2ms부터 대기하다가, 3ms 시점에 작업을 시작해서 9ms 시점에 작업 완료(요청에서 종료까지 : 7ms)\n",
    "- B: 1ms부터 대기하다가, 9ms 시점에 작업을 시작해서 18ms 시점에 작업 완료(요청에서 종료까지 : 17ms)\n",
    "```\n",
    "\n",
    "이렇게 A → C → B의 순서로 처리하면 각 작업의 요청부터 종료까지 걸린 시간의 평균은 9ms(= (3 + 7 + 17) / 3)가 됩니다.\n",
    "\n",
    "각 작업에 대해 [작업이 요청되는 시점, 작업의 소요시간]을 담은 2차원 배열 jobs가 매개변수로 주어질 때, 작업의 요청부터 종료까지 걸린 시간의 평균을 가장 줄이는 방법으로 처리하면 평균이 얼마가 되는지 return 하도록 solution 함수를 작성해주세요. (단, 소수점 이하의 수는 버립니다)\n",
    "\n",
    "## 제한사항\n",
    "\n",
    "- jobs의 길이는 1 이상 500 이하입니다.\n",
    "- jobs의 각 행은 하나의 작업에 대한 [작업이 요청되는 시점, 작업의 소요시간] 입니다.\n",
    "- 각 작업에 대해 작업이 요청되는 시간은 0 이상 1,000 이하입니다.\n",
    "- 각 작업에 대해 작업의 소요시간은 1 이상 1,000 이하입니다.\n",
    "- 하드디스크가 작업을 수행하고 있지 않을 때에는 먼저 요청이 들어온 작업부터 처리합니다.\n",
    "\n",
    "## 입출력 예\n",
    "\n",
    "|jobs|return|\n",
    "|---|---|\n",
    "|[[0, 3], [1, 9], [2, 6]]|9|\n",
    "\n",
    "### 입출력 예 설명\n",
    "문제에 주어진 예와 같습니다.\n",
    "\n",
    "- 0ms 시점에 3ms 걸리는 작업 요청이 들어옵니다.\n",
    "- 1ms 시점에 9ms 걸리는 작업 요청이 들어옵니다.\n",
    "- 2ms 시점에 6ms 걸리는 작업 요청이 들어옵니다."
   ]
  },
  {
   "cell_type": "markdown",
   "id": "b961ad83-5504-4647-a2de-588ae51badf8",
   "metadata": {},
   "source": [
    "# 풀이 - 1\n",
    "\n",
    "**CS: SJF가 평균 대기시간이 가장 짧음**\n",
    "- 짧은 작업을 먼저 처리하면 뒤에 오는 작업들이 빨리 시작될 수 있기 때문\n",
    "- 긴 작업을 먼저 시작한다고 하면, 뒤에 작업들은 똑같이 그만큼 기다려야함\n",
    "- 짧은 작업부터 처리하면, 긴 작업이 바로 시작되는 경우보다 더 많은 작업이 일찍 끝나게 되어 다른 작업들이 빠르게 시작할 수 있음\n",
    "- **BUT** Starvation 발생\n"
   ]
  },
  {
   "cell_type": "code",
   "execution_count": 18,
   "id": "28bd9c99-7d41-4ccf-8bc8-eaca46eca2b4",
   "metadata": {
    "tags": []
   },
   "outputs": [],
   "source": [
    "import heapq\n",
    "\n",
    "def solution(jobs):\n",
    "    n_jobs = len(jobs)\n",
    "    jobs.sort(key = lambda x: -x[0])\n",
    "    min_heap = []\n",
    "    now_time = 0\n",
    "    full_time_sum = 0\n",
    "    while jobs or min_heap:\n",
    "        # 힙에 작업도 없고, 아직 작업이 도착도 안한 시점 \n",
    "        # -> 오는 작업 끝낸 시점으로 점프\n",
    "        if not min_heap and now_time <= jobs[-1][0]:\n",
    "            start, job_time = jobs.pop()\n",
    "            now_time = start + job_time\n",
    "            full_time_sum += job_time\n",
    "            continue\n",
    "        # 그 시점에서 작업이 힙에 들어가있어야하는 작업이 있으면 힙에 Push\n",
    "        while jobs and now_time > jobs[-1][0]:\n",
    "            job = jobs.pop()\n",
    "            heapq.heappush(min_heap, (job[1], job[0]))\n",
    "        # 그 힙에서 시간이 가장 짧은 걸 실행 -> 시점 점프\n",
    "        job_time, start = heapq.heappop(min_heap)\n",
    "        now_time += job_time\n",
    "        full_time_sum += now_time - start\n",
    "        \n",
    "    return full_time_sum//n_jobs"
   ]
  },
  {
   "cell_type": "code",
   "execution_count": 19,
   "id": "39f1a13f-49c1-4a98-b77a-be96a17566b2",
   "metadata": {
    "tags": []
   },
   "outputs": [
    {
     "data": {
      "text/plain": [
       "9"
      ]
     },
     "execution_count": 19,
     "metadata": {},
     "output_type": "execute_result"
    }
   ],
   "source": [
    "test_jobs = [[0, 3], [1, 9], [2, 6]]\n",
    "\n",
    "solution(test_jobs)"
   ]
  },
  {
   "cell_type": "markdown",
   "id": "3c542d4d-52e4-4bf5-8d3a-d4e5ee8ad925",
   "metadata": {},
   "source": [
    "# 풀이 - 2\n",
    "\n",
    "(이전 풀이)\n",
    "\n",
    "- 시점을 모두 고려 => 생각하기는 쉬운듯"
   ]
  },
  {
   "cell_type": "code",
   "execution_count": null,
   "id": "60a8ca49-3cc4-4790-9a6e-9e3fc2080d51",
   "metadata": {},
   "outputs": [],
   "source": [
    "import heapq\n",
    "\n",
    "def solution(jobs):\n",
    "    num_of_jobs = len(jobs)\n",
    "    heapq.heapify(jobs)\n",
    "    #print(jobs)\n",
    "    min_heap = [] # 작업 대기 힙\n",
    "    finish_time = 0\n",
    "    count = 0 \n",
    "    t = 0\n",
    "    while True:\n",
    "        #print(f'now_t : {t}')\n",
    "        if min_heap:\n",
    "            if finish_time <= t:\n",
    "                #print(f'현재 min_heap 작업 실행 , {min_heap[0]}')\n",
    "                job_request = heapq.heappop(min_heap)\n",
    "                request_time = job_request[1]\n",
    "                working_time = job_request[0]\n",
    "                finish_time = t + working_time\n",
    "                count += finish_time - request_time\n",
    "                #print(f'count : {count}')\n",
    "        if jobs:\n",
    "            while t == jobs[0][0]:\n",
    "                job_request = heapq.heappop(jobs)\n",
    "                request_time = job_request[0]\n",
    "                working_time = job_request[1]\n",
    "                #print(f'현재 작업 요청 들어옴, working_time : {working_time}')\n",
    "                if finish_time <= t:\n",
    "                    #print(f'들어온 작업 바로 수행')\n",
    "                    finish_time = t + working_time\n",
    "                    count += finish_time - request_time\n",
    "                else:\n",
    "                    heapq.heappush(min_heap, [working_time, request_time])\n",
    "                if not jobs:\n",
    "                    break\n",
    "        if t > finish_time and not jobs and not min_heap:\n",
    "            break\n",
    "        t += 1\n",
    "            \n",
    "                    \n",
    "    return count//num_of_jobs"
   ]
  }
 ],
 "metadata": {
  "kernelspec": {
   "display_name": "Python 3 (ipykernel)",
   "language": "python",
   "name": "python3"
  },
  "language_info": {
   "codemirror_mode": {
    "name": "ipython",
    "version": 3
   },
   "file_extension": ".py",
   "mimetype": "text/x-python",
   "name": "python",
   "nbconvert_exporter": "python",
   "pygments_lexer": "ipython3",
   "version": "3.11.5"
  }
 },
 "nbformat": 4,
 "nbformat_minor": 5
}
