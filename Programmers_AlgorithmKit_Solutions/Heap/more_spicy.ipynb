{
 "cells": [
  {
   "cell_type": "markdown",
   "id": "f7a8fd36-d2ad-4222-b024-b215dab2714b",
   "metadata": {},
   "source": [
    "# 더 맵게\n",
    "\n",
    "## 문제 설명\n",
    "\n",
    "매운 것을 좋아하는 Leo는 모든 음식의 스코빌 지수를 K 이상으로 만들고 싶습니다. 모든 음식의 스코빌 지수를 K 이상으로 만들기 위해 Leo는 스코빌 지수가 가장 낮은 두 개의 음식을 아래와 같이 특별한 방법으로 섞어 새로운 음식을 만듭니다.\n",
    "\n",
    "```\n",
    "섞은 음식의 스코빌 지수 = 가장 맵지 않은 음식의 스코빌 지수 + (두 번째로 맵지 않은 음식의 스코빌 지수 * 2)\n",
    "```\n",
    "\n",
    "Leo는 모든 음식의 스코빌 지수가 K 이상이 될 때까지 반복하여 섞습니다.\n",
    "Leo가 가진 음식의 스코빌 지수를 담은 배열 scoville과 원하는 스코빌 지수 K가 주어질 때, 모든 음식의 스코빌 지수를 K 이상으로 만들기 위해 섞어야 하는 최소 횟수를 return 하도록 solution 함수를 작성해주세요.\n",
    "\n",
    "## 제한 사항\n",
    "\n",
    "- scoville의 길이는 2 이상 1,000,000 이하입니다.\n",
    "- K는 0 이상 1,000,000,000 이하입니다.\n",
    "- scoville의 원소는 각각 0 이상 1,000,000 이하입니다.\n",
    "- 모든 음식의 스코빌 지수를 K 이상으로 만들 수 없는 경우에는 -1을 return 합니다.\n",
    "\n",
    "|scoville|K|return|\n",
    "|---|---|---|\n",
    "|[1, 2, 3, 9, 10, 12]|7|2"
   ]
  },
  {
   "cell_type": "markdown",
   "id": "5c2b94a4-9145-4fb6-b738-4aeae2ef40e0",
   "metadata": {},
   "source": [
    "# 풀이 - 1\n",
    "\n",
    "(이전 풀이)\n",
    "\n",
    "- scovile 리스트를 heapify\n",
    "- scovile의 인덱스 0 원소가 K 보다 작을 동안\n",
    "    - 첫 두 음식 섞고 힙에 넣기\n",
    "    - 힙에 하나만 있는데 그게 K보다 작으면 -1 return\n",
    "- return count"
   ]
  },
  {
   "cell_type": "code",
   "execution_count": null,
   "id": "c525a12c-b7ec-4227-bdaa-9c57e3a6a6a4",
   "metadata": {},
   "outputs": [],
   "source": [
    "import heapq\n",
    "\n",
    "def solution(scoville, K):\n",
    "    heapq.heapify(scoville)\n",
    "    count = 0\n",
    "    while scoville[0] < K:\n",
    "        food_1 = heapq.heappop(scoville)\n",
    "        food_2 = heapq.heappop(scoville)\n",
    "        new_scoville = food_1 + (food_2 * 2)\n",
    "        count += 1\n",
    "        heapq.heappush(scoville, new_scoville)\n",
    "        if len(scoville) == 1 and scoville[0] < K:\n",
    "            return -1\n",
    "    return count"
   ]
  }
 ],
 "metadata": {
  "kernelspec": {
   "display_name": "Python 3 (ipykernel)",
   "language": "python",
   "name": "python3"
  },
  "language_info": {
   "codemirror_mode": {
    "name": "ipython",
    "version": 3
   },
   "file_extension": ".py",
   "mimetype": "text/x-python",
   "name": "python",
   "nbconvert_exporter": "python",
   "pygments_lexer": "ipython3",
   "version": "3.11.5"
  }
 },
 "nbformat": 4,
 "nbformat_minor": 5
}
