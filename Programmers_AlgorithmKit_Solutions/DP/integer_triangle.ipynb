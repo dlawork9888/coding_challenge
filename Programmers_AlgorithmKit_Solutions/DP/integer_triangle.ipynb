{
 "cells": [
  {
   "cell_type": "markdown",
   "id": "cdbfa8b1-c6f9-4910-8845-389efc02a8ae",
   "metadata": {},
   "source": [
    "# 정수 삼각형\n",
    "\n",
    "## 문제 설명 \n",
    "\n",
    "![](https://grepp-programmers.s3.amazonaws.com/files/production/97ec02cc39/296a0863-a418-431d-9e8c-e57f7a9722ac.png)\n",
    "\n",
    "위와 같은 삼각형의 꼭대기에서 바닥까지 이어지는 경로 중, 거쳐간 숫자의 합이 가장 큰 경우를 찾아보려고 합니다. 아래 칸으로 이동할 때는 대각선 방향으로 한 칸 오른쪽 또는 왼쪽으로만 이동 가능합니다. 예를 들어 3에서는 그 아래칸의 8 또는 1로만 이동이 가능합니다.\n",
    "\n",
    "삼각형의 정보가 담긴 배열 triangle이 매개변수로 주어질 때, 거쳐간 숫자의 최댓값을 return 하도록 solution 함수를 완성하세요.\n",
    "\n",
    "## 제한사항\n",
    "\n",
    "- 삼각형의 높이는 1 이상 500 이하입니다.\n",
    "- 삼각형을 이루고 있는 숫자는 0 이상 9,999 이하의 정수입니다.\n",
    "\n",
    "## 입출력 예\n",
    "\n",
    "|triangle|result|\n",
    "|---|---|\n",
    "|[[7], [3, 8], [8, 1, 0], [2, 7, 4, 4], [4, 5, 2, 6, 5]]|30|"
   ]
  },
  {
   "cell_type": "code",
   "execution_count": null,
   "id": "3e7e4cf5-95ea-426f-9f45-90c3e3d03a49",
   "metadata": {},
   "outputs": [],
   "source": []
  },
  {
   "cell_type": "markdown",
   "id": "d02eb4d4-c9fc-420d-b371-4a31f20d8fda",
   "metadata": {},
   "source": [
    "(이전 풀이)"
   ]
  },
  {
   "cell_type": "code",
   "execution_count": null,
   "id": "1137c75b-b18e-4a97-b943-09c5cdc9eae9",
   "metadata": {},
   "outputs": [],
   "source": [
    "# Bottom - Up\n",
    "# Golf !\n",
    "\n",
    "def solution(triangle):\n",
    "    for floor in range(len(triangle) - 2, -1, -1):\n",
    "        for idx in range(len(triangle[floor])):\n",
    "            triangle[floor][idx] += triangle[floor + 1][idx] if triangle[floor + 1][idx] > triangle[floor + 1][idx + 1] else triangle[floor + 1][idx + 1]\n",
    "    return triangle[0][0]\n",
    "    "
   ]
  }
 ],
 "metadata": {
  "kernelspec": {
   "display_name": "Python 3 (ipykernel)",
   "language": "python",
   "name": "python3"
  },
  "language_info": {
   "codemirror_mode": {
    "name": "ipython",
    "version": 3
   },
   "file_extension": ".py",
   "mimetype": "text/x-python",
   "name": "python",
   "nbconvert_exporter": "python",
   "pygments_lexer": "ipython3",
   "version": "3.11.5"
  }
 },
 "nbformat": 4,
 "nbformat_minor": 5
}
