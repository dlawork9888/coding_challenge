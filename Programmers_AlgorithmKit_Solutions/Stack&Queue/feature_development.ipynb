{
 "cells": [
  {
   "cell_type": "markdown",
   "id": "fbfc1fab-2cde-414a-b4c4-fee67c78a3eb",
   "metadata": {},
   "source": [
    "# 기능 개발\n",
    "\n",
    "## 문제 설명\n",
    "\n",
    "프로그래머스 팀에서는 기능 개선 작업을 수행 중입니다. 각 기능은 진도가 100%일 때 서비스에 반영할 수 있습니다.\n",
    "\n",
    "또, 각 기능의 개발속도는 모두 다르기 때문에 뒤에 있는 기능이 앞에 있는 기능보다 먼저 개발될 수 있고, 이때 뒤에 있는 기능은 앞에 있는 기능이 배포될 때 함께 배포됩니다.\n",
    "\n",
    "먼저 배포되어야 하는 순서대로 작업의 진도가 적힌 정수 배열 progresses와 각 작업의 개발 속도가 적힌 정수 배열 speeds가 주어질 때 각 배포마다 몇 개의 기능이 배포되는지를 return 하도록 solution 함수를 완성하세요.\n",
    "\n",
    "## 제한 사항\n",
    "\n",
    "- 작업의 개수(progresses, speeds배열의 길이)는 100개 이하입니다.\n",
    "- 작업 진도는 100 미만의 자연수입니다.\n",
    "- 작업 속도는 100 이하의 자연수입니다.\n",
    "- 배포는 하루에 한 번만 할 수 있으며, 하루의 끝에 이루어진다고 가정합니다. 예를 들어 진도율이 95%인 작업의 개발 속도가 하루에 4%라면 배포는 2일 뒤에 이루어집니다.\n",
    "\n",
    "## 입출력 예\n",
    "\n",
    "| progresses           | speeds          | return   |\n",
    "|----------------------|-----------------|----------|\n",
    "| [93, 30, 55]         | [1, 30, 5]      | [2, 1]   |\n",
    "| [95, 90, 99, 99, 80, 99] | [1, 1, 1, 1, 1, 1] | [1, 3, 2] |\n"
   ]
  },
  {
   "cell_type": "markdown",
   "id": "1f8910b1-30d5-4d5e-a7fa-ebe9b9948d49",
   "metadata": {},
   "source": [
    "# 풀이\n",
    "\n",
    "(이전 풀이)\n",
    "\n",
    "- 남은 날 수 계산\n",
    "- 남은 날에 대해\n",
    "    - 큐가 비어있으면 넣음\n",
    "    - 안 비어있으면\n",
    "        - 큐에 있는 첫날보다 남은 날이 작거나 같으면 큐에 넣기\n",
    "        - 아니면 \n",
    "            - 정답에 큐의 길이(한 날에 같이 처리되는 작업 수임)를 append\n",
    "            - 큐 비우기\n",
    "            - 큐에 남은 날 넣기\n",
    "- 마지막에 처리되는 남은 날들은 정답에 넣기\n",
    "- 정답 반환"
   ]
  },
  {
   "cell_type": "code",
   "execution_count": null,
   "id": "29ee30ac-147c-4adf-9323-9b2b24ad73cc",
   "metadata": {},
   "outputs": [],
   "source": [
    "from collections import deque\n",
    "\n",
    "def solution(progresses, speeds):\n",
    "    days = []\n",
    "    for i in range(len(progresses)):\n",
    "        count = 0\n",
    "        while progresses[i] < 100:\n",
    "            progresses[i] += speeds[i]\n",
    "            count += 1\n",
    "        days.append(count)\n",
    "    \n",
    "    queue = deque()\n",
    "    answer = []\n",
    "    for day in days:\n",
    "        if not queue:\n",
    "            queue.append(day)\n",
    "        else:\n",
    "            if day <= queue[0]:\n",
    "                queue.append(day)\n",
    "            else:\n",
    "                answer.append(len(queue))\n",
    "                queue.clear()\n",
    "                queue.append(day)\n",
    "    answer.append(len(queue))\n",
    "    \n",
    "    return answer"
   ]
  },
  {
   "cell_type": "markdown",
   "id": "20838088-5561-4604-8f0a-0f499a997ac6",
   "metadata": {},
   "source": [
    "비효율적인 부분을 좀 개선해보자\n",
    "    \n",
    "- 큐를 쓸 필요가 없다. 큐가 제 역할을 안함.\n",
    "    - 큐의 첫 원소만 참조를 계속할 거면 굳이 큐를 쓸 필요가 없잖아\n",
    "- 남은 날 수 왜 저렇게 계산했더라..."
   ]
  },
  {
   "cell_type": "code",
   "execution_count": 1,
   "id": "13445e71-6700-445e-9c2e-0b94516b92f2",
   "metadata": {
    "tags": []
   },
   "outputs": [],
   "source": [
    "test_progresses = [95, 90, 99, 99, 80, 99]\n",
    "test_speeds = [1, 1, 1, 1, 1, 1]\t"
   ]
  },
  {
   "cell_type": "code",
   "execution_count": 7,
   "id": "032a08aa-63f5-4fbd-a4dc-3e6730a6d399",
   "metadata": {
    "tags": []
   },
   "outputs": [],
   "source": [
    "import math\n",
    "\n",
    "def solution(progresses, speeds):\n",
    "    remains = [math.ceil((100-progress)/speed) for progress, speed in zip(progresses, speeds) ]\n",
    "    \n",
    "    ref_val = -1\n",
    "    count = 0\n",
    "    answer = []\n",
    "    for remain in remains:\n",
    "        if ref_val == -1:\n",
    "            ref_val = remain\n",
    "            count += 1\n",
    "            continue\n",
    "        if ref_val < remain:\n",
    "            answer.append(count)\n",
    "            ref_val = remain\n",
    "            count = 1\n",
    "            continue\n",
    "        count += 1\n",
    "    answer.append(count)\n",
    "    \n",
    "    return answer"
   ]
  },
  {
   "cell_type": "code",
   "execution_count": 8,
   "id": "20e7f88b-00ab-4d94-b022-070c35a9bbb2",
   "metadata": {
    "tags": []
   },
   "outputs": [
    {
     "data": {
      "text/plain": [
       "[1, 3, 2]"
      ]
     },
     "execution_count": 8,
     "metadata": {},
     "output_type": "execute_result"
    }
   ],
   "source": [
    "solution(test_progresses, test_speeds)"
   ]
  }
 ],
 "metadata": {
  "kernelspec": {
   "display_name": "Python 3 (ipykernel)",
   "language": "python",
   "name": "python3"
  },
  "language_info": {
   "codemirror_mode": {
    "name": "ipython",
    "version": 3
   },
   "file_extension": ".py",
   "mimetype": "text/x-python",
   "name": "python",
   "nbconvert_exporter": "python",
   "pygments_lexer": "ipython3",
   "version": "3.11.5"
  }
 },
 "nbformat": 4,
 "nbformat_minor": 5
}
