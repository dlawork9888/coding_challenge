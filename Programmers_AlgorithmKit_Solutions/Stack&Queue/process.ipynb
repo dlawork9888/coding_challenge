{
 "cells": [
  {
   "cell_type": "markdown",
   "id": "7bc72799-c272-4219-89a3-b4e6524eb86c",
   "metadata": {},
   "source": [
    "# 프로세스\n",
    "\n",
    "## 문제 설명\n",
    "\n",
    "운영체제의 역할 중 하나는 컴퓨터 시스템의 자원을 효율적으로 관리하는 것입니다. 이 문제에서는 운영체제가 다음 규칙에 따라 프로세스를 관리할 경우 특정 프로세스가 몇 번째로 실행되는지 알아내면 됩니다.\n",
    "\n",
    "```\n",
    "1. 실행 대기 큐(Queue)에서 대기중인 프로세스 하나를 꺼냅니다.\n",
    "2. 큐에 대기중인 프로세스 중 우선순위가 더 높은 프로세스가 있다면 방금 꺼낸 프로세스를 다시 큐에 넣습니다.\n",
    "3. 만약 그런 프로세스가 없다면 방금 꺼낸 프로세스를 실행합니다.\n",
    "  3.1 한 번 실행한 프로세스는 다시 큐에 넣지 않고 그대로 종료됩니다.\n",
    "```\n",
    "\n",
    "예를 들어 프로세스 4개 [A, B, C, D]가 순서대로 실행 대기 큐에 들어있고, 우선순위가 [2, 1, 3, 2]라면 [C, D, A, B] 순으로 실행하게 됩니다.\n",
    "\n",
    "현재 실행 대기 큐(Queue)에 있는 프로세스의 중요도가 순서대로 담긴 배열 priorities와, 몇 번째로 실행되는지 알고싶은 프로세스의 위치를 알려주는 location이 매개변수로 주어질 때, 해당 프로세스가 몇 번째로 실행되는지 return 하도록 solution 함수를 작성해주세요.\n",
    "\n",
    "## 제한 사항\n",
    "\n",
    "- priorities의 길이는 1 이상 100 이하입니다.\n",
    "    - priorities의 원소는 1 이상 9 이하의 정수입니다.\n",
    "    - priorities의 원소는 우선순위를 나타내며 숫자가 클 수록 우선순위가 높습니다.\n",
    "- location은 0 이상 (대기 큐에 있는 프로세스 수 - 1) 이하의 값을 가집니다.\n",
    "    - priorities의 가장 앞에 있으면 0, 두 번째에 있으면 1 … 과 같이 표현합니다.\n",
    "    \n",
    "## 입출력 예\n",
    "\n",
    "| priorities        | location | return |\n",
    "|-------------------|----------|--------|\n",
    "| [2, 1, 3, 2]      | 2        | 1      |\n",
    "| [1, 1, 9, 1, 1, 1] | 0        | 5      |\n"
   ]
  },
  {
   "cell_type": "code",
   "execution_count": 1,
   "id": "dff3dc3d-3e70-4a7b-bf75-cb7996e5928e",
   "metadata": {
    "tags": []
   },
   "outputs": [],
   "source": [
    "test_priorities = [2, 1, 3, 2]\n",
    "test_location = 2"
   ]
  },
  {
   "cell_type": "code",
   "execution_count": 6,
   "id": "e57c96f5-04c0-46d7-9bdf-0b8fe31317d1",
   "metadata": {
    "tags": []
   },
   "outputs": [],
   "source": [
    "from collections import deque\n",
    "\n",
    "def solution(priorities, location):\n",
    "    waiting_queue = deque()\n",
    "    for idx, priority in enumerate(priorities):\n",
    "        if idx == location:\n",
    "            waiting_queue.append((priority, True))\n",
    "        else:\n",
    "            waiting_queue.append((priority, False))\n",
    "    \n",
    "    count = 0\n",
    "    while waiting_queue:\n",
    "        now_priority, target = waiting_queue.popleft()\n",
    "        execute_flag = True\n",
    "        # 우선 순위가 큰게 있는지 검사\n",
    "        for priority,_ in waiting_queue:\n",
    "            if priority > now_priority:\n",
    "                execute_flag = False\n",
    "                break\n",
    "        # 큰게 있으면\n",
    "        if execute_flag == False:\n",
    "            waiting_queue.append((now_priority, target))\n",
    "            continue\n",
    "        # 큰게 없으면 -> 실행\n",
    "        else:\n",
    "            count += 1\n",
    "            if target:\n",
    "                break\n",
    "    return count"
   ]
  },
  {
   "cell_type": "code",
   "execution_count": 7,
   "id": "ed8dc0e4-857b-4e17-8879-ab62ff450d6a",
   "metadata": {
    "tags": []
   },
   "outputs": [
    {
     "data": {
      "text/plain": [
       "1"
      ]
     },
     "execution_count": 7,
     "metadata": {},
     "output_type": "execute_result"
    }
   ],
   "source": [
    "solution(test_priorities, test_location)"
   ]
  },
  {
   "cell_type": "markdown",
   "id": "1423d57c-5f9e-4402-94b5-b44dda61197e",
   "metadata": {},
   "source": [
    "이전 풀이"
   ]
  },
  {
   "cell_type": "code",
   "execution_count": null,
   "id": "86495cfc-117e-4416-bade-16433f8ccc24",
   "metadata": {},
   "outputs": [],
   "source": [
    "from collections import deque\n",
    "\n",
    "def solution(priorities, location):\n",
    "    index_list = deque(range(len(priorities))) #[0,1,2,3]\n",
    "    priorities = deque(priorities)\n",
    "    \n",
    "    exe_count = 0\n",
    "    while index_list:\n",
    "        max_priority = max(priorities)\n",
    "        now_work = index_list.popleft()\n",
    "        now_priority = priorities.popleft()\n",
    "        if now_priority >= max_priority:\n",
    "            #print('execute')\n",
    "            exe_count += 1\n",
    "            if now_work == location:\n",
    "                return exe_count\n",
    "        else:\n",
    "            index_list.append(now_work)\n",
    "            priorities.append(now_priority)\n",
    "            #print('do not execute')\n",
    "        \n",
    "    return -1"
   ]
  },
  {
   "cell_type": "markdown",
   "id": "a2b5d926-df2f-4edc-bd13-963a6ca7ca39",
   "metadata": {},
   "source": [
    "그때도 비슷하게 생각했구나\n",
    "근데 return -1은 왜 있는거지\n",
    "\n",
    "**주의**: deque(list)는 시간복잡도가 O(n)임"
   ]
  },
  {
   "cell_type": "code",
   "execution_count": null,
   "id": "5cb0dd73-466a-4a52-b401-0acba6b52dbe",
   "metadata": {},
   "outputs": [],
   "source": []
  }
 ],
 "metadata": {
  "kernelspec": {
   "display_name": "Python 3 (ipykernel)",
   "language": "python",
   "name": "python3"
  },
  "language_info": {
   "codemirror_mode": {
    "name": "ipython",
    "version": 3
   },
   "file_extension": ".py",
   "mimetype": "text/x-python",
   "name": "python",
   "nbconvert_exporter": "python",
   "pygments_lexer": "ipython3",
   "version": "3.11.5"
  }
 },
 "nbformat": 4,
 "nbformat_minor": 5
}
