{
 "cells": [
  {
   "cell_type": "markdown",
   "id": "f78de445-7166-4875-b5e9-d7c3ae6c850e",
   "metadata": {},
   "source": [
    "# 같은 숫자는 싫어\n",
    "\n",
    "## 문제 설명\n",
    "\n",
    "배열 arr가 주어집니다. 배열 arr의 각 원소는 숫자 0부터 9까지로 이루어져 있습니다. 이때, 배열 arr에서 연속적으로 나타나는 숫자는 하나만 남기고 전부 제거하려고 합니다. 단, 제거된 후 남은 수들을 반환할 때는 배열 arr의 원소들의 순서를 유지해야 합니다. 예를 들면,\n",
    "\n",
    "- arr = [1, 1, 3, 3, 0, 1, 1] 이면 [1, 3, 0, 1] 을 return 합니다.\n",
    "- arr = [4, 4, 4, 3, 3] 이면 [4, 3] 을 return 합니다.\n",
    "\n",
    "배열 arr에서 연속적으로 나타나는 숫자는 제거하고 남은 수들을 return 하는 solution 함수를 완성해 주세요.\n",
    "\n",
    "## 제한사항\n",
    "\n",
    "- 배열 arr의 크기 : 1,000,000 이하의 자연수\n",
    "- 배열 arr의 원소의 크기 : 0보다 크거나 같고 9보다 작거나 같은 정수\n",
    "\n",
    "## 입출력 예\n",
    "\n",
    "| arr               | answer     |\n",
    "|-------------------|------------|\n",
    "| [1,1,3,3,0,1,1]   | [1,3,0,1]  |\n",
    "| [4,4,4,3,3]       | [4,3]      |\n"
   ]
  },
  {
   "cell_type": "markdown",
   "id": "7a46467b-522e-4dc9-8da1-575f2bef347d",
   "metadata": {},
   "source": [
    "# 풀이\n",
    "\n",
    "필요없음"
   ]
  },
  {
   "cell_type": "code",
   "execution_count": 3,
   "id": "6a21017e-bbe3-499b-abaa-58dd417c87d3",
   "metadata": {
    "tags": []
   },
   "outputs": [],
   "source": [
    "testcases = [\n",
    "    [1,1,3,3,0,1,1],\n",
    "    [4,4,4,3,3]\n",
    "]"
   ]
  },
  {
   "cell_type": "code",
   "execution_count": 1,
   "id": "92e53a06-489c-44d7-8cfb-d17820a18749",
   "metadata": {
    "tags": []
   },
   "outputs": [],
   "source": [
    "def solution(arr):\n",
    "    stack = []\n",
    "    now_num = None\n",
    "    for ele in arr:\n",
    "        if ele != now_num:\n",
    "            now_num = ele\n",
    "            stack.append(now_num)\n",
    "    return stack"
   ]
  },
  {
   "cell_type": "code",
   "execution_count": 4,
   "id": "88b68d6e-f59b-4de3-b472-a3dc781f780f",
   "metadata": {
    "tags": []
   },
   "outputs": [
    {
     "name": "stdout",
     "output_type": "stream",
     "text": [
      "[1, 3, 0, 1]\n",
      "[4, 3]\n"
     ]
    }
   ],
   "source": [
    "for testcase in testcases:\n",
    "    print(solution(testcase))"
   ]
  }
 ],
 "metadata": {
  "kernelspec": {
   "display_name": "Python 3 (ipykernel)",
   "language": "python",
   "name": "python3"
  },
  "language_info": {
   "codemirror_mode": {
    "name": "ipython",
    "version": 3
   },
   "file_extension": ".py",
   "mimetype": "text/x-python",
   "name": "python",
   "nbconvert_exporter": "python",
   "pygments_lexer": "ipython3",
   "version": "3.11.5"
  }
 },
 "nbformat": 4,
 "nbformat_minor": 5
}
