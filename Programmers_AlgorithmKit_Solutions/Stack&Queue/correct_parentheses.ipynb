{
 "cells": [
  {
   "cell_type": "markdown",
   "id": "f8bd29fd-5589-4e6e-966a-846b389730c8",
   "metadata": {},
   "source": [
    "# 올바른 괄호\n",
    "\n",
    "## 문제 설명\n",
    "\n",
    "괄호가 바르게 짝지어졌다는 것은 '(' 문자로 열렸으면 반드시 짝지어서 ')' 문자로 닫혀야 한다는 뜻입니다. 예를 들어\n",
    "\n",
    "- \"()()\" 또는 \"(())()\" 는 올바른 괄호입니다.\n",
    "- \")()(\" 또는 \"(()(\" 는 올바르지 않은 괄호입니다.\n",
    "\n",
    "'(' 또는 ')' 로만 이루어진 문자열 s가 주어졌을 때, 문자열 s가 올바른 괄호이면 true를 return 하고, 올바르지 않은 괄호이면 false를 return 하는 solution 함수를 완성해 주세요.\n",
    "\n",
    "## 제한 사항\n",
    "\n",
    "- 문자열 s의 길이 : 100,000 이하의 자연수\n",
    "- 문자열 s는 '(' 또는 ')' 로만 이루어져 있습니다.\n",
    "\n",
    "## 입출력 예\n",
    "\n",
    "| s        | answer |\n",
    "|----------|--------|\n",
    "| \"()()\"   | true   |\n",
    "| \"(())()\" | true   |\n",
    "| \")()(\"   | false  |\n",
    "| \"(()(\"   | false  |\n"
   ]
  },
  {
   "cell_type": "markdown",
   "id": "630f86a6-7eda-4ea4-a17f-1b43fe1a20ea",
   "metadata": {},
   "source": [
    "# 풀이\n",
    "\n",
    "(이전 풀이)\n",
    "\n",
    "- 문자열 안의 괄호에 대해\n",
    "    - 스택이 없으면\n",
    "        - 스택에 넣기\n",
    "    - 스택이 있으면\n",
    "        - Stack Top이 ( 이면\n",
    "            - 지금 문자가 )이면 Stack Pop\n",
    "            - 지금 문자가 (이면 Stack Push\n",
    "        - Stack Top이 ) 이면\n",
    "            - 지금 문자를 Stack Push\n",
    "\n",
    "- Stack에 원소가 남아있으면 False 반환\n",
    "- 아니면 True 반환"
   ]
  },
  {
   "cell_type": "code",
   "execution_count": null,
   "id": "3519f653-83ee-4c95-a649-c92f664b18f5",
   "metadata": {},
   "outputs": [],
   "source": [
    "def solution(s):\n",
    "    stack = []\n",
    "    for x in s:\n",
    "        if stack:\n",
    "            if stack[-1] == '(':\n",
    "                if x == ')':\n",
    "                    stack.pop()\n",
    "                else:\n",
    "                    stack.append(x)\n",
    "            else:\n",
    "                stack.append(x)\n",
    "        else:\n",
    "            stack.append(x)\n",
    "    \n",
    "    if stack:\n",
    "        return False\n",
    "    else:\n",
    "        return True"
   ]
  }
 ],
 "metadata": {
  "kernelspec": {
   "display_name": "Python 3 (ipykernel)",
   "language": "python",
   "name": "python3"
  },
  "language_info": {
   "codemirror_mode": {
    "name": "ipython",
    "version": 3
   },
   "file_extension": ".py",
   "mimetype": "text/x-python",
   "name": "python",
   "nbconvert_exporter": "python",
   "pygments_lexer": "ipython3",
   "version": "3.11.5"
  }
 },
 "nbformat": 4,
 "nbformat_minor": 5
}
