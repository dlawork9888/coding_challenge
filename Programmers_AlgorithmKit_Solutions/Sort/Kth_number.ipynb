{
 "cells": [
  {
   "cell_type": "markdown",
   "id": "479e3da8-ef41-420d-b356-c2f664507037",
   "metadata": {},
   "source": [
    "# K번째수\n",
    "\n",
    "## 문제 설명\n",
    "\n",
    "배열 array의 i번째 숫자부터 j번째 숫자까지 자르고 정렬했을 때, k번째에 있는 수를 구하려 합니다.\n",
    "\n",
    "예를 들어 array가 [1, 5, 2, 6, 3, 7, 4], i = 2, j = 5, k = 3이라면\n",
    "\n",
    "1. array의 2번째부터 5번째까지 자르면 [5, 2, 6, 3]입니다.\n",
    "2. 1에서 나온 배열을 정렬하면 [2, 3, 5, 6]입니다.\n",
    "3. 2에서 나온 배열의 3번째 숫자는 5입니다.\n",
    "\n",
    "배열 array, [i, j, k]를 원소로 가진 2차원 배열 commands가 매개변수로 주어질 때, commands의 모든 원소에 대해 앞서 설명한 연산을 적용했을 때 나온 결과를 배열에 담아 return 하도록 solution 함수를 작성해주세요.\n",
    "\n",
    "## 제한 사항\n",
    "\n",
    "array의 길이는 1 이상 100 이하입니다.\n",
    "array의 각 원소는 1 이상 100 이하입니다.\n",
    "commands의 길이는 1 이상 50 이하입니다.\n",
    "commands의 각 원소는 길이가 3입니다.\n",
    "\n",
    "## 입출력 예\n",
    "\n",
    "|array|commands|return|\n",
    "|---|---|---|\n",
    "|[1, 5, 2, 6, 3, 7, 4]|[[2, 5, 3], [4, 4, 1], [1, 7, 3]]|[5, 6, 3]|"
   ]
  },
  {
   "cell_type": "markdown",
   "id": "899cda9b-0ca8-4e98-8c46-702c99091964",
   "metadata": {},
   "source": [
    "# 풀이\n",
    "\n",
    "별거없음"
   ]
  },
  {
   "cell_type": "code",
   "execution_count": 7,
   "id": "12dd2740-d1a7-45b0-aeb9-7a832eb065d1",
   "metadata": {
    "tags": []
   },
   "outputs": [],
   "source": [
    "def solution(array, commands):\n",
    "    answer = []\n",
    "    for command in commands:\n",
    "        start, end, k = command\n",
    "        sliced = sorted(array[start-1:end])\n",
    "        answer.append(sliced[k-1])\n",
    "    return answer"
   ]
  },
  {
   "cell_type": "code",
   "execution_count": 8,
   "id": "3e2b03d3-bdf5-471b-8dba-734f7c7e360e",
   "metadata": {
    "tags": []
   },
   "outputs": [
    {
     "data": {
      "text/plain": [
       "[5, 6, 3]"
      ]
     },
     "execution_count": 8,
     "metadata": {},
     "output_type": "execute_result"
    }
   ],
   "source": [
    "test_array = [1, 5, 2, 6, 3, 7, 4]\t\n",
    "test_commands = [[2, 5, 3], [4, 4, 1], [1, 7, 3]]\t\n",
    "\n",
    "solution(test_array, test_commands)"
   ]
  },
  {
   "cell_type": "markdown",
   "id": "b1ec9940-8d48-4a8b-a868-6ffde8d2cdaf",
   "metadata": {},
   "source": [
    "(이전 풀이)\n",
    "\n",
    "어...? 더 깔끔"
   ]
  },
  {
   "cell_type": "code",
   "execution_count": 9,
   "id": "f39644af-3cb6-435c-923b-6269bd9d1cac",
   "metadata": {
    "tags": []
   },
   "outputs": [],
   "source": [
    "def solution(array, commands):\n",
    "    result =[]\n",
    "    for i in commands:\n",
    "        result.append((sorted(array[i[0]-1:i[1]])[i[2]-1]))\n",
    "    return result"
   ]
  }
 ],
 "metadata": {
  "kernelspec": {
   "display_name": "Python 3 (ipykernel)",
   "language": "python",
   "name": "python3"
  },
  "language_info": {
   "codemirror_mode": {
    "name": "ipython",
    "version": 3
   },
   "file_extension": ".py",
   "mimetype": "text/x-python",
   "name": "python",
   "nbconvert_exporter": "python",
   "pygments_lexer": "ipython3",
   "version": "3.11.5"
  }
 },
 "nbformat": 4,
 "nbformat_minor": 5
}
