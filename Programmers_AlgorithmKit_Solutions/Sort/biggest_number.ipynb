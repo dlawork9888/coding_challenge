{
 "cells": [
  {
   "cell_type": "markdown",
   "id": "cd2e3e99-e47c-4166-896f-adc68287ae74",
   "metadata": {},
   "source": [
    "# 가장 큰 수\n",
    "\n",
    "## 문제 설명\n",
    "\n",
    "0 또는 양의 정수가 주어졌을 때, 정수를 이어 붙여 만들 수 있는 가장 큰 수를 알아내 주세요.\n",
    "\n",
    "예를 들어, 주어진 정수가 [6, 10, 2]라면 [6102, 6210, 1062, 1026, 2610, 2106]를 만들 수 있고, 이중 가장 큰 수는 6210입니다.\n",
    "\n",
    "0 또는 양의 정수가 담긴 배열 numbers가 매개변수로 주어질 때, 순서를 재배치하여 만들 수 있는 가장 큰 수를 문자열로 바꾸어 return 하도록 solution 함수를 작성해주세요.\n",
    "\n",
    "## 제한 사항\n",
    "\n",
    "- numbers의 길이는 1 이상 100,000 이하입니다.\n",
    "- numbers의 원소는 0 이상 1,000 이하입니다.\n",
    "- 정답이 너무 클 수 있으니 문자열로 바꾸어 return 합니다.\n",
    "\n",
    "\n",
    "## 입출력 예\n",
    "|numbers|return|\n",
    "|---|---|\n",
    "|[6, 10, 2]|\"6210\"|\n",
    "|[3, 30, 34, 5, 9]|\"9534330\"|"
   ]
  },
  {
   "cell_type": "markdown",
   "id": "1b4a1c42-d31f-4883-bff6-444f6cdb5172",
   "metadata": {},
   "source": [
    "# 풀이\n",
    "\n",
    "**주의**: 모든 원소가 0일 경우"
   ]
  },
  {
   "cell_type": "code",
   "execution_count": 14,
   "id": "f4654c76-b953-4162-9ecf-c18d086acb27",
   "metadata": {
    "tags": []
   },
   "outputs": [],
   "source": [
    "def solution(numbers):\n",
    "    result = ''.join(sorted([str(number) for number in numbers], reverse = True, key=lambda x: x * 4))\n",
    "    return '0' if result.startswith('0') else result"
   ]
  },
  {
   "cell_type": "code",
   "execution_count": 15,
   "id": "8662b8ae-0a85-4ba2-8110-74f1b64fb53a",
   "metadata": {
    "tags": []
   },
   "outputs": [
    {
     "data": {
      "text/plain": [
       "'00'"
      ]
     },
     "execution_count": 15,
     "metadata": {},
     "output_type": "execute_result"
    }
   ],
   "source": [
    "test_numbers = [0, 0]\n",
    "\n",
    "solution(test_numbers)"
   ]
  },
  {
   "cell_type": "markdown",
   "id": "8f3b2d19-f410-42ee-9184-8bfb4070ea3f",
   "metadata": {},
   "source": [
    "(이전 풀이)"
   ]
  },
  {
   "cell_type": "code",
   "execution_count": 16,
   "id": "5401ffe1-2651-46d6-95b8-defb811e9303",
   "metadata": {
    "tags": []
   },
   "outputs": [],
   "source": [
    "def solution(numbers):\n",
    "    numbers = list(map(str, numbers))\n",
    "    numbers.sort(key=lambda x: x * 4, reverse=True) #문자열비교\n",
    "    #print(numbers)\n",
    "    if all(x == '0' for x in numbers):\n",
    "        return '0'\n",
    "    return ''.join(numbers)"
   ]
  }
 ],
 "metadata": {
  "kernelspec": {
   "display_name": "Python 3 (ipykernel)",
   "language": "python",
   "name": "python3"
  },
  "language_info": {
   "codemirror_mode": {
    "name": "ipython",
    "version": 3
   },
   "file_extension": ".py",
   "mimetype": "text/x-python",
   "name": "python",
   "nbconvert_exporter": "python",
   "pygments_lexer": "ipython3",
   "version": "3.11.5"
  }
 },
 "nbformat": 4,
 "nbformat_minor": 5
}
