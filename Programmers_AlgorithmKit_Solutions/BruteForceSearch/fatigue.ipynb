{
 "cells": [
  {
   "cell_type": "markdown",
   "id": "750ec7ad-c0b6-4beb-8e7e-6a36d91e1346",
   "metadata": {},
   "source": [
    "# 피로도\n",
    "\n",
    "## 문제 설명\n",
    "\n",
    "XX게임에는 피로도 시스템(0 이상의 정수로 표현합니다)이 있으며, 일정 피로도를 사용해서 던전을 탐험할 수 있습니다. 이때, 각 던전마다 탐험을 시작하기 위해 필요한 \"최소 필요 피로도\"와 던전 탐험을 마쳤을 때 소모되는 \"소모 피로도\"가 있습니다. \"최소 필요 피로도\"는 해당 던전을 탐험하기 위해 가지고 있어야 하는 최소한의 피로도를 나타내며, \"소모 피로도\"는 던전을 탐험한 후 소모되는 피로도를 나타냅니다. 예를 들어 \"최소 필요 피로도\"가 80, \"소모 피로도\"가 20인 던전을 탐험하기 위해서는 유저의 현재 남은 피로도는 80 이상 이어야 하며, 던전을 탐험한 후에는 피로도 20이 소모됩니다.\n",
    "\n",
    "이 게임에는 하루에 한 번씩 탐험할 수 있는 던전이 여러개 있는데, 한 유저가 오늘 이 던전들을 최대한 많이 탐험하려 합니다. 유저의 현재 피로도 k와 각 던전별 \"최소 필요 피로도\", \"소모 피로도\"가 담긴 2차원 배열 dungeons 가 매개변수로 주어질 때, 유저가 탐험할수 있는 최대 던전 수를 return 하도록 solution 함수를 완성해주세요.\n",
    "\n",
    "## 제한사항\n",
    "\n",
    "- k는 1 이상 5,000 이하인 자연수입니다.\n",
    "- dungeons의 세로(행) 길이(즉, 던전의 개수)는 1 이상 8 이하입니다.\n",
    "    - dungeons의 가로(열) 길이는 2 입니다.\n",
    "    - dungeons의 각 행은 각 던전의 [\"최소 필요 피로도\", \"소모 피로도\"] 입니다.\n",
    "    - \"최소 필요 피로도\"는 항상 \"소모 피로도\"보다 크거나 같습니다.\n",
    "    - \"최소 필요 피로도\"와 \"소모 피로도\"는 1 이상 1,000 이하인 자연수입니다.\n",
    "    - 서로 다른 던전의 [\"최소 필요 피로도\", \"소모 피로도\"]가 서로 같을 수 있습니다.\n",
    "    \n",
    "## 입출력 예\n",
    "\n",
    "| k  | dungeons                  | result |\n",
    "|----|--------------------------|--------|\n",
    "| 80 | [[80,20],[50,40],[30,10]] | 3      |\n"
   ]
  },
  {
   "cell_type": "markdown",
   "id": "b4e3373e-94b5-4c5c-9ed6-fcceb39c430c",
   "metadata": {},
   "source": [
    "# 풀이\n",
    "\n",
    "**Point**\n",
    "- 전역 visited가 아님. \n",
    "- 모든 \"노드의 탐색 경로\"에 대한 완전 탐색임\n",
    "- 모든 \"노드\"에 대한 탐색이 포인트가 아니기 때문\n",
    "- 어떻게 보면 \"노드를 탐색하는 경로\"가 탐색 대상인 노드가 되는?"
   ]
  },
  {
   "cell_type": "code",
   "execution_count": 38,
   "id": "6ab82058-4312-4de4-ba12-8c6f8e2844e1",
   "metadata": {
    "tags": []
   },
   "outputs": [],
   "source": [
    "# recursive dfs\n",
    "\n",
    "def solution(k, dungeons):\n",
    "    max_depth = [-1]\n",
    "    \n",
    "    def dfs(node, k, visited):\n",
    "        now_visited = visited[:]\n",
    "        # 방문 -> 방문 체크, 체력 소모\n",
    "        now_visited[node] = True\n",
    "        now_k = k - dungeons[node][1]\n",
    "        # max_depth 체크\n",
    "        count = 0\n",
    "        for is_visited in now_visited:\n",
    "            if is_visited == True:\n",
    "                count += 1\n",
    "        if count > max_depth[0]:\n",
    "            max_depth[0] = count\n",
    "        for next_node in range(len(dungeons)):\n",
    "            # 방문할 수 있는 노드를 방문하자\n",
    "            if now_visited[next_node] == False and now_k >= dungeons[next_node][0]:\n",
    "                dfs(next_node, now_k, now_visited)\n",
    "    # start_node, k, visited\n",
    "    for node, dungeon in enumerate(dungeons):\n",
    "        if k >= dungeon[0]: \n",
    "            dfs(node, k, [False for _ in range(len(dungeons))])\n",
    "    return max_depth[0]"
   ]
  },
  {
   "cell_type": "code",
   "execution_count": 39,
   "id": "326be65e-b53b-4ef8-bef3-13a751f8c9ec",
   "metadata": {
    "tags": []
   },
   "outputs": [
    {
     "data": {
      "text/plain": [
       "3"
      ]
     },
     "execution_count": 39,
     "metadata": {},
     "output_type": "execute_result"
    }
   ],
   "source": [
    "solution(80, [[80,20],[50,40],[30,10]])"
   ]
  },
  {
   "cell_type": "markdown",
   "id": "10ff2c9f-9cc7-4263-9b78-cda2ce7aa4d1",
   "metadata": {},
   "source": [
    "(이전 코드)"
   ]
  },
  {
   "cell_type": "code",
   "execution_count": 27,
   "id": "03923be2-d7b9-4dd7-9bd2-ad1e958a1cc0",
   "metadata": {
    "tags": []
   },
   "outputs": [],
   "source": [
    "from collections import deque\n",
    "\n",
    "def solution(k, dungeons):\n",
    "    visited = [False for x in range(len(dungeons))]\n",
    "    start_node = [k, visited]\n",
    "    \n",
    "    max_count = 0\n",
    "    \n",
    "    queue = deque()\n",
    "    queue.append(start_node)\n",
    "    \n",
    "    while queue:\n",
    "        now_node = queue.pop()\n",
    "        #print(f'현재 노드 : {now_node}')\n",
    "        now_k = now_node[0]\n",
    "        now_visited = now_node[1]\n",
    "        \n",
    "        now_count = 0 \n",
    "        for x in now_visited:\n",
    "            if x == True: \n",
    "                now_count += 1\n",
    "        #print(f'현재 카운트 : {now_count}')\n",
    "        if now_count > max_count:\n",
    "            max_count = now_count\n",
    "        \n",
    "        for i, element in enumerate(now_visited):\n",
    "            #print(f'탐색 던전 : {i}')\n",
    "            if element == False:\n",
    "                dungeon_info = dungeons[i]\n",
    "                if now_k >= dungeon_info[0]:\n",
    "                    new_visited = now_visited[:]\n",
    "                    after_k = now_k - dungeon_info[1]\n",
    "                    #print(f'after_k : {after_k}')\n",
    "                    new_visited[i] = True\n",
    "                    new_node = [after_k, new_visited]\n",
    "                    queue.append(new_node)\n",
    "        \n",
    "    return max_count"
   ]
  }
 ],
 "metadata": {
  "kernelspec": {
   "display_name": "Python 3 (ipykernel)",
   "language": "python",
   "name": "python3"
  },
  "language_info": {
   "codemirror_mode": {
    "name": "ipython",
    "version": 3
   },
   "file_extension": ".py",
   "mimetype": "text/x-python",
   "name": "python",
   "nbconvert_exporter": "python",
   "pygments_lexer": "ipython3",
   "version": "3.11.5"
  }
 },
 "nbformat": 4,
 "nbformat_minor": 5
}
