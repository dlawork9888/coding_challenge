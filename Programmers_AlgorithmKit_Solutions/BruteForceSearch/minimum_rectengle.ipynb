{
 "cells": [
  {
   "cell_type": "markdown",
   "id": "fbd35554-1e39-4692-b729-b30fa958eade",
   "metadata": {},
   "source": [
    "# 최소직사각형\n",
    "\n",
    "## 문제 설명\n",
    "명함 지갑을 만드는 회사에서 지갑의 크기를 정하려고 합니다. 다양한 모양과 크기의 명함들을 모두 수납할 수 있으면서, 작아서 들고 다니기 편한 지갑을 만들어야 합니다. 이러한 요건을 만족하는 지갑을 만들기 위해 디자인팀은 모든 명함의 가로 길이와 세로 길이를 조사했습니다.\n",
    "\n",
    "아래 표는 4가지 명함의 가로 길이와 세로 길이를 나타냅니다.\n",
    "\n",
    "|명함 번호|가로 길이|세로 길이|\n",
    "|---|---|---|\n",
    "|1|60|50|\n",
    "|2|30|70|\n",
    "|3|60|30|\n",
    "|4|80|40|\n",
    "\n",
    "가장 긴 가로 길이와 세로 길이가 각각 80, 70이기 때문에 80(가로) x 70(세로) 크기의 지갑을 만들면 모든 명함들을 수납할 수 있습니다. 하지만 2번 명함을 가로로 눕혀 수납한다면 80(가로) x 50(세로) 크기의 지갑으로 모든 명함들을 수납할 수 있습니다. 이때의 지갑 크기는 4000(=80 x 50)입니다.\n",
    "\n",
    "모든 명함의 가로 길이와 세로 길이를 나타내는 2차원 배열 sizes가 매개변수로 주어집니다. 모든 명함을 수납할 수 있는 가장 작은 지갑을 만들 때, 지갑의 크기를 return 하도록 solution 함수를 완성해주세요.\n",
    "\n",
    "## 제한 사항\n",
    "\n",
    "- sizes의 길이는 1 이상 10,000 이하입니다.\n",
    "    - sizes의 원소는 [w, h] 형식입니다.\n",
    "    - w는 명함의 가로 길이를 나타냅니다.\n",
    "    - h는 명함의 세로 길이를 나타냅니다.\n",
    "    - w와 h는 1 이상 1,000 이하인 자연수입니다.\n",
    "\n",
    "\n",
    "## 입출력 예\n",
    "\n",
    "|sizes|result|\n",
    "|---|---|\n",
    "|[[60, 50], [30, 70], [60, 30], [80, 40]]|4000|\n",
    "|[[10, 7], [12, 3], [8, 15], [14, 7], [5, 15]]|120|\n",
    "|[[14, 4], [19, 6], [6, 16], [18, 7], [7, 11]]|133|"
   ]
  },
  {
   "cell_type": "markdown",
   "id": "9fa367d3-d619-4619-a1d1-8a4b80f25d4c",
   "metadata": {},
   "source": [
    "# 풀이\n",
    "\n",
    "- 모두 순회 \n",
    "- 순회 1 -> 정렬\n",
    "- 순회 2 -> 가로 세로 max 값 산출 \n",
    "\n",
    "2 * O(n) = O(n)\n",
    "\n",
    "=> 그냥 순회 한번으로"
   ]
  },
  {
   "cell_type": "code",
   "execution_count": 13,
   "id": "ab1c7b65-b8b5-45e9-95c3-9e923a0dd67f",
   "metadata": {
    "tags": []
   },
   "outputs": [],
   "source": [
    "def solution(sizes):\n",
    "    max_width = -1\n",
    "    max_height = -1\n",
    "    for size in sizes:\n",
    "        size.sort()\n",
    "        if size[0] > max_width:\n",
    "            max_width = size[0]\n",
    "        if size[1] > max_height:\n",
    "            max_height = size[1]\n",
    "    return max_width*max_height"
   ]
  },
  {
   "cell_type": "code",
   "execution_count": 14,
   "id": "0122f615-a398-4d53-a5b7-435e188416ee",
   "metadata": {
    "tags": []
   },
   "outputs": [
    {
     "data": {
      "text/plain": [
       "120"
      ]
     },
     "execution_count": 14,
     "metadata": {},
     "output_type": "execute_result"
    }
   ],
   "source": [
    "test_sizes = [[10, 7], [12, 3], [8, 15], [14, 7], [5, 15]]\n",
    "\n",
    "solution(test_sizes)"
   ]
  },
  {
   "cell_type": "markdown",
   "id": "d7aab028-13eb-40ea-8f13-a84edbb8a33b",
   "metadata": {},
   "source": [
    "```\n",
    "for size in sizes:\n",
    "    size.sort()\n",
    "```\n",
    "\n",
    "**주의**\n",
    "복사 뜬 값임. 정렬된 size는 for 루프 안에서만 유효"
   ]
  },
  {
   "cell_type": "code",
   "execution_count": null,
   "id": "a235f684-7d0f-468e-9d68-9245de82990f",
   "metadata": {},
   "outputs": [],
   "source": []
  },
  {
   "cell_type": "code",
   "execution_count": null,
   "id": "e2241a48-fa26-4ce7-ba0e-b50a921e7626",
   "metadata": {},
   "outputs": [],
   "source": []
  }
 ],
 "metadata": {
  "kernelspec": {
   "display_name": "Python 3 (ipykernel)",
   "language": "python",
   "name": "python3"
  },
  "language_info": {
   "codemirror_mode": {
    "name": "ipython",
    "version": 3
   },
   "file_extension": ".py",
   "mimetype": "text/x-python",
   "name": "python",
   "nbconvert_exporter": "python",
   "pygments_lexer": "ipython3",
   "version": "3.11.5"
  }
 },
 "nbformat": 4,
 "nbformat_minor": 5
}
