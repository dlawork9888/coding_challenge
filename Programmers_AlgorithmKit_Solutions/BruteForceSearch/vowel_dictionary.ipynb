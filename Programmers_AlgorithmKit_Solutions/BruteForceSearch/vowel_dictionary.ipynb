{
 "cells": [
  {
   "cell_type": "markdown",
   "id": "d472cdb7-a345-42ce-8bee-66e809891612",
   "metadata": {},
   "source": [
    "# 모음 사전\n",
    "\n",
    "## 문제 설명\n",
    "\n",
    "사전에 알파벳 모음 'A', 'E', 'I', 'O', 'U'만을 사용하여 만들 수 있는, 길이 5 이하의 모든 단어가 수록되어 있습니다. 사전에서 첫 번째 단어는 \"A\"이고, 그다음은 \"AA\"이며, 마지막 단어는 \"UUUUU\"입니다.\n",
    "\n",
    "단어 하나 word가 매개변수로 주어질 때, 이 단어가 사전에서 몇 번째 단어인지 return 하도록 solution 함수를 완성해주세요.\n",
    "\n",
    "## 제한사항\n",
    "- word의 길이는 1 이상 5 이하입니다.\n",
    "- word는 알파벳 대문자 'A', 'E', 'I', 'O', 'U'로만 이루어져 있습니다.\n",
    "\n",
    "## 입출력 예\n",
    "\n",
    "| word   | result |\n",
    "|--------|--------|\n",
    "| \"AAAAE\" | 6      |\n",
    "| \"AAAE\"  | 10     |\n",
    "| \"I\"     | 1563   |\n",
    "| \"EIO\"   | 1189   |\n"
   ]
  },
  {
   "cell_type": "markdown",
   "id": "16c32ad4-afa1-432d-b0af-7d616b0da556",
   "metadata": {},
   "source": [
    "# 풀이\n",
    "\n",
    "**정보**) 사전식 = DFS"
   ]
  },
  {
   "cell_type": "code",
   "execution_count": 58,
   "id": "00b0a027-9d10-4a4e-bb29-6752fd8a69e7",
   "metadata": {
    "tags": []
   },
   "outputs": [],
   "source": [
    "def solution(word):\n",
    "    vowels = ['A', 'E', 'I', 'O', 'U']\n",
    "    stack = []\n",
    "    count = [0] \n",
    "    answer = [-1]\n",
    "    def dfs(now_node):\n",
    "        #print(now_node)\n",
    "        count[0] += 1\n",
    "        if now_node == word:\n",
    "            answer[0] = count[0]\n",
    "        if len(now_node) < 5:\n",
    "            for vowel in vowels:\n",
    "                dfs(now_node + vowel)\n",
    "    dfs('A')\n",
    "    dfs('E')\n",
    "    dfs('I')\n",
    "    dfs('O')\n",
    "    dfs('U')\n",
    "    return answer[0]"
   ]
  },
  {
   "cell_type": "code",
   "execution_count": 59,
   "id": "b9ed8ac2-65f7-4db0-9afc-813b7e77bdd9",
   "metadata": {
    "tags": []
   },
   "outputs": [
    {
     "data": {
      "text/plain": [
       "1563"
      ]
     },
     "execution_count": 59,
     "metadata": {},
     "output_type": "execute_result"
    }
   ],
   "source": [
    "solution(\"I\")"
   ]
  },
  {
   "cell_type": "markdown",
   "id": "578c9502-bf35-4986-9981-4e22e9790c5f",
   "metadata": {},
   "source": [
    "너무나 비효율적. 명시적 스택을 사용하자(세밀한 조정을 위해)"
   ]
  },
  {
   "cell_type": "markdown",
   "id": "943cb202-2bfd-4c14-8b02-69288140f80f",
   "metadata": {},
   "source": [
    "(이전 풀이)"
   ]
  },
  {
   "cell_type": "code",
   "execution_count": null,
   "id": "f0e35c1a-ff4a-4d58-a16d-e9744ac44eaf",
   "metadata": {},
   "outputs": [],
   "source": [
    "def solution(word):\n",
    "    aeiou = ['U', 'O', 'I', 'E', 'A']\n",
    "    stack = []\n",
    "    stack += aeiou\n",
    "    count = 0\n",
    "    while stack:\n",
    "        now_node = stack.pop()\n",
    "        #print(now_node)\n",
    "        count += 1\n",
    "        if word == now_node:\n",
    "            return count\n",
    "        if len(now_node) < 5:\n",
    "            for x in aeiou:\n",
    "                new_node = now_node + x\n",
    "                stack.append(new_node)\n",
    "    return -1"
   ]
  }
 ],
 "metadata": {
  "kernelspec": {
   "display_name": "Python 3 (ipykernel)",
   "language": "python",
   "name": "python3"
  },
  "language_info": {
   "codemirror_mode": {
    "name": "ipython",
    "version": 3
   },
   "file_extension": ".py",
   "mimetype": "text/x-python",
   "name": "python",
   "nbconvert_exporter": "python",
   "pygments_lexer": "ipython3",
   "version": "3.11.5"
  }
 },
 "nbformat": 4,
 "nbformat_minor": 5
}
