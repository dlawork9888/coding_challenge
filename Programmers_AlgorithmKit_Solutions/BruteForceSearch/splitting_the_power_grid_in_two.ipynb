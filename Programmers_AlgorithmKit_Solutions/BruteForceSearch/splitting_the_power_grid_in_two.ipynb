{
 "cells": [
  {
   "cell_type": "markdown",
   "id": "88809fd7-15b1-4b05-8e70-e0905f309b46",
   "metadata": {},
   "source": [
    "# 전력망을 둘로 나누기\n",
    "\n",
    "## 문제 설명\n",
    "\n",
    "n개의 송전탑이 전선을 통해 하나의 트리 형태로 연결되어 있습니다. 당신은 이 전선들 중 하나를 끊어서 현재의 전력망 네트워크를 2개로 분할하려고 합니다. 이때, 두 전력망이 갖게 되는 송전탑의 개수를 최대한 비슷하게 맞추고자 합니다.\n",
    "\n",
    "송전탑의 개수 n, 그리고 전선 정보 wires가 매개변수로 주어집니다. 전선들 중 하나를 끊어서 송전탑 개수가 가능한 비슷하도록 두 전력망으로 나누었을 때, 두 전력망이 가지고 있는 송전탑 개수의 차이(절대값)를 return 하도록 solution 함수를 완성해주세요.\n",
    "\n",
    "## 제한사항\n",
    "- n은 2 이상 100 이하인 자연수입니다.\n",
    "- wires는 길이가 n-1인 정수형 2차원 배열입니다.\n",
    "- wires의 각 원소는 [v1, v2] 2개의 자연수로 이루어져 있으며, 이는 전력망의 v1번 송전탑과 v2번 송전탑이 전선으로 연결되어 있다는 것을 의미합니다.\n",
    "- 1 ≤ v1 < v2 ≤ n 입니다.\n",
    "- 전력망 네트워크가 하나의 트리 형태가 아닌 경우는 입력으로 주어지지 않습니다.\n",
    "\n",
    "| n  | wires                                           | result |\n",
    "|----|-------------------------------------------------|--------|\n",
    "| 9  | [[1,3],[2,3],[3,4],[4,5],[4,6],[4,7],[7,8],[7,9]] | 3      |\n",
    "| 4  | [[1,2],[2,3],[3,4]]                             | 0      |\n",
    "| 7  | [[1,2],[2,7],[3,7],[3,4],[4,5],[6,7]]           | 1      |\n"
   ]
  },
  {
   "cell_type": "markdown",
   "id": "c3b60e01-436f-4712-80f5-9b545b8c7968",
   "metadata": {},
   "source": [
    "# 풀이\n",
    "\n",
    "- 모든 간선에 대해\n",
    "    - 간선을 하나 끊기\n",
    "    - 인접 리스트 생성\n",
    "    - 노드 수 찾기 -> dfs 2번"
   ]
  },
  {
   "cell_type": "code",
   "execution_count": null,
   "id": "b25d7995-e8bf-4ab8-b440-67aee13112c3",
   "metadata": {},
   "outputs": [],
   "source": [
    "from collections import defaultdict\n",
    "import math\n",
    "\n",
    "def solution(n, wires):\n",
    "    min_diff = math.inf\n",
    "    for i in range(len(wires)):\n",
    "        new_wires = wires[0:i] + wires[i+1:]\n",
    "        # 인접 리스트 생성(노드는 0부터)\n",
    "        adj_list = defaultdict(list)\n",
    "        for start_node, end_node in new_wires:\n",
    "            adj_list[start_node - 1].append(end_node - 1)\n",
    "            adj_list[end_node - 1].append(start_node - 1)\n",
    "        \n",
    "        visited = [False for _ in range(n)]\n",
    "        counts = []\n",
    "        while not all(visited):\n",
    "            count = 0\n",
    "            stack = []\n",
    "            start_node = -1\n",
    "            for node in range(n):\n",
    "                if visited[node] == False:\n",
    "                    start_node = node\n",
    "                    break\n",
    "            stack.append(start_node)\n",
    "            visited[start_node] = True\n",
    "            count += 1\n",
    "            # dfs\n",
    "            while stack:\n",
    "                now_node = stack.pop()\n",
    "                for adj_node in adj_list[now_node]:\n",
    "                    if not visited[adj_node]:\n",
    "                        stack.append(adj_node)\n",
    "                        visited[adj_node] = True\n",
    "                        count += 1\n",
    "            counts.append(count)\n",
    "        if abs(counts[0] - counts[1]) < min_diff:\n",
    "            min_diff = abs(counts[0] - counts[1])\n",
    "    return min_diff"
   ]
  },
  {
   "cell_type": "markdown",
   "id": "31bfd445-8c25-45a7-b7a5-e2595523a627",
   "metadata": {},
   "source": [
    "이전보단 깔끔해진듯"
   ]
  },
  {
   "cell_type": "markdown",
   "id": "db7051d8-252d-4ca4-ba4e-f4705403f18b",
   "metadata": {},
   "source": [
    "(이전 풀이)"
   ]
  },
  {
   "cell_type": "code",
   "execution_count": null,
   "id": "bf598ea7-b83c-45b0-b356-029133ca6bcf",
   "metadata": {},
   "outputs": [],
   "source": [
    "# Disjoint Set도 괜찮을듯\n",
    "# 간선 하나 없애고 그걸로 인접리스트 만들기\n",
    "# => 해당 그래프를 탐색하며 노드 새기\n",
    "# => 모든 노드를 탐색할 때까지\n",
    "from collections import defaultdict, deque\n",
    "\n",
    "# 간선 하나 없어진 wires가 인자로\n",
    "def make_adj_list_and_search(n, wires):\n",
    "    # 인접 리스트 생성\n",
    "    adj_list = defaultdict(list)\n",
    "    # 노드는 1번부터 시작임 => -1을 해주자\n",
    "    for node1, node2 in wires:\n",
    "        adj_list[node1 - 1].append(node2 - 1)\n",
    "        adj_list[node2 - 1].append(node1 - 1)\n",
    "    print(f\"adj_list: {adj_list}\")\n",
    "    visited = [False for _ in range(n)]\n",
    "    counts = []\n",
    "    while all(visited) == False:\n",
    "        count = 0\n",
    "        start_node = -1\n",
    "        for idx, visited_value in enumerate(visited):\n",
    "            if visited_value == False: \n",
    "                start_node = idx\n",
    "                break\n",
    "        q = deque()\n",
    "        q.append(start_node)\n",
    "        visited[start_node] = True\n",
    "        while q:\n",
    "            now_node = q.pop() #DFS\n",
    "            count += 1\n",
    "            # 주위 노드 탐색\n",
    "            for node in adj_list[now_node]:\n",
    "                if visited[node] == False:\n",
    "                    q.append(node)\n",
    "                    visited[node] = True\n",
    "        counts.append(count)\n",
    "    #print(f'counts:{counts}')\n",
    "    return abs(counts[0] - counts[1])\n",
    "    \n",
    "def solution(n, wires):\n",
    "    diffs = []\n",
    "    for idx, wire in enumerate(wires):\n",
    "        diff = make_adj_list_and_search(n, wires[0:idx] + wires[idx + 1:])\n",
    "        diffs.append(diff)\n",
    "    return min(diffs)\n",
    "    "
   ]
  }
 ],
 "metadata": {
  "kernelspec": {
   "display_name": "Python 3 (ipykernel)",
   "language": "python",
   "name": "python3"
  },
  "language_info": {
   "codemirror_mode": {
    "name": "ipython",
    "version": 3
   },
   "file_extension": ".py",
   "mimetype": "text/x-python",
   "name": "python",
   "nbconvert_exporter": "python",
   "pygments_lexer": "ipython3",
   "version": "3.11.5"
  }
 },
 "nbformat": 4,
 "nbformat_minor": 5
}
