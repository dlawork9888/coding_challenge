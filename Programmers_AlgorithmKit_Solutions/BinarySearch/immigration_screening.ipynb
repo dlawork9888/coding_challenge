{
 "cells": [
  {
   "cell_type": "markdown",
   "id": "7e999854-3614-47f2-bcfd-dd4a9f5e5ea4",
   "metadata": {},
   "source": [
    "# 입국심사\n",
    "\n",
    "## 문제 설명\n",
    "\n",
    "n명이 입국심사를 위해 줄을 서서 기다리고 있습니다. 각 입국심사대에 있는 심사관마다 심사하는데 걸리는 시간은 다릅니다.\n",
    "\n",
    "처음에 모든 심사대는 비어있습니다. 한 심사대에서는 동시에 한 명만 심사를 할 수 있습니다. 가장 앞에 서 있는 사람은 비어 있는 심사대로 가서 심사를 받을 수 있습니다. 하지만 더 빨리 끝나는 심사대가 있으면 기다렸다가 그곳으로 가서 심사를 받을 수도 있습니다.\n",
    "\n",
    "모든 사람이 심사를 받는데 걸리는 시간을 최소로 하고 싶습니다.\n",
    "\n",
    "입국심사를 기다리는 사람 수 n, 각 심사관이 한 명을 심사하는데 걸리는 시간이 담긴 배열 times가 매개변수로 주어질 때, 모든 사람이 심사를 받는데 걸리는 시간의 최솟값을 return 하도록 solution 함수를 작성해주세요.\n",
    "\n",
    "## 제한사항\n",
    "\n",
    "- 입국심사를 기다리는 사람은 1명 이상 1,000,000,000명 이하입니다.\n",
    "- 각 심사관이 한 명을 심사하는데 걸리는 시간은 1분 이상 1,000,000,000분 이하입니다.\n",
    "- 심사관은 1명 이상 100,000명 이하입니다.\n",
    "\n",
    "## 입출력 예\n",
    "|n|times|return|\n",
    "|---|---|---|\n",
    "|6|[7, 10]|28|"
   ]
  },
  {
   "cell_type": "markdown",
   "id": "9ede18f7-aaa7-4135-b35d-6577735ba356",
   "metadata": {},
   "source": [
    "# 풀이 - 1\n",
    "\n",
    "- 입국 심사대로 가는 사람들을 상상하면 안됨\n",
    "- 심사관 입장에서 쉬지않고 심사를 하는 상상을 해야함\n",
    "\n",
    "## 이분 탐색 알고리즘 \n",
    "할때마다 헷갈리니 그냥 외우자\n",
    "```\n",
    "start <= end일 동안\n",
    "    mid = (start+end)//2\n",
    "    앞 탐색이면 => end = **mid - 1**\n",
    "    뒤 탐색이면 => start = **mid + 1**\n",
    "```\n"
   ]
  },
  {
   "cell_type": "code",
   "execution_count": 7,
   "id": "d2d5f8c6-4cc1-4b7e-9413-ec9f64fcd761",
   "metadata": {
    "tags": []
   },
   "outputs": [],
   "source": [
    "def solution(n, times):\n",
    "    times.sort()\n",
    "    max_time = times[-1]*n\n",
    "    min_time = times[0]\n",
    "    \n",
    "    while min_time <= max_time:\n",
    "        mid_time = (max_time + min_time)//2\n",
    "        hm_mans = 0\n",
    "        for time in times:\n",
    "            hm_mans += mid_time//time\n",
    "        #print(f'hm_mans: {hm_mans}')\n",
    "        if hm_mans >= n:\n",
    "            max_time = mid_time - 1\n",
    "        else:\n",
    "            min_time = mid_time + 1\n",
    "    \n",
    "    return min_time"
   ]
  },
  {
   "cell_type": "code",
   "execution_count": 8,
   "id": "d4253d31-4877-42f3-a54d-54702b6d93b3",
   "metadata": {},
   "outputs": [
    {
     "name": "stdout",
     "output_type": "stream",
     "text": [
      "hm_mans: 7\n",
      "hm_mans: 3\n",
      "hm_mans: 5\n",
      "hm_mans: 6\n",
      "hm_mans: 5\n",
      "hm_mans: 6\n"
     ]
    },
    {
     "data": {
      "text/plain": [
       "28"
      ]
     },
     "execution_count": 8,
     "metadata": {},
     "output_type": "execute_result"
    }
   ],
   "source": [
    "\n",
    "solution(6, [7, 10])"
   ]
  },
  {
   "cell_type": "markdown",
   "id": "f9b19afc-df8a-4a60-83d6-69eabac0678c",
   "metadata": {},
   "source": [
    "(이전 코드)"
   ]
  },
  {
   "cell_type": "code",
   "execution_count": 9,
   "id": "5d3f143c-ec51-41b7-93bd-66e0f9490da3",
   "metadata": {
    "tags": []
   },
   "outputs": [],
   "source": [
    "def solution(n, times):\n",
    "\n",
    "    times.sort()\n",
    "    min_time = 0\n",
    "    max_time = times[-1]\n",
    "    \n",
    "    start_time = min_time * n\n",
    "    end_time = max_time * n\n",
    "    \n",
    "    \n",
    "    def full(now_time):\n",
    "        count = 0\n",
    "        for time in times:\n",
    "            count += now_time//time\n",
    "        return count\n",
    "    \n",
    "    \n",
    "    while start_time < end_time:\n",
    "        mid_time = (start_time + end_time)//2 \n",
    "        if full(mid_time) >= n: # 시간 너무 많이 줬다\n",
    "            end_time = mid_time\n",
    "        else: # 시간 너무 적게 줬다\n",
    "            start_time = mid_time + 1\n",
    "            \n",
    "    return start_time\n",
    "             "
   ]
  },
  {
   "cell_type": "code",
   "execution_count": null,
   "id": "b04eece9-a4e3-4a20-b648-cbc4586ea4d3",
   "metadata": {},
   "outputs": [],
   "source": []
  }
 ],
 "metadata": {
  "kernelspec": {
   "display_name": "Python 3 (ipykernel)",
   "language": "python",
   "name": "python3"
  },
  "language_info": {
   "codemirror_mode": {
    "name": "ipython",
    "version": 3
   },
   "file_extension": ".py",
   "mimetype": "text/x-python",
   "name": "python",
   "nbconvert_exporter": "python",
   "pygments_lexer": "ipython3",
   "version": "3.11.5"
  }
 },
 "nbformat": 4,
 "nbformat_minor": 5
}
