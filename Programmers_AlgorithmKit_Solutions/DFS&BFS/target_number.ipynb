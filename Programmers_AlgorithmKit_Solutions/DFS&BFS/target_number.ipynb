{
 "cells": [
  {
   "cell_type": "markdown",
   "id": "93491130-a747-485b-aca3-ff627263af48",
   "metadata": {},
   "source": [
    "# 타겟 넘버\n",
    "\n",
    "## 문제 설명\n",
    "\n",
    "n개의 음이 아닌 정수들이 있습니다. 이 정수들을 순서를 바꾸지 않고 적절히 더하거나 빼서 타겟 넘버를 만들려고 합니다. 예를 들어 [1, 1, 1, 1, 1]로 숫자 3을 만들려면 다음 다섯 방법을 쓸 수 있습니다.\n",
    "\n",
    "```\n",
    "-1+1+1+1+1 = 3\n",
    "+1-1+1+1+1 = 3\n",
    "+1+1-1+1+1 = 3\n",
    "+1+1+1-1+1 = 3\n",
    "+1+1+1+1-1 = 3\n",
    "```\n",
    "\n",
    "사용할 수 있는 숫자가 담긴 배열 numbers, 타겟 넘버 target이 매개변수로 주어질 때 숫자를 적절히 더하고 빼서 타겟 넘버를 만드는 방법의 수를 return 하도록 solution 함수를 작성해주세요.\n",
    "\n",
    "## 제한 사항\n",
    "\n",
    "- 주어지는 숫자의 개수는 2개 이상 20개 이하입니다.\n",
    "- 각 숫자는 1 이상 50 이하인 자연수입니다.\n",
    "- 타겟 넘버는 1 이상 1000 이하인 자연수입니다.\n",
    "\n",
    "## 입출력 예\n",
    "\n",
    "| numbers          | target | return |\n",
    "|------------------|--------|--------|\n",
    "| [1, 1, 1, 1, 1]  | 3      | 5      |\n",
    "| [4, 1, 2, 1]     | 4      | 2      |\n"
   ]
  },
  {
   "cell_type": "markdown",
   "id": "a614718a-8c0b-4837-b04f-5e49c1b61f7a",
   "metadata": {},
   "source": [
    "# 풀이\n",
    "\n",
    "- 왜 굳이 탐색으로 풀지? 조합으로 간단할거 같은데...\n",
    "- 근데 모든 조합을 계산해놓으면 메모리가 아깝긴 하다\n",
    "- 탐색으로"
   ]
  },
  {
   "cell_type": "code",
   "execution_count": null,
   "id": "9fadcc9c-c6db-44ef-bae3-165e4f3af0de",
   "metadata": {},
   "outputs": [],
   "source": [
    "def solution(numbers, target):\n",
    "    count = 0\n",
    "    stack = []\n",
    "    stack.append([numbers[0],0])\n",
    "    stack.append([-numbers[0],0]) # 계산결과, 인덱스\n",
    "    while stack:\n",
    "        result, idx = stack.pop()\n",
    "        if idx < len(numbers) - 1:\n",
    "            stack.append([result - numbers[idx + 1], idx + 1])\n",
    "            stack.append([result + numbers[idx + 1], idx + 1])\n",
    "        else:\n",
    "            if result == target:\n",
    "                count += 1\n",
    "    return count"
   ]
  },
  {
   "cell_type": "markdown",
   "id": "5476ceb0-6dfa-4a05-a188-f673e14ce227",
   "metadata": {},
   "source": [
    "(이전 풀이)"
   ]
  },
  {
   "cell_type": "code",
   "execution_count": null,
   "id": "36e73ac9-e37e-4672-85d7-53b65ca2d077",
   "metadata": {},
   "outputs": [],
   "source": [
    "# recursive DFS를 써보자 !\n",
    "\n",
    "def solution(numbers, target):\n",
    "    count = [0]\n",
    "\n",
    "    start_node = [0, 0] # 다음에 더하거나 뺄 원소의 인덱스, calculation result\n",
    "\n",
    "    def dfs_recursive(node):\n",
    "        if node[0] == len(numbers):\n",
    "            if node[1] == target:\n",
    "                count[0] += 1\n",
    "        else: # 다음 재귀\n",
    "            \n",
    "            now_index = node[0]\n",
    "            next_index = node[0] + 1\n",
    "            result = node[1]\n",
    "            \n",
    "            dfs_recursive([next_index, result + numbers[now_index]])\n",
    "            dfs_recursive([next_index, result - numbers[now_index]])\n",
    "            \n",
    "        return\n",
    "    \n",
    "    dfs_recursive(start_node)\n",
    "    \n",
    "    return count[0]\n",
    "    "
   ]
  }
 ],
 "metadata": {
  "kernelspec": {
   "display_name": "Python 3 (ipykernel)",
   "language": "python",
   "name": "python3"
  },
  "language_info": {
   "codemirror_mode": {
    "name": "ipython",
    "version": 3
   },
   "file_extension": ".py",
   "mimetype": "text/x-python",
   "name": "python",
   "nbconvert_exporter": "python",
   "pygments_lexer": "ipython3",
   "version": "3.11.5"
  }
 },
 "nbformat": 4,
 "nbformat_minor": 5
}
