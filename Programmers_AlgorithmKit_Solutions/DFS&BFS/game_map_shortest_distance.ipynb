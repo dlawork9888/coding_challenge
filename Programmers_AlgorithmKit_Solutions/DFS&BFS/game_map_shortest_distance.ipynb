{
 "cells": [
  {
   "cell_type": "markdown",
   "id": "8223d36a-58d8-4926-9bf0-932aa2f6c168",
   "metadata": {},
   "source": [
    "# 게임 맵 최단거리\n",
    "\n",
    "## 문제 설명\n",
    "\n",
    "ROR 게임은 두 팀으로 나누어서 진행하며, 상대 팀 진영을 먼저 파괴하면 이기는 게임입니다. 따라서, 각 팀은 상대 팀 진영에 최대한 빨리 도착하는 것이 유리합니다.\n",
    "\n",
    "지금부터 당신은 한 팀의 팀원이 되어 게임을 진행하려고 합니다. 다음은 5 x 5 크기의 맵에, 당신의 캐릭터가 (행: 1, 열: 1) 위치에 있고, 상대 팀 진영은 (행: 5, 열: 5) 위치에 있는 경우의 예시입니다.\n",
    "\n",
    "![](https://grepp-programmers.s3.ap-northeast-2.amazonaws.com/files/production/dc3a1b49-13d3-4047-b6f8-6cc40b2702a7/%E1%84%8E%E1%85%AC%E1%84%83%E1%85%A1%E1%86%AB%E1%84%80%E1%85%A5%E1%84%85%E1%85%B51_sxuruo.png)\n",
    "\n",
    "위 그림에서 검은색 부분은 벽으로 막혀있어 갈 수 없는 길이며, 흰색 부분은 갈 수 있는 길입니다. 캐릭터가 움직일 때는 동, 서, 남, 북 방향으로 한 칸씩 이동하며, 게임 맵을 벗어난 길은 갈 수 없습니다.\n",
    "아래 예시는 캐릭터가 상대 팀 진영으로 가는 두 가지 방법을 나타내고 있습니다.\n",
    "\n",
    "- 첫 번째 방법은 11개의 칸을 지나서 상대 팀 진영에 도착했습니다.\n",
    "\n",
    "![](https://grepp-programmers.s3.ap-northeast-2.amazonaws.com/files/production/9d909e5a-ca95-4088-9df9-d84cb804b2b0/%E1%84%8E%E1%85%AC%E1%84%83%E1%85%A1%E1%86%AB%E1%84%80%E1%85%A5%E1%84%85%E1%85%B52_hnjd3b.png)\n",
    "\n",
    "- 두 번째 방법은 15개의 칸을 지나서 상대팀 진영에 도착했습니다.\n",
    "\n",
    "![](https://grepp-programmers.s3.ap-northeast-2.amazonaws.com/files/production/4b7cd629-a3c2-4e02-b748-a707211131de/%E1%84%8E%E1%85%AC%E1%84%83%E1%85%A1%E1%86%AB%E1%84%80%E1%85%A5%E1%84%85%E1%85%B53_ntxygd.png)\n",
    "\n",
    "위 예시에서는 첫 번째 방법보다 더 빠르게 상대팀 진영에 도착하는 방법은 없으므로, 이 방법이 상대 팀 진영으로 가는 가장 빠른 방법입니다.\n",
    "\n",
    "만약, 상대 팀이 자신의 팀 진영 주위에 벽을 세워두었다면 상대 팀 진영에 도착하지 못할 수도 있습니다. 예를 들어, 다음과 같은 경우에 당신의 캐릭터는 상대 팀 진영에 도착할 수 없습니다.\n",
    "\n",
    "![](https://grepp-programmers.s3.ap-northeast-2.amazonaws.com/files/production/d963b4bd-12e5-45da-9ca7-549e453d58a9/%E1%84%8E%E1%85%AC%E1%84%83%E1%85%A1%E1%86%AB%E1%84%80%E1%85%A5%E1%84%85%E1%85%B54_of9xfg.png)\n",
    "\n",
    "게임 맵의 상태 maps가 매개변수로 주어질 때, 캐릭터가 상대 팀 진영에 도착하기 위해서 지나가야 하는 칸의 개수의 최솟값을 return 하도록 solution 함수를 완성해주세요. 단, 상대 팀 진영에 도착할 수 없을 때는 -1을 return 해주세요.\n",
    "\n",
    "## 제한사항\n",
    "- maps는 n x m 크기의 게임 맵의 상태가 들어있는 2차원 배열로, n과 m은 각각 1 이상 100 이하의 자연수입니다.\n",
    "- n과 m은 서로 같을 수도, 다를 수도 있지만, n과 m이 모두 1인 경우는 입력으로 주어지지 않습니다.\n",
    "- maps는 0과 1로만 이루어져 있으며, 0은 벽이 있는 자리, 1은 벽이 없는 자리를 나타냅니다.\n",
    "- 처음에 캐릭터는 게임 맵의 좌측 상단인 (1, 1) 위치에 있으며, 상대방 진영은 게임 맵의 우측 하단인 (n, m) 위치에 있습니다.\n",
    "\n",
    "## 입출력 예\n",
    "\n",
    "| maps                                               | answer |\n",
    "|----------------------------------------------------|--------|\n",
    "| [[1,0,1,1,1],[1,0,1,0,1],[1,0,1,1,1],[1,1,1,0,1],[0,0,0,0,1]] | 11     |\n",
    "| [[1,0,1,1,1],[1,0,1,0,1],[1,0,1,1,1],[1,1,1,0,0],[0,0,0,0,1]] | -1     |\n"
   ]
  },
  {
   "cell_type": "markdown",
   "id": "5c42e9af-60c7-4f38-8331-e9f18618a609",
   "metadata": {},
   "source": [
    "# 풀이\n",
    "\n",
    "전형적인 BFS <- 최단거리"
   ]
  },
  {
   "cell_type": "code",
   "execution_count": null,
   "id": "8c85aeed-c8b3-4d42-a6bb-647c754da8e7",
   "metadata": {},
   "outputs": [],
   "source": [
    "from collections import deque as dq\n",
    "\n",
    "def solution(maps):\n",
    "    d_row = [0,1,0,-1]\n",
    "    d_col = [1,0,-1,0]\n",
    "    # BFS\n",
    "    q = dq()\n",
    "    start_node = [0,0]\n",
    "    q.append(start_node)\n",
    "    while q:\n",
    "        now_row, now_col = q.popleft()\n",
    "        for i in range(4):\n",
    "            next_row = now_row + d_row[i]\n",
    "            next_col = now_col + d_col[i]\n",
    "            # in maps ? is able to go ?\n",
    "            if 0 <= next_row < len(maps) and 0 <= next_col < len(maps[0]) and maps[next_row][next_col] == 1:\n",
    "                maps[next_row][next_col] = maps[now_row][now_col] + 1 \n",
    "                q.append([next_row, next_col])\n",
    "    return -1 if maps[-1][-1] == 1 else maps[-1][-1]"
   ]
  },
  {
   "cell_type": "markdown",
   "id": "a5c29b67-56f1-4866-8425-75488ba978a4",
   "metadata": {},
   "source": [
    "(이전 풀이)"
   ]
  },
  {
   "cell_type": "code",
   "execution_count": null,
   "id": "21b82f2f-0b5d-4bac-bf3c-25a778374247",
   "metadata": {},
   "outputs": [],
   "source": [
    "from collections import deque\n",
    "def solution(game_map):\n",
    "    d_row = [0,1,0,-1]\n",
    "    d_col = [1,0,-1,0]\n",
    "    q = deque()\n",
    "    q.append((0,0))\n",
    "    while q:\n",
    "        now_row, now_col = q.popleft()\n",
    "        for i in range(4):\n",
    "            next_row = now_row + d_row[i]\n",
    "            next_col = now_col + d_col[i]\n",
    "            if 0 <= next_row < len(game_map) and 0 <= next_col < len(game_map[0]):\n",
    "                if game_map[next_row][next_col] == 1:\n",
    "                    q.append((next_row, next_col))\n",
    "                    game_map[next_row][next_col] = game_map[now_row][now_col] + 1\n",
    "    return -1 if game_map[-1][-1] == 1 or game_map[-1][-1] == 0 else game_map[-1][-1]"
   ]
  },
  {
   "cell_type": "markdown",
   "id": "5870e59c-b634-4662-8142-134bc1793e92",
   "metadata": {},
   "source": [
    "거의 똑같네...."
   ]
  }
 ],
 "metadata": {
  "kernelspec": {
   "display_name": "Python 3 (ipykernel)",
   "language": "python",
   "name": "python3"
  },
  "language_info": {
   "codemirror_mode": {
    "name": "ipython",
    "version": 3
   },
   "file_extension": ".py",
   "mimetype": "text/x-python",
   "name": "python",
   "nbconvert_exporter": "python",
   "pygments_lexer": "ipython3",
   "version": "3.11.5"
  }
 },
 "nbformat": 4,
 "nbformat_minor": 5
}
