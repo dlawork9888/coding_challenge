{
 "cells": [
  {
   "cell_type": "markdown",
   "id": "5f8ea8a0-2423-49f5-910d-d50e55c71d07",
   "metadata": {},
   "source": [
    "# 여행 경로\n",
    "\n",
    "## 문제 설명\n",
    "\n",
    "주어진 항공권을 모두 이용하여 여행경로를 짜려고 합니다. 항상 \"ICN\" 공항에서 출발합니다.\n",
    "\n",
    "항공권 정보가 담긴 2차원 배열 tickets가 매개변수로 주어질 때, 방문하는 공항 경로를 배열에 담아 return 하도록 solution 함수를 작성해주세요.\n",
    "\n",
    "## 제한사항\n",
    "\n",
    "- 모든 공항은 알파벳 대문자 3글자로 이루어집니다.\n",
    "- 주어진 공항 수는 3개 이상 10,000개 이하입니다.\n",
    "- tickets의 각 행 [a, b]는 a 공항에서 b 공항으로 가는 항공권이 있다는 의미입니다.\n",
    "- 주어진 항공권은 모두 사용해야 합니다.\n",
    "- 만일 가능한 경로가 2개 이상일 경우 알파벳 순서가 앞서는 경로를 return 합니다.\n",
    "- 모든 도시를 방문할 수 없는 경우는 주어지지 않습니다.\n",
    "\n",
    "# 입출력 예\n",
    "\n",
    "| tickets                                       | return                             |\n",
    "|-----------------------------------------------------|------------------------------------|\n",
    "| [[\"ICN\", \"JFK\"], [\"HND\", \"IAD\"], [\"JFK\", \"HND\"]]    | [\"ICN\", \"JFK\", \"HND\", \"IAD\"]      |\n",
    "| [[\"ICN\", \"SFO\"], [\"ICN\", \"ATL\"], [\"SFO\", \"ATL\"], [\"ATL\", \"ICN\"], [\"ATL\",\"SFO\"]] | [\"ICN\", \"ATL\", \"ICN\", \"SFO\", \"ATL\", \"SFO\"] |\n"
   ]
  },
  {
   "cell_type": "markdown",
   "id": "b727eb03-4e24-49af-a309-4163d8c47bfb",
   "metadata": {
    "tags": []
   },
   "source": [
    "# 풀이\n",
    "\n",
    "- 인접 리스트\n",
    "- 음... 그 다음은 그냥 별거없는데?\n",
    "\n",
    "```\n",
    "만일 가능한 경로가 2개 이상일 경우 알파벳 순서가 앞서는 경로를 return 합니다.\n",
    "```\n",
    "-> DFS로"
   ]
  },
  {
   "cell_type": "code",
   "execution_count": null,
   "id": "bd3a09e9-e5e8-4542-9d69-23b6648db09d",
   "metadata": {},
   "outputs": [],
   "source": [
    "from collections import defaultdict\n",
    "\n",
    "def solution(tickets):\n",
    "    # 인접 리스트\n",
    "    adj_list = defaultdict(list)\n",
    "    edges = defaultdict(list)\n",
    "    for start, end in tickets:\n",
    "        adj_list[start].append(end)\n",
    "    \n",
    "    # 인접 리스트 정렬 및 간선 방문 여부 초기화\n",
    "    for key in adj_list:\n",
    "        adj_list[key].sort()\n",
    "        edges[key] = [False for _ in range(len(adj_list[key]))]\n",
    "    \n",
    "    #print(f'adj_list: {adj_list}')\n",
    "    #print(f'edges: {edges}')\n",
    "    \n",
    "    answer = []\n",
    "\n",
    "    def dfs(departure, route):\n",
    "        nonlocal answer\n",
    "        if len(route) == len(tickets) + 1:\n",
    "            answer = route\n",
    "            return True\n",
    "        \n",
    "        for idx, arrival in enumerate(adj_list[departure]):\n",
    "            if not edges[departure][idx]:\n",
    "                edges[departure][idx] = True\n",
    "                if dfs(arrival, route + [arrival]):\n",
    "                    return True\n",
    "                edges[departure][idx] = False  # 재귀에서 돌아오면 다시 돌려놓기\n",
    "    \n",
    "        return False\n",
    "\n",
    "    dfs('ICN', ['ICN'])\n",
    "    return answer\n"
   ]
  },
  {
   "cell_type": "markdown",
   "id": "0663ccb6-6ff6-42ca-a400-68482b799e88",
   "metadata": {},
   "source": [
    "- 재귀는 익숙치가 않아. 역시 명시적 스택이 좋다... 세밀한 컨트롤.. 세밀한 컨트롤...\n",
    "\n",
    "- **nonlocal** vs global\n",
    "\n",
    "- global은 함수가 정의된 모듈 최상위 레벨에 있는 변수를 수정하거나 참조할때 사용\n",
    "\n",
    "### global\n",
    "```python\n",
    "# 모듈 전역 변수\n",
    "counter = 0\n",
    "\n",
    "def outer_function():\n",
    "    def inner_function():\n",
    "        global counter  # 모듈 전역 변수에 접근\n",
    "        counter += 1\n",
    "\n",
    "    inner_function()\n",
    "\n",
    "outer_function()\n",
    "print(counter)  # 1\n",
    "\n",
    "```\n",
    "### nonlocal\n",
    "```python\n",
    "def outer_function():\n",
    "    answer = []\n",
    "\n",
    "    def inner_function():\n",
    "        nonlocal answer  # 외부 함수의 answer 변수에 접근\n",
    "        answer.append(1)\n",
    "\n",
    "    inner_function()\n",
    "    print(answer)  # [1] 출력됨\n",
    "\n",
    "outer_function()\n",
    "```"
   ]
  },
  {
   "cell_type": "markdown",
   "id": "50c55a5b-8beb-4ac5-b581-fb2881647f07",
   "metadata": {},
   "source": [
    "(이전 풀이)"
   ]
  },
  {
   "cell_type": "code",
   "execution_count": 2,
   "id": "cbfa888c-42c1-4fd8-bc9a-d86ce2f12f96",
   "metadata": {
    "tags": []
   },
   "outputs": [],
   "source": [
    "from collections import deque\n",
    "\n",
    "def solution(tickets):\n",
    "    used = [False for x in range(len(tickets))]\n",
    "    \n",
    "    start_node = [['ICN'], used]\n",
    "    queue = deque()\n",
    "    queue.append(start_node)\n",
    "    \n",
    "    paths = []\n",
    "    while queue:\n",
    "        now_path, now_used = queue.popleft()\n",
    "        if all(now_used):\n",
    "            paths.append(now_path)\n",
    "        for idx, ticket in enumerate(tickets):\n",
    "            if not now_used[idx] and ticket[0] == now_path[-1]:\n",
    "                next_path = now_path + [ticket[1]]\n",
    "                next_used = now_used[:]\n",
    "                next_used[idx] = True\n",
    "                queue.append([next_path, next_used])\n",
    "    paths.sort()\n",
    "    return paths[0]\n"
   ]
  },
  {
   "cell_type": "markdown",
   "id": "c0ed0b50-4ca9-4bdd-aa46-7181cd3bbf4b",
   "metadata": {},
   "source": [
    "티켓 자체를 노드로 본 케이스\n",
    "\n",
    "솔직히 이게 더 직관적임.\n",
    "\n",
    "하지만 모든 경우를 다 탐색하는 부분이 조금 아쉽다."
   ]
  },
  {
   "cell_type": "code",
   "execution_count": null,
   "id": "0f852ba5-8a1a-48e0-aaf6-4630827b0e05",
   "metadata": {},
   "outputs": [],
   "source": []
  }
 ],
 "metadata": {
  "kernelspec": {
   "display_name": "Python 3 (ipykernel)",
   "language": "python",
   "name": "python3"
  },
  "language_info": {
   "codemirror_mode": {
    "name": "ipython",
    "version": 3
   },
   "file_extension": ".py",
   "mimetype": "text/x-python",
   "name": "python",
   "nbconvert_exporter": "python",
   "pygments_lexer": "ipython3",
   "version": "3.11.5"
  }
 },
 "nbformat": 4,
 "nbformat_minor": 5
}
