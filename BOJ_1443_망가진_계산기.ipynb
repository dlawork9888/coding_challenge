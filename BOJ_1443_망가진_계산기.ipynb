{
 "cells": [
  {
   "cell_type": "markdown",
   "id": "d967a526-ff08-48cd-935c-3329bc5f90eb",
   "metadata": {},
   "source": [
    "# BOJ. 1443. 망가진 계산기\n",
    "###### https://www.acmicpc.net/problem/1443"
   ]
  },
  {
   "cell_type": "markdown",
   "id": "94cae646-aa8b-41d1-a412-1d71bb9d1339",
   "metadata": {},
   "source": [
    "- 완전탐색은 당연히 안될 것 같고, 이분 탐색?"
   ]
  },
  {
   "cell_type": "code",
   "execution_count": 19,
   "id": "14ec44a9-23f6-4668-935f-a844287577dc",
   "metadata": {
    "tags": []
   },
   "outputs": [
    {
     "name": "stdin",
     "output_type": "stream",
     "text": [
      " 4 3\n"
     ]
    },
    {
     "name": "stdout",
     "output_type": "stream",
     "text": [
      "729\n"
     ]
    }
   ],
   "source": [
    "# 완전 탐색\n",
    "\n",
    "### D => 표시 자리수\n",
    "### P => 2부터 9사이의 수를 몇번 곱할건지\n",
    "D, P = [int(x) for x in input().split()]\n",
    "\n",
    "# 수를 하나 넣으면 2에서 9까지의 수를 곱해서 리스트를 반환\n",
    "def multiply(x):\n",
    "    return [x * i for i in range(2,10)]\n",
    "\n",
    "results = [1]\n",
    "for p in range(P):\n",
    "    step_n = []\n",
    "    for result in results:\n",
    "        step_n += multiply(result)\n",
    "    results = step_n\n",
    "    \n",
    "results.sort(key = lambda x: -x)\n",
    "\n",
    "flag = False\n",
    "for result in results:\n",
    "    if len(str(result)) <= D:\n",
    "        print(result)\n",
    "        flag = True\n",
    "        break\n",
    "if flag == False:\n",
    "    print(-1)\n"
   ]
  },
  {
   "cell_type": "code",
   "execution_count": null,
   "id": "ce3c5eaa-1960-4529-8c4c-a8a76ae4626a",
   "metadata": {},
   "outputs": [],
   "source": [
    "# 당연히 안됨 ㅋㅋ"
   ]
  }
 ],
 "metadata": {
  "kernelspec": {
   "display_name": "Python 3 (ipykernel)",
   "language": "python",
   "name": "python3"
  },
  "language_info": {
   "codemirror_mode": {
    "name": "ipython",
    "version": 3
   },
   "file_extension": ".py",
   "mimetype": "text/x-python",
   "name": "python",
   "nbconvert_exporter": "python",
   "pygments_lexer": "ipython3",
   "version": "3.11.5"
  }
 },
 "nbformat": 4,
 "nbformat_minor": 5
}
