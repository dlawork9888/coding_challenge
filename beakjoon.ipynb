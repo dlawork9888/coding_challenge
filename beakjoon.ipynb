{
 "cells": [
  {
   "cell_type": "markdown",
   "id": "14e611ac-8fa2-44e5-b52d-557ef21f7301",
   "metadata": {},
   "source": [
    "# 1010. 다리 놓기"
   ]
  },
  {
   "cell_type": "markdown",
   "id": "40499adf-e64e-443d-915d-3c2a706b81e2",
   "metadata": {
    "tags": []
   },
   "source": [
    "##### https://www.acmicpc.net/problem/1010"
   ]
  },
  {
   "cell_type": "raw",
   "id": "88d4264b-e8d6-49ba-bcfa-b5638fb2abc8",
   "metadata": {},
   "source": [
    "# Combination 구하기\n",
    "# 5C3 = 5*4*3/3*2*1 = 5P3/3P3\n",
    "# => permutation 구하기\n",
    "# 5P3 = 5*4P2 = 5*4*3P1"
   ]
  },
  {
   "cell_type": "code",
   "execution_count": 7,
   "id": "871c66bb-5db3-439c-90c3-2152c11b0f45",
   "metadata": {},
   "outputs": [
    {
     "name": "stdin",
     "output_type": "stream",
     "text": [
      " 1\n",
      " 13 29\n"
     ]
    },
    {
     "name": "stdout",
     "output_type": "stream",
     "text": [
      "67863915.0\n"
     ]
    }
   ],
   "source": [
    "def permutation(n,m):\n",
    "    result = 1\n",
    "    if m == 1:\n",
    "        return n\n",
    "    else:\n",
    "        return n * permutation(n-1,m-1)\n",
    "\n",
    "for T in range(int(input())):\n",
    "    m,n = [int(x) for x in input().split()]\n",
    "    print(int(permutation(n,m)/permutation(m,m)))\n",
    "    "
   ]
  },
  {
   "cell_type": "code",
   "execution_count": null,
   "id": "bd551a12-f639-476f-b2a7-57a6a68c47f2",
   "metadata": {},
   "outputs": [],
   "source": []
  }
 ],
 "metadata": {
  "kernelspec": {
   "display_name": "Python 3 (ipykernel)",
   "language": "python",
   "name": "python3"
  },
  "language_info": {
   "codemirror_mode": {
    "name": "ipython",
    "version": 3
   },
   "file_extension": ".py",
   "mimetype": "text/x-python",
   "name": "python",
   "nbconvert_exporter": "python",
   "pygments_lexer": "ipython3",
   "version": "3.9.16"
  }
 },
 "nbformat": 4,
 "nbformat_minor": 5
}
