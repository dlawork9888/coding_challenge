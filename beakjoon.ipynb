{
 "cells": [
  {
   "cell_type": "markdown",
   "id": "14e611ac-8fa2-44e5-b52d-557ef21f7301",
   "metadata": {
    "jp-MarkdownHeadingCollapsed": true
   },
   "source": [
    "# 1010. 다리 놓기"
   ]
  },
  {
   "cell_type": "markdown",
   "id": "40499adf-e64e-443d-915d-3c2a706b81e2",
   "metadata": {
    "tags": []
   },
   "source": [
    "##### https://www.acmicpc.net/problem/1010"
   ]
  },
  {
   "cell_type": "code",
   "execution_count": null,
   "id": "9afe3e8e-6cf9-42a3-bf64-6ae74525f930",
   "metadata": {},
   "outputs": [],
   "source": [
    " # Combination 구하기\n",
    " # 5C3 = 5*4*3/3*2*1 = 5P3/3P3\n",
    " # => permutation 구하기\n",
    " # 5P3 = 5*4P2 = 5*4*3P1"
   ]
  },
  {
   "cell_type": "code",
   "execution_count": 7,
   "id": "871c66bb-5db3-439c-90c3-2152c11b0f45",
   "metadata": {},
   "outputs": [
    {
     "name": "stdin",
     "output_type": "stream",
     "text": [
      " 1\n",
      " 13 29\n"
     ]
    },
    {
     "name": "stdout",
     "output_type": "stream",
     "text": [
      "67863915.0\n"
     ]
    }
   ],
   "source": [
    "def permutation(n,m):\n",
    "    result = 1\n",
    "    if m == 1:\n",
    "        return n\n",
    "    else:\n",
    "        return n * permutation(n-1,m-1)\n",
    "\n",
    "for T in range(int(input())):\n",
    "    m,n = [int(x) for x in input().split()]\n",
    "    print(int(permutation(n,m)/permutation(m,m)))\n",
    "    "
   ]
  },
  {
   "cell_type": "markdown",
   "id": "5d33338a-aab2-43ee-9dc6-3c15586d5c2a",
   "metadata": {
    "jp-MarkdownHeadingCollapsed": true
   },
   "source": [
    "# 1094. 막대기"
   ]
  },
  {
   "cell_type": "markdown",
   "id": "56e192d1-7277-465e-b95d-2e5506b3b341",
   "metadata": {},
   "source": [
    "##### https://www.acmicpc.net/problem/1094"
   ]
  },
  {
   "cell_type": "code",
   "execution_count": 1,
   "id": "d705db39-e7c7-4e50-900b-915812e323c9",
   "metadata": {},
   "outputs": [],
   "source": [
    "# 지민이가 가지고 있는 막대의 길이를 모두 더한다. 처음에는 64cm 막대 하나만 가지고 있다. \n",
    "#이때, 합이 X보다 크다면, 아래와 같은 과정을 반복한다.\n",
    "\n",
    "    #가지고 있는 막대 중 길이가 가장 짧은 것을 절반으로 자른다.\n",
    "    #만약, 위에서 자른 막대의 절반 중 하나를 버리고 남아있는 막대의 길이의 합이 X보다 크거나 같다면, 위에서 자른 막대의 절반 중 하나를 버린다.\n",
    "    \n",
    "#이제, 남아있는 모든 막대를 풀로 붙여서 Xcm를 만든다."
   ]
  },
  {
   "cell_type": "code",
   "execution_count": 3,
   "id": "b9a59630-3cd2-4bab-be88-ccd7a4afee4a",
   "metadata": {},
   "outputs": [
    {
     "name": "stdin",
     "output_type": "stream",
     "text": [
      " 32\n"
     ]
    },
    {
     "name": "stdout",
     "output_type": "stream",
     "text": [
      "1\n"
     ]
    }
   ],
   "source": [
    "def process(X):\n",
    "    sticks = [64]\n",
    "    while sum(sticks) > X: # 막대기의 합이 X가 아닐동안 반복 \n",
    "        now_stick = sticks.pop()\n",
    "        half = now_stick//2\n",
    "        sticks.append(half)\n",
    "        if not sum(sticks) >= X:\n",
    "            sticks.append(half)\n",
    "    return len(sticks)\n",
    "    \n",
    "print(process(int(input())))\n",
    "        "
   ]
  },
  {
   "cell_type": "markdown",
   "id": "2e83179e-f838-498a-b9dd-99cc52da36a0",
   "metadata": {
    "jp-MarkdownHeadingCollapsed": true
   },
   "source": [
    "# 1015. 수열 정렬"
   ]
  },
  {
   "cell_type": "markdown",
   "id": "f782b36d-94d8-44b4-9ff3-5b67af58685d",
   "metadata": {},
   "source": [
    "##### https://www.acmicpc.net/problem/1015"
   ]
  },
  {
   "cell_type": "code",
   "execution_count": 2,
   "id": "29954de2-5dc8-4806-9862-d4bb36fe24da",
   "metadata": {},
   "outputs": [],
   "source": [
    "# 비내림차순 => 오른차순\n",
    "# 우선순위가 같다면, 사전순으로"
   ]
  },
  {
   "cell_type": "code",
   "execution_count": 10,
   "id": "854136fe-f857-47d3-a86e-e81f8ab9ecf3",
   "metadata": {},
   "outputs": [
    {
     "name": "stdin",
     "output_type": "stream",
     "text": [
      " 4\n",
      " 2 1 3 1\n"
     ]
    },
    {
     "name": "stdout",
     "output_type": "stream",
     "text": [
      "2 0 3 1\n"
     ]
    }
   ],
   "source": [
    "from collections import deque\n",
    "\n",
    "def input_process():\n",
    "    N = int(input())\n",
    "    A = [int(x) for x in input().split()]\n",
    "    return N,A\n",
    "\n",
    "N, A = input_process()\n",
    "A_sorted = deque(sorted(A))\n",
    "P = ['' for x in range(N)]\n",
    "count = 0\n",
    "while A_sorted:\n",
    "    now_num = A_sorted.popleft()\n",
    "    for idx, num in enumerate(A):\n",
    "        if num == now_num and P[idx] == '':\n",
    "            P[idx] = str(count)\n",
    "            count += 1\n",
    "print(' '.join(P))"
   ]
  },
  {
   "cell_type": "markdown",
   "id": "3151c2b1-13f9-4436-bd42-d917ef79827e",
   "metadata": {
    "jp-MarkdownHeadingCollapsed": true
   },
   "source": [
    "# 1018. 체스판 다시 칠하기"
   ]
  },
  {
   "cell_type": "markdown",
   "id": "fe57bada-c163-4f34-91f6-b5c475afbf6b",
   "metadata": {},
   "source": [
    "##### https://www.acmicpc.net/problem/1018"
   ]
  },
  {
   "cell_type": "code",
   "execution_count": 1,
   "id": "718901f8-30c6-4f8c-b65d-915db8f03f42",
   "metadata": {},
   "outputs": [],
   "source": [
    "# 완전 탐색?\n",
    "# BFS? \n",
    "# check 활용\n",
    "# 왼쪽 위가 black, white인 체스판과 몇개의 원소가 다른지 비교\n",
    "# Convolutional layer와 비슷하게 작동"
   ]
  },
  {
   "cell_type": "code",
   "execution_count": 38,
   "id": "512b2f5d-80d4-4f04-b9d8-6ded51c85479",
   "metadata": {},
   "outputs": [
    {
     "name": "stdin",
     "output_type": "stream",
     "text": [
      " 11 12\n",
      " BWWBWWBWWBWW\n",
      " BWWBWBBWWBWW\n",
      " WBWWBWBBWWBW\n",
      " BWWBWBBWWBWW\n",
      " WBWWBWBBWWBW\n",
      " BWWBWBBWWBWW\n",
      " WBWWBWBBWWBW\n",
      " BWWBWBWWWBWW\n",
      " WBWWBWBBWWBW\n",
      " BWWBWBBWWBWW\n",
      " WBWWBWBBWWBW\n"
     ]
    },
    {
     "name": "stdout",
     "output_type": "stream",
     "text": [
      "15\n"
     ]
    }
   ],
   "source": [
    "N, M = [int(x) for x in input().split()]\n",
    "# 행이 몇개, 열이 몇개\n",
    "board = []\n",
    "for _ in range(N):\n",
    "    board.append([x for x in input()])\n",
    "white_start = ['W','B','W','B','W','B','W','B']\n",
    "black_start = ['B','W','B','W','B','W','B','W']\n",
    "ws_cb = []\n",
    "bs_cb = []\n",
    "for i in range(8):\n",
    "    if i % 2 == 0:\n",
    "        ws_cb.append(white_start)\n",
    "        bs_cb.append(black_start)\n",
    "    else:\n",
    "        ws_cb.append(black_start)\n",
    "        bs_cb.append(white_start)\n",
    "\n",
    "from collections import deque\n",
    "import math\n",
    "check = [[False for _ in range(M - 7)] for _ in range(N - 7)]\n",
    "d_row = [-1,0,1,0]\n",
    "d_col = [0,1,0,-1]\n",
    "dq = deque()\n",
    "start_node = (0,0)\n",
    "dq.append(start_node)\n",
    "\"\"\"\n",
    "for row in check:\n",
    "    for el in row:\n",
    "        print(el, end = ' ')\n",
    "    print()\n",
    "for row in board:\n",
    "    for el in row:\n",
    "        print(el, end = ' ')\n",
    "    print()\n",
    "\"\"\"\n",
    "min_count = math.inf\n",
    "while dq:\n",
    "    now_node = dq.popleft()\n",
    "    #print(f'now_node : {now_node}')\n",
    "    check[now_node[0]][now_node[1]] = True\n",
    "    now_board = []\n",
    "    for i in range(now_node[0], now_node[0]+8):\n",
    "        row = board[i]\n",
    "        now_board.append(row[now_node[1]:now_node[1]+8])\n",
    "    ws_count = 0\n",
    "    bs_count = 0\n",
    "    for i in range(8):\n",
    "        for j in range(8):\n",
    "            if ws_cb[i][j] != now_board[i][j]:\n",
    "                ws_count += 1\n",
    "            if bs_cb[i][j] != now_board[i][j]:\n",
    "                bs_count += 1\n",
    "    if min_count > ws_count:\n",
    "        min_count = ws_count\n",
    "    if min_count > bs_count:\n",
    "        min_count = bs_count\n",
    "    for i in range(4):\n",
    "        #print('!')\n",
    "        # 다음 탐색할 노드 집어넣는 로직\n",
    "        next_node = (now_node[0]+d_row[i], now_node[1]+d_col[i])\n",
    "        if 0 <= next_node[0] <= N - 8 and 0 <= next_node[1] <= M-8:\n",
    "            if check[next_node[0]][next_node[1]] == False:\n",
    "                #print('!')\n",
    "                dq.append(next_node)\n",
    "print(min_count)"
   ]
  },
  {
   "cell_type": "code",
   "execution_count": 39,
   "id": "48716fc4-85eb-49e3-963d-43692bc39444",
   "metadata": {},
   "outputs": [],
   "source": [
    "# => 로직은 잘 돌아가지만 시간초과\n",
    "# 사실.. bfs로 풀 이유가 없긴함\n",
    "# bfs를 사용하지 않고 풀어보자"
   ]
  },
  {
   "cell_type": "code",
   "execution_count": 48,
   "id": "514a18d9-7748-41d4-b52c-82f3b6750369",
   "metadata": {},
   "outputs": [
    {
     "name": "stdin",
     "output_type": "stream",
     "text": [
      " 9 23\n",
      " BBBBBBBBBBBBBBBBBBBBBBB\n",
      " BBBBBBBBBBBBBBBBBBBBBBB\n",
      " BBBBBBBBBBBBBBBBBBBBBBB\n",
      " BBBBBBBBBBBBBBBBBBBBBBB\n",
      " BBBBBBBBBBBBBBBBBBBBBBB\n",
      " BBBBBBBBBBBBBBBBBBBBBBB\n",
      " BBBBBBBBBBBBBBBBBBBBBBB\n",
      " BBBBBBBBBBBBBBBBBBBBBBB\n",
      " BBBBBBBBBBBBBBBBBBBBBBW\n"
     ]
    },
    {
     "name": "stdout",
     "output_type": "stream",
     "text": [
      "31\n"
     ]
    }
   ],
   "source": [
    "N, M = [int(x) for x in input().split()]\n",
    "# 행이 몇개, 열이 몇개\n",
    "board = []\n",
    "for _ in range(N):\n",
    "    board.append([x for x in input()])\n",
    "white_start = ['W','B','W','B','W','B','W','B']\n",
    "black_start = ['B','W','B','W','B','W','B','W']\n",
    "ws_cb = []\n",
    "bs_cb = []\n",
    "for i in range(8):\n",
    "    if i % 2 == 0:\n",
    "        ws_cb.append(white_start)\n",
    "        bs_cb.append(black_start)\n",
    "    else:\n",
    "        ws_cb.append(black_start)\n",
    "        bs_cb.append(white_start)\n",
    "        \n",
    "import math\n",
    "min_count = math.inf\n",
    "\n",
    "for i in range(N-7):\n",
    "    for j in range(M-7):\n",
    "        #print(f'start_point = {i},{j}')\n",
    "        ws_count = 0 \n",
    "        bs_count = 0\n",
    "        for m in range(8):\n",
    "            for n in range(8):\n",
    "                if ws_cb[m][n] != board[i+m][j+n]:\n",
    "                    ws_count += 1\n",
    "                if bs_cb[m][n] != board[i+m][j+n]:\n",
    "                    bs_count += 1\n",
    "        if min_count > ws_count:\n",
    "            min_count = ws_count\n",
    "        if min_count > bs_count:\n",
    "            min_count = bs_count\n",
    "print(min_count)"
   ]
  },
  {
   "cell_type": "markdown",
<<<<<<< HEAD
   "id": "6b246224-d3a5-45ef-abff-9343419088ab",
   "metadata": {},
   "source": [
    "# 1002. 터렛"
=======
   "id": "50d8688b-7dd0-45b2-9014-8046f236de8e",
   "metadata": {
    "jp-MarkdownHeadingCollapsed": true
   },
   "source": [
    "# 1463. 1로 만들기"
>>>>>>> 48aa13a217c63b8e4bb995044653a02f50388650
   ]
  },
  {
   "cell_type": "markdown",
<<<<<<< HEAD
   "id": "5e4d2e30-996e-43e9-8e56-4ca409d25c58",
   "metadata": {},
   "source": [
    "##### https://www.acmicpc.net/problem/1002"
=======
   "id": "d7053d95-d92b-41d1-a937-16d6e8185183",
   "metadata": {},
   "source": [
    "##### https://www.acmicpc.net/problem/1463"
>>>>>>> 48aa13a217c63b8e4bb995044653a02f50388650
   ]
  },
  {
   "cell_type": "code",
   "execution_count": null,
<<<<<<< HEAD
   "id": "61e0e3af-cba4-44dc-97bb-24861567275e",
=======
   "id": "333548b5-e6f9-4a1b-be50-2aa23f22b364",
   "metadata": {},
   "outputs": [],
   "source": [
    "# X가 3으로 나누어 떨어지면, 3으로 나눈다.\n",
    "# X가 2로 나누어 떨어지면, 2로 나눈다.\n",
    "# 1을 뺀다.\n",
    "\n",
    "# 6으로 나누어자는 수 => 2와 3 둘 다로 나누어짐.\n",
    "# => 3으로 먼저 나누면 더 작은 수가 되지 않을까>\n",
    "# => 어차피 6으로 나누어지면 3으로 나누든 2로 나누든 상관없다. 어차피 둘 다 할거니까."
   ]
  },
  {
   "cell_type": "code",
   "execution_count": 5,
   "id": "7f58307a-ece6-465a-8858-2279d0bb6555",
   "metadata": {},
   "outputs": [
    {
     "name": "stdin",
     "output_type": "stream",
     "text": [
      " 10\n"
     ]
    },
    {
     "name": "stdout",
     "output_type": "stream",
     "text": [
      "4\n"
     ]
    }
   ],
   "source": [
    "def process(X):\n",
    "    if X % 3 == 0:\n",
    "        X = X//3\n",
    "    elif X % 2 == 0:\n",
    "        X = X//2\n",
    "    else:\n",
    "        X -= 1\n",
    "    #print(X)\n",
    "    return X\n",
    "\n",
    "count = 0\n",
    "\n",
    "N = int(input())\n",
    "while N != 1:\n",
    "    N = process(N)\n",
    "    count += 1\n",
    "    \n",
    "print(count)"
   ]
  },
  {
   "cell_type": "code",
   "execution_count": 6,
   "id": "93dc36c9-08b5-4408-9046-569a03e2a7f9",
   "metadata": {},
   "outputs": [],
   "source": [
    "# 주어진 순서로 따라가면 최솟값이 산출되지않음. \n",
    "# DP 사용\n",
    "# n번째 있는 애들 중 3가지 연산 중 가능한 걸 수행하고 그 n번째의 리스트에 추가\n",
    "# n번째 리스트 => 연산을 n번 수행한 결과\n",
    "\n",
    "# 루프문 \n",
    "# dp_list에 다음 항 추가\n",
    "# 지금 항에 있는 녀석들한테 수행할 수 있는 계산 수행하고 다음 항에 추가\n",
    "# 이때, 추가할 값이 1이면 다음 항의 인덱스를 출력하고 종료\n",
    "\n",
    "\n",
    "# 반례 => 1"
   ]
  },
  {
   "cell_type": "code",
   "execution_count": 13,
   "id": "91cebc45-ed8d-47ac-9925-477dc0d035d5",
   "metadata": {},
   "outputs": [
    {
     "name": "stdin",
     "output_type": "stream",
     "text": [
      " 1\n"
     ]
    },
    {
     "name": "stdout",
     "output_type": "stream",
     "text": [
      "0\n"
     ]
    }
   ],
   "source": [
    "dp_list = [[int(input())]]\n",
    "now_index = 0\n",
    "Flag = False\n",
    "\n",
    "while True:\n",
    "    # 반례용\n",
    "    if dp_list[0][0] == 1:\n",
    "        print(0)\n",
    "        break\n",
    "        \n",
    "    dp_list.append([])\n",
    "    for x in dp_list[now_index]:\n",
    "        if x%3 == 0:\n",
    "            dp_list[now_index + 1].append(x//3)\n",
    "            if x//3 == 1:\n",
    "                print(now_index + 1)\n",
    "                Flag = True\n",
    "                break\n",
    "        if x%2 == 0:\n",
    "            dp_list[now_index + 1].append(x//2)\n",
    "            if x//2 == 1:\n",
    "                print(now_index + 1)\n",
    "                Flag = True\n",
    "                break\n",
    "        dp_list[now_index + 1].append(x - 1)\n",
    "        if x - 1 == 1:\n",
    "            print(now_index + 1)\n",
    "            Flag = True\n",
    "            break\n",
    "    now_index += 1\n",
    "    #print(dp_list)\n",
    "    if Flag == True:\n",
    "        break"
   ]
  },
  {
   "cell_type": "markdown",
   "id": "afae1291-70d0-479e-b5e9-b9133b6f005b",
   "metadata": {
    "jp-MarkdownHeadingCollapsed": true
   },
   "source": [
    "# 1929. 소수 구하기"
   ]
  },
  {
   "cell_type": "markdown",
   "id": "3798919e-2fc3-4cc1-8343-4e2b0bf09dc7",
   "metadata": {},
   "source": [
    "##### https://www.acmicpc.net/problem/1929"
   ]
  },
  {
   "cell_type": "code",
   "execution_count": 18,
   "id": "d30effac-1d91-424d-9a65-d673528739cc",
   "metadata": {},
   "outputs": [],
   "source": [
    "# 에라토스테네스의 체 안씀\n",
    "# 2부터 n//2 + 1까지만 확인"
   ]
  },
  {
   "cell_type": "code",
   "execution_count": 17,
   "id": "028f32f8-387f-45b0-a629-dbdf62c67624",
   "metadata": {},
   "outputs": [
    {
     "name": "stdin",
     "output_type": "stream",
     "text": [
      " 3 16\n"
     ]
    },
    {
     "name": "stdout",
     "output_type": "stream",
     "text": [
      "3\n",
      "5\n",
      "7\n",
      "11\n",
      "13\n"
     ]
    }
   ],
   "source": [
    "M, N = [int(x) for x in input().split()]\n",
    "for x in range(M,N+1):\n",
    "    if x == 1:\n",
    "        continue\n",
    "    flag = True\n",
    "    for i in range(2,x//2+2):\n",
    "        if x%i == 0:\n",
    "            # 나누어떨어지면 소수가 아님\n",
    "            flag = False\n",
    "            break\n",
    "    if flag == True:\n",
    "        print(x)"
   ]
  },
  {
   "cell_type": "code",
   "execution_count": 22,
   "id": "b012a19b-8794-49a0-aa83-e914a0d46b9a",
   "metadata": {},
   "outputs": [
    {
     "name": "stdout",
     "output_type": "stream",
     "text": [
      "[2, 3, 5, 7, 11, 13, 17, 19, 23, 29, 31, 37, 41, 43, 47, 53, 59, 61, 67, 71, 73, 79, 83, 89, 97]\n"
     ]
    }
   ],
   "source": [
    "# 에라토스테네스의 체 사용!\n",
    "# 에라토스테네스의 체\n",
    "\n",
    "n = 100\n",
    "num_list = [False, False] + [True] * (n-1) # n번째 인덱스까지 있음. 0,1,2,...,n\n",
    "primes = []\n",
    "for i in range(2,n+1):\n",
    "    if num_list[i] == True:\n",
    "        primes.append(i)\n",
    "        for j in range(2*i, n+1, i):\n",
    "            num_list[j] = False\n",
    "print(primes)\n",
    "\n",
    "\n",
    "##### 어느 수가 소수이면, 그 수의 배수를 모두 지움!"
   ]
  },
  {
   "cell_type": "code",
   "execution_count": 32,
   "id": "1a2983fa-2f72-4185-8614-59d1ae1b69b3",
   "metadata": {},
   "outputs": [
    {
     "name": "stdin",
     "output_type": "stream",
     "text": [
      " 3 16\n"
     ]
    },
    {
     "name": "stdout",
     "output_type": "stream",
     "text": [
      "3\n",
      "5\n",
      "7\n",
      "11\n",
      "13\n"
     ]
    }
   ],
   "source": [
    "M, N = [int(x) for x in input().split()]\n",
    "# num_list 생성 \n",
    "num_list = [False, False] + [True]*(N+1) # 0,1,2,...,n번째 인덱스까지\n",
    "for i in range(2, N+1):\n",
    "    if num_list[i] == True: # 소수이면,\n",
    "        # 배수 다 지움\n",
    "        if M <= i <= N:\n",
    "            print(i)\n",
    "        for j in range(i*2, N+1, i):\n",
    "            num_list[j] = False"
   ]
  },
  {
   "cell_type": "markdown",
   "id": "748d28c3-790d-4dec-87aa-6fdcefdc35a4",
   "metadata": {
    "jp-MarkdownHeadingCollapsed": true
   },
   "source": [
    "# 1260. DFS와 BFS"
   ]
  },
  {
   "cell_type": "markdown",
   "id": "ff61dda4-8799-4f40-891a-3ba92bfcef05",
   "metadata": {},
   "source": [
    "##### https://www.acmicpc.net/problem/1260"
   ]
  },
  {
   "cell_type": "code",
   "execution_count": null,
   "id": "d860687a-02df-4008-8858-dc8b1d0d258a",
   "metadata": {},
   "outputs": [],
   "source": [
    "# 정점 1000 \n",
    "# 인접 행렬 시 => 4,000,000 바이트 => 4기가 => 인접 리스트로"
   ]
  },
  {
   "cell_type": "code",
   "execution_count": 53,
   "id": "3ac2a0f1-ed25-4bb3-8ee9-82c321c58bd7",
   "metadata": {},
   "outputs": [
    {
     "name": "stdin",
     "output_type": "stream",
     "text": [
      " 5 5 3\n"
     ]
    },
    {
     "name": "stdout",
     "output_type": "stream",
     "text": [
      "defaultdict(<class 'list'>, {1: [], 2: [], 3: [], 4: [], 5: []})\n"
     ]
    },
    {
     "name": "stdin",
     "output_type": "stream",
     "text": [
      " 5 4\n",
      " 5 2\n",
      " 1 2\n",
      " 3 4\n",
      " 3 1\n"
     ]
    },
    {
     "name": "stdout",
     "output_type": "stream",
     "text": [
      "defaultdict(<class 'list'>, {1: [2, 3], 2: [5, 1], 3: [4, 1], 4: [5, 3], 5: [4, 2]})\n"
     ]
    }
   ],
   "source": [
    "from collections import defaultdict\n",
    "from collections import deque\n",
    "\n",
    "N, M, V = [int(x) for x in input().split()]\n",
    "# 인접 리스트\n",
    "adj_list = defaultdict(list)\n",
    "for i in range(1,N+1):\n",
    "    adj_list[i] = []\n",
    "\n",
    "print(adj_list)\n",
    "for _ in range(M):\n",
    "    start, end = [int(x) for x in input().split()]\n",
    "    adj_list[start].append(end)\n",
    "    adj_list[end].append(start)\n",
    "\n",
    "#print(adj_list)"
   ]
  },
  {
   "cell_type": "code",
   "execution_count": 61,
   "id": "9848b896-6709-408a-97eb-cb03b31398fb",
   "metadata": {},
   "outputs": [
    {
     "name": "stdout",
     "output_type": "stream",
     "text": [
      "3 1 2 5 4\n",
      "3 1 4 2 5\n"
     ]
    }
   ],
   "source": [
    "for key in adj_list.keys():\n",
    "    adj_list[key].sort(reverse = True)\n",
    "\n",
    "# DFS \n",
    "# 노드 방문 횟수\n",
    "dfs_visit = [False for x in range(N + 1)]\n",
    "dfs_visit[0] = True\n",
    "dfs_route = []\n",
    "# DFS 실행\n",
    "dq = deque()\n",
    "dq.append(V)\n",
    "# pop\n",
    "# 방문 안한 노드면\n",
    "#     방문 표시\n",
    "#     그 정점에 인접한 방문하지 않은 모든 정점을 스택에 넣음\n",
    "while dq:\n",
    "    now_node = dq.pop()\n",
    "    if dfs_visit[now_node] == False:\n",
    "        dfs_visit[now_node] = True\n",
    "        dfs_route.append(now_node)\n",
    "        connected = adj_list[now_node]\n",
    "        for node in connected:\n",
    "            if dfs_visit[node] == False:\n",
    "                dq.append(node)\n",
    "# BFS\n",
    "bfs_visit = [False for x in range(N + 1)]\n",
    "bfs_visit[0] = True\n",
    "bfs_route = []\n",
    "# bfs 실행\n",
    "dq = deque()\n",
    "dq.append(V)\n",
    "# 큐에서 뺸다\n",
    "# 방문 표시\n",
    "# 큐에 인접한 노드들 중에서 방문 안한걸 넣는다 \n",
    "while dq:\n",
    "    now_node = dq.popleft()\n",
    "    #print(f'now_node : {now_node}')\n",
    "    if bfs_visit[now_node] == False:\n",
    "        bfs_visit[now_node] = True\n",
    "        bfs_route.append(now_node)\n",
    "        connected = adj_list[now_node]\n",
    "        for node in reversed(connected): # 여기 중요 (단, 방문할 수 있는 정점이 여러 개인 경우에는 정점 번호가 작은 것을 먼저 방문)\n",
    "            if bfs_visit[node] == False:\n",
    "                dq.append(node)\n",
    "    #print(f'dq :{dq}')\n",
    "    \n",
    "print(' '.join([str(x) for x in dfs_route]))\n",
    "print(' '.join([str(x) for x in bfs_route]))"
   ]
  },
  {
   "cell_type": "code",
   "execution_count": 2,
   "id": "7eca4d9d-2133-4de8-af5a-de42db0afe8e",
   "metadata": {},
   "outputs": [
    {
     "name": "stdin",
     "output_type": "stream",
     "text": [
      " 1000 1 1\n",
      " 999 1000\n"
     ]
    },
    {
     "name": "stdout",
     "output_type": "stream",
     "text": [
      "1\n",
      "1\n"
     ]
    }
   ],
   "source": [
    "### 통합\n",
    "from collections import defaultdict\n",
    "from collections import deque\n",
    "\n",
    "N, M, V = [int(x) for x in input().split()]\n",
    "# 인접 리스트\n",
    "adj_list = defaultdict(list)\n",
    "for i in range(1,N+1):\n",
    "    adj_list[i] = []\n",
    "\n",
    "#print(adj_list)\n",
    "for _ in range(M):\n",
    "    start, end = [int(x) for x in input().split()]\n",
    "    adj_list[start].append(end)\n",
    "    adj_list[end].append(start)\n",
    "\n",
    "#print(adj_list)\n",
    "\n",
    "for key in adj_list.keys():\n",
    "    adj_list[key].sort(reverse = True)\n",
    "\n",
    "# DFS \n",
    "# 노드 방문 횟수\n",
    "dfs_visit = [False for x in range(N + 1)]\n",
    "dfs_visit[0] = True\n",
    "dfs_route = []\n",
    "# DFS 실행\n",
    "dq = deque()\n",
    "dq.append(V)\n",
    "# pop\n",
    "# 방문 안한 노드면\n",
    "#     방문 표시\n",
    "#     그 정점에 인접한 방문하지 않은 모든 정점을 스택에 넣음\n",
    "while dq:\n",
    "    now_node = dq.pop()\n",
    "    if dfs_visit[now_node] == False:\n",
    "        dfs_visit[now_node] = True\n",
    "        dfs_route.append(now_node)\n",
    "        connected = adj_list[now_node]\n",
    "        for node in connected:\n",
    "            if dfs_visit[node] == False:\n",
    "                dq.append(node)\n",
    "# BFS\n",
    "bfs_visit = [False for x in range(N + 1)]\n",
    "bfs_visit[0] = True\n",
    "bfs_route = []\n",
    "# bfs 실행\n",
    "dq = deque()\n",
    "dq.append(V)\n",
    "# 큐에서 뺸다\n",
    "# 방문 표시\n",
    "# 큐에 인접한 노드들 중에서 방문 안한걸 넣는다 \n",
    "while dq:\n",
    "    now_node = dq.popleft()\n",
    "    #print(f'now_node : {now_node}')\n",
    "    if bfs_visit[now_node] == False:\n",
    "        bfs_visit[now_node] = True\n",
    "        bfs_route.append(now_node)\n",
    "        connected = adj_list[now_node]\n",
    "        for node in reversed(connected): # 여기 중요 (단, 방문할 수 있는 정점이 여러 개인 경우에는 정점 번호가 작은 것을 먼저 방문)\n",
    "            if bfs_visit[node] == False:\n",
    "                dq.append(node)\n",
    "    #print(f'dq :{dq}')\n",
    "    \n",
    "print(' '.join([str(x) for x in dfs_route]))\n",
    "print(' '.join([str(x) for x in bfs_route]))"
   ]
  },
  {
   "cell_type": "code",
   "execution_count": 76,
   "id": "84ddd1a3-1fd9-44a3-8541-8e54c8201564",
   "metadata": {},
   "outputs": [],
   "source": [
    "# => 런타임 에러\n",
    "# adj_list 주석 처리 해버렸음\n",
    "# 에러 메시지 확인 잘하기"
   ]
  },
  {
   "cell_type": "markdown",
   "id": "f375e7e6-71b3-4647-9933-c1e6eb825379",
   "metadata": {
    "jp-MarkdownHeadingCollapsed": true
   },
   "source": [
    "# 1012. 유기농 배추"
   ]
  },
  {
   "cell_type": "markdown",
   "id": "bc380c08-810d-4959-b59b-b0f4628131e6",
   "metadata": {},
   "source": [
    "##### https://www.acmicpc.net/problem/1012"
   ]
  },
  {
   "cell_type": "code",
   "execution_count": 44,
   "id": "ae3c1f5e-3846-4936-9daa-e6f0cf3516d6",
   "metadata": {},
   "outputs": [
    {
     "name": "stdin",
     "output_type": "stream",
     "text": [
      " 1\n"
     ]
    }
   ],
   "source": [
    "from collections import deque\n",
    "\n",
    "T = int(input())\n",
    "\n",
    "def return_map():\n",
    "    M,N,K = [int(x) for x in input().split()]\n",
    "    map = [[0 for _ in range(M)] for _ in range(N)]\n",
    "    for _ in range(K):\n",
    "        X, Y = [int(x) for x in input().split()]\n",
    "        map[Y][X] = 1\n",
    "    return map\n",
    "\n",
    "                    "
   ]
  },
  {
   "cell_type": "code",
   "execution_count": 62,
   "id": "d1af5b6b-8425-453d-8912-df293282fa50",
   "metadata": {},
   "outputs": [],
   "source": [
    "\n",
    "def how_many_flood_fill(map):\n",
    "    # directions\n",
    "    d_row = [-1,0,1,0]\n",
    "    d_col = [0,1,0,-1]\n",
    "    \n",
    "    num = 0\n",
    "    # map에서 하나라도 1이라면, 계속 bfs를 실행\n",
    "    while any([any(row) for row in map]):\n",
    "        #print('!')\n",
    "        # 시작 노드 찾기(좌표, 행, 렬)\n",
    "        start_node = [0,0]\n",
    "        for r_idx, row in enumerate(map):\n",
    "            for c_idx, col in enumerate(row):\n",
    "                if map[r_idx][c_idx] == 1:\n",
    "                    start_node = [r_idx, c_idx]\n",
    "                    break\n",
    "        #print(f'start_node : {start_node}')\n",
    "        # bfs\n",
    "        dq = deque()\n",
    "        dq.append(start_node)\n",
    "        while dq:\n",
    "            now_node = dq.popleft()\n",
    "            # 방문 표시\n",
    "            map[now_node[0]][now_node[1]] = 0\n",
    "            for i in range(4): # 4방향에 대해\n",
    "                next_node = [now_node[0]+d_row[i], now_node[1]+d_col[i]]\n",
    "                if 0 <= next_node[0] < len(map) and 0 <= next_node[1] < len(map[0]):\n",
    "                    if map[next_node[0]][next_node[1]] == 1:\n",
    "                        queue.append(next_node)\n",
    "        num += 1\n",
    "    return num"
   ]
  },
  {
   "cell_type": "code",
   "execution_count": 67,
   "id": "b31665d2-f2ad-45a3-8f84-2a80b93c9600",
   "metadata": {},
   "outputs": [
    {
     "name": "stdin",
     "output_type": "stream",
     "text": [
      " 2\n",
      " 5 5 3\n",
      " 1 1\n",
      " 2 3\n",
      " 3 3\n"
     ]
    },
    {
     "name": "stdout",
     "output_type": "stream",
     "text": [
      "2\n"
     ]
    },
    {
     "name": "stdin",
     "output_type": "stream",
     "text": [
      " 6 6 4\n",
      " 1 1\n",
      " 2 2\n",
      " 3 3\n",
      " 1 3\n"
     ]
    },
    {
     "name": "stdout",
     "output_type": "stream",
     "text": [
      "4\n"
     ]
    }
   ],
   "source": [
    "# 통합\n",
    "from collections import deque\n",
    "\n",
    "def return_map():\n",
    "    M,N,K = [int(x) for x in input().split()]\n",
    "    map = [[0 for _ in range(M)] for _ in range(N)]\n",
    "    for _ in range(K):\n",
    "        X, Y = [int(x) for x in input().split()]\n",
    "        map[Y][X] = 1\n",
    "    return map\n",
    "    \n",
    "def how_many_flood_fill(map):\n",
    "    # directions\n",
    "    d_row = [-1,0,1,0]\n",
    "    d_col = [0,1,0,-1]\n",
    "    \n",
    "    num = 0\n",
    "    # map에서 하나라도 1이라면, 계속 bfs를 실행\n",
    "    while any([any(row) for row in map]):\n",
    "        #print('!')\n",
    "        # 시작 노드 찾기(좌표, 행, 렬)\n",
    "        start_node = [0,0]\n",
    "        for r_idx, row in enumerate(map):\n",
    "            for c_idx, col in enumerate(row):\n",
    "                if map[r_idx][c_idx] == 1:\n",
    "                    start_node = [r_idx, c_idx]\n",
    "                    break\n",
    "        #print(f'start_node : {start_node}')\n",
    "        # bfs\n",
    "        dq = deque()\n",
    "        dq.append(start_node)\n",
    "        while dq:\n",
    "            now_node = dq.popleft()\n",
    "            # 방문 표시\n",
    "            map[now_node[0]][now_node[1]] = 0\n",
    "            for i in range(4): # 4방향에 대해\n",
    "                next_node = [now_node[0]+d_row[i], now_node[1]+d_col[i]]\n",
    "                if 0 <= next_node[0] < len(map) and 0 <= next_node[1] < len(map[0]):\n",
    "                    if map[next_node[0]][next_node[1]] == 1:\n",
    "                        dq.append(next_node)\n",
    "        num += 1\n",
    "    return num\n",
    "\n",
    "T = int(input())\n",
    "for _ in range(T):\n",
    "    print(how_many_flood_fill(return_map()))\n",
    "    "
   ]
  },
  {
   "cell_type": "code",
   "execution_count": 68,
   "id": "23a5b487-c1f2-4d19-a856-da96fe743989",
   "metadata": {},
   "outputs": [],
   "source": [
    "# => 메모리 초과"
   ]
  },
  {
   "cell_type": "code",
   "execution_count": 73,
   "id": "817966aa-6c91-4591-9990-947ba470f08e",
   "metadata": {},
   "outputs": [
    {
     "name": "stdin",
     "output_type": "stream",
     "text": [
      " 1\n",
      " 5 5 3\n",
      " 1 1\n",
      " 2 2\n",
      " 3 3\n"
     ]
    },
    {
     "name": "stdout",
     "output_type": "stream",
     "text": [
      "3\n"
     ]
    }
   ],
   "source": [
    "##### 50*50*int => 10000bytes => 10KB\n",
    "from collections import deque\n",
    "\n",
    "def return_map():\n",
    "    M,N,K = [int(x) for x in input().split()]\n",
    "    map = [[0 for _ in range(M)] for _ in range(N)]\n",
    "    for _ in range(K):\n",
    "        X, Y = [int(x) for x in input().split()]\n",
    "        map[Y][X] = 1\n",
    "    return map\n",
    "    \n",
    "def how_many_flood_fill(map):\n",
    "    # directions\n",
    "    d_row = [-1,0,1,0]\n",
    "    d_col = [0,1,0,-1]\n",
    "    \n",
    "    num = 0\n",
    "    # map에서 하나라도 1이라면, 계속 dfs를 실행\n",
    "    while any([any(row) for row in map]):\n",
    "        #print('!')\n",
    "        # 시작 노드 찾기(좌표, 행, 렬)\n",
    "        start_node = [0,0]\n",
    "        for r_idx, row in enumerate(map):\n",
    "            for c_idx, col in enumerate(row):\n",
    "                if map[r_idx][c_idx] == 1:\n",
    "                    start_node = [r_idx, c_idx]\n",
    "                    break\n",
    "        #print(f'start_node : {start_node}')\n",
    "        # dfs\n",
    "        dq = deque()\n",
    "        dq.append(start_node)\n",
    "        while dq:\n",
    "            now_node = dq.pop()\n",
    "            # 방문 표시\n",
    "            map[now_node[0]][now_node[1]] = 0\n",
    "            for i in range(4): # 4방향에 대해\n",
    "                next_node = [now_node[0]+d_row[i], now_node[1]+d_col[i]]\n",
    "                if 0 <= next_node[0] < len(map) and 0 <= next_node[1] < len(map[0]):\n",
    "                    if map[next_node[0]][next_node[1]] == 1:\n",
    "                        dq.append(next_node)\n",
    "        num += 1\n",
    "    return num\n",
    "\n",
    "T = int(input())\n",
    "for _ in range(T):\n",
    "    print(how_many_flood_fill(return_map()))\n",
    "    "
   ]
  },
  {
   "cell_type": "code",
   "execution_count": 74,
   "id": "c621fe19-f1f1-4387-9d22-227469daef5f",
   "metadata": {},
   "outputs": [],
   "source": [
    "# dfs로 푸니까 메모리 초과 안남!"
   ]
  },
  {
   "cell_type": "markdown",
   "id": "85076aca-a741-4e52-b9cf-e7e2aea40b1b",
   "metadata": {
    "jp-MarkdownHeadingCollapsed": true
   },
   "source": [
    "# 2178. 미로탐색"
   ]
  },
  {
   "cell_type": "markdown",
   "id": "95628f5e-059a-4b4c-a9ec-fba4290327c6",
   "metadata": {},
   "source": [
    "##### https://www.acmicpc.net/problem/2178"
   ]
  },
  {
   "cell_type": "code",
   "execution_count": 37,
   "id": "4263bf7e-bfe4-448b-aea9-a15eab844abf",
   "metadata": {},
   "outputs": [
    {
     "name": "stdin",
     "output_type": "stream",
     "text": [
      " 4 6\n",
      " 110110\n",
      " 110110\n",
      " 111111\n",
      " 111101\n"
     ]
    }
   ],
   "source": [
    "import math\n",
    "rows, cols = [int(x) for x in input().split()] # N 몇번째 열, M 몇번쨰 행\n",
    "map = []\n",
    "for _ in range(rows):\n",
    "    row = []\n",
    "    for x in input():\n",
    "        if x == '1':\n",
    "            row.append(True) # 갈 수 있음\n",
    "        else:\n",
    "            row.append(False) # 갈 수 없음\n",
    "    map.append(row)\n",
    "path_len_map = [[math.inf for _ in range(cols)] for _ in range(rows)]"
   ]
  },
  {
   "cell_type": "code",
   "execution_count": 38,
   "id": "5030331c-f263-40b1-9fd4-203619186663",
   "metadata": {},
   "outputs": [
    {
     "name": "stdout",
     "output_type": "stream",
     "text": [
      "now_node : [0, 0]\n",
      "next_node : [1, 0]\n",
      "in map!\n",
      "now visited!\n",
      "next_node : [0, 1]\n",
      "in map!\n",
      "now visited!\n",
      "next_node : [-1, 0]\n",
      "next_node : [0, -1]\n",
      "now_node : [0, 1]\n",
      "next_node : [1, 1]\n",
      "in map!\n",
      "now visited!\n",
      "next_node : [0, 2]\n",
      "in map!\n",
      "next_node : [-1, 1]\n",
      "next_node : [0, 0]\n",
      "in map!\n",
      "now_node : [1, 1]\n",
      "next_node : [2, 1]\n",
      "in map!\n",
      "now visited!\n",
      "next_node : [1, 2]\n",
      "in map!\n",
      "next_node : [0, 1]\n",
      "in map!\n",
      "next_node : [1, 0]\n",
      "in map!\n",
      "now visited!\n",
      "now_node : [2, 1]\n",
      "next_node : [3, 1]\n",
      "in map!\n",
      "now visited!\n",
      "next_node : [2, 2]\n",
      "in map!\n",
      "now visited!\n",
      "next_node : [1, 1]\n",
      "in map!\n",
      "next_node : [2, 0]\n",
      "in map!\n",
      "now visited!\n",
      "now_node : [2, 0]\n",
      "next_node : [3, 0]\n",
      "in map!\n",
      "now visited!\n",
      "next_node : [2, 1]\n",
      "in map!\n",
      "next_node : [1, 0]\n",
      "in map!\n",
      "now visited!\n",
      "next_node : [2, -1]\n",
      "now_node : [3, 0]\n",
      "next_node : [4, 0]\n",
      "next_node : [3, 1]\n",
      "in map!\n",
      "now visited!\n",
      "next_node : [2, 0]\n",
      "in map!\n",
      "next_node : [3, -1]\n",
      "now_node : [2, 2]\n",
      "next_node : [3, 2]\n",
      "in map!\n",
      "now visited!\n",
      "next_node : [2, 3]\n",
      "in map!\n",
      "now visited!\n",
      "next_node : [1, 2]\n",
      "in map!\n",
      "next_node : [2, 1]\n",
      "in map!\n",
      "now_node : [2, 3]\n",
      "next_node : [3, 3]\n",
      "in map!\n",
      "now visited!\n",
      "next_node : [2, 4]\n",
      "in map!\n",
      "now visited!\n",
      "next_node : [1, 3]\n",
      "in map!\n",
      "now visited!\n",
      "next_node : [2, 2]\n",
      "in map!\n",
      "now_node : [1, 3]\n",
      "next_node : [2, 3]\n",
      "in map!\n",
      "next_node : [1, 4]\n",
      "in map!\n",
      "now visited!\n",
      "next_node : [0, 3]\n",
      "in map!\n",
      "now visited!\n",
      "next_node : [1, 2]\n",
      "in map!\n",
      "now_node : [0, 3]\n",
      "next_node : [1, 3]\n",
      "in map!\n",
      "next_node : [0, 4]\n",
      "in map!\n",
      "now visited!\n",
      "next_node : [-1, 3]\n",
      "next_node : [0, 2]\n",
      "in map!\n",
      "now_node : [0, 4]\n",
      "next_node : [1, 4]\n",
      "in map!\n",
      "now visited!\n",
      "next_node : [0, 5]\n",
      "in map!\n",
      "next_node : [-1, 4]\n",
      "next_node : [0, 3]\n",
      "in map!\n",
      "now_node : [1, 4]\n",
      "next_node : [2, 4]\n",
      "in map!\n",
      "now visited!\n",
      "next_node : [1, 5]\n",
      "in map!\n",
      "next_node : [0, 4]\n",
      "in map!\n",
      "next_node : [1, 3]\n",
      "in map!\n",
      "now_node : [2, 4]\n",
      "next_node : [3, 4]\n",
      "in map!\n",
      "next_node : [2, 5]\n",
      "in map!\n",
      "now visited!\n",
      "next_node : [1, 4]\n",
      "in map!\n",
      "next_node : [2, 3]\n",
      "in map!\n",
      "now_node : [2, 5]\n",
      "next_node : [3, 5]\n",
      "in map!\n",
      "now visited!\n",
      "next_node : [2, 6]\n",
      "next_node : [1, 5]\n",
      "in map!\n",
      "next_node : [2, 4]\n",
      "in map!\n",
      "now_node : [3, 5]\n",
      "next_node : [4, 5]\n",
      "next_node : [3, 6]\n",
      "next_node : [2, 5]\n",
      "in map!\n",
      "next_node : [3, 4]\n",
      "in map!\n",
      "now_node : [3, 3]\n",
      "next_node : [4, 3]\n",
      "next_node : [3, 4]\n",
      "in map!\n",
      "next_node : [2, 3]\n",
      "in map!\n",
      "next_node : [3, 2]\n",
      "in map!\n",
      "now visited!\n",
      "now_node : [3, 2]\n",
      "next_node : [4, 2]\n",
      "next_node : [3, 3]\n",
      "in map!\n",
      "next_node : [2, 2]\n",
      "in map!\n",
      "next_node : [3, 1]\n",
      "in map!\n",
      "now visited!\n",
      "now_node : [3, 1]\n",
      "next_node : [4, 1]\n",
      "next_node : [3, 2]\n",
      "in map!\n",
      "next_node : [2, 1]\n",
      "in map!\n",
      "next_node : [3, 0]\n",
      "in map!\n",
      "now_node : [1, 0]\n",
      "next_node : [2, 0]\n",
      "in map!\n",
      "next_node : [1, 1]\n",
      "in map!\n",
      "next_node : [0, 0]\n",
      "in map!\n",
      "next_node : [1, -1]\n"
     ]
    }
   ],
   "source": [
    "# 최소 경로 길이 => BFS\n",
    "from collections import deque\n",
    "\n",
    "# directions\n",
    "d_row = [1,0,-1,0]\n",
    "d_col = [0,1,0,-1]\n",
    "\n",
    "start_node = [0,0]\n",
    "dq = deque()\n",
    "dq.append(start_node)\n",
    "\n",
    "path_len_map[0][0] = 1\n",
    "while dq:\n",
    "    # 노드 까기\n",
    "    # 방문 표시\n",
    "    # 주변 노드 탐색\n",
    "    # 주변 갈 수 있는 노드에 지금 노드의 path len + 1\n",
    "    now_node = dq.popleft)\n",
    "    #print(f'now_node : {now_node}')\n",
    "    now_r = now_node[0]\n",
    "    now_c = now_node[1]\n",
    "    map[now_r][now_c] = False\n",
    "    now_path_len = path_len_map[now_r][now_c]\n",
    "    for i in range(4):\n",
    "        next_node = [now_r + d_row[i], now_c + d_col[i]]\n",
    "        #print(f'next_node : {next_node}')\n",
    "        next_r = next_node[0]\n",
    "        next_c = next_node[1]\n",
    "        # in map? \n",
    "        if 0 <= next_r < len(map) and 0 <= next_c < len(map[0]):\n",
    "            #print(f'in map!')\n",
    "            # not visited?\n",
    "            if map[next_r][next_c] == True: # 갈 수 있으면\n",
    "                #print(f'now visited!')\n",
    "                # 원래 path len보다 짧으면\n",
    "                if path_len_map[next_r][next_c] > now_path_len + 1:\n",
    "                    path_len_map[next_r][next_c] = now_path_len + 1 # 갱신\n",
    "                    dq.append(next_node)\n",
    "print(path_len_map[-1][-1])"
   ]
  },
  {
   "cell_type": "code",
   "execution_count": 44,
   "id": "2b3dc71b-cd8c-4c3e-8237-bdcdb301f9aa",
   "metadata": {},
   "outputs": [
    {
     "name": "stdin",
     "output_type": "stream",
     "text": [
      " 7 7\n",
      " 1011111\n",
      " 1110001\n",
      " 1000001\n",
      " 1000001\n",
      " 1000001\n",
      " 1000001\n",
      " 1111111\n"
     ]
    },
    {
     "name": "stdout",
     "output_type": "stream",
     "text": [
      "13\n"
     ]
    }
   ],
   "source": [
    "import math\n",
    "\n",
    "rows, cols = [int(x) for x in input().split()] \n",
    "map = []\n",
    "for _ in range(rows):\n",
    "    row = []\n",
    "    for x in input():\n",
    "        if x == '1':\n",
    "            row.append(True) # 갈 수 있음\n",
    "        else:\n",
    "            row.append(False) # 갈 수 없음\n",
    "    map.append(row)\n",
    "path_len_map = [[math.inf for _ in range(cols)] for _ in range(rows)]\n",
    "\n",
    "from collections import deque\n",
    "\n",
    "# directions\n",
    "d_row = [1,0,-1,0]\n",
    "d_col = [0,1,0,-1]\n",
    "\n",
    "start_node = [0,0]\n",
    "dq = deque()\n",
    "dq.append(start_node)\n",
    "\n",
    "path_len_map[0][0] = 1\n",
    "while dq:\n",
    "    # 노드 까기\n",
    "    # 방문 표시\n",
    "    # 주변 노드 탐색\n",
    "    # 주변 갈 수 있는 노드에 지금 노드의 path len + 1\n",
    "    now_node = dq.popleft()\n",
    "    #print(f'now_node : {now_node}')\n",
    "    now_r = now_node[0]\n",
    "    now_c = now_node[1]\n",
    "    map[now_r][now_c] = False\n",
    "    now_path_len = path_len_map[now_r][now_c]\n",
    "    for i in range(4):\n",
    "        next_node = [now_r + d_row[i], now_c + d_col[i]]\n",
    "        #print(f'next_node : {next_node}')\n",
    "        next_r = next_node[0]\n",
    "        next_c = next_node[1]\n",
    "        # in map? \n",
    "        if 0 <= next_r < len(map) and 0 <= next_c < len(map[0]):\n",
    "            #print(f'in map!')\n",
    "            # not visited?\n",
    "            if map[next_r][next_c] == True: # 갈 수 있으면\n",
    "                #print(f'now visited!')\n",
    "                # 원래 path len보다 짧으면\n",
    "                if path_len_map[next_r][next_c] > now_path_len + 1:\n",
    "                    path_len_map[next_r][next_c] = now_path_len + 1 # 갱신\n",
    "                    dq.append(next_node)\n",
    "print(path_len_map[-1][-1])"
   ]
  },
  {
   "cell_type": "code",
   "execution_count": 43,
   "id": "af42b7a5-2cf1-4b1e-b185-9849ebdaf524",
   "metadata": {},
   "outputs": [
    {
     "data": {
      "text/plain": [
       "[[1, inf, 5, 6, 7, 8, 9],\n",
       " [2, 3, 4, inf, inf, inf, 10],\n",
       " [3, inf, inf, inf, inf, inf, 11],\n",
       " [24, inf, inf, inf, inf, inf, 12],\n",
       " [23, inf, inf, inf, inf, inf, 13],\n",
       " [22, inf, inf, inf, inf, inf, 14],\n",
       " [21, 20, 19, 18, 17, 16, 15]]"
      ]
     },
     "execution_count": 43,
     "metadata": {},
     "output_type": "execute_result"
    }
   ],
   "source": [
    "path_len_map"
   ]
  },
  {
   "cell_type": "markdown",
   "id": "5086ff58-d8c6-48ff-b7b7-be46b4010494",
   "metadata": {
    "jp-MarkdownHeadingCollapsed": true
   },
   "source": [
    "# BOJ. 7576. 토마토"
   ]
  },
  {
   "cell_type": "markdown",
   "id": "e68c5604-b9af-4e5c-b531-0f9c3ef5850a",
   "metadata": {},
   "source": [
    "##### https://www.acmicpc.net/problem/7576"
   ]
  },
  {
   "cell_type": "code",
   "execution_count": 2,
   "id": "077f7595-0287-4735-a8a5-921bfd0d1b99",
   "metadata": {},
   "outputs": [
    {
     "name": "stdin",
     "output_type": "stream",
     "text": [
      " 6 4\n",
      " 1 -1 0 0 0 0\n",
      " 0 -1 0 0 0 0\n",
      " 0 0 0 0 -1 0\n",
      " 0 0 0 0 -1 1\n"
     ]
    }
   ],
   "source": [
    "# 입력 처리\n",
    "def input_process():\n",
    "    cols, rows = [int(x) for x in input().split()]\n",
    "    map = []\n",
    "    visited = []\n",
    "    for i in range(rows):\n",
    "        row = [int(x) for x in input().split()]\n",
    "        visited_row = []\n",
    "        for ele in row:\n",
    "            if ele != -1:\n",
    "                visited_row.append(False)\n",
    "            else:\n",
    "                visited_row.append(True)\n",
    "        map.append(row)\n",
    "        visited.append(visited_row)\n",
    "    return map, visited\n",
    "    # map => map\n",
    "    # visted => 방문한 노드(+못가는 노드) => True, 방문 안한 노드 => False\n",
    "\n",
    "map, visited = input_process()"
   ]
  },
  {
   "cell_type": "code",
   "execution_count": 47,
   "id": "65dc88c9-7842-4e32-8c0a-7645ec1f7c24",
   "metadata": {},
   "outputs": [],
   "source": [
    "map = [[1, -1, 0, 0, 0, 0],\n",
    "       [0, -1, 0, 0, 0, 0],\n",
    "       [0, 0, 0, 0, -1, 0],\n",
    "       [0, 0, 0, 0, -1, 1]]"
   ]
  },
  {
   "cell_type": "code",
   "execution_count": 48,
   "id": "30d27e1f-5e28-4735-928b-4a032f79bfe6",
   "metadata": {},
   "outputs": [],
   "source": [
    "\n",
    "visited = [[False, True, False, False, False, False],\n",
    "            [False, True, False, False, False, False],\n",
    "            [False, False, False, False, True, False],\n",
    "            [False, False, False, False, True, False]]"
   ]
  },
  {
   "cell_type": "code",
   "execution_count": 49,
   "id": "5c891428-838c-4eb8-86d3-2e3ef6a126ad",
   "metadata": {},
   "outputs": [],
   "source": [
    "# 며칠이 지나야 상자들의 토마토가 다 익는지\n",
    "# 토마토 위치가 주어지면 그 토마토 주위 토마토를 익히는 모듈\n",
    "def make_1s(loc): #(row, col)\n",
    "    # 익은 토마토들\n",
    "    made_1s = []\n",
    "    # directions\n",
    "    d_row = [1,0,-1,0]\n",
    "    d_col = [0,1,0,-1]\n",
    "    for i in range(4):\n",
    "        near = [loc[0] + d_row[i], loc[1] + d_col[i]]\n",
    "        near_r = near[0]\n",
    "        near_c = near[1]\n",
    "        if 0 <= near_r < len(map) and 0 <= near_c < len(map[0]):\n",
    "            # map안에 있는지\n",
    "            if map[near_r][near_c] != -1:\n",
    "                # 토마토가 없는 지라기 아닌지\n",
    "                # 아니면 익히기\n",
    "                map[near_r][near_c] = 1\n",
    "                made_1s.append([near_r, near_c])\n",
    "    return made_1s"
   ]
  },
  {
   "cell_type": "code",
   "execution_count": 50,
   "id": "a2933088-c7cd-4e97-a608-205bfde0fce6",
   "metadata": {},
   "outputs": [
    {
     "data": {
      "text/plain": [
       "deque([[0, 0, 0], [3, 5, 0]])"
      ]
     },
     "execution_count": 50,
     "metadata": {},
     "output_type": "execute_result"
    }
   ],
   "source": [
    "# 1노드 찾기\n",
    "def find_1s(map, day): # 맵, 익은 날짜\n",
    "    one_list = deque()\n",
    "    for row_idx, row in enumerate(map):\n",
    "        for col_idx, ele in enumerate(row):\n",
    "            if ele == 1 and visited[row_idx][col_idx] == False: #익었고 아직 방문 안 한 노드를 찾음\n",
    "                one_list.append([row_idx, col_idx, day])\n",
    "    return one_list \n",
    "    # [r_loc, c_loc, 익은 날짜] 들을 반환\n",
    "\n",
    "find_1(map, 0)"
   ]
  },
  {
   "cell_type": "code",
   "execution_count": 51,
   "id": "445c67b9-5a83-41a8-a469-23bae0e13663",
   "metadata": {},
   "outputs": [],
   "source": [
    "# 방문하지 않은 익은 토마토를 찾아서\n",
    "# 방문 했다고 표시하고\n",
    "# 토마토 주변의 익지 않은 토마토를 익히고\n",
    "# 이번에 익은 토마토들의 위치와 day를 반환\n",
    "def make_1s(loc_day): #(row, col, day)\n",
    "    # 익은 토마토의 위치와 day를 받아서\n",
    "    visited[loc_day[0]][loc_day[1]] = True\n",
    "    # 그 위치를 방문했다고 표시\n",
    "    # 익은 토마토들 저장 리스트\n",
    "    made_1s = deque()\n",
    "    # directions\n",
    "    d_row = [1,0,-1,0]\n",
    "    d_col = [0,1,0,-1]\n",
    "    for i in range(4):\n",
    "        near = [loc_day[0] + d_row[i], loc_day[1] + d_col[i]]\n",
    "        near_r = near[0]\n",
    "        near_c = near[1]\n",
    "        if 0 <= near_r < len(map) and 0 <= near_c < len(map[0]):\n",
    "            # map안에 있는지\n",
    "            if map[near_r][near_c] != -1 and visited[near_r][near_c] == False:\n",
    "                # 토마토가 없는 지라기 아닌지\n",
    "                # 아니면 익히기\n",
    "                map[near_r][near_c] = 1\n",
    "                made_1s.append([near_r, near_c, loc_day[2]+1])\n",
    "    return made_1s\n",
    "    # 이번에 익은 토마토의 위치와 익은 날짜를 반환"
   ]
  },
  {
   "cell_type": "code",
   "execution_count": 52,
   "id": "50d725d2-dc2d-46de-b142-53e0267b2389",
   "metadata": {},
   "outputs": [
    {
     "name": "stdout",
     "output_type": "stream",
     "text": [
      "[0, 0, 0]\n",
      "[3, 5, 0]\n",
      "[1, 0, 1]\n",
      "[2, 5, 1]\n",
      "[2, 0, 2]\n",
      "[1, 5, 2]\n",
      "[3, 0, 3]\n",
      "[2, 1, 3]\n",
      "[0, 5, 3]\n",
      "[1, 4, 3]\n",
      "[3, 1, 4]\n",
      "[3, 1, 4]\n",
      "[2, 2, 4]\n",
      "[0, 4, 4]\n",
      "[0, 4, 4]\n",
      "[1, 3, 4]\n",
      "[3, 2, 5]\n",
      "[3, 2, 5]\n",
      "[3, 2, 5]\n",
      "[2, 3, 5]\n",
      "[1, 2, 5]\n",
      "[0, 3, 5]\n",
      "[0, 3, 5]\n",
      "[2, 3, 5]\n",
      "[0, 3, 5]\n",
      "[1, 2, 5]\n",
      "[3, 3, 6]\n",
      "[3, 3, 6]\n",
      "[3, 3, 6]\n",
      "[3, 3, 6]\n",
      "[0, 2, 6]\n",
      "[0, 2, 6]\n",
      "[0, 2, 6]\n",
      "[3, 3, 6]\n",
      "[0, 2, 6]\n",
      "[0, 2, 6]\n",
      "6\n"
     ]
    }
   ],
   "source": [
    "# 처음에 익은 토마토들을 찾아서 덱에 넣기\n",
    "dq = deque()\n",
    "dq += find_1s(map, 0)\n",
    "max_day = 0\n",
    "while dq:\n",
    "    now_node = dq.popleft()\n",
    "    if now_node[2] > max_day:\n",
    "        max_day = now_node[2]\n",
    "    #print(now_node)\n",
    "    dq += make_1s(now_node)\n",
    "\n",
    "if all([all(row) for row in visited]):\n",
    "    print(max_day)\n",
    "else: \n",
    "    print(-1)"
   ]
  },
  {
   "cell_type": "code",
   "execution_count": 3,
   "id": "e319a85b-c95a-4e35-949d-184635903723",
   "metadata": {},
   "outputs": [
    {
     "name": "stdin",
     "output_type": "stream",
     "text": [
      " 6 4\n",
      " 1 -1 0 0 0 0\n",
      " 0 -1 0 0 0 0\n",
      " 0 0 0 0 -1 0\n",
      " 0 0 0 0 -1 1\n"
     ]
    },
    {
     "name": "stdout",
     "output_type": "stream",
     "text": [
      "13\n"
     ]
    }
   ],
   "source": [
    "# 통합\n",
    "from collections import deque\n",
    "# 입력 처리\n",
    "def input_process():\n",
    "    cols, rows = [int(x) for x in input().split()]\n",
    "    map = []\n",
    "    visited = []\n",
    "    for i in range(rows):\n",
    "        row = [int(x) for x in input().split()]\n",
    "        visited_row = []\n",
    "        for ele in row:\n",
    "            if ele != -1:\n",
    "                visited_row.append(False)\n",
    "            else:\n",
    "                visited_row.append(True)\n",
    "        map.append(row)\n",
    "        visited.append(visited_row)\n",
    "    return map, visited\n",
    "    # map => map\n",
    "    # visted => 방문한 노드(+못가는 노드) => True, 방문 안한 노드 => False\n",
    "\n",
    "map, visited = input_process()\n",
    "\n",
    "# 1노드 찾기\n",
    "def find_1s(map, day): # 맵, 익은 날짜\n",
    "    one_list = deque()\n",
    "    for row_idx, row in enumerate(map):\n",
    "        for col_idx, ele in enumerate(row):\n",
    "            if ele == 1 and visited[row_idx][col_idx] == False: #익었고 아직 방문 안 한 노드를 찾음\n",
    "                one_list.append([row_idx, col_idx, day])\n",
    "    return one_list \n",
    "    # [r_loc, c_loc, 익은 날짜] 들을 반환\n",
    "\n",
    "# 방문하지 않은 익은 토마토를 찾아서\n",
    "# 방문 했다고 표시하고\n",
    "# 토마토 주변의 익지 않은 토마토를 익히고\n",
    "# 이번에 익은 토마토들의 위치와 day를 반환\n",
    "def make_1s(loc_day): #(row, col, day)\n",
    "    # 익은 토마토의 위치와 day를 받아서\n",
    "    visited[loc_day[0]][loc_day[1]] = True\n",
    "    # 그 위치를 방문했다고 표시\n",
    "    # 익은 토마토들 저장 리스트\n",
    "    made_1s = deque()\n",
    "    # directions\n",
    "    d_row = [1,0,-1,0]\n",
    "    d_col = [0,1,0,-1]\n",
    "    for i in range(4):\n",
    "        near = [loc_day[0] + d_row[i], loc_day[1] + d_col[i]]\n",
    "        near_r = near[0]\n",
    "        near_c = near[1]\n",
    "        if 0 <= near_r < len(map) and 0 <= near_c < len(map[0]):\n",
    "            # map안에 있는지\n",
    "            if map[near_r][near_c] != -1 and visited[near_r][near_c] == False:\n",
    "                # 토마토가 없는 자리가 아닌지\n",
    "                # 아니면 익히기\n",
    "                map[near_r][near_c] = 1\n",
    "                made_1s.append([near_r, near_c, loc_day[2]+1])\n",
    "    return made_1s\n",
    "    # 이번에 익은 토마토의 위치와 익은 날짜를 반환\n",
    "\n",
    "# 처음에 익은 토마토들을 찾아서 덱에 넣기\n",
    "dq = deque()\n",
    "dq += find_1s(map, 0)\n",
    "max_day = 0\n",
    "while dq:\n",
    "    now_node = dq.popleft()\n",
    "    if now_node[2] > max_day:\n",
    "        max_day = now_node[2]\n",
    "    #print(now_node)\n",
    "    dq += make_1s(now_node)\n",
    "\n",
    "if all([all(row) for row in visited]):\n",
    "    print(max_day)\n",
    "else: \n",
    "    print(-1)\n"
   ]
  },
  {
   "cell_type": "code",
   "execution_count": null,
   "id": "8de23b42-f3f5-4be6-9ab0-ddbeaa87943e",
   "metadata": {},
   "outputs": [],
   "source": [
    "# bfs => 메모리 초과 \n",
    "# 그래서 dfs로 바꿨더니 틀림 => 아무래도 처음에 1이 두개일때 하나로 쭉쭉 나아가면 나머지 1이 익히는 다른 토마토를 고려하지 못함.\n",
    "# 힙을 사용해볼까 => ㄴ"
   ]
  },
  {
   "cell_type": "code",
   "execution_count": 4,
   "id": "1af87d5a-7795-495c-82cb-e9a3bdda4b23",
   "metadata": {},
   "outputs": [],
   "source": [
    "# 아예 생각을 바꿔서\n",
    "# 덱이 한번 비어버리면 => day += 1\n",
    "# 그리고 그날 익은 토마토들의 위치를 다시 덱에 넣음\n",
    "# 그리고 또 덱을 한번 싹 비움(그리고 주변 토마토들 익히기)\n",
    "# 덱에 넣을 토마토가 없으면 탐색 종료\n",
    "# 다 방문했는지 조사해서 하나라도 False(방문 안했는디?) => print(-1)\n",
    "# 다 방문했다 => print(day)"
   ]
  },
  {
   "cell_type": "code",
   "execution_count": 9,
   "id": "db146653-cdc8-4f8b-9b9b-45b487489722",
   "metadata": {},
   "outputs": [
    {
     "name": "stdin",
     "output_type": "stream",
     "text": [
      " 4 4\n",
      " -1 0 0 -1\n",
      " 0 1 0 0\n",
      " -1 0 0 0\n",
      " 1 0 0 0\n"
     ]
    },
    {
     "name": "stdout",
     "output_type": "stream",
     "text": [
      "4\n"
     ]
    }
   ],
   "source": [
    "from collections import deque\n",
    "# 입력 처리\n",
    "def input_process():\n",
    "    cols, rows = [int(x) for x in input().split()]\n",
    "    map = []\n",
    "    visited = []\n",
    "    for i in range(rows):\n",
    "        row = [int(x) for x in input().split()]\n",
    "        visited_row = []\n",
    "        for ele in row:\n",
    "            if ele != -1:\n",
    "                visited_row.append(False)\n",
    "            else:\n",
    "                visited_row.append(True)\n",
    "        map.append(row)\n",
    "        visited.append(visited_row)\n",
    "    return map, visited\n",
    "    # map => map\n",
    "    # visted => 방문한 노드(+못가는 노드) => True, 방문 안한 노드 => False\n",
    "map, visited = input_process()\n",
    "\n",
    "# 초반 익은 토마토 찾기\n",
    "def find_1s(map): # 맵\n",
    "    one_dq = deque()\n",
    "    for row_idx, row in enumerate(map):\n",
    "        for col_idx, ele in enumerate(row):\n",
    "            if ele == 1 and visited[row_idx][col_idx] == False: #익었고 아직 방문 안 한 노드를 찾음\n",
    "                one_dq.append([row_idx, col_idx])\n",
    "    return one_dq\n",
    "# 찾은 익은 토마토들 덱에 넣기    \n",
    "dq = deque()\n",
    "dq += find_1s(map)\n",
    "day = 0\n",
    "# directions\n",
    "d_row = [1,0,-1,0]\n",
    "d_col = [0,1,0,-1]\n",
    "# dq엔 익은 토마토들의 위치가 있음\n",
    "while dq: \n",
    "    temp_dq = deque()\n",
    "    while dq:\n",
    "        now_node = dq.popleft()\n",
    "        now_r = now_node[0]\n",
    "        now_c = now_node[1]\n",
    "        # 일단 방문 표시 하고\n",
    "        visited[now_r][now_c] = True\n",
    "        # 주변 토마토들을 익히자\n",
    "        for i in range(4):\n",
    "            near = [now_r + d_row[i], now_c + d_col[i]]\n",
    "            near_r = near[0]\n",
    "            near_c = near[1]\n",
    "            if 0 <= near_r < len(map) and 0 <= near_c < len(map[0]):\n",
    "            # map안에 있는지\n",
    "                if map[near_r][near_c] != -1 and visited[near_r][near_c] == False:\n",
    "                    # 토마토가 없는 자리가 아닌지\n",
    "                    # + 방문하지 않은 토마토인지\n",
    "                    map[near_r][near_c] = 1 # 익히고\n",
    "                    temp_dq.append(near)\n",
    "    # 덱이 비었으면 day += 1\n",
    "    day += 1\n",
    "    dq = temp_dq\n",
    "\n",
    "if all([all(row) for row in visited]):\n",
    "    print(day-1)\n",
    "else:\n",
    "    print(-1)\n",
    "                "
   ]
  },
  {
   "cell_type": "code",
   "execution_count": null,
   "id": "a5c23b1e-678b-45b5-b03a-75bae9f73fe6",
   "metadata": {},
   "outputs": [],
   "source": [
    "# 결국 덱을 두개 선언해서 그런가 자꾸 메모리 뻑이 남...\n",
    "# 돌겠네...\n",
    "# 그냥 BFS로 가보자"
   ]
  },
  {
   "cell_type": "code",
   "execution_count": 13,
   "id": "3a46bcb8-56ef-4c91-842f-d7c3fed7d54e",
   "metadata": {
    "scrolled": true
   },
   "outputs": [
    {
     "name": "stdin",
     "output_type": "stream",
     "text": [
      " 6 4\n",
      " 1 -1 0 0 0 0\n",
      " 0 -1 0 0 0 0\n",
      " 0 0 0 0 -1 0\n",
      " 0 0 0 0 -1 1\n"
     ]
    },
    {
     "name": "stdout",
     "output_type": "stream",
     "text": [
      "6\n"
     ]
    }
   ],
   "source": [
    "from collections import deque\n",
    "# 입력 처리\n",
    "def input_process():\n",
    "    cols, rows = [int(x) for x in input().split()]\n",
    "    map = []\n",
    "    visited = []\n",
    "    for i in range(rows):\n",
    "        row = [int(x) for x in input().split()]\n",
    "        visited_row = []\n",
    "        for ele in row:\n",
    "            if ele != -1:\n",
    "                visited_row.append(False)\n",
    "            else:\n",
    "                visited_row.append(True)\n",
    "        map.append(row)\n",
    "        visited.append(visited_row)\n",
    "    return map, visited\n",
    "    # map => map\n",
    "    # visted => 방문한 노드(+못가는 노드) => True, 방문 안한 노드 => False, -1이면 방문한 노드 취급\n",
    "map, visited = input_process()\n",
    "\n",
    "# 돌아다니면서 1찾기 \n",
    "dq = deque()\n",
    "for row_idx, row in enumerate(map):\n",
    "    for col_idx, ele in enumerate(row):\n",
    "        if ele == 1:\n",
    "            dq.append([row_idx, col_idx, 0])\n",
    "# directions\n",
    "d_row = [1,0,-1,0]\n",
    "d_col = [0,1,0,-1]\n",
    "\n",
    "\n",
    "max_day = 0 \n",
    "while dq:\n",
    "    now_node = dq.popleft()\n",
    "    now_r = now_node[0]\n",
    "    now_c = now_node[1]\n",
    "    now_day = now_node[2]\n",
    "    # 방문 표시\n",
    "    visited[now_r][now_c] = True\n",
    "    # max_day 비교\n",
    "    if max_day < now_day:\n",
    "        max_day = now_day\n",
    "    for i in range(4):\n",
    "        next_r = now_r + d_row[i]\n",
    "        next_c = now_c + d_col[i]\n",
    "        next_day = now_day + 1\n",
    "        # 맵안에 있는지 확인\n",
    "        if 0 <= next_r < len(map) and 0 <= next_c < len(map[0]):\n",
    "            # 방문하지 않았고 익힐 수 있는 토마토\n",
    "            if visited[next_r][next_c] == False and map[next_r][next_c] == 0:\n",
    "                # 토마토 익히기\n",
    "                map[next_r][next_c] = 1\n",
    "                # 덱에 추가\n",
    "                dq.append([next_r, next_c, next_day])\n",
    "                \n",
    "if all([all(row) for row in visited]):\n",
    "    print(max_day)\n",
    "else:\n",
    "    print(-1)"
   ]
  },
  {
   "cell_type": "code",
   "execution_count": 12,
   "id": "174d860d-dd65-40b1-ad7d-05f96e53596d",
   "metadata": {},
   "outputs": [
    {
     "data": {
      "text/plain": [
       "deque([[0, 0, 0], [0, 1, 0], [0, 2, 0], [1, 0, 0], [1, 1, 0], [2, 2, 0]])"
      ]
     },
     "execution_count": 12,
     "metadata": {},
     "output_type": "execute_result"
    }
   ],
   "source": [
    "# 아 ...그냥 하는게 더 빠르구나...\n",
    "# 어줍짢게 머리 굴리지 말자...."
   ]
  },
  {
   "cell_type": "markdown",
   "id": "3a22e43a-82e0-4bd2-a7b0-5ef016cf2c6b",
   "metadata": {},
   "source": [
    "# BOJ. 2667. 단지번호붙이기 "
   ]
  },
  {
   "cell_type": "markdown",
   "id": "c7a2b185-9b37-429a-bd54-30a8384c2738",
   "metadata": {},
   "source": [
    "##### https://www.acmicpc.net/problem/2667"
   ]
  },
  {
   "cell_type": "code",
   "execution_count": 8,
   "id": "8d6f75d2-1307-495d-b36f-e7dc37239b20",
   "metadata": {},
   "outputs": [
    {
     "name": "stdin",
     "output_type": "stream",
     "text": [
      " 7\n",
      " 0110100\n",
      " 0110101\n",
      " 1110101\n",
      " 0000111\n",
      " 0100000\n",
      " 0111110\n",
      " 0111000\n"
     ]
    }
   ],
   "source": [
    "map = []\n",
    "visited = []\n",
    "for i in range(int(input())):\n",
    "    row = [int(x) for x in input()]\n",
    "    visited_row = []\n",
    "    for ele in row:\n",
    "        if ele == 1:\n",
    "            visited_row.append(False)\n",
    "        else:\n",
    "            visited_row.append(True) # 못가는데는 방문한곳 취급\n",
    "    map.append(row)\n",
    "    visited.append(visited_row)"
   ]
  },
  {
   "cell_type": "code",
   "execution_count": 16,
   "id": "fa728041-b528-48bd-89df-a47e51e0d2ac",
   "metadata": {},
   "outputs": [],
   "source": [
    "map=[[0, 1, 1, 0, 1, 0, 0],\n",
    " [0, 1, 1, 0, 1, 0, 1],\n",
    " [1, 1, 1, 0, 1, 0, 1],\n",
    " [0, 0, 0, 0, 1, 1, 1],\n",
    " [0, 1, 0, 0, 0, 0, 0],\n",
    " [0, 1, 1, 1, 1, 1, 0],\n",
    " [0, 1, 1, 1, 0, 0, 0]]"
   ]
  },
  {
   "cell_type": "code",
   "execution_count": 8,
   "id": "02a53f02-16e4-40be-8b66-280b1a8f8020",
   "metadata": {},
   "outputs": [],
   "source": [
    "visited=[[True, False, False, True, False, True, True],\n",
    " [True, False, False, True, False, True, False],\n",
    " [False, False, False, True, False, True, False],\n",
    " [True, True, True, True, False, False, False],\n",
    " [True, False, True, True, True, True, True],\n",
    " [True, False, False, False, False, False, True],\n",
    " [True, False, False, False, True, True, True]]"
   ]
  },
  {
   "cell_type": "code",
   "execution_count": 10,
   "id": "fc3666cf-c9b0-4a96-a129-cb95205944b4",
   "metadata": {},
   "outputs": [
    {
     "data": {
      "text/plain": [
       "\"\\nfrom collections import deque\\n\\nhow_many_danjis = 0\\ncounts = []\\n# directions\\nd_row = [1,0,-1,0]\\nd_col = [0,-1,0,1]\\nwhile not all([all(row) for row in visited]):\\n    # 1찾기\\n    flag = False\\n    start_node = [0,0]\\n    for row_idx,row in enumerate(visited):\\n        for col_idx, ele in enumerate(row):\\n            if ele == 1:\\n                start_node = [row_idx, col_idx]\\n                flag = True\\n                break\\n        if flag == True:\\n            break\\n    dq = deque()\\n    dq.append(start_node)\\n    count = 0\\n    while dq:\\n        now_node = dq.popleft()\\n        print(f'now_node : {now_node}')\\n        now_r = now_node[0]\\n        now_c = now_node[1]\\n        # 방문 표시, 방문한 곳은 0으로, 카운트\\n        visited[now_r][now_c] = True\\n        map[now_r][now_c] = 0\\n        count += 1\\n        for i in range(4):\\n            next_r = now_r + d_row[i]\\n            next_c = now_c + d_col[i]\\n            # 맵 안에 있는지 확인\\n            if 0 <= next_r < len(map) and 0 <= next_c < len(map[0]):\\n                # 방문 안한곳인지 확인\\n                if visited[next_r][next_c] == False:\\n                    dq.append([next_r, next_c])\\n    how_many_danjis += 1\\nprint(how_many_danjis)\\nfor count in counts:\\n    print(count)\\n\""
      ]
     },
     "execution_count": 10,
     "metadata": {},
     "output_type": "execute_result"
    }
   ],
   "source": [
    "\"\"\"\n",
    "from collections import deque\n",
    "\n",
    "how_many_danjis = 0\n",
    "counts = []\n",
    "# directions\n",
    "d_row = [1,0,-1,0]\n",
    "d_col = [0,-1,0,1]\n",
    "while not all([all(row) for row in visited]):\n",
    "    # 1찾기\n",
    "    flag = False\n",
    "    start_node = [0,0]\n",
    "    for row_idx,row in enumerate(visited):\n",
    "        for col_idx, ele in enumerate(row):\n",
    "            if ele == 1:\n",
    "                start_node = [row_idx, col_idx]\n",
    "                flag = True\n",
    "                break\n",
    "        if flag == True:\n",
    "            break\n",
    "    dq = deque()\n",
    "    dq.append(start_node)\n",
    "    count = 0\n",
    "    while dq:\n",
    "        now_node = dq.popleft()\n",
    "        print(f'now_node : {now_node}')\n",
    "        now_r = now_node[0]\n",
    "        now_c = now_node[1]\n",
    "        # 방문 표시, 방문한 곳은 0으로, 카운트\n",
    "        visited[now_r][now_c] = True\n",
    "        map[now_r][now_c] = 0\n",
    "        count += 1\n",
    "        for i in range(4):\n",
    "            next_r = now_r + d_row[i]\n",
    "            next_c = now_c + d_col[i]\n",
    "            # 맵 안에 있는지 확인\n",
    "            if 0 <= next_r < len(map) and 0 <= next_c < len(map[0]):\n",
    "                # 방문 안한곳인지 확인\n",
    "                if visited[next_r][next_c] == False:\n",
    "                    dq.append([next_r, next_c])\n",
    "    how_many_danjis += 1\n",
    "print(how_many_danjis)\n",
    "for count in counts:\n",
    "    print(count)\n",
    "\"\"\""
   ]
  },
  {
   "cell_type": "code",
   "execution_count": 30,
   "id": "8b64bc29-d1b1-49a6-bb8c-26a63f2f6aed",
   "metadata": {},
   "outputs": [],
   "source": [
    "# 풀다 말아서 다시 풀기"
   ]
  },
  {
   "cell_type": "code",
   "execution_count": 24,
   "id": "e8f4ccbb-4e16-48bf-bccb-272af00dba13",
   "metadata": {},
   "outputs": [
    {
     "name": "stdout",
     "output_type": "stream",
     "text": [
      "now_node : [0, 1]\n",
      "now_node : [0, 2]\n",
      "now_node : [1, 2]\n",
      "now_node : [1, 1]\n",
      "now_node : [2, 1]\n",
      "now_node : [2, 0]\n",
      "now_node : [2, 2]\n",
      "now_node : [2, 2]\n",
      "now_node : [1, 1]\n",
      "탐색 끝!\n",
      "now_node : [0, 4]\n",
      "now_node : [1, 4]\n",
      "now_node : [2, 4]\n",
      "now_node : [3, 4]\n",
      "now_node : [3, 5]\n",
      "now_node : [3, 6]\n",
      "now_node : [2, 6]\n",
      "now_node : [1, 6]\n",
      "탐색 끝!\n",
      "now_node : [4, 1]\n",
      "now_node : [5, 1]\n",
      "now_node : [5, 2]\n",
      "now_node : [5, 3]\n",
      "now_node : [5, 4]\n",
      "now_node : [5, 5]\n",
      "now_node : [6, 3]\n",
      "now_node : [6, 2]\n",
      "now_node : [6, 1]\n",
      "now_node : [6, 2]\n",
      "now_node : [6, 1]\n",
      "탐색 끝!\n",
      "3\n",
      "[9, 8, 11]\n"
     ]
    }
   ],
   "source": [
    "# 1을 찾아서 그 위치에서 dfs를 실행\n",
    "    # DFS실행하면서 방문했으면 visited 요소를 False로 변경\n",
    "# DFS 종료\n",
    "    # how many danjis += 1\n",
    "# => 다시 1 찾기 => 위 과정 반복\n",
    "# 더이상 1이 없다면 탐색을 종료\n",
    "\n",
    "# visited가 필요한가? =? 없이 가보자\n",
    "\n",
    "map=[[0, 1, 1, 0, 1, 0, 0],\n",
    " [0, 1, 1, 0, 1, 0, 1],\n",
    " [1, 1, 1, 0, 1, 0, 1],\n",
    " [0, 0, 0, 0, 1, 1, 1],\n",
    " [0, 1, 0, 0, 0, 0, 0],\n",
    " [0, 1, 1, 1, 1, 1, 0],\n",
    " [0, 1, 1, 1, 0, 0, 0]]\n",
    "\n",
    "from collections import deque\n",
    "\n",
    "how_many_danjis = 0\n",
    "count = []\n",
    "# directions\n",
    "d_row = [1,0,-1,0]\n",
    "d_col = [0,1,0,-1]\n",
    "while any([any(row) for row in map]): # map에서 어느 하나라도 1이라면 계속 실행\n",
    "    # 최초의 1찾기\n",
    "    one_loc = [-1,-1]\n",
    "    flag = True\n",
    "    for row_idx, row in enumerate(map):\n",
    "        for col_idx, ele in enumerate(row):\n",
    "            if ele == 1:\n",
    "                one_loc = [row_idx, col_idx]\n",
    "                flag = False\n",
    "                break\n",
    "        if flag == False:\n",
    "            break\n",
    "    # map에 더이상 1이 없다!? => 그만\n",
    "    if one_loc[0] == -1 and one_loc[1] == -1:\n",
    "        break\n",
    "    # dfs\n",
    "    now_count = 0 # 붙어있는 집이 몇 개?\n",
    "    dq = deque()\n",
    "    dq.append(one_loc)\n",
    "    while dq:\n",
    "        now_node = dq.pop()\n",
    "        print(f'now_node : {now_node}')\n",
    "        # 노드 분해\n",
    "        now_r = now_node[0]\n",
    "        now_c = now_node[1]\n",
    "        # 방문 표시, now_count += 1\n",
    "        map[now_r][now_c] = 0\n",
    "        now_count += 1\n",
    "        # 주변 노드 탐색\n",
    "        for i in range(4):\n",
    "            next_r = now_r + d_row[i]\n",
    "            next_c = now_c + d_col[i]\n",
    "            # map 범위 안에 있나?\n",
    "            if 0 <= next_r < len(map) and 0 <= next_c < len(map[0]):\n",
    "                # 탐색이 가능한 노드인가? (방문할 수 있는가?)\n",
    "                if map[next_r][next_c] == 1:\n",
    "                    # 맞다면 dq에 추가하자\n",
    "                    dq.append([next_r, next_c])\n",
    "    # 탐색이 끝났으면 => now_count 를 count 에 추가, how_many_danjis += 1\n",
    "    print(f'탐색 끝!')\n",
    "    count.append(now_count)\n",
    "    how_many_danjis += 1\n",
    "\n",
    "print(how_many_danjis)\n",
    "print(count)\n",
    "            "
   ]
  },
  {
   "cell_type": "code",
   "execution_count": 25,
   "id": "299f8417-9a4d-4fd4-9cad-4e0e98bfd0ec",
   "metadata": {},
   "outputs": [],
   "source": [
    "# 같은 노드를 방문한다 \n",
    "# <= dq에 노드가 2번 추가되었다\n",
    "# 어떤 노드를 탐색하고 n노드를 dq에 추가, 그리고 아직 n노드가 dq에 존재하는 상태(아직 미탐색)\n",
    "# 에서 dq에 n노드가 또 추가됨 <= 노드를 dq에서 빼고 방문 표시를 해서\n",
    "# dfs는 방문 표시를 dq에 추가할 때 헤야하는가!!"
   ]
  },
  {
   "cell_type": "code",
   "execution_count": 28,
   "id": "3a40a025-36b2-4ad4-8182-83e57f6eeb08",
   "metadata": {},
   "outputs": [
    {
     "name": "stdout",
     "output_type": "stream",
     "text": [
      "now_node : [0, 1]\n",
      "now_node : [0, 2]\n",
      "now_node : [1, 2]\n",
      "now_node : [2, 2]\n",
      "now_node : [2, 1]\n",
      "now_node : [2, 0]\n",
      "now_node : [1, 1]\n",
      "탐색 끝!\n",
      "now_node : [0, 4]\n",
      "now_node : [1, 4]\n",
      "now_node : [2, 4]\n",
      "now_node : [3, 4]\n",
      "now_node : [3, 5]\n",
      "now_node : [3, 6]\n",
      "now_node : [2, 6]\n",
      "now_node : [1, 6]\n",
      "탐색 끝!\n",
      "now_node : [4, 1]\n",
      "now_node : [5, 1]\n",
      "now_node : [5, 2]\n",
      "now_node : [5, 3]\n",
      "now_node : [5, 4]\n",
      "now_node : [5, 5]\n",
      "now_node : [6, 3]\n",
      "now_node : [6, 2]\n",
      "now_node : [6, 1]\n",
      "탐색 끝!\n",
      "3\n",
      "[7, 8, 9]\n"
     ]
    }
   ],
   "source": [
    "# 1을 찾아서 그 위치에서 dfs를 실행\n",
    "    # DFS실행하면서 방문했으면 visited 요소를 False로 변경\n",
    "# DFS 종료\n",
    "    # how many danjis += 1\n",
    "# => 다시 1 찾기 => 위 과정 반복\n",
    "# 더이상 1이 없다면 탐색을 종료\n",
    "\n",
    "# visited가 필요한가? =? 없이 가보자\n",
    "\n",
    "map=[[0, 1, 1, 0, 1, 0, 0],\n",
    " [0, 1, 1, 0, 1, 0, 1],\n",
    " [1, 1, 1, 0, 1, 0, 1],\n",
    " [0, 0, 0, 0, 1, 1, 1],\n",
    " [0, 1, 0, 0, 0, 0, 0],\n",
    " [0, 1, 1, 1, 1, 1, 0],\n",
    " [0, 1, 1, 1, 0, 0, 0]]\n",
    "\n",
    "from collections import deque\n",
    "\n",
    "how_many_danjis = 0\n",
    "count = []\n",
    "# directions\n",
    "d_row = [1,0,-1,0]\n",
    "d_col = [0,1,0,-1]\n",
    "while any([any(row) for row in map]): # map에서 어느 하나라도 1이라면 계속 실행\n",
    "    # 최초의 1찾기\n",
    "    one_loc = [-1,-1]\n",
    "    flag = True\n",
    "    for row_idx, row in enumerate(map):\n",
    "        for col_idx, ele in enumerate(row):\n",
    "            if ele == 1:\n",
    "                one_loc = [row_idx, col_idx]\n",
    "                flag = False\n",
    "                break\n",
    "        if flag == False:\n",
    "            break\n",
    "    # map에 더이상 1이 없다!? => 그만\n",
    "    if one_loc[0] == -1 and one_loc[1] == -1:\n",
    "        break\n",
    "    # dfs\n",
    "    now_count = 0 # 붙어있는 집이 몇 개?\n",
    "    dq = deque()\n",
    "    dq.append(one_loc)\n",
    "    # 방문 표시\n",
    "    map[one_loc[0]][one_loc[1]] = 0\n",
    "    while dq:\n",
    "        now_node = dq.pop()\n",
    "        print(f'now_node : {now_node}')\n",
    "        # 노드 분해\n",
    "        now_r = now_node[0]\n",
    "        now_c = now_node[1]\n",
    "        # now_count += 1\n",
    "        now_count += 1\n",
    "        # 주변 노드 탐색\n",
    "        for i in range(4):\n",
    "            next_r = now_r + d_row[i]\n",
    "            next_c = now_c + d_col[i]\n",
    "            # map 범위 안에 있나?\n",
    "            if 0 <= next_r < len(map) and 0 <= next_c < len(map[0]):\n",
    "                # 탐색이 가능한 노드인가? (방문할 수 있는가?)\n",
    "                if map[next_r][next_c] == 1:\n",
    "                    # 맞다면 dq에 추가하자\n",
    "                    dq.append([next_r, next_c])\n",
    "                    # 방문 표시\n",
    "                    map[next_r][next_c] = 0\n",
    "    # 탐색이 끝났으면 => now_count 를 count 에 추가, how_many_danjis += 1\n",
    "    print(f'탐색 끝!')\n",
    "    count.append(now_count)\n",
    "    how_many_danjis += 1\n",
    "\n",
    "print(how_many_danjis)\n",
    "print(count)\n",
    "            "
   ]
  },
  {
   "cell_type": "code",
   "execution_count": 29,
   "id": "55244712-f249-40fe-9947-d671ba78b480",
   "metadata": {},
   "outputs": [],
   "source": [
    "# 맞네 까먹고 있었는듯\n",
    "####################################\n",
    "# bfs => 노드를 빼고 방문 표시\n",
    "# dfs => 노드를 넣고방문 표시\n",
    "###################################"
   ]
  },
  {
   "cell_type": "code",
   "execution_count": 34,
   "id": "1ea01c4a-1f56-41ba-acba-6695a7282eaf",
   "metadata": {},
   "outputs": [
    {
     "name": "stdin",
     "output_type": "stream",
     "text": [
      " 7\n",
      " 0110100\n",
      " 0110101\n",
      " 0000000\n",
      " 0000000\n",
      " 0000000\n",
      " 0000000\n",
      " 0000000\n"
     ]
    },
    {
     "name": "stdout",
     "output_type": "stream",
     "text": [
      "3\n",
      "1\n",
      "2\n",
      "4\n"
     ]
    }
   ],
   "source": [
    "# 통합\n",
    "# 입력처리\n",
    "map = []\n",
    "for i in range(int(input())):\n",
    "    row = [int(x) for x in input()]\n",
    "    map.append(row)\n",
    "\n",
    "from collections import deque\n",
    "\n",
    "how_many_danjis = 0\n",
    "count = []\n",
    "# directions\n",
    "d_row = [1,0,-1,0]\n",
    "d_col = [0,1,0,-1]\n",
    "while any([any(row) for row in map]): # map에서 어느 하나라도 1이라면 계속 실행\n",
    "    # 최초의 1찾기\n",
    "    one_loc = [-1,-1]\n",
    "    flag = True\n",
    "    for row_idx, row in enumerate(map):\n",
    "        for col_idx, ele in enumerate(row):\n",
    "            if ele == 1:\n",
    "                one_loc = [row_idx, col_idx]\n",
    "                flag = False\n",
    "                break\n",
    "        if flag == False:\n",
    "            break\n",
    "    # map에 더이상 1이 없다!? => 그만\n",
    "    if one_loc[0] == -1 and one_loc[1] == -1:\n",
    "        break\n",
    "    # dfs\n",
    "    now_count = 0 # 붙어있는 집이 몇 개?\n",
    "    dq = deque()\n",
    "    dq.append(one_loc)\n",
    "    # 방문 표시\n",
    "    map[one_loc[0]][one_loc[1]] = 0\n",
    "    while dq:\n",
    "        now_node = dq.pop()\n",
    "        #print(f'now_node : {now_node}')\n",
    "        # 노드 분해\n",
    "        now_r = now_node[0]\n",
    "        now_c = now_node[1]\n",
    "        # now_count += 1\n",
    "        now_count += 1\n",
    "        # 주변 노드 탐색\n",
    "        for i in range(4):\n",
    "            next_r = now_r + d_row[i]\n",
    "            next_c = now_c + d_col[i]\n",
    "            # map 범위 안에 있나?\n",
    "            if 0 <= next_r < len(map) and 0 <= next_c < len(map[0]):\n",
    "                # 탐색이 가능한 노드인가? (방문할 수 있는가?)\n",
    "                if map[next_r][next_c] == 1:\n",
    "                    # 맞다면 dq에 추가하자\n",
    "                    dq.append([next_r, next_c])\n",
    "                    # 방문 표시\n",
    "                    map[next_r][next_c] = 0\n",
    "    # 탐색이 끝났으면 => now_count 를 count 에 추가, how_many_danjis += 1\n",
    "    #print(f'탐색 끝!')\n",
    "    count.append(now_count)\n",
    "    how_many_danjis += 1\n",
    "\n",
    "print(how_many_danjis)\n",
    "count.sort()\n",
    "for c in count:\n",
    "    print(c)\n",
    "            "
   ]
  },
  {
   "cell_type": "code",
   "execution_count": 33,
   "id": "e7d83e71-079d-476c-b055-ef0df4f8870f",
   "metadata": {},
   "outputs": [
    {
     "data": {
      "text/plain": [
       "'각 단지에 속하는 집의 수를 오름차순으로 정렬하여 출력'"
      ]
     },
     "execution_count": 33,
     "metadata": {},
     "output_type": "execute_result"
    }
   ],
   "source": [
    "\"각 단지에 속하는 집의 수를 오름차순으로 정렬하여 출력\""
   ]
  },
  {
   "cell_type": "markdown",
   "id": "35f78917-38dc-4fd0-880b-31fdef7423c6",
   "metadata": {},
   "source": [
    "# BOJ. 4673. 셀프 넘버"
   ]
  },
  {
   "cell_type": "markdown",
   "id": "cc7e12e4-1d96-438c-a09c-d1bf83962e07",
   "metadata": {},
   "source": [
    "##### https://www.acmicpc.net/problem/4673"
   ]
  },
  {
   "cell_type": "code",
   "execution_count": 1,
   "id": "e92b717b-494d-4792-b19f-5ea347faf92b",
   "metadata": {},
   "outputs": [],
   "source": [
    "# 생성자가 없는 수 = 셀프넘버\n",
    "# 10000보다 작은 셀프넘버를 출력하라\n",
    "# ex) d(91) = 91 + 9 + 1 = 101 \n",
    "# 91은 101의 생성자\n",
    "# 에라토스테네스의 채와 같은 로직?"
   ]
  },
  {
   "cell_type": "code",
   "execution_count": 2,
   "id": "0b6197ee-ae4b-4a5c-bd10-917789b971cc",
   "metadata": {},
   "outputs": [],
   "source": [
    "# d(n) \n",
    "def d(n):\n",
    "    # 각 자리 수 산출\n",
    "    str_n = str(n)\n",
    "    for x in str_n:\n",
    "        n += int(x)\n",
    "    return n"
   ]
  },
  {
   "cell_type": "code",
   "execution_count": 7,
   "id": "cad09a2f-f84c-4788-9153-1737093319da",
   "metadata": {},
   "outputs": [
    {
     "data": {
      "text/plain": [
       "0"
      ]
     },
     "execution_count": 7,
     "metadata": {},
     "output_type": "execute_result"
    }
   ],
   "source": [
    "d(0)"
   ]
  },
  {
   "cell_type": "code",
   "execution_count": null,
   "id": "dcaadec9-aa80-46a5-b161-6abbed00aa76",
   "metadata": {},
   "outputs": [],
   "source": [
    "# 메모리 제한 128MB\n",
    "# int * 10001 = 40004 bytes = 40MB => 배열 선언 가능\n",
    "arr = [True] * 10001"
   ]
  },
  {
   "cell_type": "code",
   "execution_count": 11,
   "id": "29a51ef7-2032-431b-9755-91b36e96358e",
   "metadata": {},
   "outputs": [],
   "source": [
    "arr = [True] * 101\n",
    "# 각 숫자들로 만든 수를 False\n",
    "for i, bool in enumerate(arr):\n",
    "    if d(i) <= 100:\n",
    "        arr[d(i)] = False"
   ]
  },
  {
   "cell_type": "code",
   "execution_count": 13,
   "id": "ab94cee4-d983-4c7b-b98c-d8e1c084a954",
   "metadata": {},
   "outputs": [
    {
     "name": "stdout",
     "output_type": "stream",
     "text": [
      "1\n",
      "3\n",
      "5\n",
      "7\n",
      "9\n",
      "20\n",
      "31\n",
      "42\n",
      "53\n",
      "64\n",
      "75\n",
      "86\n",
      "97\n"
     ]
    }
   ],
   "source": [
    "for idx, x in enumerate(arr):\n",
    "    if x == True:\n",
    "        print(idx)"
   ]
  },
  {
   "cell_type": "code",
   "execution_count": 14,
   "id": "a2953036-5ca4-408c-b2f7-beb14a87ff07",
   "metadata": {},
   "outputs": [
    {
     "name": "stdout",
     "output_type": "stream",
     "text": [
           ]
    }
   ],
   "source": [
    "# 테스트 완료\n",
    "# 통합 풀이\n",
    "def d(n):\n",
    "    # 각 자리 수 산출\n",
    "    str_n = str(n)\n",
    "    for x in str_n:\n",
    "        n += int(x)\n",
    "    return n\n",
    "\n",
    "arr = [True] * 10001\n",
    "\n",
    "# 각 숫자들로 만든 수를 False 처리\n",
    "for i, bool in enumerate(arr):\n",
    "    if d(i) <= 10000:\n",
    "        arr[d(i)] = False\n",
    "\n",
    "for idx, x in enumerate(arr):\n",
    "    if x == True:\n",
    "        print(idx)"
   ]
  },
  {
   "cell_type": "code",
   "execution_count": null,
   "id": "56efb1f1-eb48-4a4a-ae88-8fe4adb33bad",
>>>>>>> 48aa13a217c63b8e4bb995044653a02f50388650
   "metadata": {},
   "outputs": [],
   "source": [
    "import math\n",
    "\n",
    "tasecase = int(input())\n",
    "for _ in range(testcase):\n",
    "    x1, y1, r1, x2, y2, r2 = [int(x) for x in input().split()]\n",
    "    d = math.sqrt((x1 - x2)**2 + (y1 - y2)**2)\n",
    "    if abs(r1 -r2) < d < r1 + r2:\n",
    "        print('2')\n",
    "    elif abs(r1 - r2) == d or r1 + r1 == d:\n",
    "        print('1')\n",
    "    elif d == 0:\n",
    "        if r1 == r2:\n",
    "            print('-1')\n",
    "        else:\n",
    "            print('0')\n",
    "    else:\n",
    "        print('0')\n",
    "        "
   ]
  }
 ],
 "metadata": {
  "kernelspec": {
   "display_name": "Python 3 (ipykernel)",
   "language": "python",
   "name": "python3"
  },
  "language_info": {
   "codemirror_mode": {
    "name": "ipython",
    "version": 3
   },
   "file_extension": ".py",
   "mimetype": "text/x-python",
   "name": "python",
   "nbconvert_exporter": "python",
   "pygments_lexer": "ipython3",
   "version": "3.11.5"
  }
 },
 "nbformat": 4,
 "nbformat_minor": 5
}
