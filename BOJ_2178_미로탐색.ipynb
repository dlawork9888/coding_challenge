{
 "cells": [
  {
   "cell_type": "markdown",
   "id": "b00c2ead-e12d-447d-8906-141cf29532cc",
   "metadata": {},
   "source": [
    "# BOJ. 2178. 미로탐색\n",
    "https://www.acmicpc.net/problem/2178"
   ]
  },
  {
   "cell_type": "code",
   "execution_count": 6,
   "id": "8f7abe25-e20c-49d5-894d-109f1a86df3e",
   "metadata": {
    "tags": []
   },
   "outputs": [
    {
     "name": "stdin",
     "output_type": "stream",
     "text": [
      " 4 6\n",
      " 101111\n",
      " 101010\n",
      " 101011\n",
      " 111011\n"
     ]
    }
   ],
   "source": [
    "# 입력처리\n",
    "N, M = [int(x) for x in input().split()]\n",
    "grid = []\n",
    "for _ in range(N):\n",
    "    grid.append([int(x) for x in input()])"
   ]
  },
  {
   "cell_type": "code",
   "execution_count": 13,
   "id": "a877237a-aa31-4443-bd8e-5e88c6857c26",
   "metadata": {
    "tags": []
   },
   "outputs": [],
   "source": [
    "grid = [\n",
    " '101111',\n",
    " '101010',\n",
    " '101011',\n",
    " '111011'\n",
    "]\n",
    "grid = [list([int(ele) for ele in x]) for x in grid]"
   ]
  },
  {
   "cell_type": "code",
   "execution_count": 17,
   "id": "6c7c4d3e-241b-4f07-a736-cce30b90f1d4",
   "metadata": {
    "tags": []
   },
   "outputs": [
    {
     "name": "stdout",
     "output_type": "stream",
     "text": [
      "15\n"
     ]
    }
   ],
   "source": [
    "from collections import deque\n",
    "\n",
    "# directions\n",
    "d_row = [0,1,0,-1]\n",
    "d_col = [1,0,-1,0]\n",
    "\n",
    "queue = deque()\n",
    "# BFS\n",
    "queue.append([0,0])\n",
    "while queue:\n",
    "    now_node = queue.popleft()\n",
    "    for i in range(4):\n",
    "        next_row = now_node[0] + d_row[i]\n",
    "        next_col = now_node[1] + d_col[i]\n",
    "        # in grid ? and able to go?\n",
    "        if (0<=next_row<N and 0<=next_col<M) and (grid[next_row][next_col] == 1):\n",
    "            grid[next_row][next_col] = grid[now_node[0]][now_node[1]] + 1\n",
    "            queue.append([next_row, next_col])\n",
    "print(grid[-1][-1])"
   ]
  },
  {
   "cell_type": "code",
   "execution_count": 18,
   "id": "83cf2870-8323-4441-95de-dbc2a3abe738",
   "metadata": {
    "tags": []
   },
   "outputs": [
    {
     "name": "stdin",
     "output_type": "stream",
     "text": [
      " 4 6\n",
      " 101111\n",
      " 101010\n",
      " 101011\n",
      " 111011\n"
     ]
    },
    {
     "name": "stdout",
     "output_type": "stream",
     "text": [
      "15\n"
     ]
    }
   ],
   "source": [
    "# 통합\n",
    "\n",
    "# 입력처리\n",
    "N, M = [int(x) for x in input().split()]\n",
    "grid = []\n",
    "for _ in range(N):\n",
    "    grid.append([int(x) for x in input()])\n",
    "    \n",
    "    \n",
    "from collections import deque\n",
    "\n",
    "# directions\n",
    "d_row = [0,1,0,-1]\n",
    "d_col = [1,0,-1,0]\n",
    "\n",
    "queue = deque()\n",
    "# BFS\n",
    "queue.append([0,0])\n",
    "while queue:\n",
    "    now_node = queue.popleft()\n",
    "    for i in range(4):\n",
    "        next_row = now_node[0] + d_row[i]\n",
    "        next_col = now_node[1] + d_col[i]\n",
    "        # in grid ? and able to go?\n",
    "        if (0<=next_row<N and 0<=next_col<M) and (grid[next_row][next_col] == 1):\n",
    "            grid[next_row][next_col] = grid[now_node[0]][now_node[1]] + 1\n",
    "            queue.append([next_row, next_col])\n",
    "print(grid[-1][-1])"
   ]
  },
  {
   "cell_type": "code",
   "execution_count": null,
   "id": "194d5713-c947-43c7-9c69-73a040f70621",
   "metadata": {},
   "outputs": [],
   "source": []
  }
 ],
 "metadata": {
  "kernelspec": {
   "display_name": "Python 3 (ipykernel)",
   "language": "python",
   "name": "python3"
  },
  "language_info": {
   "codemirror_mode": {
    "name": "ipython",
    "version": 3
   },
   "file_extension": ".py",
   "mimetype": "text/x-python",
   "name": "python",
   "nbconvert_exporter": "python",
   "pygments_lexer": "ipython3",
   "version": "3.11.5"
  }
 },
 "nbformat": 4,
 "nbformat_minor": 5
}
