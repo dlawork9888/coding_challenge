{
 "cells": [
  {
   "cell_type": "markdown",
   "id": "f78c236e-a001-48b5-a1be-9ddbf1b5045f",
   "metadata": {},
   "source": [
    "# 1859. 백만 장자 프로젝트"
   ]
  },
  {
   "cell_type": "markdown",
   "id": "249728c4-e3ca-4227-9c33-aa2b116cffae",
   "metadata": {
    "tags": []
   },
   "source": [
    "##### https://swexpertacademy.com/main/code/problem/problemDetail.do?contestProbId=AV5LrsUaDxcDFAXc&categoryId=AV5LrsUaDxcDFAXc&categoryType=CODE&problemTitle=&orderBy=SUBMIT_COUNT&selectCodeLang=ALL&select-1=2&pageSize=10&pageIndex=1"
   ]
  },
  {
   "cell_type": "markdown",
   "id": "58936e7a-7aff-4adc-95f1-c9b508a222d1",
   "metadata": {},
   "source": [
    "### 재귀를 이용한 풀이"
   ]
  },
  {
   "cell_type": "code",
   "execution_count": 5,
   "id": "ac18f4a7-49ff-4bf1-acc3-98803fb81227",
   "metadata": {},
   "outputs": [
    {
     "name": "stdin",
     "output_type": "stream",
     "text": [
      " 1\n",
      " 7\n",
      " 1 2 3 4 1 2 3\n"
     ]
    }
   ],
   "source": [
    "# 입력 처리\n",
    "testcases = int(input())\n",
    "for testcase in range(testcases):\n",
    "    n = int(input())\n",
    "    prices = [int(x) for x in input().split(' ')]"
   ]
  },
  {
   "cell_type": "raw",
   "id": "6e09bab7-599f-4b6b-94b7-efc893dc3960",
   "metadata": {},
   "source": [
    "max_price 구하기\n",
    "max_price 기준으로 반갈 (0부터 max_price까지는 앞, max_price바로 뒤부터 마지막까지는 뒤, max_price가 마지막 값이라면 뒤는 []이니까 이거를 또 처리하는..., max_price가 맨앞이면 앞은 하나짜리니까 이거를 또 처리하는..)\n",
    "앞 => part_max_revenue에 넣기\n",
    "뒤 => max_revenue 구하기\n",
    "      max_revenue기준으로 반갈\n",
    "      앞 => part_max_revenue에 넣기\n",
    "      뒤 => max_revenue구하기\n",
    "      ..."
   ]
  },
  {
   "cell_type": "code",
   "execution_count": 5,
   "id": "95b302b9-3513-4092-ad44-4798e09ff267",
   "metadata": {},
   "outputs": [],
   "source": [
    "def part_max_revenue(front):\n",
    "    if len(front) == 1: return 0\n",
    "    return front[-1] * len(front) - sum(front)"
   ]
  },
  {
   "cell_type": "code",
   "execution_count": 6,
   "id": "7e996008-124d-4bc0-b91a-dc160d9c6878",
   "metadata": {},
   "outputs": [],
   "source": [
    "def return_max_revenue(n, prices): # 몇 개의 날? 가격들은?\n",
    "    #back들어왔는데 길이가 0이면\n",
    "    if n == 0: return 0\n",
    "    \n",
    "    max_price = max(prices)\n",
    "    max_p_index = prices.index(max_price)\n",
    "    \n",
    "    max_revenue = 0\n",
    "    \n",
    "    #앞 뒤\n",
    "    front = prices[0 : max_p_index + 1]\n",
    "    back = prices[max_p_index + 1 :]\n",
    "    \n",
    "    max_revenue += part_max_revenue(front)\n",
    "    max_revenue += return_max_revenue(len(back), back)\n",
    "    \n",
    "    return max_revenue"
   ]
  },
  {
   "cell_type": "code",
   "execution_count": 7,
   "id": "c66047d3-c7fb-4622-a602-a1dbe6d2fe6b",
   "metadata": {},
   "outputs": [
    {
     "data": {
      "text/plain": [
       "7"
      ]
     },
     "execution_count": 7,
     "metadata": {},
     "output_type": "execute_result"
    }
   ],
   "source": [
    "return_max_revenue(5,[1,2,5,4,3])"
   ]
  },
  {
   "cell_type": "markdown",
   "id": "3348d717-f49c-4e4e-b257-cb016f8e221d",
   "metadata": {},
   "source": [
    "### Full Code"
   ]
  },
  {
   "cell_type": "code",
   "execution_count": 11,
   "id": "63840086-20ef-4f31-b38b-a61ae5dd8945",
   "metadata": {},
   "outputs": [
    {
     "name": "stdin",
     "output_type": "stream",
     "text": [
      " 3\n",
      " 3\n",
      " 10 7 6\n"
     ]
    },
    {
     "name": "stdout",
     "output_type": "stream",
     "text": [
      "#1 0\n"
     ]
    },
    {
     "name": "stdin",
     "output_type": "stream",
     "text": [
      " 3\n",
      " 3 5 9\n"
     ]
    },
    {
     "name": "stdout",
     "output_type": "stream",
     "text": [
      "#2 10\n"
     ]
    },
    {
     "name": "stdin",
     "output_type": "stream",
     "text": [
      " 5\n",
      " 1 1 3 1 2\n"
     ]
    },
    {
     "name": "stdout",
     "output_type": "stream",
     "text": [
      "#3 5\n"
     ]
    }
   ],
   "source": [
    "def part_max_revenue(front):\n",
    "    if len(front) == 1: return 0\n",
    "    return front[-1] * len(front) - sum(front)\n",
    "\n",
    "\n",
    "def return_max_revenue(n, prices): # 몇 개의 날? 가격들은?\n",
    "    #back들어왔는데 길이가 0이면\n",
    "    if n == 0: return 0\n",
    "    \n",
    "    max_price = max(prices)\n",
    "    max_p_index = prices.index(max_price)\n",
    "    \n",
    "    max_revenue = 0\n",
    "    \n",
    "    #앞 뒤\n",
    "    front = prices[0 : max_p_index + 1]\n",
    "    back = prices[max_p_index + 1 :]\n",
    "    \n",
    "    max_revenue += part_max_revenue(front)\n",
    "    max_revenue += return_max_revenue(len(back), back)\n",
    "    \n",
    "    return max_revenue\n",
    "\n",
    "# 입력 처리\n",
    "testcases = int(input())\n",
    "for testcase in range(testcases):\n",
    "    n = int(input())\n",
    "    prices = [int(x) for x in input().split(' ')]\n",
    "    print(f'#{testcase+1} {return_max_revenue(n, prices)}')"
   ]
  },
  {
   "cell_type": "markdown",
   "id": "fe6db493-0872-4935-8048-2ad700ce3475",
   "metadata": {},
   "source": [
    "##### 런타임 에러"
   ]
  },
  {
   "cell_type": "markdown",
   "id": "798e422f-c9c4-41d4-ac1b-dab5e2e043b0",
   "metadata": {},
   "source": [
    "### 맨 뒤의 인덱스부터 접근하는 풀이"
   ]
  },
  {
   "cell_type": "code",
   "execution_count": 17,
   "id": "ea7eb54e-0b81-4eca-b1fa-96a396c2a021",
   "metadata": {},
   "outputs": [
    {
     "name": "stdin",
     "output_type": "stream",
     "text": [
      " 1\n",
      " 5\n",
      " 1 1 3 1 2\n"
     ]
    },
    {
     "name": "stdout",
     "output_type": "stream",
     "text": [
      "#1 5\n"
     ]
    }
   ],
   "source": [
    "T = int(input())\n",
    "# 여러개의 테스트 케이스가 주어지므로, 각각을 처리합니다.\n",
    "for test_case in range(1, T + 1):\n",
    "    n = int(input())\n",
    "    prices = [int(x) for x in input().split(' ')]\n",
    "    \n",
    "    max_revenue = 0    \n",
    "    max_price = 0\n",
    "    \n",
    "    # 역순으로 접근하면서 \n",
    "    # 마주하는 원소가 현재의 max_price보다 크다면, 그 값으로 max_price로 설정\n",
    "    # 마주하는 원소가 현재의 max_price보다 (같거나)작다면, 그 값으로 사서 현재의 max_price로 팔면 됨\n",
    "    \n",
    "    i = n - 1 # prices의 마지막 원소의 인덱스\n",
    "    while i > -1: # 0번째 원소까지 접근\n",
    "        if prices[i] > max_price: \n",
    "            max_price = prices[i]\n",
    "        else:\n",
    "            max_revenue += max_price - prices[i]\n",
    "        i -= 1\n",
    "    \n",
    "    print(f'#{T} {max_revenue}')"
   ]
  },
  {
   "cell_type": "markdown",
   "id": "af0f5f50-7311-48d9-9ced-17e03ed47de2",
   "metadata": {},
   "source": [
    "# 2072. 홀수만 더하기"
   ]
  },
  {
   "cell_type": "markdown",
   "id": "628361a8-8b5c-4e84-8af7-16218673a018",
   "metadata": {},
   "source": [
    "##### https://swexpertacademy.com/main/code/problem/problemDetail.do?contestProbId=AV5QSEhaA5sDFAUq"
   ]
  },
  {
   "cell_type": "code",
   "execution_count": 4,
   "id": "e7b59305-0f8f-47b9-9f36-404b991a56fb",
   "metadata": {},
   "outputs": [
    {
     "name": "stdin",
     "output_type": "stream",
     "text": [
      " 1\n",
      " 1 2 3\n"
     ]
    },
    {
     "name": "stdout",
     "output_type": "stream",
     "text": [
      "#1 4\n"
     ]
    }
   ],
   "source": [
    "T = int(input())\n",
    "# 여러개의 테스트 케이스가 주어지므로, 각각을 처리합니다.\n",
    "for test_case in range(1, T + 1):\n",
    "    # ///////////////////////////////////////////////////////////////////////////////////\n",
    "    nums = [int(x) for x in input().split()]\n",
    "    odd_sum = 0\n",
    "    for num in nums:\n",
    "        if num % 2 == 1:\n",
    "            odd_sum += num\n",
    "    print(f'#{test_case} {odd_sum}')\n",
    "    # ///////////////////////////////////////////////////////////////////////////////////"
   ]
  },
  {
   "cell_type": "markdown",
   "id": "baa71d80-02d7-47b6-ab32-ee0e080b9a93",
   "metadata": {},
   "source": [
    "# 1206. [S/W 문제해결 기본] 1일차 - View"
   ]
  },
  {
   "cell_type": "markdown",
   "id": "10a9499b-02eb-45d6-91d5-0b670568751b",
   "metadata": {},
   "source": [
    "##### https://swexpertacademy.com/main/code/problem/problemDetail.do?problemLevel=3&contestProbId=AV134DPqAA8CFAYh&categoryId=AV134DPqAA8CFAYh&categoryType=CODE&problemTitle=&orderBy=SUBMIT_COUNT&selectCodeLang=PYTHON&select-1=3&pageSize=10&pageIndex=1"
   ]
  },
  {
   "cell_type": "code",
   "execution_count": 14,
   "id": "749f06a7-1112-46c8-a287-75642b19f93a",
   "metadata": {},
   "outputs": [
    {
     "name": "stdin",
     "output_type": "stream",
     "text": [
      " 100\n",
      " 0 0 225 214 82 73 241 233 179 219 135 62 36 13 6 71 179 77 67 139 31 90 9 37 93 203 150 69 19 137 28 174 32 80 64 54 18 0 158 73 173 20 0 102 107 48 50 161 246 145 225 31 0 153 185 157 44 126 153 233 0 201 83 103 191 0 45 0 131 87 97 105 97 209 157 22 0 29 132 74 2 232 44 203 0 51 0 244 212 212 89 53 50 244 207 144 72 143 0 0\n"
     ]
    },
    {
     "name": "stdout",
     "output_type": "stream",
     "text": [
      "#1 691\n"
     ]
    }
   ],
   "source": [
    "T = 10\n",
    "# 여러개의 테스트 케이스가 주어지므로, 각각을 처리합니다.\n",
    "for test_case in range(1, T + 1):\n",
    "    # ///////////////////////////////////////////////////////////////////////////////////\n",
    "    b_num = int(input()) #빌딩 개수\n",
    "    bs = [int(x) for x in input().split()] #빌딩 높이들\n",
    "    views = 0\n",
    "    for i in range(2,b_num - 2): # 100개 : 0 ~ 99 => index 2 ~ 97 까지 접근\n",
    "        near_highest = max(bs[i-2:i] + bs[i+1:i+3])\n",
    "        if near_highest < bs[i]:\n",
    "            views += bs[i] - near_highest\n",
    "    print(f'#{test_case} {views}')\n",
    "    # ///////////////////////////////////////////////////////////////////////////////////\n"
   ]
  },
  {
   "cell_type": "markdown",
   "id": "fcc01ea2-4487-4c0c-84c9-29c7b299cd49",
   "metadata": {},
   "source": [
    "# 1210. [S/W 문제해결 기본] 2일차 - Ladder1"
   ]
  },
  {
   "cell_type": "markdown",
   "id": "31085aa8-2872-4fdb-99c3-24c0fcda64a2",
   "metadata": {},
   "source": [
    "##### https://swexpertacademy.com/main/code/problem/problemDetail.do?problemLevel=4&contestProbId=AV14ABYKADACFAYh&categoryId=AV14ABYKADACFAYh&categoryType=CODE&problemTitle=&orderBy=SUBMIT_COUNT&selectCodeLang=ALL&select-1=4&pageSize=10&pageIndex=1"
   ]
  },
  {
   "cell_type": "raw",
   "id": "353a37cf-988e-4747-a819-fe589e0d5edc",
   "metadata": {},
   "source": [
    "#입력처리 => 2차원 배열"
   ]
  },
  {
   "cell_type": "code",
   "execution_count": 41,
   "id": "cf9d42eb-6bf7-43e6-afee-98633a381838",
   "metadata": {},
   "outputs": [],
   "source": [
    "ladder = [[1,0,1,0,1],\n",
    "          [1,1,1,0,1],\n",
    "          [1,0,1,0,1],\n",
    "          [1,0,1,1,1],\n",
    "          [1,0,2,0,1]]"
   ]
  },
  {
   "cell_type": "raw",
   "id": "02c5ec7b-7ee1-468e-b500-1479ce4e3baf",
   "metadata": {},
   "source": [
    "각 스타트 포인트에서\n",
    "    따라서 내려감\n",
    "        => ladder[0]을 순회하면서 1을 발견\n",
    "        => 한칸 내려감\n",
    "            => 지금 위치가 맨 오른쪽이 아닐때\n",
    "                => 오른쪽에 1이 있다면, 계속 오른쪽으로 이동\n",
    "                    => 오른쪽이 끝이거나 (내가 가장 오른쪽에 있거나)\n",
    "                    => 오른쪽에 0이 나오면 이동 종료\n",
    "                => 한칸 내려가기\n",
    "                => continue\n",
    "            => 지금 위치가 맨 왼쪽이 아닐때\n",
    "                => 왼쪽에 1이 있다면, 계속 왼쪽으로 이동\n",
    "                    => 왼쪽이 끝이거나(내가 가장 왼쪽에 있거나)\n",
    "                    => 왼쪽에 0이 나오면 이동 종료\n",
    "                => 한칸 내려가기\n",
    "                => continue\n",
    "            => 한 칸 내려가기\n",
    "            \n",
    "    2가 있으면 바로 거길 반환"
   ]
  },
  {
   "cell_type": "code",
   "execution_count": 51,
   "id": "7e529bff-d00e-4f39-81d3-bfe2b739befd",
   "metadata": {},
   "outputs": [
    {
     "name": "stdout",
     "output_type": "stream",
     "text": [
      "-----------starting_point 0 ---------\n",
      "now_x = 0, j = 1\n",
      "now_x = 1, j = 1\n",
      "now_x = 2, j = 1\n",
      "now_x = 2, j = 2\n",
      "now_x = 2, j = 3\n",
      "now_x = 3, j = 3\n",
      "now_x = 4, j = 3\n",
      "now_x = 4, j = 4\n",
      "-----------starting_point 2 ---------\n",
      "now_x = 2, j = 1\n",
      "now_x = 1, j = 1\n",
      "now_x = 0, j = 1\n",
      "now_x = 0, j = 2\n",
      "now_x = 0, j = 3\n",
      "now_x = 0, j = 4\n",
      "-----------starting_point 4 ---------\n",
      "now_x = 4, j = 1\n",
      "now_x = 4, j = 2\n",
      "now_x = 4, j = 3\n",
      "now_x = 3, j = 3\n",
      "now_x = 2, j = 3\n",
      "now_x = 2, j = 4\n",
      "4\n"
     ]
    }
   ],
   "source": [
    "    \n",
    "def answer_process(ladder):    \n",
    "    for i in range(len(ladder[0])):\n",
    "        if ladder[0][i] == 1:\n",
    "            starting_point = i\n",
    "            now_x = i\n",
    "            print(f'-----------starting_point {i} ---------')\n",
    "            j = 1\n",
    "            print(f'now_x = {now_x}, j = {j}')\n",
    "            while j < len(ladder) - 1:\n",
    "                if now_x != len(ladder[0]) - 1:\n",
    "                    if ladder[j][now_x + 1] == 1:\n",
    "                        while True:\n",
    "                            if now_x == len(ladder[0]) - 1:\n",
    "                                break\n",
    "                            if ladder[j][now_x + 1] == 0:\n",
    "                                break\n",
    "                            now_x += 1\n",
    "                            print(f'now_x = {now_x}, j = {j}')\n",
    "                        j += 1\n",
    "                        print(f'now_x = {now_x}, j = {j}')\n",
    "                        continue\n",
    "                if now_x != 0:\n",
    "                    if ladder[j][now_x - 1] == 1:\n",
    "                        while True:\n",
    "                            if now_x == 0:\n",
    "                                break\n",
    "                            if ladder[j][now_x - 1] == 0:\n",
    "                                break\n",
    "                            now_x -= 1\n",
    "                            print(f'now_x = {now_x}, j = {j}')\n",
    "                        j += 1\n",
    "                        print(f'now_x = {now_x}, j = {j}')\n",
    "                        continue\n",
    "                j += 1\n",
    "                print(f'now_x = {now_x}, j = {j}')\n",
    "\n",
    "            if ladder[j][now_x] == 2:\n",
    "                print(starting_point)\n",
    "                break\n",
    "\n",
    "answer_process(ladder)"
   ]
  },
  {
   "cell_type": "markdown",
   "id": "408ac2bd-ad23-46b2-9da4-0149d579a66a",
   "metadata": {},
   "source": [
    "### Full Code"
   ]
  },
  {
   "cell_type": "code",
   "execution_count": null,
   "id": "c78b5203-2f1b-468e-83b2-e646efb9098e",
   "metadata": {},
   "outputs": [],
   "source": [
    "# -*- coding: cp949 -*-\n",
    "import sys\n",
    "sys.stdin = open('input1210.txt', 'r')\n",
    "\n",
    "\n",
    "def answer_process(ladder):    \n",
    "    for i in range(len(ladder[0])):\n",
    "        if ladder[0][i] == 1:\n",
    "            starting_point = i\n",
    "            now_x = i\n",
    "            #print(f'-----------starting_point {i} ---------')\n",
    "            j = 1\n",
    "            #print(f'now_x = {now_x}, j = {j}')\n",
    "            while j < len(ladder) - 1:\n",
    "                if now_x != len(ladder[0]) - 1:\n",
    "                    if ladder[j][now_x + 1] == 1:\n",
    "                        while True:\n",
    "                            if now_x == len(ladder[0]) - 1:\n",
    "                                break\n",
    "                            if ladder[j][now_x + 1] == 0:\n",
    "                                break\n",
    "                            now_x += 1\n",
    "                            #print(f'now_x = {now_x}, j = {j}')\n",
    "                        j += 1\n",
    "                        #print(f'now_x = {now_x}, j = {j}')\n",
    "                        continue\n",
    "                if now_x != 0:\n",
    "                    if ladder[j][now_x - 1] == 1:\n",
    "                        while True:\n",
    "                            if now_x == 0:\n",
    "                                break\n",
    "                            if ladder[j][now_x - 1] == 0:\n",
    "                                break\n",
    "                            now_x -= 1\n",
    "                            #print(f'now_x = {now_x}, j = {j}')\n",
    "                        j += 1\n",
    "                        #print(f'now_x = {now_x}, j = {j}')\n",
    "                        continue\n",
    "                j += 1\n",
    "                #print(f'now_x = {now_x}, j = {j}')\n",
    "\n",
    "            if ladder[j][now_x] == 2:\n",
    "                return starting_point\n",
    "                \n",
    "\n",
    "T = 10\n",
    "\n",
    "for test_case in range(1, T + 1):\n",
    "    # ///////////////////////////////////////////////////////////////////////////////////\n",
    "    testcase = int(input())\n",
    "    ladder = []\n",
    "    for _ in range(100):\n",
    "        line = [int(x) for x in input().split()]\n",
    "        ladder.append(line)\n",
    "    print(f\"#{test_case} {answer_process(ladder)}\")\n",
    "    # ///////////////////////////////////////////////////////////////////////////////////\n"
   ]
  },
  {
   "cell_type": "markdown",
   "id": "6e12c179-bad5-49fe-af6f-32a80dd6069d",
   "metadata": {},
   "source": [
    "# 1247. [S/W 문제해결 응용] 3일차 - 최적 경로"
   ]
  },
  {
   "cell_type": "markdown",
   "id": "70b16d4f-d749-4913-b98b-7991ed297c2a",
   "metadata": {},
   "source": [
    "##### https://swexpertacademy.com/main/code/problem/problemDetail.do?problemLevel=5&contestProbId=AV15OZ4qAPICFAYD&categoryId=AV15OZ4qAPICFAYD&categoryType=CODE&problemTitle=&orderBy=SUBMIT_COUNT&selectCodeLang=ALL&select-1=5&pageSize=10&pageIndex=1"
   ]
  },
  {
   "cell_type": "raw",
   "id": "a7ba54fc-578a-4372-b1ba-2dfa2ca515f1",
   "metadata": {},
   "source": [
    "# 입력 처리\n",
    "각 테스트 케이스에 대해 (10개)\n",
    "    첫 줄 : 고객의 수(n) \n",
    "    둘째 줄 : 회사의 좌표, 집의 좌표, n명의 고객의 좌표\n",
    "        => [(0,0),(1,1),...]으로 반환\n",
    "        => index 0, 1, 2, 3, ..., n-1\n",
    "        =>     회사 집 고객0 고객1 ...\n",
    "    \n",
    "# 회사에서 출발 => n명의 고객을 모두 방문(한번씩) => 집에 도착\n",
    "# 완전 탐색 (BFS), 백트래킹\n",
    "# 노드의 형태 => [지금까지 지나온 거리, 현재의 좌표, [남은 고객의 좌표들]]\n",
    "    => 이렇게 하면 방문한 고객을 삭제할 때 시간 복잡도 O(n)\n"
   ]
  },
  {
   "cell_type": "code",
   "execution_count": 7,
   "id": "a9f146ba-fe17-4c7b-bcaf-39d038754988",
   "metadata": {},
   "outputs": [
    {
     "name": "stdin",
     "output_type": "stream",
     "text": [
      " 5\n",
      " 0 0 100 100 70 40 30 10 10 5 90 70 50 20\n"
     ]
    }
   ],
   "source": [
    "def input_process():\n",
    "    n = int(input())\n",
    "    line_two = [int(x) for x in input().split()]\n",
    "    line_two = [(line_two[x], line_two[x+1]) for x in range(0, 2*n +4, 2)]\n",
    "    \n",
    "    return n, line_two\n",
    "\n",
    "n, line_two = input_process()"
   ]
  },
  {
   "cell_type": "raw",
   "id": "a421cc0f-82eb-41cf-924b-ea1fd32da263",
   "metadata": {},
   "source": [
    "# BFS\n",
    "# 노드의 형태 => [지금까지 지나온 거리, 현재의 좌표, [남은 고객의 좌표들]]\n",
    "\n",
    "=> 최단 거리 = math.inf\n",
    "=> 출발 노드를 큐에 넣는다\n",
    "=> 큐가 차있는 동안\n",
    "    => 현재 노드 = 큐.pop()\n",
    "    => 현재의 노드에 남은 고객의 좌표가 없다면,\n",
    "        => 현재 노드의 현재의 위치와 집까지의 거리를 지나온 거리에 더하고\n",
    "        => 최단거리와 현재 노드의 지나온 거리를 비교해서 현재 노드의 지나온 거리가 더 작다면 최단거리 업데이트\n",
    "    => 남은 고객의 좌표들에 대해\n",
    "        지금까지 지나온 거리 += abs(현재의 x좌표 - 남은 고객의 좌표) + abs(현재의 y좌표 - 남은 고객의 y좌표)\n",
    "        현재의 좌표를 남은 고객의 좌표로 바꾼다\n",
    "        남은 고객의 좌표에서 현재의 좌표를 지운다\n",
    "        위 3개로 새로운 노드를 생성하고 큐에 삽입한다\n",
    "        \n",
    "    "
   ]
  },
  {
   "cell_type": "code",
   "execution_count": 19,
   "id": "8eb56c1a-b86d-4433-b547-0ee239d1a8e1",
   "metadata": {},
   "outputs": [
    {
     "data": {
      "text/plain": [
       "200"
      ]
     },
     "execution_count": 19,
     "metadata": {},
     "output_type": "execute_result"
    }
   ],
   "source": [
    "from collections import deque\n",
    "import math\n",
    "\n",
    "def answer_process(n, line_two):\n",
    "    #BFS => queue\n",
    "    # 노드의 형태 => [지금까지 지나온 거리, 현재의 좌표, [남은 고객의 좌표들]]\n",
    "    work_loc = line_two[0]\n",
    "    home_loc = line_two[1]\n",
    "    customer_locs = line_two[2:]\n",
    "    \n",
    "    queue = deque()\n",
    "    queue.append([0, work_loc, customer_locs]) #root_node\n",
    "    \n",
    "    shortest_distance = math.inf\n",
    "    while queue:\n",
    "        now_node = queue.popleft()\n",
    "        \n",
    "        path_len = now_node[0]\n",
    "        now_loc = now_node[1]\n",
    "        remains = now_node[2]\n",
    "        \n",
    "        if len(remains) == 0:\n",
    "            path_len += abs(now_loc[0] - home_loc[0]) + abs(now_loc[1] - home_loc[1])\n",
    "            if path_len < shortest_distance:\n",
    "                shortest_distance = path_len\n",
    "                \n",
    "        for remain_index in range(len(remains)):\n",
    "            new_node_1 = path_len + abs(now_loc[0] - remains[remain_index][0]) + abs(now_loc[1] - remains[remain_index][1])\n",
    "            new_node_2 = remains[remain_index]\n",
    "            new_node_3 = remains[0:remain_index] + remains[remain_index + 1:]\n",
    "            new_node = [new_node_1, new_node_2, new_node_3]\n",
    "            queue.append(new_node)\n",
    "            \n",
    "    return shortest_distance\n",
    "            \n",
    "answer_process(n, line_two)         "
   ]
  },
  {
   "cell_type": "markdown",
   "id": "8f9184d7-f6dc-4b9e-8dfb-a49b2ddab9d5",
   "metadata": {},
   "source": [
    "### Full Code (Memory Exceed)"
   ]
  },
  {
   "cell_type": "code",
   "execution_count": null,
   "id": "7077300f-d1d4-4585-86cd-a0dce9647beb",
   "metadata": {},
   "outputs": [],
   "source": [
    "\n",
    "from collections import deque\n",
    "import math \n",
    "\n",
    "def input_process():\n",
    "    n = int(input())\n",
    "    line_two = [int(x) for x in input().split()]\n",
    "    line_two = [(line_two[x], line_two[x+1]) for x in range(0, 2*n +4, 2)]\n",
    "    \n",
    "    return n, line_two\n",
    "\n",
    "\n",
    "def answer_process(n, line_two):\n",
    "    #BFS => queue\n",
    "    # 노드의 형태 => [지금까지 지나온 거리, 현재의 좌표, [남은 고객의 좌표들]]\n",
    "    work_loc = line_two[0]\n",
    "    home_loc = line_two[1]\n",
    "    customer_locs = line_two[2:]\n",
    "    \n",
    "    queue = deque()\n",
    "    queue.append([0, work_loc, customer_locs]) #root_node\n",
    "    \n",
    "    shortest_distance = math.inf\n",
    "    while queue:\n",
    "        now_node = queue.popleft()\n",
    "        \n",
    "        path_len = now_node[0]\n",
    "        now_loc = now_node[1]\n",
    "        remains = now_node[2]\n",
    "        \n",
    "        if len(remains) == 0:\n",
    "            path_len += abs(now_loc[0] - home_loc[0]) + abs(now_loc[1] - home_loc[1])\n",
    "            if path_len < shortest_distance:\n",
    "                shortest_distance = path_len\n",
    "                \n",
    "        for remain_index in range(len(remains)):\n",
    "            new_node_1 = path_len + abs(now_loc[0] - remains[remain_index][0]) + abs(now_loc[1] - remains[remain_index][1])\n",
    "            new_node_2 = remains[remain_index]\n",
    "            new_node_3 = remains[0:remain_index] + remains[remain_index + 1:]\n",
    "            new_node = [new_node_1, new_node_2, new_node_3]\n",
    "            queue.append(new_node)\n",
    "            \n",
    "    return shortest_distance\n",
    "            \n",
    "T = int(input())\n",
    "# 여러개의 테스트 케이스가 주어지므로, 각각을 처리합니다.\n",
    "for test_case in range(1, T + 1):\n",
    "    # ///////////////////////////////////////////////////////////////////////////////////\n",
    "    n, line_two = input_process()\n",
    "    answer = answer_process(n, line_two)\n",
    "    print(f'#{test_case} {answer}')\n",
    "    # ///////////////////////////////////////////////////////////////////////////////////\n"
   ]
  },
  {
   "cell_type": "markdown",
   "id": "b4b9de6f-c314-422a-b264-b2d884dc5b93",
   "metadata": {},
   "source": [
    "### 수정 코드(노드의 요소 중 남은 고객 좌표 => 방문 여부 boolean list로) => Memory Exceed "
   ]
  },
  {
   "cell_type": "code",
   "execution_count": 28,
   "id": "73edd7a5-10d5-4be8-be90-5087e103a85a",
   "metadata": {},
   "outputs": [
    {
     "data": {
      "text/plain": [
       "200"
      ]
     },
     "execution_count": 28,
     "metadata": {},
     "output_type": "execute_result"
    }
   ],
   "source": [
    "from collections import deque\n",
    "import math\n",
    "\n",
    "def answer_process(n, line_two):\n",
    "    # BFS => queue\n",
    "    # 고객 방문 여부를 위한 boolean list를 새로 정의\n",
    "    # 노드의 형태 => [지금까지 지나온 거리, 현재의 좌표, [고객 방문 여부]]\n",
    "    work_loc = line_two[0]\n",
    "    home_loc = line_two[1]\n",
    "    customer_locs = line_two[2:]\n",
    "    visited = [False for _ in range(n)]\n",
    "    # [False, False, False, False, False]\n",
    "    \n",
    "    queue = deque()\n",
    "    queue.append([0, work_loc, visited]) #root_node\n",
    "    \n",
    "    shortest_distance = math.inf\n",
    "    \n",
    "\n",
    "                \n",
    "                \n",
    "    while queue:\n",
    "        now_node = queue.popleft()\n",
    "        \n",
    "        path_len = now_node[0]\n",
    "        now_loc = now_node[1]\n",
    "        now_node_visited = now_node[2]\n",
    "        \n",
    "        if all(now_node_visited):\n",
    "            path_len += abs(now_loc[0] - home_loc[0]) + abs(now_loc[1] - home_loc[1])\n",
    "            if path_len < shortest_distance:\n",
    "                shortest_distance = path_len\n",
    "                \n",
    "        for i in range(n):\n",
    "            if now_node_visited[i] == False:\n",
    "                new_node_0 = path_len + abs(now_loc[0] - customer_locs[i][0]) + abs(now_loc[1] - customer_locs[i][1])\n",
    "                new_node_1 = customer_locs[i]\n",
    "                new_node_2 = now_node_visited[:]\n",
    "                new_node_2[i] = True\n",
    "                new_node = [new_node_0, new_node_1, new_node_2]\n",
    "                queue.append(new_node)\n",
    "                \n",
    "                \n",
    "        \n",
    "\n",
    "        \n",
    "            \n",
    "    return shortest_distance\n",
    "            \n",
    "answer_process(n, line_two)         "
   ]
  },
  {
   "cell_type": "markdown",
   "id": "70f0ba09-fff9-4bd8-9055-eb79e1a82aca",
   "metadata": {
    "tags": []
   },
   "source": [
    "### 2차 수정 => DFS + Back Tracking(Pruning)"
   ]
  },
  {
   "cell_type": "code",
   "execution_count": 29,
   "id": "087ab1dd-1db3-4692-959b-1df4a16d3cf1",
   "metadata": {},
   "outputs": [
    {
     "data": {
      "text/plain": [
       "200"
      ]
     },
     "execution_count": 29,
     "metadata": {},
     "output_type": "execute_result"
    }
   ],
   "source": [
    "from collections import deque\n",
    "import math\n",
    "\n",
    "def answer_process(n, line_two):\n",
    "    # BFS => Stack\n",
    "    # 고객 방문 여부를 위한 boolean list를 새로 정의\n",
    "    # 노드의 형태 => [지금까지 지나온 거리, 현재의 좌표, [고객 방문 여부]]\n",
    "    work_loc = line_two[0]\n",
    "    home_loc = line_two[1]\n",
    "    customer_locs = line_two[2:]\n",
    "    visited = [False for _ in range(n)]\n",
    "    # [False, False, False, False, False]\n",
    "    \n",
    "    stack = deque()\n",
    "    stack.append([0, work_loc, visited]) #root_node\n",
    "    \n",
    "    shortest_distance = math.inf\n",
    "\n",
    "    while stack:\n",
    "        now_node = stack.pop()\n",
    "        \n",
    "        path_len = now_node[0]\n",
    "        now_loc = now_node[1]\n",
    "        now_node_visited = now_node[2]\n",
    "        \n",
    "        # Pruning 로직 추가\n",
    "        if shortest_distance < path_len:\n",
    "            continue\n",
    "        \n",
    "        if all(now_node_visited):\n",
    "            path_len += abs(now_loc[0] - home_loc[0]) + abs(now_loc[1] - home_loc[1])\n",
    "            if path_len < shortest_distance:\n",
    "                shortest_distance = path_len\n",
    "                \n",
    "        for i in range(n):\n",
    "            if now_node_visited[i] == False:\n",
    "                new_node_0 = path_len + abs(now_loc[0] - customer_locs[i][0]) + abs(now_loc[1] - customer_locs[i][1])\n",
    "                new_node_1 = customer_locs[i]\n",
    "                new_node_2 = now_node_visited[:]\n",
    "                new_node_2[i] = True\n",
    "                new_node = [new_node_0, new_node_1, new_node_2]\n",
    "                stack.append(new_node)\n",
    "\n",
    "    return shortest_distance\n",
    "            \n",
    "answer_process(n, line_two)         "
   ]
  },
  {
   "cell_type": "markdown",
   "id": "bf883164-d6a6-4739-8336-286092adf97d",
   "metadata": {},
   "source": [
    "### Full Code (DFS + Pruning) => Pass"
   ]
  },
  {
   "cell_type": "code",
   "execution_count": 23,
   "id": "f2b141e5-2f51-4b6f-bc9f-d4b5d281c910",
   "metadata": {},
   "outputs": [
    {
     "data": {
      "text/plain": [
       "[1, 1, 2, 3]"
      ]
     },
     "execution_count": 23,
     "metadata": {},
     "output_type": "execute_result"
    }
   ],
   "source": [
    "import sys\n",
    "sys.stdin = open(\"input1247.txt\", \"r\")\n",
    "\n",
    "from collections import deque\n",
    "import math\n",
    "\n",
    "def input_process():\n",
    "    n = int(input())\n",
    "    line_two = [int(x) for x in input().split()]\n",
    "    line_two = [(line_two[x], line_two[x+1]) for x in range(0, 2*n +4, 2)]\n",
    "    \n",
    "    return n, line_two\n",
    "\n",
    "def answer_process(n, line_two):\n",
    "    # BFS => Stack\n",
    "    # 고객 방문 여부를 위한 boolean list를 새로 정의\n",
    "    # 노드의 형태 => [지금까지 지나온 거리, 현재의 좌표, [고객 방문 여부]]\n",
    "    work_loc = line_two[0]\n",
    "    home_loc = line_two[1]\n",
    "    customer_locs = line_two[2:]\n",
    "    visited = [False for _ in range(n)]\n",
    "    # [False, False, False, False, False]\n",
    "    \n",
    "    stack = deque()\n",
    "    stack.append([0, work_loc, visited]) #root_node\n",
    "    \n",
    "    shortest_distance = math.inf\n",
    "\n",
    "    while stack:\n",
    "        now_node = stack.pop()\n",
    "        \n",
    "        path_len = now_node[0]\n",
    "        now_loc = now_node[1]\n",
    "        now_node_visited = now_node[2]\n",
    "        \n",
    "        # Pruning 로직 추가\n",
    "        if shortest_distance < path_len:\n",
    "            continue\n",
    "        \n",
    "        if all(now_node_visited):\n",
    "            path_len += abs(now_loc[0] - home_loc[0]) + abs(now_loc[1] - home_loc[1])\n",
    "            if path_len < shortest_distance:\n",
    "                shortest_distance = path_len\n",
    "                \n",
    "        for i in range(n):\n",
    "            if now_node_visited[i] == False:\n",
    "                new_node_0 = path_len + abs(now_loc[0] - customer_locs[i][0]) + abs(now_loc[1] - customer_locs[i][1])\n",
    "                new_node_1 = customer_locs[i]\n",
    "                new_node_2 = now_node_visited[:]\n",
    "                new_node_2[i] = True\n",
    "                new_node = [new_node_0, new_node_1, new_node_2]\n",
    "                stack.append(new_node)\n",
    "\n",
    "    return shortest_distance\n",
    "\n",
    "            \n",
    "T = int(input())\n",
    "# 여러개의 테스트 케이스가 주어지므로, 각각을 처리합니다.\n",
    "for test_case in range(1, T + 1):\n",
    "    # ///////////////////////////////////////////////////////////////////////////////////\n",
    "    n, line_two = input_process()\n",
    "    answer = answer_process(n, line_two)\n",
    "    print(f'#{test_case} {answer}')\n",
    "    # ///////////////////////////////////////////////////////////////////////////////////\n"
   ]
  },
  {
   "cell_type": "markdown",
   "id": "63dd47bc-2fa1-486c-8514-03e7176a8816",
   "metadata": {},
   "source": [
    "# 1244. [S/W 문제해결 응용] 2일차 - 최대 상금"
   ]
  },
  {
   "cell_type": "markdown",
   "id": "87eccfc5-835b-4fa6-ac42-b4be2e09e4af",
   "metadata": {},
   "source": [
    "##### https://swexpertacademy.com/main/code/problem/problemDetail.do?problemLevel=3&contestProbId=AV15Khn6AN0CFAYD&categoryId=AV15Khn6AN0CFAYD&categoryType=CODE&problemTitle=&orderBy=SUBMIT_COUNT&selectCodeLang=ALL&select-1=3&pageSize=10&pageIndex=1"
   ]
  },
  {
   "cell_type": "markdown",
   "id": "b1fe8a9b-8840-43f2-be36-9416396cbd5f",
   "metadata": {},
   "source": [
    "### BFS 완탐"
   ]
  },
  {
   "cell_type": "code",
   "execution_count": null,
   "id": "90de1f8c-3cb8-41ef-b4a3-9a1defd8773c",
   "metadata": {},
   "outputs": [],
   "source": [
    "from collections import deque\n",
    "from itertools import combinations\n",
    "\n",
    "T = int(input())\n",
    "\n",
    "def switch(target, n, loc):\n",
    "    target = list(target)\n",
    "    temp = target[loc[0]]\n",
    "    target[loc[0]] = target[loc[1]]\n",
    "    target[loc[1]] = temp\n",
    "    return [''.join(target), n + 1]\n",
    "\n",
    "#print(switch('123',1,(1,2)))\n",
    "# 여러개의 테스트 케이스가 주어지므로, 각각을 처리합니다.\n",
    "for test_case in range(1, T + 1):\n",
    "    # ///////////////////////////////////////////////////////////////////////////////////\n",
    "    # 입력 처리\n",
    "    target, n = [x for x in input().split()]\n",
    "    n = int(n)\n",
    "    # 자리 바꾸기 리스트\n",
    "    switch_list = list(combinations(list(range(len(target))),2))\n",
    "    print(switch_list)\n",
    "    dq = deque()\n",
    "    dq.append([target, 0])\n",
    "    results = []\n",
    "    while dq:\n",
    "        now_node = dq.popleft()\n",
    "        now_target = now_node[0]\n",
    "        now_n = now_node[1]\n",
    "        if now_n == n:\n",
    "            results.append(int(now_target))\n",
    "            continue\n",
    "        for loc in switch_list:\n",
    "            dq.append(switch(now_target, now_n, loc))\n",
    "    results.sort(reverse = True)\n",
    "\n",
    "    print(f'#{test_case} {results[0]}')\n",
    "\n",
    "\n",
    "    # ///////////////////////////////////////////////////////////////////////////////////"
   ]
  },
  {
   "cell_type": "raw",
   "id": "35e87905-6cc2-470e-a502-486cb8b11b54",
   "metadata": {},
   "source": [
    " => 큐가 터짐...\n",
    " => DP를 섞어볼까...."
   ]
  },
  {
   "cell_type": "code",
   "execution_count": null,
   "id": "ab688a14-032a-4f36-b442-ef266f9ad22e",
   "metadata": {},
   "outputs": [],
   "source": [
    "from collections import deque\n",
    "from itertools import combinations\n",
    "from collections import defaultdict\n",
    "\n",
    "T = int(input())\n",
    "def switch(target, loc):\n",
    "    target = list(target)\n",
    "    temp = target[loc[0]]\n",
    "    target[loc[0]] = target[loc[1]]\n",
    "    target[loc[1]] = temp\n",
    "    return ''.join(target)\n",
    "# 여러개의 테스트 케이스가 주어지므로, 각각을 처리합니다.\n",
    "for test_case in range(1, T + 1):\n",
    "    # ///////////////////////////////////////////////////////////////////////////////////\n",
    "    target, n = [x for x in input().split()]\n",
    "    n = int(n)\n",
    "    switch_locs = list(combinations(list(range(len(target))),2))\n",
    "    dp_start = defaultdict(int)\n",
    "    dp_start[target] = 1\n",
    "    dp_table = []\n",
    "    dp_table.append(dp_start)\n",
    "    for i in range(0,n):\n",
    "        #i => i 번 바꾼거를 참고하겠다 => i + 1번 바꾼거를 기록\n",
    "        #print(f'i : {i}')\n",
    "        plus = defaultdict(int)\n",
    "        for temp in dp_table[i].keys():\n",
    "            for loc in switch_locs:\n",
    "                temp2 = switch(temp,loc)\n",
    "                plus[temp2] = 1\n",
    "        #print(f'plus : {plus}')\n",
    "        dp_table.append(plus)\n",
    "    result = [int(x) for x in dp_table[-1].keys()]\n",
    "    result.sort()\n",
    "    print(f'#{test_case} {result[-1]}')\n",
    "    # ///////////////////////////////////////////////////////////////////////////////////"
   ]
  },
  {
   "cell_type": "raw",
   "id": "b1100628-fda8-41da-8a14-cd46b21e8d1d",
   "metadata": {},
   "source": [
    "=> 통과\n",
    "=> DP 사용\n",
    "=> N번 자리 바꾼 녀석들을 알기 위해 N-1번 바꾼 녀석들을 이용"
   ]
  },
  {
   "cell_type": "markdown",
   "id": "fe8abc33-22f4-4e32-9333-63a8f0933514",
   "metadata": {},
   "source": [
    "### 1208. [S/W 문제해결 기본] 1일차 - Flatten"
   ]
  },
  {
   "cell_type": "code",
   "execution_count": null,
   "id": "d50e7cdd-b748-4103-aa81-421eeb683147",
   "metadata": {},
   "outputs": [],
   "source": [
    "import heapq\n",
    "import copy\n",
    "T = 10\n",
    "# 여러개의 테스트 케이스가 주어지므로, 각각을 처리합니다.\n",
    "for test_case in range(1, T + 1):\n",
    "    # ///////////////////////////////////////////////////////////////////////////////////\n",
    "    dump = int(input())\n",
    "    min_heap = [int(x) for x in input().split()]\n",
    "    max_heap = [-1*x for x in min_heap]\n",
    "    heapq.heapify(min_heap)\n",
    "    heapq.heapify(max_heap)\n",
    "    max_height = -1*max_heap[0]\n",
    "    min_height = min_heap[0]\n",
    "    for i in range(dump):\n",
    "        max_height = -1*heapq.heappop(max_heap)\n",
    "        min_height = heapq.heappop(min_heap)\n",
    "        max_height -= 1\n",
    "        min_height += 1\n",
    "        heapq.heappush(max_heap, -1*max_height)\n",
    "        heapq.heappush(min_heap, min_height)\n",
    "    #print(f'{max_heap}')\n",
    "    print(f'#{test_case} {-1*max_heap[0] - min_heap[0]}')\n",
    "    # ///////////////////////////////////////////////////////////////////////////////////"
   ]
  },
  {
   "cell_type": "raw",
   "id": "8edf0ff1-3173-458e-b5aa-a72294f4b9bf",
   "metadata": {},
   "source": [
    "=> 통과\n",
    "=> 힙 사용\n",
    "=> 최솟값과 최댓값만 트래킹하면 되기 때문"
   ]
  },
  {
   "cell_type": "markdown",
   "id": "13573195-28a5-4d5b-ac35-9a215a6617b7",
   "metadata": {},
   "source": [
    "# 5215. 햄버거 다이어트"
   ]
  },
  {
   "cell_type": "markdown",
   "id": "495fe707-1049-447f-9ecc-58949928148c",
   "metadata": {},
   "source": [
    "##### https://swexpertacademy.com/main/code/problem/problemDetail.do?problemLevel=3&contestProbId=AWT-lPB6dHUDFAVT&categoryId=AWT-lPB6dHUDFAVT&categoryType=CODE&problemTitle=&orderBy=SUBMIT_COUNT&selectCodeLang=ALL&select-1=3&pageSize=10&pageIndex=1"
   ]
  },
  {
   "cell_type": "code",
   "execution_count": null,
   "id": "04058283-efb8-4332-b82f-9156f22c2f73",
   "metadata": {},
   "outputs": [],
   "source": [
    "T = int(input())\n",
    "# 여러개의 테스트 케이스가 주어지므로, 각각을 처리합니다.\n",
    "for test_case in range(1, T + 1):\n",
    "    # ///////////////////////////////////////////////////////////////////////////////////\n",
    "    N, L = [int(x) for x in input().split()]\n",
    "    scores = [0]\n",
    "    cals = [0]\n",
    "    for _ in range(N):\n",
    "        score, cal = [int(x) for x in input().split()]\n",
    "        scores.append(score)\n",
    "        cals.append(cal)\n",
    "    #dp[i][j]=max(dp[i−1][j],dp[i−1][j−w_i]+v_i\n",
    "    dp_table = [[0 for _ in range(0,L + 1)] for _ in range(0,N+1)]\n",
    "    for i in range(1,N+1):\n",
    "        for j in range(1,L+1):\n",
    "            now_score = scores[i]\n",
    "            now_cal = cals[i]\n",
    "            if j < now_cal: #현재 칼로리보다 크면\n",
    "                dp_table[i][j] = dp_table[i - 1][j]\n",
    "            else: #현재 칼로리보다 작으면 => 비교\n",
    "                dp_table[i][j] = max(dp_table[i - 1][j], dp_table[i - 1][j - now_cal] + now_score)\n",
    "    print(f'#{test_case} {dp_table[N][L]}')\n",
    "    # ///////////////////////////////////////////////////////////////////////////////////"
   ]
  },
  {
   "cell_type": "raw",
   "id": "1093f5ab-00c7-4dab-86f5-0b74ff22edf3",
   "metadata": {},
   "source": [
    "=> 통과\n",
    "=> 0 - 1 knapsack problem\n",
    "=> DP를 이용\n",
    "=> 이차원 배열을 선언하고 채움 \n",
    "=> 오른쪽으로 드르르르륵 가면서 채우고, 다 채우면 아랫줄 젤 왼쪽에서 시작해서 또 드르르르 오른쪽\n",
    "=> 각 행은 X, 물건 1, 물건 2, 물건3 ,.....\n",
    "=> 각 열은 채울 수 있는 배낭의 최대 무게 -> 0키로부터 시작해서 L키로까지\n",
    "=> dp[i][j] = dp[i-1][j] vs dp[i-1, j - 지금 물건의 무게] + 지금 물건의 가치"
   ]
  }
 ],
 "metadata": {
  "kernelspec": {
   "display_name": "Python 3 (ipykernel)",
   "language": "python",
   "name": "python3"
  },
  "language_info": {
   "codemirror_mode": {
    "name": "ipython",
    "version": 3
   },
   "file_extension": ".py",
   "mimetype": "text/x-python",
   "name": "python",
   "nbconvert_exporter": "python",
   "pygments_lexer": "ipython3",
   "version": "3.9.16"
  }
 },
 "nbformat": 4,
 "nbformat_minor": 5
}
