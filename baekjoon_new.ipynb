{
 "cells": [
  {
   "cell_type": "markdown",
   "id": "8d469e8e-a032-444d-bc3c-23f61669b919",
   "metadata": {},
   "source": [
    "- baekjoon.ipynb error\n",
    "- 원본이 너무 길어 올바르지 않은 JSON 구문이 어디인지 찾을 수가 없어 ..."
   ]
  },
  {
   "cell_type": "markdown",
   "id": "381a0804-46f6-4da1-abe2-30ddb1de2bde",
   "metadata": {},
   "source": [
    "# 바이러스\n",
    "https://www.acmicpc.net/problem/2606\n",
    "- 그래프 탐색\n",
    "- 첫째 줄에는 컴퓨터의 수\n",
    "- 둘째 줄에는 네트워크 상에서 직접 연결되어 있는 컴퓨터 쌍의 수\n",
    "- 밑으로 연결된 컴퓨터 정보"
   ]
  },
  {
   "cell_type": "code",
   "execution_count": 8,
   "id": "d249b44b-c90c-46ba-a62a-b9ae31407253",
   "metadata": {
    "tags": []
   },
   "outputs": [
    {
     "name": "stdin",
     "output_type": "stream",
     "text": [
      " 7\n",
      " 6\n",
      " 1 2\n",
      " 2 3\n",
      " 1 5\n",
      " 5 2\n",
      " 5 6\n",
      " 4 7\n"
     ]
    }
   ],
   "source": [
    "# 입력 처리\n",
    "computers = int(input())\n",
    "connections = int(input())\n",
    "\n",
    "# 인접 행렬 생성\n",
    "# 사실 인접 행렬보다 인접 리스트가 더 나을 것 같긴함\n",
    "# 128MB, 컴퓨터 100개 제한 => 인접행렬: 4 bytes * 100 * 100 = 40000 bytes => 40KB\n",
    "adj_mat = [[0 for _ in range(computers)] for _ in range(computers)]\n",
    "for _ in range(connections):\n",
    "    connection = [int(x) - 1 for x in input().split()] # [1,2] => [0,1]\n",
    "    # print(connection)\n",
    "    # 인접 행렬에 연결 표시\n",
    "    adj_mat[connection[0]][connection[1]] = 1\n",
    "    adj_mat[connection[1]][connection[0]] = 1"
   ]
  },
  {
   "cell_type": "code",
   "execution_count": 23,
   "id": "9839737a-7e54-44e2-a942-38b009f0302c",
   "metadata": {
    "tags": []
   },
   "outputs": [],
   "source": [
    "adj_mat = [[0, 1, 0, 0, 1, 0, 0],\n",
    " [1, 0, 1, 0, 1, 0, 0],\n",
    " [0, 1, 0, 0, 0, 0, 0],\n",
    " [0, 0, 0, 0, 0, 0, 1],\n",
    " [1, 1, 0, 0, 0, 1, 0],\n",
    " [0, 0, 0, 0, 1, 0, 0],\n",
    " [0, 0, 0, 1, 0, 0, 0]]"
   ]
  },
  {
   "cell_type": "code",
   "execution_count": 32,
   "id": "ce094d59-83f5-4387-8e50-10d18a8e5f8a",
   "metadata": {
    "tags": []
   },
   "outputs": [
    {
     "name": "stdout",
     "output_type": "stream",
     "text": [
      "now_node: 0\n",
      "visited: [True, False, False, False, False, False, False]\n",
      "node 1 appended at queue\n",
      "node 4 appended at queue\n",
      "now_node: 1\n",
      "visited: [True, True, False, False, True, False, False]\n",
      "node 2 appended at queue\n",
      "now_node: 4\n",
      "visited: [True, True, True, False, True, False, False]\n",
      "node 5 appended at queue\n",
      "now_node: 2\n",
      "visited: [True, True, True, False, True, True, False]\n",
      "now_node: 5\n",
      "visited: [True, True, True, False, True, True, False]\n"
     ]
    }
   ],
   "source": [
    "def matrix_print(matrix):\n",
    "    for row in matrix:\n",
    "        for ele in row:\n",
    "            print(ele, end = ' ')\n",
    "        print()\n",
    "\n",
    "debug_count = 0\n",
    "# 그래프 탐색\n",
    "# 0번 컴퓨터부터 출발\n",
    "# BFS\n",
    "from collections import deque\n",
    "\n",
    "# 연결된 컴퓨터 수 카운트\n",
    "count = 0\n",
    "# 큐 , visited 준비\n",
    "queue = deque()\n",
    "start_node = 0\n",
    "queue.append(start_node)\n",
    "visited = [False for _ in range(computers)]\n",
    "visited[start_node] = True\n",
    "# 탐색 시작 !\n",
    "# visited는 필요없을듯? 바로 간선 제거해버리면 어차피 되돌갈 일이 없음\n",
    "# => 감 다 뒤, 필요하다\n",
    "# visited는 \"한번 방문한 노드는 다시 방문하지 않는다\"는 조건 떄문에 필요하다 ! 되돌아가고 자시고 지금 그게 문제가 아녀 !\n",
    "while queue: # 큐가 차있을 동안\n",
    "    now_node = queue.popleft()\n",
    "    print(f'now_node: {now_node}')\n",
    "    print(f'visited: {visited}')\n",
    "    # 연결된 노드 탐색\n",
    "    for idx, connected in enumerate(adj_mat[now_node]):\n",
    "        if visited[idx] == False and connected == 1: # 방문한 적 없고 연결되어있다 ?\n",
    "            # 큐에 추가\n",
    "            queue.append(idx)\n",
    "            print(f'node {idx} appended at queue')\n",
    "            count += 1\n",
    "            # 방문 표시\n",
    "            visited[idx] = True\n",
    "    debug_count += 1\n",
    "    if debug_count > 100:\n",
    "        break"
   ]
  },
  {
   "cell_type": "code",
   "execution_count": 33,
   "id": "0ed185a5-df79-40c7-880d-4e6c560312fd",
   "metadata": {},
   "outputs": [
    {
     "data": {
      "text/plain": [
       "4"
      ]
     },
     "execution_count": 33,
     "metadata": {},
     "output_type": "execute_result"
    }
   ],
   "source": [
    "count"
   ]
  },
  {
   "cell_type": "code",
   "execution_count": 41,
   "id": "adb6dd37-8ccd-48cc-93fa-099a710652c9",
   "metadata": {
    "tags": []
   },
   "outputs": [
    {
     "name": "stdin",
     "output_type": "stream",
     "text": [
      " 7\n",
      " 6\n",
      " 1 2\n",
      " 2 3\n",
      " 1 5\n",
      " 5 2\n",
      " 5 6\n",
      " 4 7\n"
     ]
    },
    {
     "name": "stdout",
     "output_type": "stream",
     "text": [
      "4\n",
      "4\n"
     ]
    }
   ],
   "source": [
    "###### 통합\n",
    "\n",
    "# 입력 처리\n",
    "computers = int(input())\n",
    "connections = int(input())\n",
    "\n",
    "# 인접 행렬 생성\n",
    "# 사실 인접 행렬보다 인접 리스트가 더 나을 것 같긴함\n",
    "# 128MB, 컴퓨터 100개 제한 => 인접행렬: 4 bytes * 100 * 100 = 40000 bytes => 40KB\n",
    "adj_mat = [[0 for _ in range(computers)] for _ in range(computers)]\n",
    "for _ in range(connections):\n",
    "    connection = [int(x) - 1 for x in input().split()] # [1,2] => [0,1]\n",
    "    # print(connection)\n",
    "    # 인접 행렬에 연결 표시\n",
    "    adj_mat[connection[0]][connection[1]] = 1\n",
    "    adj_mat[connection[1]][connection[0]] = 1\n",
    "\n",
    "##### \n",
    "##### BFS\n",
    "#####\n",
    "\n",
    "from collections import deque\n",
    "\n",
    "# 연결된 컴퓨터 수 카운트\n",
    "count = 0\n",
    "\n",
    "# 큐 , visited 준비\n",
    "queue = deque()\n",
    "start_node = 0\n",
    "queue.append(start_node)\n",
    "visited = [False for _ in range(computers)]\n",
    "visited[start_node] = True\n",
    "\n",
    "# 탐색 시작 !\n",
    "while queue: # 큐가 차있을 동안\n",
    "    now_node = queue.popleft()\n",
    "    # 연결된 노드 탐색\n",
    "    for idx, connected in enumerate(adj_mat[now_node]):\n",
    "        if visited[idx] == False and connected == 1: # 방문한 적 없고 연결되어있다 ?\n",
    "            # 큐에 추가\n",
    "            queue.append(idx)\n",
    "            count += 1\n",
    "            # 방문 표시\n",
    "            visited[idx] = True\n",
    "\n",
    "# sol !\n",
    "print(count)\n",
    "\n",
    "\n",
    "##### \n",
    "##### DFS\n",
    "#####\n",
    "\n",
    "count = 0\n",
    "# 스택 , visited 준비\n",
    "stack = deque()\n",
    "start_node = 0\n",
    "stack.append(start_node)\n",
    "visited = [False for _ in range(computers)]\n",
    "visited[start_node] = True\n",
    "\n",
    "# 탐색 시작 !\n",
    "while stack: # 큐가 차있을 동안\n",
    "    now_node = stack.pop()\n",
    "    # 연결된 노드 탐색\n",
    "    for idx, connected in enumerate(adj_mat[now_node]):\n",
    "        if visited[idx] == False and connected == 1: # 방문한 적 없고 연결되어있다 ?\n",
    "            # 스택에 추가\n",
    "            stack.append(idx)\n",
    "            count += 1\n",
    "            # 방문 표시\n",
    "            visited[idx] = True\n",
    "# sol ! \n",
    "print(count)"
   ]
  },
  {
   "cell_type": "code",
   "execution_count": null,
   "id": "a8fe75fc-666d-4b56-9ddf-29685ea1b892",
   "metadata": {},
   "outputs": [],
   "source": []
  }
 ],
 "metadata": {
  "kernelspec": {
   "display_name": "Python 3 (ipykernel)",
   "language": "python",
   "name": "python3"
  },
  "language_info": {
   "codemirror_mode": {
    "name": "ipython",
    "version": 3
   },
   "file_extension": ".py",
   "mimetype": "text/x-python",
   "name": "python",
   "nbconvert_exporter": "python",
   "pygments_lexer": "ipython3",
   "version": "3.11.5"
  }
 },
 "nbformat": 4,
 "nbformat_minor": 5
}
