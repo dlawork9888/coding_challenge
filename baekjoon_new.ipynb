{
 "cells": [
  {
   "cell_type": "markdown",
   "id": "8d469e8e-a032-444d-bc3c-23f61669b919",
   "metadata": {},
   "source": [
    "- baekjoon.ipynb error\n",
    "- 원본이 너무 길어 올바르지 않은 JSON 구문이 어디인지 찾을 수가 없어 ..."
   ]
  },
  {
   "cell_type": "markdown",
   "id": "381a0804-46f6-4da1-abe2-30ddb1de2bde",
   "metadata": {},
   "source": [
    "# 바이러스\n",
    "https://www.acmicpc.net/problem/2606\n",
    "- 그래프 탐색\n",
    "- 첫째 줄에는 컴퓨터의 수\n",
    "- 둘째 줄에는 네트워크 상에서 직접 연결되어 있는 컴퓨터 쌍의 수\n",
    "- 밑으로 연결된 컴퓨터 정보"
   ]
  },
  {
   "cell_type": "code",
   "execution_count": 8,
   "id": "d249b44b-c90c-46ba-a62a-b9ae31407253",
   "metadata": {
    "tags": []
   },
   "outputs": [
    {
     "name": "stdin",
     "output_type": "stream",
     "text": [
      " 7\n",
      " 6\n",
      " 1 2\n",
      " 2 3\n",
      " 1 5\n",
      " 5 2\n",
      " 5 6\n",
      " 4 7\n"
     ]
    }
   ],
   "source": [
    "# 입력 처리\n",
    "computers = int(input())\n",
    "connections = int(input())\n",
    "\n",
    "# 인접 행렬 생성\n",
    "# 사실 인접 행렬보다 인접 리스트가 더 나을 것 같긴함\n",
    "# 128MB, 컴퓨터 100개 제한 => 인접행렬: 4 bytes * 100 * 100 = 40000 bytes => 40KB\n",
    "adj_mat = [[0 for _ in range(computers)] for _ in range(computers)]\n",
    "for _ in range(connections):\n",
    "    connection = [int(x) - 1 for x in input().split()] # [1,2] => [0,1]\n",
    "    # print(connection)\n",
    "    # 인접 행렬에 연결 표시\n",
    "    adj_mat[connection[0]][connection[1]] = 1\n",
    "    adj_mat[connection[1]][connection[0]] = 1"
   ]
  },
  {
   "cell_type": "code",
   "execution_count": 23,
   "id": "9839737a-7e54-44e2-a942-38b009f0302c",
   "metadata": {
    "tags": []
   },
   "outputs": [],
   "source": [
    "adj_mat = [[0, 1, 0, 0, 1, 0, 0],\n",
    " [1, 0, 1, 0, 1, 0, 0],\n",
    " [0, 1, 0, 0, 0, 0, 0],\n",
    " [0, 0, 0, 0, 0, 0, 1],\n",
    " [1, 1, 0, 0, 0, 1, 0],\n",
    " [0, 0, 0, 0, 1, 0, 0],\n",
    " [0, 0, 0, 1, 0, 0, 0]]"
   ]
  },
  {
   "cell_type": "code",
   "execution_count": 32,
   "id": "ce094d59-83f5-4387-8e50-10d18a8e5f8a",
   "metadata": {
    "tags": []
   },
   "outputs": [
    {
     "name": "stdout",
     "output_type": "stream",
     "text": [
      "now_node: 0\n",
      "visited: [True, False, False, False, False, False, False]\n",
      "node 1 appended at queue\n",
      "node 4 appended at queue\n",
      "now_node: 1\n",
      "visited: [True, True, False, False, True, False, False]\n",
      "node 2 appended at queue\n",
      "now_node: 4\n",
      "visited: [True, True, True, False, True, False, False]\n",
      "node 5 appended at queue\n",
      "now_node: 2\n",
      "visited: [True, True, True, False, True, True, False]\n",
      "now_node: 5\n",
      "visited: [True, True, True, False, True, True, False]\n"
     ]
    }
   ],
   "source": [
    "def matrix_print(matrix):\n",
    "    for row in matrix:\n",
    "        for ele in row:\n",
    "            print(ele, end = ' ')\n",
    "        print()\n",
    "\n",
    "debug_count = 0\n",
    "# 그래프 탐색\n",
    "# 0번 컴퓨터부터 출발\n",
    "# BFS\n",
    "from collections import deque\n",
    "\n",
    "# 연결된 컴퓨터 수 카운트\n",
    "count = 0\n",
    "# 큐 , visited 준비\n",
    "queue = deque()\n",
    "start_node = 0\n",
    "queue.append(start_node)\n",
    "visited = [False for _ in range(computers)]\n",
    "visited[start_node] = True\n",
    "# 탐색 시작 !\n",
    "# visited는 필요없을듯? 바로 간선 제거해버리면 어차피 되돌갈 일이 없음\n",
    "# => 감 다 뒤, 필요하다\n",
    "# visited는 \"한번 방문한 노드는 다시 방문하지 않는다\"는 조건 떄문에 필요하다 ! 되돌아가고 자시고 지금 그게 문제가 아녀 !\n",
    "while queue: # 큐가 차있을 동안\n",
    "    now_node = queue.popleft()\n",
    "    print(f'now_node: {now_node}')\n",
    "    print(f'visited: {visited}')\n",
    "    # 연결된 노드 탐색\n",
    "    for idx, connected in enumerate(adj_mat[now_node]):\n",
    "        if visited[idx] == False and connected == 1: # 방문한 적 없고 연결되어있다 ?\n",
    "            # 큐에 추가\n",
    "            queue.append(idx)\n",
    "            print(f'node {idx} appended at queue')\n",
    "            count += 1\n",
    "            # 방문 표시\n",
    "            visited[idx] = True\n",
    "    debug_count += 1\n",
    "    if debug_count > 100:\n",
    "        break"
   ]
  },
  {
   "cell_type": "code",
   "execution_count": 33,
   "id": "0ed185a5-df79-40c7-880d-4e6c560312fd",
   "metadata": {},
   "outputs": [
    {
     "data": {
      "text/plain": [
       "4"
      ]
     },
     "execution_count": 33,
     "metadata": {},
     "output_type": "execute_result"
    }
   ],
   "source": [
    "count"
   ]
  },
  {
   "cell_type": "code",
   "execution_count": 41,
   "id": "adb6dd37-8ccd-48cc-93fa-099a710652c9",
   "metadata": {
    "tags": []
   },
   "outputs": [
    {
     "name": "stdin",
     "output_type": "stream",
     "text": [
      " 7\n",
      " 6\n",
      " 1 2\n",
      " 2 3\n",
      " 1 5\n",
      " 5 2\n",
      " 5 6\n",
      " 4 7\n"
     ]
    },
    {
     "name": "stdout",
     "output_type": "stream",
     "text": [
      "4\n",
      "4\n"
     ]
    }
   ],
   "source": [
    "###### 통합\n",
    "\n",
    "# 입력 처리\n",
    "computers = int(input())\n",
    "connections = int(input())\n",
    "\n",
    "# 인접 행렬 생성\n",
    "# 사실 인접 행렬보다 인접 리스트가 더 나을 것 같긴함\n",
    "# 128MB, 컴퓨터 100개 제한 => 인접행렬: 4 bytes * 100 * 100 = 40000 bytes => 40KB\n",
    "adj_mat = [[0 for _ in range(computers)] for _ in range(computers)]\n",
    "for _ in range(connections):\n",
    "    connection = [int(x) - 1 for x in input().split()] # [1,2] => [0,1]\n",
    "    # print(connection)\n",
    "    # 인접 행렬에 연결 표시\n",
    "    adj_mat[connection[0]][connection[1]] = 1\n",
    "    adj_mat[connection[1]][connection[0]] = 1\n",
    "\n",
    "##### \n",
    "##### BFS\n",
    "#####\n",
    "\n",
    "from collections import deque\n",
    "\n",
    "# 연결된 컴퓨터 수 카운트\n",
    "count = 0\n",
    "\n",
    "# 큐 , visited 준비\n",
    "queue = deque()\n",
    "start_node = 0\n",
    "queue.append(start_node)\n",
    "visited = [False for _ in range(computers)]\n",
    "visited[start_node] = True\n",
    "\n",
    "# 탐색 시작 !\n",
    "while queue: # 큐가 차있을 동안\n",
    "    now_node = queue.popleft()\n",
    "    # 연결된 노드 탐색\n",
    "    for idx, connected in enumerate(adj_mat[now_node]):\n",
    "        if visited[idx] == False and connected == 1: # 방문한 적 없고 연결되어있다 ?\n",
    "            # 큐에 추가\n",
    "            queue.append(idx)\n",
    "            count += 1\n",
    "            # 방문 표시\n",
    "            visited[idx] = True\n",
    "\n",
    "# sol !\n",
    "print(count)\n",
    "\n",
    "\n",
    "##### \n",
    "##### DFS\n",
    "#####\n",
    "\n",
    "count = 0\n",
    "# 스택 , visited 준비\n",
    "stack = deque()\n",
    "start_node = 0\n",
    "stack.append(start_node)\n",
    "visited = [False for _ in range(computers)]\n",
    "visited[start_node] = True\n",
    "\n",
    "# 탐색 시작 !\n",
    "while stack: # 큐가 차있을 동안\n",
    "    now_node = stack.pop()\n",
    "    # 연결된 노드 탐색\n",
    "    for idx, connected in enumerate(adj_mat[now_node]):\n",
    "        if visited[idx] == False and connected == 1: # 방문한 적 없고 연결되어있다 ?\n",
    "            # 스택에 추가\n",
    "            stack.append(idx)\n",
    "            count += 1\n",
    "            # 방문 표시\n",
    "            visited[idx] = True\n",
    "# sol ! \n",
    "print(count)"
   ]
  },
  {
   "cell_type": "markdown",
   "id": "f82640c0-ece9-4123-8ddd-f5be0b4f7f84",
   "metadata": {},
   "source": [
    "# 트리의 부모 찾기\n",
    "https://www.acmicpc.net/problem/11725"
   ]
  },
  {
   "cell_type": "markdown",
   "id": "12c30c75-b9a1-4323-91a2-d4a04ad816d5",
   "metadata": {},
   "source": [
    "- 트리의 루트를 1 => 0\n",
    "- 각 노드의 부모를 찾아야...\n",
    "- 첫 줄 노드 갯수 입력\n",
    "- 둘째 줄부터 간선 입력\n",
    "- 출력은 2 => 1번 노드부터 부모 노드 번호를 출력 "
   ]
  },
  {
   "cell_type": "code",
   "execution_count": 10,
   "id": "ea5f0b18-0e46-44cd-b0b2-fcd4569d23af",
   "metadata": {
    "tags": []
   },
   "outputs": [
    {
     "name": "stdin",
     "output_type": "stream",
     "text": [
      " 7\n",
      " 1 6\n",
      " 6 3\n",
      " 3 5\n",
      " 4 1\n",
      " 2 4\n",
      " 4 7\n"
     ]
    }
   ],
   "source": [
    "# 입력 처리\n",
    "N = int(input())\n",
    "\n",
    "# 인접 리스트\n",
    "from collections import defaultdict\n",
    "adj_list = defaultdict(list)\n",
    "for _ in range(N - 1):\n",
    "    edge = [int(x)-1 for x in input().split()]\n",
    "    # 우선 무방향 그래프로\n",
    "    adj_list[edge[0]].append(edge[1])\n",
    "    adj_list[edge[1]].append(edge[0])"
   ]
  },
  {
   "cell_type": "code",
   "execution_count": 11,
   "id": "7f8cec14-1d34-40cc-9f57-76fbf6c0e8ad",
   "metadata": {
    "tags": []
   },
   "outputs": [],
   "source": [
    "default_adj_list = adj_list"
   ]
  },
  {
   "cell_type": "code",
   "execution_count": 12,
   "id": "348764d5-5778-4152-8b5d-0f98f8eaa547",
   "metadata": {
    "tags": []
   },
   "outputs": [
    {
     "data": {
      "text/plain": [
       "defaultdict(list,\n",
       "            {0: [5, 3],\n",
       "             5: [0, 2],\n",
       "             2: [5, 4],\n",
       "             4: [2],\n",
       "             3: [0, 1, 6],\n",
       "             1: [3],\n",
       "             6: [3]})"
      ]
     },
     "execution_count": 12,
     "metadata": {},
     "output_type": "execute_result"
    }
   ],
   "source": [
    "adj_list"
   ]
  },
  {
   "cell_type": "code",
   "execution_count": 20,
   "id": "49720b8e-6852-4cb0-9d28-eb9be849aa2e",
   "metadata": {
    "tags": []
   },
   "outputs": [
    {
     "name": "stdout",
     "output_type": "stream",
     "text": [
      "4\n",
      "6\n",
      "1\n",
      "3\n",
      "1\n",
      "4\n"
     ]
    }
   ],
   "source": [
    "# 부모 체크 배열 생성\n",
    "parents = [-1 for _ in range(N)]\n",
    "parents[0] = -2 # 루트 부모는 -2로 표시해서 방문체크까지 한번에 !\n",
    "# BFS\n",
    "from collections import deque\n",
    "queue = deque()\n",
    "start_node = 0\n",
    "queue.append(start_node)\n",
    "while queue:\n",
    "    now_node = queue.pop()\n",
    "    # 연결 노드들에 대하여 부모 표시\n",
    "    for node in adj_list[now_node]:\n",
    "        # 부모 표시가 안된 노드(미방문)면 큐에 추가하고 부모 표시\n",
    "        if parents[node] == -1:\n",
    "            parents[node] = now_node\n",
    "            queue.append(node)\n",
    "for parent in parents[1:]:\n",
    "    print(parent+1)"
   ]
  },
  {
   "cell_type": "code",
   "execution_count": 21,
   "id": "dfd26538-4664-44ad-b731-49a10ca59511",
   "metadata": {
    "tags": []
   },
   "outputs": [
    {
     "name": "stdin",
     "output_type": "stream",
     "text": [
      " 7\n",
      " 1 6\n",
      " 6 3\n",
      " 3 5\n",
      " 4 1\n",
      " 2 4\n",
      " 4 7\n"
     ]
    },
    {
     "name": "stdout",
     "output_type": "stream",
     "text": [
      "4\n",
      "6\n",
      "1\n",
      "3\n",
      "1\n",
      "4\n"
     ]
    }
   ],
   "source": [
    "# 통합\n",
    "\n",
    "# 입력 처리\n",
    "N = int(input())\n",
    "\n",
    "# 인접 리스트\n",
    "from collections import defaultdict\n",
    "adj_list = defaultdict(list)\n",
    "for _ in range(N - 1):\n",
    "    edge = [int(x)-1 for x in input().split()]\n",
    "    # 우선 무방향 그래프로\n",
    "    adj_list[edge[0]].append(edge[1])\n",
    "    adj_list[edge[1]].append(edge[0])\n",
    "    \n",
    "# 부모 체크 배열 생성\n",
    "parents = [-1 for _ in range(N)]\n",
    "parents[0] = -2 # 루트 부모는 -2로 표시해서 방문체크까지 한번에 !\n",
    "# BFS\n",
    "from collections import deque\n",
    "queue = deque()\n",
    "start_node = 0\n",
    "queue.append(start_node)\n",
    "while queue:\n",
    "    now_node = queue.pop()\n",
    "    # 연결 노드들에 대하여 부모 표시\n",
    "    for node in adj_list[now_node]:\n",
    "        # 부모 표시가 안된 노드(미방문)면 큐에 추가하고 부모 표시\n",
    "        if parents[node] == -1:\n",
    "            parents[node] = now_node\n",
    "            queue.append(node)\n",
    "for parent in parents[1:]:\n",
    "    print(parent+1)"
   ]
  },
  {
   "cell_type": "markdown",
   "id": "79193d6f-2642-413a-b6c0-c658231f90e8",
   "metadata": {},
   "source": [
    "# 줄 세우기\n",
    "https://www.acmicpc.net/problem/2252"
   ]
  },
  {
   "cell_type": "code",
   "execution_count": 25,
   "id": "66f20418-540f-4dd4-b247-d1515805961e",
   "metadata": {
    "tags": []
   },
   "outputs": [
    {
     "name": "stdin",
     "output_type": "stream",
     "text": [
      " 4 2\n",
      " 4 2\n",
      " 3 1\n"
     ]
    }
   ],
   "source": [
    "# 두 학생의 번호 A, B\n",
    "# 이는 학생 A가 학생 B의 앞에 서야 한다는 의미\n",
    "# 위상 정렬\n",
    "\n",
    "# 입력 처리\n",
    "N, M = [int(x) for x in input().split()]\n",
    "\n",
    "# 인접 리스트\n",
    "from collections import defaultdict\n",
    "adj_list = defaultdict(list)\n",
    "for _ in range(M):\n",
    "    u, v = [int(x)-1 for x in input().split()]\n",
    "    adj_list[u].append(v)"
   ]
  },
  {
   "cell_type": "code",
   "execution_count": 106,
   "id": "8591f59c-03f6-42a0-a845-1f047d58adf0",
   "metadata": {
    "tags": []
   },
   "outputs": [],
   "source": [
    "adj_list = defaultdict(list, {3: [1], 2: [0]})"
   ]
  },
  {
   "cell_type": "code",
   "execution_count": 107,
   "id": "eedf93ad-13ff-47ac-bdd3-b1c29d582fd5",
   "metadata": {
    "tags": []
   },
   "outputs": [],
   "source": [
    "# 위상 정렬\n",
    "# Kahn\n",
    "\n",
    "# 진입 차수 계산\n",
    "indgrees = [0 for _ in range(N)]\n",
    "for key, value in adj_list.items():\n",
    "    for ele in value:\n",
    "        indgrees[ele] += 1"
   ]
  },
  {
   "cell_type": "code",
   "execution_count": 108,
   "id": "dd972d21-7d65-4644-8265-1a3e824af8e8",
   "metadata": {
    "tags": []
   },
   "outputs": [],
   "source": [
    "# 진입 차수가 0인 노드를 큐에 넣기\n",
    "# 큐에 올라가면 진입 차수는 -1로 => visited\n",
    "from collections import deque as dq\n",
    "q = dq()\n",
    "for idx, indgree in enumerate(indgrees):\n",
    "    if indgree == 0:\n",
    "        q.append(idx)\n",
    "        indgrees[idx] = -1"
   ]
  },
  {
   "cell_type": "code",
   "execution_count": 109,
   "id": "d15a19b7-b374-4784-b9bd-265319fa8572",
   "metadata": {
    "tags": []
   },
   "outputs": [],
   "source": [
    "# 위상 정렬 수행\n",
    "# 큐가 차있는 동안\n",
    "# 큐에서 하나 빼고 위상정렬순서에 추가\n",
    "# 간선 제거하고 진입차수 업데이트\n",
    "# 진입 차수 0인 애들 다시 때려박기\n",
    "topology_sort_result = []\n",
    "while q:\n",
    "    now_node = q.popleft()\n",
    "    topology_sort_result.append(now_node)\n",
    "    for node in adj_list[now_node]: # 인접노드들 진입차수 1감소\n",
    "        indgrees[node] -= 1\n",
    "    del adj_list[now_node]\n",
    "    for idx, indgree in enumerate(indgrees):\n",
    "        if indgree == 0:\n",
    "            q.append(idx)\n",
    "            indgrees[idx] = -1"
   ]
  },
  {
   "cell_type": "code",
   "execution_count": 110,
   "id": "37e21cc3-b973-48b7-b820-81cda4e818d6",
   "metadata": {
    "tags": []
   },
   "outputs": [
    {
     "data": {
      "text/plain": [
       "[2, 3, 0, 1]"
      ]
     },
     "execution_count": 110,
     "metadata": {},
     "output_type": "execute_result"
    }
   ],
   "source": [
    "topology_sort_result"
   ]
  },
  {
   "cell_type": "code",
   "execution_count": 4,
   "id": "5b3c0d22-2071-44db-99f9-2a04e0f27c8c",
   "metadata": {
    "tags": []
   },
   "outputs": [
    {
     "name": "stdin",
     "output_type": "stream",
     "text": [
      " 3 2\n",
      " 1 3\n",
      " 2 3\n"
     ]
    },
    {
     "name": "stdout",
     "output_type": "stream",
     "text": [
      "1 2 3\n"
     ]
    }
   ],
   "source": [
    "# 통합\n",
    "\n",
    "# 입력 처리\n",
    "N, M = [int(x) for x in input().split()]\n",
    "\n",
    "# 인접 리스트\n",
    "from collections import defaultdict\n",
    "adj_list = defaultdict(list)\n",
    "for _ in range(M):\n",
    "    u, v = [int(x)-1 for x in input().split()]\n",
    "    adj_list[u].append(v)\n",
    "    \n",
    "# 위상 정렬\n",
    "# Kahn\n",
    "\n",
    "# 진입 차수 계산\n",
    "indgrees = [0 for _ in range(N)]\n",
    "for key, value in adj_list.items():\n",
    "    for ele in value:\n",
    "        indgrees[ele] += 1\n",
    "\n",
    "# 진입 차수가 0인 녀석들은 큐에 넣기\n",
    "# 큐에 넣은 녀석들은 진입 차수를 -1로 => visited check\n",
    "from collections import deque as dq\n",
    "q = dq()\n",
    "for idx, indgree in enumerate(indgrees):\n",
    "    if indgree == 0:\n",
    "        q.append(idx)\n",
    "        indgrees[idx] = -1\n",
    "        \n",
    "# 위상정렬순서\n",
    "topology_sort_result = []\n",
    "# 큐가 차있을 동안\n",
    "# 큐에서 뽑은 now_node 위상정렬순서에 추가\n",
    "# 진입차수 업데이트(now_node의 간선을 제거한 후의)\n",
    "# 진입차수가 0인 녀석들을 큐에 넣기(큐에 넣었으면 진입차수는 -1로 => visited check )\n",
    "while q:\n",
    "    now_node = q.popleft()\n",
    "    topology_sort_result.append(now_node)\n",
    "    for node in adj_list[now_node]: # 인접노드들 진입차수 1감소\n",
    "        indgrees[node] -= 1\n",
    "    del adj_list[now_node]\n",
    "    for idx, indgree in enumerate(indgrees):\n",
    "        if indgree == 0:\n",
    "            q.append(idx)\n",
    "            indgrees[idx] = -1\n",
    "# 출력           \n",
    "print(\" \".join([str(x+1) for x in topology_sort_result]))"
   ]
  },
  {
   "cell_type": "markdown",
   "id": "8e50057f-833a-42d3-aa34-3d2f72391ba1",
   "metadata": {},
   "source": [
    "# 이분 그래프\n",
    "https://www.acmicpc.net/problem/1707"
   ]
  },
  {
   "cell_type": "code",
   "execution_count": 14,
   "id": "248979d2-a55a-4a4f-95e4-f68523ec6f2f",
   "metadata": {
    "tags": []
   },
   "outputs": [
    {
     "name": "stdin",
     "output_type": "stream",
     "text": [
      " 1\n",
      " 6 5\n",
      " 1 2\n",
      " 1 3\n",
      " 4 5\n",
      " 5 6\n",
      " 6 4\n"
     ]
    },
    {
     "name": "stdout",
     "output_type": "stream",
     "text": [
      "YES\n"
     ]
    }
   ],
   "source": [
    "from collections import defaultdict\n",
    "\n",
    "def is_bipartite_graph(V, E):\n",
    "    \n",
    "    # 인접 리스트 생성\n",
    "    # 이분 그래프는 특성상 무(양)방향\n",
    "    # 입력이 연결 그래프인가 ...\n",
    "    adj_list = defaultdict(list)\n",
    "    for _ in range(E):\n",
    "        u, v = [int(x)-1 for x in input().split()]\n",
    "        adj_list[u].append(v)\n",
    "        adj_list[v].append(u)\n",
    "    \n",
    "    # DFS로 하자 ! <= import deque 안해도 됨 \n",
    "    colors = [-1 for _ in range(V)] # -1은 미탐색, 0,1은 탐색 and 색칠\n",
    "    stack = []\n",
    "    start_node = 0\n",
    "    stack.append(start_node)\n",
    "    colors[start_node] = 0 #최초 탐색 노드 0으로 설정\n",
    "    \n",
    "    while stack:\n",
    "        now_node = stack.pop()\n",
    "        # 인접 노드에 대해서\n",
    "        for node in adj_list[now_node]:\n",
    "            # 미탐색이라면 다른 색으로 칠하고\n",
    "            if colors[node] == -1:\n",
    "                colors[node] = 0 if colors[now_node] == 1 else 1\n",
    "                # stack에 추가\n",
    "                stack.append(node) \n",
    "            else: # 이미 탐색한 노드라면 \n",
    "                # 같은 색인지 확인해야지 => 같은 색이라면 이분그래프가 아님!\n",
    "                if colors[node] == colors[now_node]:\n",
    "                    return 'NO'\n",
    "    return 'YES'\n",
    "\n",
    "# 입력 처리 \n",
    "testcase = int(input())\n",
    "for _ in range(testcase):\n",
    "    V, E = [int(x) for x in input().split()]\n",
    "    print(is_bipartite_graph(V, E))"
   ]
  },
  {
   "cell_type": "code",
   "execution_count": null,
   "id": "27ceae0f-088c-4779-b69e-2f06a24fef3c",
   "metadata": {},
   "outputs": [],
   "source": [
    "# 틀렸습니다 ! 으악 !"
   ]
  },
  {
   "cell_type": "code",
   "execution_count": 17,
   "id": "014728af-c8ef-4a5c-9e59-edf5f9418b86",
   "metadata": {
    "tags": []
   },
   "outputs": [
    {
     "name": "stdin",
     "output_type": "stream",
     "text": [
      " 1\n",
      " 5 4\n",
      " 1 2\n",
      " 3 4\n",
      " 3 5\n",
      " 4 5\n"
     ]
    },
    {
     "name": "stdout",
     "output_type": "stream",
     "text": [
      "NO\n"
     ]
    }
   ],
   "source": [
    "from collections import defaultdict\n",
    "\n",
    "def is_bipartite_graph(V, E):\n",
    "    \n",
    "    # 인접 리스트 생성\n",
    "    # 이분 그래프는 특성상 무(양)방향\n",
    "    # 입력이 연결 그래프인가 ... => 연결 그래프라는 보장이 없음(끊어진 그래프) ! DFS 수정!\n",
    "    adj_list = defaultdict(list)\n",
    "    for _ in range(E):\n",
    "        u, v = [int(x)-1 for x in input().split()]\n",
    "        adj_list[u].append(v)\n",
    "        adj_list[v].append(u)\n",
    "    \n",
    "    # DFS로 하자 ! <= import deque 안해도 됨 \n",
    "    colors = [-1 for _ in range(V)] # -1은 미탐색, 0,1은 탐색 and 색칠\n",
    "    \n",
    "    # colors 중에서 어느 하나라도 미탐색이라면\n",
    "    while any([True if x == -1 else False for x in colors]):\n",
    "        stack = []\n",
    "        start_node = -1\n",
    "        for idx, color in enumerate(colors):\n",
    "            if color == -1:\n",
    "                start_node = idx\n",
    "                break\n",
    "        stack.append(start_node)\n",
    "        colors[start_node] = 0 #최초 탐색 노드 0으로 설정\n",
    "\n",
    "        while stack:\n",
    "            now_node = stack.pop()\n",
    "            # 인접 노드에 대해서\n",
    "            for node in adj_list[now_node]:\n",
    "                # 미탐색이라면 다른 색으로 칠하고\n",
    "                if colors[node] == -1:\n",
    "                    colors[node] = 0 if colors[now_node] == 1 else 1\n",
    "                    # stack에 추가\n",
    "                    stack.append(node) \n",
    "                else: # 이미 탐색한 노드라면 \n",
    "                    # 같은 색인지 확인해야지 => 같은 색이라면 이분그래프가 아님!\n",
    "                    if colors[node] == colors[now_node]:\n",
    "                        return 'NO'\n",
    "    return 'YES'\n",
    "\n",
    "# 입력 처리 \n",
    "testcase = int(input())\n",
    "for _ in range(testcase):\n",
    "    V, E = [int(x) for x in input().split()]\n",
    "    print(is_bipartite_graph(V, E))"
   ]
  },
  {
   "cell_type": "markdown",
   "id": "aa9bc72f-a4dd-4c62-a5c0-744aa088b388",
   "metadata": {},
   "source": [
    "# 텀 프로젝트\n",
    "https://www.acmicpc.net/problem/9466\n",
    "- 사이클을 구하는 문제\n",
    "- 방향 그래프\n",
    "- 사이클의 노드들을 제외하고 나머지 노드를 출력하면 됨\n",
    "- 어떻게 사이클을 구할 수 있을까?\n",
    "- 고민해보자 !\n",
    "\n",
    "- 사이클 = 자기 자신에게서 출발해서 다시 자신에게로 돌아오는 경로\n",
    "- 각 노드들에서 자신에게로 돌아오는 경로가 있는지 확인해보자\n"
   ]
  },
  {
   "cell_type": "code",
   "execution_count": 3,
   "id": "8f4d9cf9-9b42-400c-81e1-0e7e8aeda227",
   "metadata": {
    "tags": []
   },
   "outputs": [
    {
     "name": "stdin",
     "output_type": "stream",
     "text": [
      " 7\n",
      " 3 1 3 7 3 4 6\n"
     ]
    }
   ],
   "source": [
    "# 예제 테스트\n",
    "V = int(input())\n",
    "\n",
    "from collections import defaultdict\n",
    "adj_list = defaultdict(list)\n",
    "for idx, node in enumerate([int(x)-1 for x in input().split()]): \n",
    "    adj_list[idx].append(node)\n"
   ]
  },
  {
   "cell_type": "code",
   "execution_count": 6,
   "id": "82ebc763-03b1-45b3-b19e-2fd42f4017c7",
   "metadata": {
    "tags": []
   },
   "outputs": [
    {
     "data": {
      "text/plain": [
       "defaultdict(list, {0: [2], 1: [0], 2: [2], 3: [6], 4: [2], 5: [3], 6: [5]})"
      ]
     },
     "execution_count": 6,
     "metadata": {},
     "output_type": "execute_result"
    }
   ],
   "source": [
    "adj_list"
   ]
  },
  {
   "cell_type": "code",
   "execution_count": 12,
   "id": "e7858116-3775-4f37-844b-0334873e9a6a",
   "metadata": {
    "tags": []
   },
   "outputs": [
    {
     "name": "stdout",
     "output_type": "stream",
     "text": [
      "now_node: 3\n",
      "now_node: 6\n",
      "now_node: 5\n",
      "[False, False, False, True, False, True, True]\n"
     ]
    }
   ],
   "source": [
    "# dfs\n",
    "# 노드 3에서 먼저 출발해보자\n",
    "start_node = 3\n",
    "stack = []\n",
    "stack.append(3)\n",
    "visited = [False for _ in range(V)]\n",
    "visited[start_node] = True\n",
    "while stack:\n",
    "    now_node = stack.pop()\n",
    "    print(f'now_node: {now_node}')\n",
    "    for node in adj_list[now_node]:\n",
    "        # 인접 노드에 대해\n",
    "        # 지금 노드가 방문한 노드라면?\n",
    "        if visited[node] == True:\n",
    "            # 그리고 방문한 노드가 출발 노드라면? => 출발 노드로 돌아오는 사이클 존재\n",
    "            if node == start_node:\n",
    "                print(visited)\n",
    "            else: # 방문한 노드가 출발 노드가 아니라면? => 이 노드로 돌아오는 사이클은 아님\n",
    "                continue\n",
    "        else: # 방문 안한 노드라면?\n",
    "            # stack에 추가, 방문 표시\n",
    "            stack.append(node)\n",
    "            visited[node] = True\n"
   ]
  },
  {
   "cell_type": "code",
   "execution_count": 16,
   "id": "d7cf819b-bbea-496d-9d59-425c22e3f4e4",
   "metadata": {
    "tags": []
   },
   "outputs": [
    {
     "name": "stdin",
     "output_type": "stream",
     "text": [
      " 7\n",
      " 3 1 3 7 3 4 6\n"
     ]
    },
    {
     "name": "stdout",
     "output_type": "stream",
     "text": [
      "now_node: 0\n",
      "now_node: 2\n",
      "now_node: 1\n",
      "now_node: 0\n",
      "now_node: 2\n",
      "now_node: 2\n",
      "now_node: 3\n",
      "now_node: 6\n",
      "now_node: 5\n",
      "now_node: 4\n",
      "now_node: 2\n"
     ]
    },
    {
     "data": {
      "text/plain": [
       "[False, False, True, True, False, True, True]"
      ]
     },
     "execution_count": 16,
     "metadata": {},
     "output_type": "execute_result"
    }
   ],
   "source": [
    "# V = int(input())\n",
    "V = int(input())\n",
    "from collections import defaultdict\n",
    "adj_list = defaultdict(list)\n",
    "for idx, node in enumerate([int(x)-1 for x in input().split()]): \n",
    "    adj_list[idx].append(node)\n",
    "\n",
    "def cycle_nodes(V, adj_list):\n",
    "    cycle_nodes = [False for _ in range(V)]\n",
    "    for start_node in range(V):\n",
    "        if cycle_nodes[start_node] == True:\n",
    "            continue\n",
    "        stack = []\n",
    "        stack.append(start_node)\n",
    "        visited = [False for _ in range(V)]\n",
    "        visited[start_node] = True\n",
    "        while stack:\n",
    "            now_node = stack.pop()\n",
    "            print(f'now_node: {now_node}')\n",
    "            for node in adj_list[now_node]:\n",
    "                # 인접 노드에 대해\n",
    "                # 지금 노드가 방문한 노드라면?\n",
    "                if visited[node] == True:\n",
    "                    # 그리고 방문한 노드가 출발 노드라면? => 출발 노드로 돌아오는 사이클 존재\n",
    "                    if node == start_node:\n",
    "                        cycle_nodes = [(pair[0] or pair[1]) for pair in zip(cycle_nodes, visited)]\n",
    "                    else: # 방문한 노드가 출발 노드가 아니라면?\n",
    "                        # 이 노드로 돌아오는 사이클은 아님\n",
    "                        continue\n",
    "                else: # 방문 안한 노드라면?\n",
    "                    # stack에 추가, 방문 표시\n",
    "                    stack.append(node)\n",
    "                    visited[node] = True\n",
    "    \n",
    "    return cycle_nodes\n",
    "\n",
    "cycle_nodes(V, adj_list)"
   ]
  },
  {
   "cell_type": "code",
   "execution_count": 20,
   "id": "c87b29c0-de5d-4891-b393-3b029e410490",
   "metadata": {
    "tags": []
   },
   "outputs": [
    {
     "name": "stdin",
     "output_type": "stream",
     "text": [
      " 2\n",
      " 7\n",
      " 3 1 3 7 3 4 6\n"
     ]
    },
    {
     "name": "stdout",
     "output_type": "stream",
     "text": [
      "3\n"
     ]
    },
    {
     "name": "stdin",
     "output_type": "stream",
     "text": [
      " 8\n",
      " 1 2 3 4 5 6 7 8\n"
     ]
    },
    {
     "name": "stdout",
     "output_type": "stream",
     "text": [
      "0\n"
     ]
    }
   ],
   "source": [
    "testcase = int(input())\n",
    "\n",
    "def cycle_nodes(V, adj_list):\n",
    "    cycle_nodes = [False for _ in range(V)]\n",
    "    for start_node in range(V):\n",
    "        if cycle_nodes[start_node] == True:\n",
    "            continue\n",
    "        stack = []\n",
    "        stack.append(start_node)\n",
    "        visited = [False for _ in range(V)]\n",
    "        visited[start_node] = True\n",
    "        while stack:\n",
    "            now_node = stack.pop()\n",
    "            #print(f'now_node: {now_node}')\n",
    "            for node in adj_list[now_node]:\n",
    "                # 인접 노드에 대해\n",
    "                # 지금 노드가 방문한 노드라면?\n",
    "                if visited[node] == True:\n",
    "                    # 그리고 방문한 노드가 출발 노드라면? => 출발 노드로 돌아오는 사이클 존재\n",
    "                    if node == start_node:\n",
    "                        cycle_nodes = [(pair[0] or pair[1]) for pair in zip(cycle_nodes, visited)]\n",
    "                    else: # 방문한 노드가 출발 노드가 아니라면?\n",
    "                        # 이 노드로 돌아오는 사이클은 아님\n",
    "                        continue\n",
    "                else: # 방문 안한 노드라면?\n",
    "                    # stack에 추가, 방문 표시\n",
    "                    stack.append(node)\n",
    "                    visited[node] = True\n",
    "    \n",
    "    return cycle_nodes\n",
    "\n",
    "\n",
    "from collections import defaultdict, Counter\n",
    "for _ in range(testcase):\n",
    "    V = int(input())\n",
    "    adj_list = defaultdict(list)\n",
    "    for idx, node in enumerate([int(x)-1 for x in input().split()]): \n",
    "        adj_list[idx].append(node)\n",
    "    print(Counter(cycle_nodes(V, adj_list))[False])"
   ]
  },
  {
   "cell_type": "code",
   "execution_count": 21,
   "id": "db695188-fdf4-4014-9d91-c6a729550b02",
   "metadata": {
    "tags": []
   },
   "outputs": [],
   "source": [
    "# => 시간초과... 망할...\n",
    "\n",
    "# 조금 더 효율적으로... 효율적으로\n",
    "# 우선\n",
    "### (단, 단 한 명만 선택할 수 있다.)\n",
    "# 에 집중해보자\n",
    "# 인접 리스트를 배열 형태로 ! "
   ]
  },
  {
   "cell_type": "code",
   "execution_count": 3,
   "id": "6e0822f6-9f8e-4525-81e9-00ef8d583110",
   "metadata": {},
   "outputs": [
    {
     "name": "stdin",
     "output_type": "stream",
     "text": [
      " 7\n",
      " 3 1 3 7 3 4 6\n"
     ]
    }
   ],
   "source": [
    "V = int(input())\n",
    "# 인접 리스트 => 어차피 하나만 찝음 => 리스트로 가자 !\n",
    "adj_list = [int(x)-1 for x in input().split()]"
   ]
  },
  {
   "cell_type": "code",
   "execution_count": 48,
   "id": "8b27ca5e-1c3d-4b02-a842-94cf48b5181b",
   "metadata": {
    "tags": []
   },
   "outputs": [],
   "source": [
    "V = 7\n",
    "adj_list = [2, 0, 2, 6, 2, 3, 5]"
   ]
  },
  {
   "cell_type": "code",
   "execution_count": 51,
   "id": "719e1ef4-03b8-4174-acb0-b5d41493ee11",
   "metadata": {
    "tags": []
   },
   "outputs": [
    {
     "name": "stdout",
     "output_type": "stream",
     "text": [
      "최초 탐색 노드: 0\n",
      "최초 탐색 노드: 1\n",
      "최초 탐색 노드: 3\n",
      "최초 탐색 노드: 4\n"
     ]
    }
   ],
   "source": [
    "cycle_nodes = [-1 for _ in range(V)]\n",
    "# adj_list의 첫 녀석부터 순회하면서\n",
    "for idx, pick in enumerate(adj_list):\n",
    "    if cycle_nodes[idx] != -1: #알면\n",
    "        continue\n",
    "    print(f'최초 탐색 노드: {idx}')\n",
    "    visited = [-1 for _ in range(V)] # 미방문은 -1, 나머지는 방문 순서\n",
    "    count = 0\n",
    "    now_node = idx\n",
    "    visited[now_node] = count # 시작노드 방문 표시\n",
    "    flag = True\n",
    "    while flag:\n",
    "        #print(f'now_node: {now_node}')\n",
    "        if cycle_nodes[idx] != -1:\n",
    "            continue\n",
    "        #print(f'visited:{visited}')\n",
    "        #print(f'다음 노드: {adj_list[now_node]}')\n",
    "        if visited[adj_list[now_node]] == -1: # 다음 노드가 미방문 => 계속 탐색\n",
    "            #print(f'다음 노드 미방문')\n",
    "            now_node = adj_list[now_node]\n",
    "            count += 1\n",
    "            visited[now_node] = count\n",
    "        else: # 다음 노드가 이미 방문했다? => 사이클 발견 !\n",
    "            #print(f'사이클 발견:')\n",
    "            #print(f'visited: {visited}')\n",
    "            # 몇번째 방문한 녀석인데?\n",
    "            threshold = visited[adj_list[now_node]]\n",
    "            #print(f'threshold: {threshold}')\n",
    "            # visited에서 그 녀석보다 크거나 같은 애들이 사이클을 이룸\n",
    "            for idx, visit_num in enumerate(visited):\n",
    "                if visit_num >= threshold:\n",
    "                    #print(f'idx: {idx}')\n",
    "                    cycle_nodes[idx] = 1\n",
    "                elif 0 <= visit_num < threshold:\n",
    "                    cycle_nodes[idx] = 0\n",
    "            flag = False"
   ]
  },
  {
   "cell_type": "code",
   "execution_count": 52,
   "id": "b25e430e-e6ee-48bd-809d-dc0cdca91a22",
   "metadata": {
    "tags": []
   },
   "outputs": [
    {
     "data": {
      "text/plain": [
       "[0, 0, 1, 1, 0, 1, 1]"
      ]
     },
     "execution_count": 52,
     "metadata": {},
     "output_type": "execute_result"
    }
   ],
   "source": [
    "cycle_nodes"
   ]
  },
  {
   "cell_type": "code",
   "execution_count": 53,
   "id": "a5a4374a-3258-4e46-8e09-a06552ef10f7",
   "metadata": {
    "tags": []
   },
   "outputs": [
    {
     "name": "stdin",
     "output_type": "stream",
     "text": [
      " 2\n",
      " 7\n",
      " 3 1 3 7 3 4 6\n"
     ]
    },
    {
     "name": "stdout",
     "output_type": "stream",
     "text": [
      "최초 탐색 노드: 0\n",
      "최초 탐색 노드: 1\n",
      "최초 탐색 노드: 3\n",
      "최초 탐색 노드: 4\n",
      "3\n"
     ]
    },
    {
     "name": "stdin",
     "output_type": "stream",
     "text": [
      " 8\n",
      " 1 2 3 4 5 6 7 8\n"
     ]
    },
    {
     "name": "stdout",
     "output_type": "stream",
     "text": [
      "최초 탐색 노드: 0\n",
      "최초 탐색 노드: 1\n",
      "최초 탐색 노드: 2\n",
      "최초 탐색 노드: 3\n",
      "최초 탐색 노드: 4\n",
      "최초 탐색 노드: 5\n",
      "최초 탐색 노드: 6\n",
      "최초 탐색 노드: 7\n",
      "0\n"
     ]
    }
   ],
   "source": [
    "def is_there_cycle(V, adj_list):\n",
    "    cycle_nodes = [-1 for _ in range(V)]\n",
    "# adj_list의 첫 녀석부터 순회하면서\n",
    "    for idx, pick in enumerate(adj_list):\n",
    "        if cycle_nodes[idx] != -1: #알면\n",
    "            continue\n",
    "        #print(f'최초 탐색 노드: {idx}')\n",
    "        visited = [-1 for _ in range(V)] # 미방문은 -1, 나머지는 방문 순서\n",
    "        count = 0\n",
    "        now_node = idx\n",
    "        visited[now_node] = count # 시작노드 방문 표시\n",
    "        flag = True\n",
    "        while flag:\n",
    "            #print(f'now_node: {now_node}')\n",
    "            if cycle_nodes[idx] != -1:\n",
    "                continue\n",
    "            #print(f'visited:{visited}')\n",
    "            #print(f'다음 노드: {adj_list[now_node]}')\n",
    "            if visited[adj_list[now_node]] == -1: # 다음 노드가 미방문 => 계속 탐색\n",
    "                #print(f'다음 노드 미방문')\n",
    "                now_node = adj_list[now_node]\n",
    "                count += 1\n",
    "                visited[now_node] = count\n",
    "            else: # 다음 노드가 이미 방문했다? => 사이클 발견 !\n",
    "                #print(f'사이클 발견:')\n",
    "                #print(f'visited: {visited}')\n",
    "                # 몇번째 방문한 녀석인데?\n",
    "                threshold = visited[adj_list[now_node]]\n",
    "                #print(f'threshold: {threshold}')\n",
    "                # visited에서 그 녀석보다 크거나 같은 애들이 사이클을 이룸\n",
    "                for idx, visit_num in enumerate(visited):\n",
    "                    if visit_num >= threshold:\n",
    "                        #print(f'idx: {idx}')\n",
    "                        cycle_nodes[idx] = 1\n",
    "                    elif 0 <= visit_num < threshold:\n",
    "                        cycle_nodes[idx] = 0\n",
    "                flag = False\n",
    "    return cycle_nodes\n",
    "\n",
    "\n",
    "from collections import Counter\n",
    "for _ in range(int(input())):\n",
    "    V = int(input())\n",
    "    # 인접 리스트 => 어차피 하나만 찝음 => 리스트로 가자 !\n",
    "    adj_list = [int(x)-1 for x in input().split()]\n",
    "    print(Counter(is_there_cycle(V, adj_list))[0])"
   ]
  },
  {
   "cell_type": "code",
   "execution_count": null,
   "id": "866a2b6d-1321-47d8-b2a3-250e0e77c940",
   "metadata": {},
   "outputs": [],
   "source": [
    "# 와 이것도 시간 초과 ...."
   ]
  },
  {
   "cell_type": "code",
   "execution_count": 59,
   "id": "f507036a-d305-40d6-af0e-551a5ad9c884",
   "metadata": {
    "tags": []
   },
   "outputs": [
    {
     "data": {
      "text/plain": [
       "7"
      ]
     },
     "execution_count": 59,
     "metadata": {},
     "output_type": "execute_result"
    }
   ],
   "source": [
    "# 심플하게 가보자 !\n",
    "V = 7\n",
    "adj_list = [2, 0, 2, 6, 2, 3, 5]\n",
    "cycle_nodes = 0\n",
    "\n",
    "for idx, next_node in enumerate(adj_list):\n",
    "    start_node = idx\n",
    "    visited = [False for _ in range(V)]\n",
    "    visited[start_node] = True\n",
    "    stack = []\n",
    "    stack.append(start_node)\n",
    "    while stack:\n",
    "        now_node = stack.pop()\n",
    "        # 다음 노드가 방문한 노드라면\n",
    "        if visited[adj_list[now_node]] == True:\n",
    "            # 사이클이다\n",
    "            cycle_nodes += 1\n",
    "            break\n",
    "        visited[adj_list[now_node]] = True\n",
    "        stack.append(adj_list[now_node])\n",
    "\n",
    "        \n",
    "        \n",
    "cycle_nodes     "
   ]
  },
  {
   "cell_type": "markdown",
   "id": "21cd5eb3-218b-4026-8cd5-39447e3d3de3",
   "metadata": {},
   "source": [
    "# Recusive DFS\n",
    "- 나의 약점을 알아보기"
   ]
  },
  {
   "cell_type": "code",
   "execution_count": 35,
   "id": "2b42cca7-fae1-4734-a79b-d53518617451",
   "metadata": {
    "tags": []
   },
   "outputs": [],
   "source": [
    "V = 7\n",
    "adj_list = [1, 2, 3, 4, 5, 2, 0]\n",
    "cycle_nodes = [-1 for _ in range(V)]\n",
    "visited = [False for _ in range(V)]\n",
    "temp = [-1]\n",
    "flag = [True]\n",
    "def dfs_recursive(node):\n",
    "    if visited[node] == True: # 사이클 발견!\n",
    "        # 어디까지 사이클인데 ?\n",
    "        temp[0] = adj_list[node]\n",
    "        pass # 탐색 종료\n",
    "    else:\n",
    "        # 다음 노드 방문 체크\n",
    "        visited[node] = True\n",
    "        # 다음 노드 탐색\n",
    "        dfs_recursive(adj_list[node])\n",
    "    if flag[0] == True:\n",
    "        cycle_nodes[node] = 1\n",
    "    else:\n",
    "        cycle_nodes[node] = 0\n",
    "    if node == temp[0]: # 여기까지 사이클이면\n",
    "        flag[0] = False\n",
    "dfs_recursive(2)"
   ]
  },
  {
   "cell_type": "code",
   "execution_count": 46,
   "id": "636ceb68-34cd-4ffc-8288-d735fd213c14",
   "metadata": {
    "tags": []
   },
   "outputs": [
    {
     "data": {
      "text/plain": [
       "[0, 0, 0, 1, 1, 1, 0]"
      ]
     },
     "execution_count": 46,
     "metadata": {},
     "output_type": "execute_result"
    }
   ],
   "source": [
    "V = 7\n",
    "adj_list = [1, 2, 3, 4, 5, 2, 0]\n",
    "\n",
    "cycle_nodes = [-1 for _ in range(V)]\n",
    "def find_cycle_nodes(start_node):\n",
    "    if cycle_nodes[start_node] != -1:\n",
    "        return\n",
    "    node = start_node\n",
    "    visited = [False for _ in range(V)]\n",
    "    temp = [-1]\n",
    "    flag = [True]\n",
    "    def dfs_recursive(node):\n",
    "        if visited[node] == True: # 사이클 발견!\n",
    "            # 어디까지 사이클인데 ?\n",
    "            temp[0] = adj_list[node]\n",
    "            return\n",
    "        else:\n",
    "            # 다음 노드 방문 체크\n",
    "            visited[node] = True\n",
    "            # 다음 노드 탐색\n",
    "            dfs_recursive(adj_list[node])\n",
    "        if flag[0] == True:\n",
    "            cycle_nodes[node] = 1\n",
    "        else:\n",
    "            cycle_nodes[node] = 0\n",
    "        if node == temp[0]: # 여기까지 사이클이면\n",
    "            flag[0] = False\n",
    "    \n",
    "    dfs_recursive(node)\n",
    "    \n",
    "for idx, next_node in enumerate(adj_list):\n",
    "    find_cycle_nodes(idx)\n",
    "    \n",
    "cycle_nodes"
   ]
  },
  {
   "cell_type": "code",
   "execution_count": null,
   "id": "931ab297-2139-4bb7-a434-1bac64ce9f8f",
   "metadata": {},
   "outputs": [],
   "source": [
    "def solution(V, adj_list):\n",
    "    cycle_nodes = [-1 for _ in range(V)]\n",
    "    def find_cycle_nodes(start_node):\n",
    "        if cycle_nodes[start_node] != -1:\n",
    "            return\n",
    "        node = start_node\n",
    "        visited = [False for _ in range(V)]\n",
    "        temp = [-1]\n",
    "        flag = [True]\n",
    "        def dfs_recursive(node):\n",
    "            if visited[node] == True: # 사이클 발견!\n",
    "                # 어디까지 사이클인데 ?\n",
    "                temp[0] = adj_list[node]\n",
    "                return\n",
    "            else:\n",
    "                # 다음 노드 방문 체크\n",
    "                visited[node] = True\n",
    "                # 다음 노드 탐색\n",
    "                dfs_recursive(adj_list[node])\n",
    "            if flag[0] == True:\n",
    "                cycle_nodes[node] = 1\n",
    "            else:\n",
    "                cycle_nodes[node] = 0\n",
    "            if node == temp[0]: # 여기까지 사이클이면\n",
    "                flag[0] = False\n",
    "\n",
    "        dfs_recursive(node)\n",
    "\n",
    "    for idx, next_node in enumerate(adj_list):\n",
    "        find_cycle_nodes(idx)\n",
    "from collections import Counter\n",
    "for _ in range(int(input())):\n",
    "    V = int(input())\n",
    "    # 인접 리스트 => 어차피 하나만 찝음 => 리스트로 가자 !\n",
    "    adj_list = [int(x)-1 for x in input().split()]\n",
    "    cycle_nodes = solution(V, adj_list)\n",
    "    "
   ]
  },
  {
   "cell_type": "code",
   "execution_count": 1,
   "id": "c618b535-b899-49e7-93f9-7848c06d87af",
   "metadata": {},
   "outputs": [
    {
     "name": "stdin",
     "output_type": "stream",
     "text": [
      " 7\n",
      " 3 1 3 7 3 4 6\n"
     ]
    }
   ],
   "source": [
    "# 새로 시작 !\n",
    "\n",
    "# 모듈화\n",
    "# 우선 연결리스트를 배열 형태로 <- 한 명은 한 명만 찍으니까\n",
    "V = int(input())\n",
    "adj_arr = [int(x) - 1 for x in input().split()]"
   ]
  },
  {
   "cell_type": "code",
   "execution_count": 3,
   "id": "a3672d2c-20e6-49f2-b877-b9409d08f429",
   "metadata": {
    "tags": []
   },
   "outputs": [],
   "source": [
    "V = 7\n",
    "adj_arr = [1, 2, 3, 4, 5, 6, 3]"
   ]
  },
  {
   "cell_type": "code",
   "execution_count": null,
   "id": "79bebdea-b014-41d2-8560-c87eabbd5244",
   "metadata": {},
   "outputs": [],
   "source": [
    "# dfs로 사이클을 찾는다\n",
    "# 어떻게 ?\n",
    "\n",
    "# dfs_recursive로\n",
    "# 방문 체크된 노드가 있다면 사이클이 있다 !\n",
    "# \n",
    "# [1,2,3,4,5,3] 순서라면, \n",
    "# 재귀를 빠져나오면서 해당 노드는 사이클이라고 표시하고\n",
    "# 사이클 종단 노드라면 flag를 False로 바꾼다(이제부턴 사이클을 이루지 않는다)\n",
    "cycles = [-1 for _ in range(V)] # -1 미탐색, 0 사이클X, 1 사이클O\n",
    "visited = [False for _ in range(V)]\n",
    "flag = True\n",
    "def dfs_recursive(node):\n",
    "    global flag\n",
    "    if visited[node] == False:\n",
    "        visited\n",
    "\n",
    "# 이 방법 너무 복잡해"
   ]
  },
  {
   "cell_type": "code",
   "execution_count": 37,
   "id": "e27760f5-b614-4173-8cbd-18179d2261f0",
   "metadata": {
    "tags": []
   },
   "outputs": [
    {
     "data": {
      "text/plain": [
       "[-1, 0, 0, 1, 1, 1, 1]"
      ]
     },
     "execution_count": 37,
     "metadata": {},
     "output_type": "execute_result"
    }
   ],
   "source": [
    "V = 7\n",
    "adj_arr = [1, 2, 3, 4, 5, 6, 3]\n",
    "cycles = [-1 for _ in range(V)] # -1 미탐색, 0 사이클X, 1 사이클O\n",
    "# 우선 사이클 탐색부터\n",
    "visited = [False for _ in range(V)]\n",
    "temp = -1\n",
    "flag = True\n",
    "def dfs_recursive(node):\n",
    "    global temp\n",
    "    global flag\n",
    "    #print(f'now_node: {node}')\n",
    "    next_node = adj_arr[node]\n",
    "    #print(f'next_node: {next_node}')\n",
    "    if visited[next_node] == True:\n",
    "        #print(f'사이클이 있다 ! 사이클 종단은 {next_node}')\n",
    "        temp = next_node\n",
    "    else:\n",
    "        visited[next_node] = True\n",
    "        dfs_recursive(next_node)\n",
    "    #print(f'재귀를 빠져나오면서 now_node: {node}')\n",
    "    #print(f'얘는 사이클이 ?{flag}')\n",
    "    if flag == True:\n",
    "        cycles[node] = 1\n",
    "    else: \n",
    "        cycles[node] = 0\n",
    "    if node == temp:\n",
    "        flag = not flag\n",
    "visited[1] = True        \n",
    "dfs_recursive(1)\n",
    "cycles"
   ]
  },
  {
   "cell_type": "code",
   "execution_count": 5,
   "id": "a1604955-c263-4b26-b2cb-5b926d949988",
   "metadata": {
    "tags": []
   },
   "outputs": [
    {
     "name": "stdin",
     "output_type": "stream",
     "text": [
      " 1\n",
      " 7\n",
      " 3 1 3 7 3 4 6\n"
     ]
    },
    {
     "name": "stdout",
     "output_type": "stream",
     "text": [
      "[0, 0, 1, 1, 0, 1, 1]\n",
      "3\n"
     ]
    }
   ],
   "source": [
    "def is_there_cycle(start_node, V):\n",
    "    if cycles[start_node] != -1:\n",
    "        return \n",
    "    visited = [False for _ in range(V)]\n",
    "    temp = [-1]\n",
    "    flag = [True]\n",
    "    def dfs_recursive(node):\n",
    "        #print(f'now_node: {node}')\n",
    "        next_node = adj_arr[node]\n",
    "        #print(f'next_node: {next_node}')\n",
    "        #print(f'adj_arr: {adj_arr} ')\n",
    "        #print(f'visited: {visited}')\n",
    "        if visited[next_node] == True:\n",
    "            #print(f'사이클이 있다 ! 사이클 종단은 {next_node}')\n",
    "            temp[0] = next_node\n",
    "        else:\n",
    "            visited[next_node] = True\n",
    "            dfs_recursive(next_node)\n",
    "        #print(f'재귀를 빠져나오면서 now_node: {node}')\n",
    "        #print(f'얘는 사이클이 ?{flag}')\n",
    "        if flag[0] == True:\n",
    "            cycles[node] = 1\n",
    "        else: \n",
    "            cycles[node] = 0\n",
    "        if node == temp[0]:\n",
    "            flag[0] = not flag[0]\n",
    "    visited[start_node] = True  \n",
    "    dfs_recursive(start_node)\n",
    "    \n",
    "from collections import Counter\n",
    "for _ in range(int(input())):\n",
    "    V = int(input())\n",
    "    adj_arr = [int(x) - 1 for x in input().split()]\n",
    "    cycles = [-1 for _ in range(V)]\n",
    "    for x in range(V):\n",
    "        is_there_cycle(x, V)\n",
    "    # print(cycles)\n",
    "    print(Counter(cycles)[0]) "
   ]
  },
  {
   "cell_type": "code",
   "execution_count": null,
   "id": "d198386e-4faf-400c-99b9-cea0926cf552",
   "metadata": {},
   "outputs": [],
   "source": [
    "# 와... 왜 자꾸 시간초과야... 이해가 안되네 정말...\n",
    "# 그래도 1%라도 가봤다 !"
   ]
  },
  {
   "cell_type": "code",
   "execution_count": 4,
   "id": "af3dfb67-fa95-478e-99fe-a450c59328e5",
   "metadata": {
    "tags": []
   },
   "outputs": [
    {
     "name": "stdin",
     "output_type": "stream",
     "text": [
      " 1\n",
      " 7\n",
      " 3 1 3 7 3 4 6\n"
     ]
    },
    {
     "name": "stdout",
     "output_type": "stream",
     "text": [
      "3\n"
     ]
    }
   ],
   "source": [
    "import sys\n",
    "sys.setrecursionlimit(100000)\n",
    "\n",
    "# 새로운 시작\n",
    "def sol():\n",
    "    V = int(input())\n",
    "    adj_arr = [int(x)-1 for x in input().split()]\n",
    "    visited = [False for _ in range(V)]\n",
    "    global team\n",
    "    team = 0\n",
    "    path = []\n",
    "    def dfs_recursive(node):\n",
    "        global team\n",
    "        visited[node] = True\n",
    "        #print(f'now_node: {node}')\n",
    "        next_node = adj_arr[node]\n",
    "        #print(f'next_node: {next_node}')\n",
    "        path.append(node)\n",
    "        if visited[next_node] == True:\n",
    "            if next_node in path:\n",
    "                #print(f'path: {path}')\n",
    "                team += len(path) - path.index(next_node)\n",
    "        else:\n",
    "            dfs_recursive(next_node)\n",
    "\n",
    "    for x in range(V):\n",
    "        if visited[x] != True:\n",
    "            path = []\n",
    "            dfs_recursive(x)\n",
    "            \n",
    "    return V - team\n",
    "\n",
    "for _ in range(int(input())):\n",
    "    print(sol())"
   ]
  },
  {
   "cell_type": "code",
   "execution_count": null,
   "id": "33dfb524-ba93-488e-bad4-cbaaec150400",
   "metadata": {},
   "outputs": [],
   "source": []
  }
 ],
 "metadata": {
  "kernelspec": {
   "display_name": "Python 3 (ipykernel)",
   "language": "python",
   "name": "python3"
  },
  "language_info": {
   "codemirror_mode": {
    "name": "ipython",
    "version": 3
   },
   "file_extension": ".py",
   "mimetype": "text/x-python",
   "name": "python",
   "nbconvert_exporter": "python",
   "pygments_lexer": "ipython3",
   "version": "3.11.5"
  }
 },
 "nbformat": 4,
 "nbformat_minor": 5
}
