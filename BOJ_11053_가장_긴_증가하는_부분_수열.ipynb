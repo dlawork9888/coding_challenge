{
 "cells": [
  {
   "cell_type": "markdown",
   "id": "443770e5-8136-454b-9188-73dada0f4e73",
   "metadata": {},
   "source": [
    "# BOJ. 11053. 가장 긴 증가하는 부분 수열\n",
    "https://www.acmicpc.net/problem/11053"
   ]
  },
  {
   "cell_type": "code",
   "execution_count": 14,
   "id": "2b60a65f-3caf-4981-a883-880ff9033de9",
   "metadata": {
    "tags": []
   },
   "outputs": [
    {
     "name": "stdin",
     "output_type": "stream",
     "text": [
      " 6\n",
      " 1 2 1 3 2 5\n"
     ]
    },
    {
     "name": "stdout",
     "output_type": "stream",
     "text": [
      "4\n"
     ]
    }
   ],
   "source": [
    "def longest_increasing_subsequence(N, seq):\n",
    "    # lis <- 해당 인덱스의 원소를 마지막 원소로 가지는 가장 긴 증가하는 부분수열의 길이를 저장\n",
    "    # 가장 긴 증가부분수열 뒤에 원소가 붙을 수 있다면, 그 원소를 끝으로 하는 가_긴_증_부의 길이는 붙기전 가_긴_증_부 길이 + 1\n",
    "    lis = [1 for x in range(N)]\n",
    "    for i in range (1,N):\n",
    "        for j in range(i):\n",
    "            if seq[j] < seq[i]:\n",
    "                lis[i] = lis[j] + 1 if lis[j] + 1 > lis[i] else lis[i]\n",
    "    return max(lis)\n",
    "N = int(input())\n",
    "print(longest_increasing_subsequence(N,[int(x) for x in input().split()]))"
   ]
  },
  {
   "cell_type": "code",
   "execution_count": 9,
   "id": "35d471ec-caa8-4276-9401-a5057281d586",
   "metadata": {
    "tags": []
   },
   "outputs": [
    {
     "name": "stdout",
     "output_type": "stream",
     "text": [
      "0\n",
      "1\n",
      "2\n"
     ]
    }
   ],
   "source": [
    "for idx, ele in enumerate([0,1,2,3][1:]):\n",
    "    print(idx)"
   ]
  },
  {
   "cell_type": "code",
   "execution_count": null,
   "id": "66715cba-61e8-4995-9e6c-a9fa4f362b14",
   "metadata": {},
   "outputs": [],
   "source": []
  }
 ],
 "metadata": {
  "kernelspec": {
   "display_name": "Python 3 (ipykernel)",
   "language": "python",
   "name": "python3"
  },
  "language_info": {
   "codemirror_mode": {
    "name": "ipython",
    "version": 3
   },
   "file_extension": ".py",
   "mimetype": "text/x-python",
   "name": "python",
   "nbconvert_exporter": "python",
   "pygments_lexer": "ipython3",
   "version": "3.11.5"
  }
 },
 "nbformat": 4,
 "nbformat_minor": 5
}
