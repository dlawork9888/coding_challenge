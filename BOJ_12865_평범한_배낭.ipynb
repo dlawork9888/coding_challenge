{
 "cells": [
  {
   "cell_type": "markdown",
   "id": "ded4d761-07e7-4c0b-a7f3-514fbe08515c",
   "metadata": {},
   "source": [
    "# BOJ. 12865. 평범한 배낭\n",
    "https://www.acmicpc.net/problem/12865\n",
    "- 0 1 배낭 문제 => 그리디 적용 불가"
   ]
  },
  {
   "cell_type": "markdown",
   "id": "e81d29a3-6d5d-4ce8-bb8a-e936812982f6",
   "metadata": {},
   "source": [
    "- 현재 배낭 리미트 => 0 ~ 총 배낭 리미트\n",
    "- 현재 배낭에 아이템i가 들어가나 ?\n",
    "    - 들어가면\n",
    "        - 이거 안넣었을 때의 최대가치 vs 이거 넣었을 때의 가치\n",
    "        - dp[윗줄(아이템i 안넣었을때)][현재 배낭 리미트] vs dp[윗줄][현재 배낭 리미트 - 아이템i무게] + 아이템i가치\n",
    "    - 안들어가면\n",
    "        - 이거 안넣었을 때의 최대가치\n",
    "- 아이템i가 현재 배낭에 들어간다 => 아이템i의 가치 + (현재 배낭 리미트 - 아이템i무게)의 배낭에 들어갈 수 있는 가치"
   ]
  },
  {
   "cell_type": "code",
   "execution_count": 9,
   "id": "acb837b1-13d1-4c3c-80c6-9361f1f5c759",
   "metadata": {
    "tags": []
   },
   "outputs": [
    {
     "name": "stdin",
     "output_type": "stream",
     "text": [
      " 4 7\n",
      " 6 13\n",
      " 4 8\n",
      " 3 6\n",
      " 5 12\n"
     ]
    }
   ],
   "source": [
    "def input_process():\n",
    "    N, K = [int(x) for x in input().split()]\n",
    "    items = []\n",
    "    for _ in range(N):\n",
    "        items.append([int(x) for x in input().split()])\n",
    "    return N, K, items\n",
    "\n",
    "N, K, items = input_process()"
   ]
  },
  {
   "cell_type": "code",
   "execution_count": 10,
   "id": "51bde8e2-5a15-44bd-97f0-ce69db67b684",
   "metadata": {
    "tags": []
   },
   "outputs": [
    {
     "data": {
      "text/plain": [
       "(4, 7, [[6, 13], [4, 8], [3, 6], [5, 12]])"
      ]
     },
     "execution_count": 10,
     "metadata": {},
     "output_type": "execute_result"
    }
   ],
   "source": [
    "N, K, items"
   ]
  },
  {
   "cell_type": "code",
   "execution_count": 22,
   "id": "b843647f-e32c-44b1-bd72-eaa846fc3356",
   "metadata": {
    "tags": []
   },
   "outputs": [
    {
     "name": "stdout",
     "output_type": "stream",
     "text": [
      "14\n"
     ]
    }
   ],
   "source": [
    "dp_table = [[0 for _ in range(K + 1)] for _ in range(N + 1)]\n",
    "\n",
    "for i in range(1, N + 1):\n",
    "    now_item_weight = items[i - 1][0]\n",
    "    now_item_value = items[i - 1 ][1]\n",
    "    for j in range(1, K + 1):\n",
    "        if now_item_weight <= j:\n",
    "            dp_table[i][j] = max(dp_table[i - 1][j], dp_table[i - 1][j - now_item_weight] + now_item_value)\n",
    "        else:\n",
    "            dp_table[i][j] = dp_table[i - 1][j]\n",
    "print(dp_table[-1][-1])"
   ]
  },
  {
   "cell_type": "code",
   "execution_count": 25,
   "id": "6234f995-ac80-4b46-a574-b6de7bb3bfdc",
   "metadata": {
    "tags": []
   },
   "outputs": [
    {
     "name": "stdout",
     "output_type": "stream",
     "text": [
      "[0, 0, 0, 0, 0, 0, 0, 0]\n",
      "[0, 0, 0, 0, 0, 0, 13, 13]\n",
      "[0, 0, 0, 0, 8, 8, 13, 13]\n",
      "[0, 0, 0, 6, 8, 8, 13, 14]\n",
      "[0, 0, 0, 6, 8, 12, 13, 14]\n"
     ]
    }
   ],
   "source": [
    "for row in dp_table:\n",
    "    print(row)"
   ]
  },
  {
   "cell_type": "code",
   "execution_count": 23,
   "id": "16a432a9-311b-4186-94d6-b4d3d9d6bd50",
   "metadata": {
    "tags": []
   },
   "outputs": [],
   "source": [
    "# 종합\n",
    "def input_process():\n",
    "    N, K = [int(x) for x in input().split()]\n",
    "    items = []\n",
    "    for _ in range(N):\n",
    "        items.append([int(x) for x in input().split()])\n",
    "    return N, K, items\n",
    "\n",
    "N, K, items = input_process()\n",
    "\n",
    "dp_table = [[0 for _ in range(K + 1)] for _ in range(N + 1)]\n",
    "\n",
    "for i in range(1, N + 1):\n",
    "    now_item_weight = items[i - 1][0]\n",
    "    now_item_value = items[i - 1 ][1]\n",
    "    for j in range(1, K + 1):\n",
    "        if now_item_weight <= j:\n",
    "            dp_table[i][j] = max(dp_table[i - 1][j], dp_table[i - 1][j - now_item_weight] + now_item_value)\n",
    "        else:\n",
    "            dp_table[i][j] = dp_table[i - 1][j]\n",
    "print(dp_table[-1][-1])"
   ]
  },
  {
   "cell_type": "code",
   "execution_count": null,
   "id": "490af30a-fdcc-433b-8ef0-6096abf0bd6d",
   "metadata": {},
   "outputs": [],
   "source": []
  }
 ],
 "metadata": {
  "kernelspec": {
   "display_name": "Python 3 (ipykernel)",
   "language": "python",
   "name": "python3"
  },
  "language_info": {
   "codemirror_mode": {
    "name": "ipython",
    "version": 3
   },
   "file_extension": ".py",
   "mimetype": "text/x-python",
   "name": "python",
   "nbconvert_exporter": "python",
   "pygments_lexer": "ipython3",
   "version": "3.11.5"
  }
 },
 "nbformat": 4,
 "nbformat_minor": 5
}
