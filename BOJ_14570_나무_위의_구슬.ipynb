{
 "cells": [
  {
   "cell_type": "markdown",
   "id": "4d555515-5495-4ada-9ac0-723471d023b5",
   "metadata": {},
   "source": [
    "# BOJ. 14570. 나무 위의 구슬\n",
    "https://www.acmicpc.net/problem/14570"
   ]
  },
  {
   "cell_type": "code",
   "execution_count": 26,
   "id": "717a017e-8fac-4c18-9aa2-18f86ba900d3",
   "metadata": {
    "tags": []
   },
   "outputs": [
    {
     "name": "stdin",
     "output_type": "stream",
     "text": [
      " 5\n",
      " 2 3\n",
      " -1 -1\n",
      " 4 5\n",
      " -1 -1\n",
      " -1 -1\n"
     ]
    }
   ],
   "source": [
    "# 입력 처리\n",
    "class Node:\n",
    "    def __init__(self):\n",
    "        self.name = -1 \n",
    "        self.left_child = None\n",
    "        self.right_child = None\n",
    "    def set_name(self, name):\n",
    "        self.name = name\n",
    "    def set_children(self, left_child, right_child):\n",
    "        self.left_child = left_child\n",
    "        self.right_child = right_child\n",
    "\n",
    "N = int(input())\n",
    "tree = []\n",
    "for i in range(N):\n",
    "    node = Node()\n",
    "    node.set_name(i)\n",
    "    left_child, right_child = [int(x)-1 if x!= \"-1\" else None for x in input().split()]\n",
    "    node.set_children(left_child, right_child)\n",
    "    tree.append(node)"
   ]
  },
  {
   "cell_type": "code",
   "execution_count": 27,
   "id": "cbb49f73-26b2-41d4-b93a-87b8bfac1f1a",
   "metadata": {
    "tags": []
   },
   "outputs": [
    {
     "name": "stdout",
     "output_type": "stream",
     "text": [
      "--- 0 ---\n",
      "(1, 2)\n",
      "--- 1 ---\n",
      "(None, None)\n",
      "--- 2 ---\n",
      "(3, 4)\n",
      "--- 3 ---\n",
      "(None, None)\n",
      "--- 4 ---\n",
      "(None, None)\n"
     ]
    }
   ],
   "source": [
    "# 확인\n",
    "for node in tree:\n",
    "    print(f'--- {node.name} ---')\n",
    "    print(f'{node.left_child, node.right_child}')"
   ]
  },
  {
   "cell_type": "code",
   "execution_count": 30,
   "id": "581ee5f3-12fe-44a4-a9af-901f1a5ef982",
   "metadata": {
    "tags": []
   },
   "outputs": [
    {
     "name": "stdin",
     "output_type": "stream",
     "text": [
      " 5\n"
     ]
    },
    {
     "name": "stdout",
     "output_type": "stream",
     "text": [
      "2\n"
     ]
    }
   ],
   "source": [
    "def check_direction(now_node, K):\n",
    "    if now_node.left_child == None and now_node.right_child == None:\n",
    "        return 'stop', K\n",
    "    if now_node.left_child != None and now_node.right_child == None:\n",
    "        return 'left', K\n",
    "    if now_node.left_child == None and now_node.right_child != None:\n",
    "        return 'right', K\n",
    "    if K % 2 != 0:\n",
    "        return 'left', K // 2 + 1 if K % 2 == 1 else K // 2\n",
    "    if K % 2 == 0:\n",
    "        return 'right', K // 2\n",
    "\n",
    "K = int(input())\n",
    "now_node_name = 0\n",
    "\n",
    "while True:\n",
    "    now_node = tree[now_node_name]\n",
    "    direction, now_K = check_direction(now_node, K)\n",
    "    if direction == 'stop':\n",
    "        print(now_node.name + 1)\n",
    "        break\n",
    "    elif direction == 'left':\n",
    "        #print('왼')\n",
    "        now_node_name = now_node.left_child\n",
    "        K = now_K\n",
    "    else:\n",
    "        #print('오')\n",
    "        now_node_name = now_node.right_child\n",
    "        K = now_K\n",
    "    "
   ]
  },
  {
   "cell_type": "code",
   "execution_count": 31,
   "id": "95f268bb-32c5-4610-8897-d45d8f087d44",
   "metadata": {
    "tags": []
   },
   "outputs": [
    {
     "name": "stdin",
     "output_type": "stream",
     "text": [
      " 5\n",
      " 2 3\n",
      " -1 -1\n",
      " 4 5\n",
      " -1 -1\n",
      " -1 -1\n",
      " 5\n"
     ]
    },
    {
     "name": "stdout",
     "output_type": "stream",
     "text": [
      "2\n"
     ]
    }
   ],
   "source": [
    "# 통합 => 아.. 클래스 쓰지말걸... 난잡해...\n",
    "\n",
    "# 입력 처리\n",
    "class Node:\n",
    "    def __init__(self):\n",
    "        self.name = -1 \n",
    "        self.left_child = None\n",
    "        self.right_child = None\n",
    "    def set_name(self, name):\n",
    "        self.name = name\n",
    "    def set_children(self, left_child, right_child):\n",
    "        self.left_child = left_child\n",
    "        self.right_child = right_child\n",
    "\n",
    "N = int(input())\n",
    "tree = []\n",
    "for i in range(N):\n",
    "    node = Node()\n",
    "    node.set_name(i)\n",
    "    left_child, right_child = [int(x)-1 if x!= \"-1\" else None for x in input().split()]\n",
    "    node.set_children(left_child, right_child)\n",
    "    tree.append(node)\n",
    "    \n",
    "def check_direction(now_node, K):\n",
    "    if now_node.left_child == None and now_node.right_child == None:\n",
    "        return 'stop', K\n",
    "    if now_node.left_child != None and now_node.right_child == None:\n",
    "        return 'left', K\n",
    "    if now_node.left_child == None and now_node.right_child != None:\n",
    "        return 'right', K\n",
    "    if K % 2 != 0:\n",
    "        return 'left', K // 2 + 1 if K % 2 == 1 else K // 2\n",
    "    if K % 2 == 0:\n",
    "        return 'right', K // 2\n",
    "\n",
    "K = int(input())\n",
    "now_node_name = 0\n",
    "\n",
    "while True:\n",
    "    now_node = tree[now_node_name]\n",
    "    direction, now_K = check_direction(now_node, K)\n",
    "    if direction == 'stop':\n",
    "        print(now_node.name + 1)\n",
    "        break\n",
    "    elif direction == 'left':\n",
    "        #print('왼')\n",
    "        now_node_name = now_node.left_child\n",
    "        K = now_K\n",
    "    else:\n",
    "        #print('오')\n",
    "        now_node_name = now_node.right_child\n",
    "        K = now_K\n",
    "    "
   ]
  },
  {
   "cell_type": "code",
   "execution_count": null,
   "id": "686506f3-1431-4f22-b68e-6cdfb251c2f0",
   "metadata": {},
   "outputs": [],
   "source": []
  }
 ],
 "metadata": {
  "kernelspec": {
   "display_name": "Python 3 (ipykernel)",
   "language": "python",
   "name": "python3"
  },
  "language_info": {
   "codemirror_mode": {
    "name": "ipython",
    "version": 3
   },
   "file_extension": ".py",
   "mimetype": "text/x-python",
   "name": "python",
   "nbconvert_exporter": "python",
   "pygments_lexer": "ipython3",
   "version": "3.11.5"
  }
 },
 "nbformat": 4,
 "nbformat_minor": 5
}
