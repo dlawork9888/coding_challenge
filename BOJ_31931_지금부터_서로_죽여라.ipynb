{
 "cells": [
  {
   "cell_type": "markdown",
   "id": "501b7402-3952-4930-ac76-9ef4b447d320",
   "metadata": {},
   "source": [
    "# BOJ. 31931. 지금부터 서로 죽여라"
   ]
  },
  {
   "cell_type": "code",
   "execution_count": 1,
   "id": "8364a684-59e7-4c32-9901-ce5a7f2a1b05",
   "metadata": {
    "tags": []
   },
   "outputs": [
    {
     "name": "stdin",
     "output_type": "stream",
     "text": [
      " 10 20\n",
      " 10 10 20 5\n"
     ]
    }
   ],
   "source": [
    "X, Y = [int(x) for x in input().split()]\n",
    "A,B,C,D = [int(x) for x in input().split()]    "
   ]
  },
  {
   "cell_type": "code",
   "execution_count": 2,
   "id": "afc1a67c-7893-4800-9222-856561b35df5",
   "metadata": {
    "tags": []
   },
   "outputs": [],
   "source": [
    "# 나루토의 체력 10, 공격력 10, 회복력 10\n",
    "# 사스케의 체력 20, 공격력 20, 회복력 5\n",
    "\n",
    "# 서로는 이기기 위해 최선의 전략을 취한다\n",
    "# 최선의 전략이란 ...\n",
    "# 상대의 공격력이 나의 회복보다 높다 => 회복은 무의미?\n",
    "# 상대의 공격력이 나의 회복보다 낮다 => 회복만이 승리?\n",
    "\n",
    "# 나루토의 선공\n",
    "# 사스케가 한대치면 죽음 => 회복 => 해도 죽음 => 이길길이 없음 => 비겨야함 => 게속 회복해야함\n",
    "\n",
    "# 나루토의 체력 15, 공격력 10, 회복력 10\n",
    "# 사스케의 체력 20, 공격력 20, 회복력 5\n",
    "# 일때, 나루토는 무조건 회복을 택함\n",
    "\n",
    "# 이거 그리디인가?\n",
    "# 순간의 판단이 중요한거같은데\n",
    "# 게임이론도 ..."
   ]
  },
  {
   "cell_type": "code",
   "execution_count": null,
   "id": "14d1e9ca-4ec2-4a9e-bfa6-829713df2af0",
   "metadata": {},
   "outputs": [],
   "source": [
    "# 나의 회복 > 상대의 공격, 나의 공격 > 상대의 회복"
   ]
  },
  {
   "cell_type": "code",
   "execution_count": 4,
   "id": "d6438dfc-7f43-4448-8035-9c60655dc8a1",
   "metadata": {
    "tags": []
   },
   "outputs": [],
   "source": [
    "# 나의 공격이 상대를 즉살\n",
    "    # 공격\n",
    "# 나의 공격이 상대를 즉살할 수 없음\n",
    "    # 상대의 공격이 나를 즉살할 수 있음\n",
    "        # 회복\n",
    "    # 상대의 공격이 나를 즉살할 수 없음\n",
    "        # 공격"
   ]
  },
  {
   "cell_type": "code",
   "execution_count": 6,
   "id": "ccbf9073-7601-49fe-892b-9ac6721482ca",
   "metadata": {
    "tags": []
   },
   "outputs": [],
   "source": [
    "def strategy(my_h, my_a, my_r, op_h, op_a, op_r):\n",
    "    if my_a > op_h:\n",
    "        return True # 공격\n",
    "    else:\n",
    "        if my_h < op_a:\n",
    "            return False # 회복\n",
    "        else:\n",
    "            return True # 공격"
   ]
  },
  {
   "cell_type": "code",
   "execution_count": 21,
   "id": "925e66f2-4466-4a2c-b06b-dcf2a8d5b990",
   "metadata": {
    "tags": []
   },
   "outputs": [
    {
     "data": {
      "text/plain": [
       "'SASUKE'"
      ]
     },
     "execution_count": 21,
     "metadata": {},
     "output_type": "execute_result"
    }
   ],
   "source": [
    "def simulation(X, A, B, Y, C, D):\n",
    "    turns = 0\n",
    "    while turns < 10**100:\n",
    "        turns += 1\n",
    "        #print('나루토 차례')\n",
    "        # 공격\n",
    "        if strategy(X, A, B, Y, C, D):\n",
    "            Y -= A\n",
    "        # 회복\n",
    "        else:\n",
    "            X += B\n",
    "        if Y <= 0:\n",
    "            return 'NARUTO'\n",
    "        turns += 1\n",
    "        # 공격\n",
    "        if strategy(Y, C, D, X, A, B):\n",
    "            X -= C\n",
    "        # 회복\n",
    "        else:\n",
    "            Y += D\n",
    "        if X <= 0:\n",
    "            return 'SASUKE'\n",
    "    return 'DRAW'\n",
    "simulation(10, 10, 10, 20, 10, 10)"
   ]
  },
  {
   "cell_type": "code",
   "execution_count": 49,
   "id": "3d7da3d7-6337-4171-b305-ba37bab178e0",
   "metadata": {
    "tags": []
   },
   "outputs": [
    {
     "name": "stdin",
     "output_type": "stream",
     "text": [
      " 1\n",
      " 100 100\n",
      " 5 3 5 6\n"
     ]
    },
    {
     "name": "stdout",
     "output_type": "stream",
     "text": [
      "나루토 차례\n",
      "공격\n",
      "사스케 차례\n",
      "공격\n",
      "나루토 차례\n",
      "공격\n",
      "사스케 차례\n",
      "공격\n",
      "나루토 차례\n",
      "공격\n",
      "사스케 차례\n",
      "공격\n",
      "나루토 차례\n",
      "공격\n",
      "사스케 차례\n",
      "공격\n",
      "나루토 차례\n",
      "공격\n",
      "사스케 차례\n",
      "공격\n",
      "나루토 차례\n",
      "공격\n",
      "사스케 차례\n",
      "공격\n",
      "나루토 차례\n",
      "공격\n",
      "사스케 차례\n",
      "공격\n",
      "나루토 차례\n",
      "공격\n",
      "사스케 차례\n",
      "공격\n",
      "나루토 차례\n",
      "공격\n",
      "사스케 차례\n",
      "공격\n",
      "나루토 차례\n",
      "공격\n",
      "사스케 차례\n",
      "공격\n",
      "나루토 차례\n",
      "공격\n",
      "사스케 차례\n",
      "공격\n",
      "나루토 차례\n",
      "공격\n",
      "사스케 차례\n",
      "공격\n",
      "나루토 차례\n",
      "공격\n",
      "사스케 차례\n",
      "공격\n",
      "나루토 차례\n",
      "공격\n",
      "사스케 차례\n",
      "공격\n",
      "나루토 차례\n",
      "공격\n",
      "사스케 차례\n",
      "공격\n",
      "나루토 차례\n",
      "공격\n",
      "사스케 차례\n",
      "공격\n",
      "나루토 차례\n",
      "공격\n",
      "사스케 차례\n",
      "공격\n",
      "나루토 차례\n",
      "공격\n",
      "사스케 차례\n",
      "공격\n",
      "나루토 차례\n",
      "공격\n",
      "사스케 차례\n",
      "공격\n",
      "나루토 차례\n",
      "공격\n",
      "NARUTO\n"
     ]
    }
   ],
   "source": [
    "def strategy(my_h, my_a, my_r, op_h, op_a, op_r):\n",
    "    if my_a > op_h:\n",
    "        return True # 공격\n",
    "    else:\n",
    "        if my_h < op_a:\n",
    "            return False # 회복\n",
    "        else:\n",
    "            return True # 공격\n",
    "\n",
    "def simulation(X, A, B, Y, C, D):\n",
    "    turns = 0\n",
    "    while turns < 10**100:\n",
    "        turns += 1\n",
    "        print('나루토 차례')\n",
    "        # 공격\n",
    "        \n",
    "        if strategy(X, A, B, Y, C, D): \n",
    "            print('공격')\n",
    "            Y -= A\n",
    "        # 회복\n",
    "        else: X += B\n",
    "        if Y <= 0: return 'NARUTO'\n",
    "        turns += 1\n",
    "        print('사스케 차례')\n",
    "        # 공격\n",
    "        if strategy(Y, C, D, X, A, B): \n",
    "            X -= C\n",
    "            print('공격')\n",
    "        # 회복\n",
    "        else:\n",
    "            print('회복')\n",
    "            Y += D\n",
    "        if X <= 0: return 'SASUKE'\n",
    "    return 'DRAW'\n",
    "\n",
    "for _ in range(int(input())):\n",
    "    X, Y = [int(x) for x in input().split()]\n",
    "    A,B,C,D = [int(x) for x in input().split()]\n",
    "    print(simulation(X, A, B, Y, C, D))"
   ]
  },
  {
   "cell_type": "code",
   "execution_count": 9,
   "id": "bf55e2bd-a26c-4d02-afa9-dde3d14073d7",
   "metadata": {
    "tags": []
   },
   "outputs": [
    {
     "name": "stdin",
     "output_type": "stream",
     "text": [
      " 1\n",
      " 100 100\n",
      " 10 1 2 1\n"
     ]
    },
    {
     "name": "stdout",
     "output_type": "stream",
     "text": [
      "NARUTO\n"
     ]
    }
   ],
   "source": [
    "##### 대체 결정 분기를 뭐로 잡아야할지...\n",
    "def resolution(Nh, Na, Nr, Sh, Sa, Sr):\n",
    "    # 즉살 가능?\n",
    "    if Sh <= Na: \n",
    "        return 'NARUTO'\n",
    "    if Sh + Nr <= Na:\n",
    "        return 'SASUKE'\n",
    "    # 둘 다 즉살은 안되는 경우\n",
    "    if Nr >= Sa: # 나루토의 회복력이 사스케의 공격력보다 큰 경우\n",
    "        if Sr >= Na: # 사스케의 회복력이 나루토의 공력력보다 크거나 같다면 => 사스케는 나루토의 공격을 상쇄 가능\n",
    "            return 'DRAW'\n",
    "        else:\n",
    "            return 'NARUTO'\n",
    "    else: # 나루토의 회복력이 사스케의 공격력보다 작은 경우\n",
    "        if Sr >= Na: # 사스케의 회복력이 나루토의 공격력보다 크거나 같다면 => 사스케는 나루토의 공격을 상쇄 가능 \n",
    "            return 'SASUKE'\n",
    "        else: # 사스케의 회복력이 나루토의 공격력보다 작다면\n",
    "            if Sh//Na + 1 > Nh//Sa: # 나루토 선공\n",
    "                return 'SASUKE'\n",
    "            else:\n",
    "                return 'NARUTO'\n",
    "    \n",
    "for _ in range(int(input())):\n",
    "    X, Y = [int(x) for x in input().split()]\n",
    "    A,B,C,D = [int(x) for x in input().split()]\n",
    "    print(resolution(X, A, B, Y, C, D))         "
   ]
  },
  {
   "cell_type": "code",
   "execution_count": 10,
   "id": "11c60b67-7a53-423f-a321-bdaec1d1178d",
   "metadata": {},
   "outputs": [],
   "source": [
    "# 틀림"
   ]
  },
  {
   "cell_type": "code",
   "execution_count": 62,
   "id": "7e12bf38-5216-40f0-b176-a485f9999671",
   "metadata": {
    "tags": []
   },
   "outputs": [
    {
     "name": "stdin",
     "output_type": "stream",
     "text": [
      " 1\n",
      " 10 10\n",
      " 2 2 3 2\n"
     ]
    },
    {
     "name": "stdout",
     "output_type": "stream",
     "text": [
      "DRAW\n"
     ]
    }
   ],
   "source": [
    "def resolution(Nh, Na, Nr, Sh, Sa, Sr):\n",
    "    # 즉살 가능?\n",
    "    if Sh <= Na: \n",
    "        return 'NARUTO'\n",
    "    if Nh + Nr <= Sa:\n",
    "        return 'SASUKE'\n",
    "    # 즉살 불가능\n",
    "    if Nr >= Sa:\n",
    "        if Sr >= Na:\n",
    "            return 'DRAW'\n",
    "        else: # Sr < Na\n",
    "            return 'NARUTO'\n",
    "    else: # Nr < Sa\n",
    "        if Sr > Na:\n",
    "            return 'SASUKE'\n",
    "        elif Sr == Na:\n",
    "            return 'DRAW'\n",
    "        else: # Sr < Na\n",
    "            if Sh//Na + 1 <= Nh//Sa + 1: # 나루토 선공\n",
    "                return 'NARUTO'\n",
    "            else:\n",
    "                return 'SASUKE'\n",
    "            \n",
    "for _ in range(int(input())):\n",
    "    X, Y = [int(x) for x in input().split()]\n",
    "    A,B,C,D = [int(x) for x in input().split()]\n",
    "    print(resolution(X, A, B, Y, C, D))   "
   ]
  },
  {
   "cell_type": "code",
   "execution_count": 14,
   "id": "0675bfd3-020a-4168-9d44-26d61a1b8983",
   "metadata": {
    "tags": []
   },
   "outputs": [],
   "source": [
    "# 이상한 거 고쳤는데 또 틀림 ..."
   ]
  },
  {
   "cell_type": "code",
   "execution_count": 52,
   "id": "3d471545-6ed6-484c-b228-1652dccfa9dc",
   "metadata": {
    "tags": []
   },
   "outputs": [],
   "source": [
    "# 안되겠다 테스트케이스 비교 !\n",
    "TCs = []\n",
    "for i in range(10):\n",
    "    TC[0] = i\n",
    "    for j in range(10):\n",
    "        TC[1] = j\n",
    "        for k in range(10):\n",
    "            TC[2] = k\n",
    "            for a in range(10):\n",
    "                TC[3] = a\n",
    "                for b in range(10):\n",
    "                    TC[4] = b\n",
    "                    for c in range(10):\n",
    "                        TC[5] = c\n",
    "                        TCs.append([i,j,k,a,b,c])"
   ]
  },
  {
   "cell_type": "code",
   "execution_count": 65,
   "id": "0cd23b7f-7514-45ca-9574-f662d109f434",
   "metadata": {
    "tags": []
   },
   "outputs": [
    {
     "name": "stdin",
     "output_type": "stream",
     "text": [
      " 1\n",
      " 100 10\n",
      " 1 100 200 10\n"
     ]
    },
    {
     "name": "stdout",
     "output_type": "stream",
     "text": [
      "SASUKE\n"
     ]
    }
   ],
   "source": [
    "def resolution(Nh, Na, Nr, Sh, Sa, Sr):\n",
    "    # 즉살 가능?\n",
    "    if Sh <= Na: \n",
    "        return 'NARUTO'\n",
    "    elif Nh + Nr <= Sa:\n",
    "        return 'SASUKE'\n",
    "    # 즉살 불가능\n",
    "    if Nr > Sa:\n",
    "        if Sr > Na:\n",
    "            return 'DRAW'\n",
    "        elif Sr == Na:\n",
    "            return 'DRAW'\n",
    "        else: # Sr < Na\n",
    "            return 'NARUTO'\n",
    "    elif Nr == Sa: \n",
    "        if Sr > Na:\n",
    "            return 'DRAW'\n",
    "        elif Sr == Na:\n",
    "            return 'DRAW'\n",
    "        else: # Sr < Na\n",
    "            return 'NARUTO'\n",
    "    else: # Nr < Sa\n",
    "        if Sr > Na:\n",
    "            return 'SASUKE'\n",
    "        elif Sr == Na:\n",
    "            return 'DRAW'\n",
    "        else: # Sr < Na\n",
    "            if Sh//Na <= Nh//Sa: # 나루토 선공\n",
    "                return 'NARUTO'\n",
    "            else:\n",
    "                return 'SASUKE'\n",
    "            \n",
    "for _ in range(int(input())):\n",
    "    X, Y = [int(x) for x in input().split()]\n",
    "    A,B,C,D = [int(x) for x in input().split()]\n",
    "    print(resolution(X, A, B, Y, C, D))   "
   ]
  },
  {
   "cell_type": "code",
   "execution_count": null,
   "id": "2f5af265-8383-46cb-b02d-ce9154ec2532",
   "metadata": {},
   "outputs": [],
   "source": []
  }
 ],
 "metadata": {
  "kernelspec": {
   "display_name": "Python 3 (ipykernel)",
   "language": "python",
   "name": "python3"
  },
  "language_info": {
   "codemirror_mode": {
    "name": "ipython",
    "version": 3
   },
   "file_extension": ".py",
   "mimetype": "text/x-python",
   "name": "python",
   "nbconvert_exporter": "python",
   "pygments_lexer": "ipython3",
   "version": "3.11.5"
  }
 },
 "nbformat": 4,
 "nbformat_minor": 5
}
