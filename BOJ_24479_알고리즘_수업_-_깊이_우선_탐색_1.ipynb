{
 "cells": [
  {
   "cell_type": "markdown",
   "id": "bc4de81a-f19f-46c1-85fb-e240827646f8",
   "metadata": {},
   "source": [
    "# BOJ. 24479. 알고리즘 수업 - 깊이 우선 탐색 1\n",
    "https://www.acmicpc.net/problem/24479"
   ]
  },
  {
   "cell_type": "code",
   "execution_count": 27,
   "id": "52707bf0-b23d-4dc9-a31d-2042831f7989",
   "metadata": {
    "tags": []
   },
   "outputs": [
    {
     "name": "stdin",
     "output_type": "stream",
     "text": [
      " 4 4 1\n",
      " 1 2\n",
      " 1 3\n",
      " 1 4\n",
      " 2 4\n"
     ]
    }
   ],
   "source": [
    "# 입력처리\n",
    "# 정점수 간선수 시작정점\n",
    "N, M, R = [int(x) for x in input().split()]\n",
    "# 인접 리스트\n",
    "from collections import defaultdict\n",
    "adj_list = defaultdict(list)\n",
    "for _ in range(M):\n",
    "    u, v = [int(x) for x in input().split()]\n",
    "    adj_list[u].append(v)\n",
    "    adj_list[v].append(u)"
   ]
  },
  {
   "cell_type": "code",
   "execution_count": 33,
   "id": "587ff657-2dc4-49d3-aeaa-9eeccb8d6516",
   "metadata": {
    "tags": []
   },
   "outputs": [
    {
     "data": {
      "text/plain": [
       "defaultdict(list, {1: [2, 3, 4], 2: [1, 4], 3: [1], 4: [1, 2]})"
      ]
     },
     "execution_count": 33,
     "metadata": {},
     "output_type": "execute_result"
    }
   ],
   "source": [
    "# 오름차순으로 방문 -> 큰거 거 먼저 스택에 들어감\n",
    "for key in adj_list.keys():\n",
    "    adj_list[key].sort()\n",
    "adj_list"
   ]
  },
  {
   "cell_type": "code",
   "execution_count": 55,
   "id": "330b14f8-29c5-414a-ac20-e139efc6e224",
   "metadata": {
    "tags": []
   },
   "outputs": [
    {
     "name": "stdout",
     "output_type": "stream",
     "text": [
      "1\n",
      "2\n",
      "4\n",
      "3\n"
     ]
    }
   ],
   "source": [
    "visited = [0 for _ in range(N+1)]\n",
    "count = [1]\n",
    "\n",
    "def dfs(now_node):\n",
    "    visited[now_node] = count[0]\n",
    "    count[0] += 1\n",
    "    for adj_node in adj_list[now_node]:\n",
    "        if visited[adj_node] == 0:\n",
    "            dfs(adj_node)\n",
    "            \n",
    "dfs(R)\n",
    "\n",
    "for order in visited[1:]:\n",
    "    print(order)"
   ]
  },
  {
   "cell_type": "code",
   "execution_count": 58,
   "id": "5e60db80-2c57-4d4f-9c02-c94afff08e25",
   "metadata": {},
   "outputs": [
    {
     "name": "stdin",
     "output_type": "stream",
     "text": [
      " 5 5 1\n",
      " 1 4\n",
      " 1 2\n",
      " 2 3\n",
      " 2 4\n",
      " 3 4\n"
     ]
    },
    {
     "name": "stdout",
     "output_type": "stream",
     "text": [
      "1\n",
      "2\n",
      "3\n",
      "4\n",
      "0\n"
     ]
    }
   ],
   "source": [
    "# 통합\n",
    "\n",
    "# 입력처리\n",
    "# 정점수 간선수 시작정점\n",
    "N, M, R = [int(x) for x in input().split()]\n",
    "# 인접 리스트\n",
    "from collections import defaultdict\n",
    "adj_list = defaultdict(list)\n",
    "for _ in range(M):\n",
    "    u, v = [int(x) for x in input().split()]\n",
    "    adj_list[u].append(v)\n",
    "    adj_list[v].append(u)\n",
    "    \n",
    "# 오름차순으로 방문 -> 큰거 거 먼저 스택에 들어감\n",
    "for key in adj_list.keys():\n",
    "    adj_list[key].sort()\n",
    "\n",
    "# Recursion Error 해결 -> sys.setrecursionlimit(150000)\n",
    "import sys\n",
    "sys.setrecursionlimit(150000)\n",
    "    \n",
    "# DFS\n",
    "visited = [0 for _ in range(N+1)]\n",
    "count = [1]\n",
    "\n",
    "def dfs(now_node):\n",
    "    visited[now_node] = count[0]\n",
    "    count[0] += 1\n",
    "    for adj_node in adj_list[now_node]:\n",
    "        if visited[adj_node] == 0:\n",
    "            dfs(adj_node)\n",
    "            \n",
    "dfs(R)\n",
    "\n",
    "for order in visited[1:]:\n",
    "    print(order)"
   ]
  },
  {
   "cell_type": "markdown",
   "id": "6719e1ed-13dd-4659-aeb3-0800f7047c15",
   "metadata": {},
   "source": [
    "# STACK"
   ]
  },
  {
   "cell_type": "code",
   "execution_count": 62,
   "id": "b9d68b3e-33fb-4e42-bdff-87c94419539b",
   "metadata": {
    "tags": []
   },
   "outputs": [
    {
     "name": "stdin",
     "output_type": "stream",
     "text": [
      " 4 4 1\n",
      " 1 2\n",
      " 1 3\n",
      " 1 4\n",
      " 2 4\n"
     ]
    }
   ],
   "source": [
    "# 입력처리\n",
    "# 정점수 간선수 시작정점\n",
    "N, M, R = [int(x) for x in input().split()]\n",
    "# 인접 리스트\n",
    "from collections import defaultdict\n",
    "adj_list = defaultdict(list)\n",
    "for _ in range(M):\n",
    "    u, v = [int(x) for x in input().split()]\n",
    "    adj_list[u].append(v)\n",
    "    adj_list[v].append(u)"
   ]
  },
  {
   "cell_type": "code",
   "execution_count": 69,
   "id": "3edda180-c90e-433b-a872-5bbfe164264a",
   "metadata": {
    "tags": []
   },
   "outputs": [
    {
     "data": {
      "text/plain": [
       "defaultdict(list, {1: [4, 3, 2], 2: [4, 1], 3: [1], 4: [2, 1]})"
      ]
     },
     "execution_count": 69,
     "metadata": {},
     "output_type": "execute_result"
    }
   ],
   "source": [
    "for key in adj_list.keys():\n",
    "    adj_list[key].sort(reverse = True)\n",
    "adj_list"
   ]
  },
  {
   "cell_type": "code",
   "execution_count": 95,
   "id": "4cb28e8d-4af2-413e-9efe-bcdac161665f",
   "metadata": {
    "tags": []
   },
   "outputs": [
    {
     "name": "stdout",
     "output_type": "stream",
     "text": [
      "1\n",
      "2\n",
      "4\n",
      "3\n"
     ]
    }
   ],
   "source": [
    "visited = [0 for _ in range(N+1)]\n",
    "\n",
    "stack = []\n",
    "stack.append(R)\n",
    "\n",
    "count = 1\n",
    "while stack:\n",
    "    now_node = stack.pop()\n",
    "    if visited[now_node] == 0:\n",
    "        visited[now_node] = count # 방문 순서 표시\n",
    "        count += 1 \n",
    "        for adj_node in adj_list[now_node]: # 주변 노드에 대해\n",
    "            stack.append(adj_node)\n",
    "for order in visited[1:]:\n",
    "    print(order)"
   ]
  },
  {
   "cell_type": "code",
   "execution_count": 93,
   "id": "abcbd071-b74e-4f8e-b7c3-60f271dfbd3e",
   "metadata": {
    "tags": []
   },
   "outputs": [
    {
     "data": {
      "text/plain": [
       "[0, 1, 2, 4, 3]"
      ]
     },
     "execution_count": 93,
     "metadata": {},
     "output_type": "execute_result"
    }
   ],
   "source": [
    "# 통합\n",
    "\n",
    "# 입력처리\n",
    "# 정점수 간선수 시작정점\n",
    "N, M, R = [int(x) for x in input().split()]\n",
    "# 인접 리스트\n",
    "from collections import defaultdict\n",
    "adj_list = defaultdict(list)\n",
    "for _ in range(M):\n",
    "    u, v = [int(x) for x in input().split()]\n",
    "    adj_list[u].append(v)\n",
    "    adj_list[v].append(u)\n",
    "    \n",
    "for key in adj_list.keys():\n",
    "    adj_list[key].sort(reverse = True)\n",
    "    \n",
    "    \n",
    "visited = [0 for _ in range(N+1)]\n",
    "\n",
    "stack = []\n",
    "stack.append(R)\n",
    "\n",
    "count = 1\n",
    "while stack:\n",
    "    now_node = stack.pop()\n",
    "    if visited[now_node] == 0:\n",
    "        visited[now_node] = count # 방문 순서 표시\n",
    "        count += 1 \n",
    "        for adj_node in adj_list[now_node]: # 주변 노드에 대해\n",
    "            stack.append(adj_node)\n",
    "for order in visited[1:]:\n",
    "    print(order)"
   ]
  },
  {
   "cell_type": "markdown",
   "id": "93b10409-0673-47a6-aac5-01bb2f4f586f",
   "metadata": {},
   "source": [
    "# 중요!\n",
    "## 재귀 DFS와 재"
   ]
  }
 ],
 "metadata": {
  "kernelspec": {
   "display_name": "Python 3 (ipykernel)",
   "language": "python",
   "name": "python3"
  },
  "language_info": {
   "codemirror_mode": {
    "name": "ipython",
    "version": 3
   },
   "file_extension": ".py",
   "mimetype": "text/x-python",
   "name": "python",
   "nbconvert_exporter": "python",
   "pygments_lexer": "ipython3",
   "version": "3.11.5"
  }
 },
 "nbformat": 4,
 "nbformat_minor": 5
}
