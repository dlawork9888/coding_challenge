{
 "cells": [
  {
   "cell_type": "markdown",
   "id": "0500f3c3-1839-4f2d-b9d3-adbdbdc5e24f",
   "metadata": {},
   "source": [
    "# Programmers 고득점 Kit"
   ]
  },
  {
   "cell_type": "markdown",
   "id": "ffe94dca-9f2c-4578-bee2-b7fb404ce6a1",
   "metadata": {},
   "source": [
    "## DP"
   ]
  },
  {
   "cell_type": "markdown",
   "id": "9aaa04a0-d54d-417a-a5fc-bc2abf1c4ff4",
   "metadata": {},
   "source": [
    "### 정수 삼각형"
   ]
  },
  {
   "cell_type": "markdown",
   "id": "4538b06f-5128-40f2-8002-608995e04555",
   "metadata": {},
   "source": [
    "##### https://school.programmers.co.kr/learn/courses/30/lessons/43105?language=python3"
   ]
  },
  {
   "cell_type": "raw",
   "id": "d9f67cb4-c4b2-4a91-af0e-43f78090fe2e",
   "metadata": {},
   "source": [
    "# Bottom-Up\n",
    "# dp => sum_table\n",
    "\n",
    "sum_table = triangle의 마지막 원소\n",
    "밑에서 두번째 라인부터 접근해서 첫 라인까지\n",
    "    새로운 sum_table 정의\n",
    "    지금 라인의 각 원소에 대해\n",
    "        왼자식이 더 크면, 각 원소 + 왼자식을 새로운 sum_table에 추가\n",
    "        오른자식이 더 크면, 각 원소 + 오른 자식을 새로운 sum_table에 추가\n",
    "    sum_table = 새로운 sum_table\n",
    "    "
   ]
  },
  {
   "cell_type": "code",
   "execution_count": 17,
   "id": "89748989-da51-41bf-8eaa-ebe68aab9e24",
   "metadata": {},
   "outputs": [],
   "source": [
    "triangle = [[7]]\n",
    "\n",
    "def solution(triangle):\n",
    "    \n",
    "    sum_table = triangle[-1]\n",
    "    print(f'현재 sum_table : {sum_table}')\n",
    "    \n",
    "    i = len(triangle) - 2 #밑에서 두번째라인부터 접근\n",
    "    \n",
    "    while i > -1:\n",
    "        print(f'현재 i : {i}')\n",
    "        new_sum_table = []\n",
    "        now_line = triangle[i] \n",
    "        j = 0\n",
    "        while j < len(now_line):\n",
    "            print(f'현재 j : {j}')\n",
    "            print(f'sum_table : {sum_table}')\n",
    "            if sum_table[j] > sum_table[j+1]:\n",
    "                new_sum_table.append(now_line[j] + sum_table[j])\n",
    "            else:\n",
    "                new_sum_table.append(now_line[j] + sum_table[j+1])\n",
    "            j += 1\n",
    "        sum_table = new_sum_table\n",
    "        i -= 1\n",
    "    \n",
    "    answer = sum_table[0]\n",
    "    \n",
    "    return answer"
   ]
  },
  {
   "cell_type": "code",
   "execution_count": 18,
   "id": "62575809-5bfd-4eb0-a854-8c3f2e93abcb",
   "metadata": {},
   "outputs": [
    {
     "name": "stdout",
     "output_type": "stream",
     "text": [
      "현재 sum_table : [7]\n"
     ]
    },
    {
     "data": {
      "text/plain": [
       "7"
      ]
     },
     "execution_count": 18,
     "metadata": {},
     "output_type": "execute_result"
    }
   ],
   "source": [
    "solution(triangle)"
   ]
  },
  {
   "cell_type": "markdown",
   "id": "10b85074-abde-4939-90f9-0aa0cd0946f4",
   "metadata": {},
   "source": [
    "### 출력 크기 초과"
   ]
  },
  {
   "cell_type": "raw",
   "id": "37a9753b-0130-4367-a45d-a3f32d9a18a0",
   "metadata": {},
   "source": [
    "# 다시 한번 \n",
    "\n",
    "dp = 가장 아래 라인\n",
    "가장 하단 라인 바로 위 라인부터 접근\n",
    "    각 라인의 j번째 원소에 대해\n",
    "        dp에서 j번째 원소와 j+1번째 원소를 비교하여 큰 걸 지금 원소에 더한다\n",
    "    dp = 지금 라인"
   ]
  },
  {
   "cell_type": "code",
   "execution_count": 19,
   "id": "ae01b430-b51c-4075-9bd9-9ff300066289",
   "metadata": {},
   "outputs": [
    {
     "data": {
      "text/plain": [
       "30"
      ]
     },
     "execution_count": 19,
     "metadata": {},
     "output_type": "execute_result"
    }
   ],
   "source": [
    "triangle = [[7], [3, 8], [8, 1, 0], [2, 7, 4, 4], [4, 5, 2, 6, 5]]\n",
    "\n",
    "def solution(triangle):\n",
    "    \n",
    "    dp = triangle[-1]\n",
    "    \n",
    "    for i in range(len(triangle) - 2, -1, -1):\n",
    "        line = triangle[i]\n",
    "        #print(f'현재 라인은 index {i} 라인')\n",
    "        #print(f'dp : {dp}')\n",
    "        for j in range(len(line)):\n",
    "            if dp[j] > dp[j+1]:\n",
    "                line[j] += dp[j]\n",
    "            else:\n",
    "                line[j] += dp[j+1]\n",
    "        dp = line\n",
    "        \n",
    "    return dp[0]\n",
    "    \n",
    "solution(triangle)"
   ]
  },
  {
   "cell_type": "code",
   "execution_count": 20,
   "id": "bc1e54a8-d076-4e77-9a29-27fc309ff18c",
   "metadata": {},
   "outputs": [
    {
     "data": {
      "text/plain": [
       "[10, 9, 8, 7, 6, 5, 4, 3, 2, 1]"
      ]
     },
     "execution_count": 20,
     "metadata": {},
     "output_type": "execute_result"
    }
   ],
   "source": [
    "list(range(10,0,-1))"
   ]
  },
  {
   "cell_type": "markdown",
   "id": "bfce7771-8df8-474d-8b56-fde8f483d9b6",
   "metadata": {},
   "source": [
    "### 불필요한 메모리 낭비를 줄이자!"
   ]
  },
  {
   "cell_type": "markdown",
   "id": "b09e1a6f-7639-458b-8d31-66473bf67f60",
   "metadata": {},
   "source": [
    "### N으로 표현"
   ]
  },
  {
   "cell_type": "markdown",
   "id": "a223824a-d4ff-482d-babc-485bec91d751",
   "metadata": {},
   "source": [
    "##### https://school.programmers.co.kr/learn/courses/30/lessons/42895?language=python"
   ]
  },
  {
   "cell_type": "raw",
   "id": "69c364a1-60cf-4bff-9ce9-27a2cfd07cfb",
   "metadata": {},
   "source": [
    "# 어떻게 풀어야할지 감이 안잡히네\n",
    "# 검색 결과\n",
    "    ex) 5를 4번 사용해서 만들 수 있는 수들 \n",
    "        => 3번 사용 결과 (연산) 1번 사용 결과\n",
    "        => 2번 사용 결과 (연산) 2번 사용 결과\n",
    "        => 1번 사용 결과 (연산) 3번 사용 결과\n",
    "        \n",
    "    이때, 3번 사용 결과 = 1번 사용 결과 (연산) 2번 사용 결과\n",
    "                        = 2번 사용 결과 (연산) 1번 사용 결과\n",
    "    이때, 2번 사용 결과 = 1번 사용 결과 (연산) 1번 사용 결과\n",
    "    \n",
    "    => 피보나치 수열과 유사\n",
    "    => 8번 반복 중에서 \n",
    "    => index 0:  1번 사용한 결과를 가져오면 되고\n",
    "    => index 1 : 2번 사용한 결과는 1번사용결과 (연산) 1번사용결과\n",
    "    => index 2 : 3번 사용한 결과는 1번 사용결과 (연산) 2번 사용결과\n",
    "    => 사용 결과 쌍이 필요할듯 (1,2), (2,1)\n",
    "결과 = [[]]  "
   ]
  },
  {
   "cell_type": "code",
   "execution_count": 48,
   "id": "1c755129-992a-42d5-b1a8-0f31251bd1b1",
   "metadata": {},
   "outputs": [
    {
     "data": {
      "text/plain": [
       "1"
      ]
     },
     "execution_count": 48,
     "metadata": {},
     "output_type": "execute_result"
    }
   ],
   "source": [
    "def solution(N, number):\n",
    "    n = N\n",
    "    # node = (현재 계산된 결과, 계산 횟수)\n",
    "    # 한번 사용한 결과는 저장해놓자\n",
    "    results = [[],[n],[n*11],[n*111],[n*1111],[n*11111], [n*111111], [n*1111111], [n*11111111]]\n",
    "    #print(f'최초 results : {results}')\n",
    "    \n",
    "    # 2번 사용한 결과부터 계산하므로 1번 사용한 계산 결과에 N이 있는지는 테스트할 수 없다\n",
    "    # N이 1번 사용한 결과가 되려면, N = number, 즉 주어진 수가 만들고자하는 결과값이 되는 경우다\n",
    "    if n == number:\n",
    "        return 1\n",
    "    \n",
    "    for i in range(2,9): #i번 사용한 결과, 2번 사용한 결과부터 계산\n",
    "        #print(f'{i}번 사용한 결과 계산')\n",
    "        i_list = results[i] # i번 사용한 결과들\n",
    "        # 사용 결과 쌍 만들기\n",
    "        pairs = []\n",
    "        for j in range(1,i):\n",
    "            pair = (j,i - j)\n",
    "            pairs.append(pair)\n",
    "        pairs = sorted(list(set(pairs)))\n",
    "        #print(f'pairs : {pairs}')\n",
    "        for pair in pairs:\n",
    "            fronts = results[pair[0]]\n",
    "            backs = results[pair[1]]\n",
    "            \n",
    "            for front in fronts:\n",
    "                for back in backs:\n",
    "                    i_list.append(front + back)\n",
    "                    i_list.append(front - back)\n",
    "                    i_list.append(front * back)\n",
    "                    if back != 0:\n",
    "                        i_list.append(front // back)\n",
    "            if number in i_list:\n",
    "                return i\n",
    "    return -1\n",
    "        \n",
    "solution(7, 7)"
   ]
  },
  {
   "cell_type": "markdown",
   "id": "a146b6c7-897b-4872-8a43-3afb3cfb0323",
   "metadata": {},
   "source": [
    "### DP에서 중요한 문제인듯... 이거 중요! 계산된 결과를 저장해 불필요한 연산을 줄인다는 개념을 숙지하도록하자"
   ]
  },
  {
   "cell_type": "markdown",
   "id": "d11d5c7a-3fc3-45b7-9032-02697682087e",
   "metadata": {},
   "source": [
    "### 사칙연산 "
   ]
  },
  {
   "cell_type": "markdown",
   "id": "da228e20-bb61-4a1a-b03f-c945cdc903ae",
   "metadata": {},
   "source": [
    "##### https://school.programmers.co.kr/learn/courses/30/lessons/1843?language=python3"
   ]
  },
  {
   "cell_type": "raw",
   "id": "7f34a342-a47e-4403-82ae-610234e0ad9c",
   "metadata": {},
   "source": [
    "# 내가 풀려는 방식이 DP인지는 모르겠으나, 한번 풀어보도록 하자\n",
    "\n",
    "# 입력처리\n",
    "주어진 arr의 원소에 대하여\n",
    "    nums = []\n",
    "    ops = []\n",
    "    원소가 '+' 혹은 '-'이면, ops에\n",
    "    숫자면, nums에 append\n",
    "    \n",
    "cal_list = permutations(range(len(ops))) => [(0,1,2),(1,2,0), ... ]\n",
    "이때, (1,2,0)의 순서대로 계산해야하는데... 인덱스로 접근하자\n",
    "\n",
    "# 생각하다가 DP로도 할 수 있겠다 싶다\n",
    "# 연산자 = 계산 횟수\n",
    "# 1 + 2 - 3 + 4 일때,\n",
    "# 0번 계산한 결과 => [1, 2, 3, 4] [+, -, +]\n",
    "\n",
    "# 3 - 3 + 4 , [+, -, +]\n",
    "# \n",
    "\n",
    "# 3개일때를 예시로\n",
    "# 1 - 2 + 3\n",
    "# (0,1)\n",
    "\n",
    "# 아 시바ㅣㄹ 그냥 해보자\n",
    "\n",
    "[1,2,3,4]\n",
    "[+,-,+]\n",
    "(1,0,2)\n",
    "\n",
    "1. [1,0,2]에서 가장 작은 수의 인덱스를 찾기 : 1\n",
    "2. [1,2,3,4]에서 index 1 index 2 찾아서 계산하기\n",
    "3. index 1 index 2 지우기\n",
    "4. index 1 자리에 계산 결과 넣기 => [1, -1, 4]\n",
    "5. [1,0,2]에서 index 1 지우기 => [1,2]\n",
    "6. [+,-,+]에서 index 1 지우기 => [+,+]\n",
    "7. 반복\n"
   ]
  },
  {
   "cell_type": "code",
   "execution_count": 2,
   "id": "9f2927e3-9add-41b0-9b10-7926f47d76d9",
   "metadata": {},
   "outputs": [
    {
     "ename": "ImportError",
     "evalue": "cannot import name 'permutation' from 'itertools' (unknown location)",
     "output_type": "error",
     "traceback": [
      "\u001b[1;31m---------------------------------------------------------------------------\u001b[0m",
      "\u001b[1;31mImportError\u001b[0m                               Traceback (most recent call last)",
      "Cell \u001b[1;32mIn[2], line 1\u001b[0m\n\u001b[1;32m----> 1\u001b[0m \u001b[38;5;28;01mfrom\u001b[39;00m \u001b[38;5;21;01mitertools\u001b[39;00m \u001b[38;5;28;01mimport\u001b[39;00m permutation\n\u001b[0;32m      2\u001b[0m \u001b[38;5;28;01mimport\u001b[39;00m \u001b[38;5;21;01mmath\u001b[39;00m \n\u001b[0;32m      4\u001b[0m \u001b[38;5;28;01mdef\u001b[39;00m \u001b[38;5;21minput_process\u001b[39m(arr):\n",
      "\u001b[1;31mImportError\u001b[0m: cannot import name 'permutation' from 'itertools' (unknown location)"
     ]
    }
   ],
   "source": [
    "from itertools import permutation\n",
    "import math \n",
    "\n",
    "def input_process(arr):\n",
    "    nums = []\n",
    "    ops = []\n",
    "    for element in arr:\n",
    "        if element == '-' or element == '+':\n",
    "            nums.append(int(element))\n",
    "            ops.append(element)\n",
    "            \n",
    "    return nums, ops\n",
    "# ([1,2,3],['+','-'])의 형태로 반환\n",
    "\n",
    "def solution(arr):\n",
    "    results = []\n",
    "    # 연산 순서 계산\n",
    "    nums, ops = input_process(arr)\n",
    "    ops_count = len(ops)\n",
    "    cal_orders = permutation(range(len(ops)))\n",
    "    for cal_order in cal_orders:\n",
    "        cal_order = list(cal_order) #[1,0,2]\n",
    "        now_cal_index = cal_order.index(min(cal_order))\n",
    "        \n",
    "        now_nums = nums[:]\n",
    "        now_ops = ops[:]\n",
    "        part_result = math.ind \n",
    "        if now_ops[now_cal_index] == '+':\n",
    "            part_result = now_nums[now_cal_index] + now_nums[now_cal_index]\n",
    "        else:\n",
    "            part_result = now_nums[now_cal_index] + now_nums[now_cal_index]\n",
    "#이거 말고 진짜 생각남. 이거 아닌것같음"
   ]
  },
  {
   "cell_type": "raw",
   "id": "032fa0de-c969-4f79-95b3-e09ad88c0357",
   "metadata": {},
   "source": [
    "예시) 0 1 2 3 4의 계산값을 알려면,\n",
    "    0 / 1 2 3 4\n",
    "    0 1 / 2 3 4\n",
    "    0 1 2 / 3 4\n",
    "    0 1 2 3 / 4    의 계산값을 알아야하고\n",
    "    \n",
    "    여기서 또 1 2 3 4의 계산값을 알기위해선\n",
    "    \n",
    "        1 / 2 3 4 \n",
    "        1 2 / 3 4\n",
    "        1 2 3 / 4    의 계산값을 알아야 하고\n",
    "        \n",
    "        여기서 또 2 3 4의 계산값을 알기위해선\n",
    "            \n",
    "            2 / 3 4\n",
    "            2 3 / 4 의 계산값을 알아야하고 ....\n",
    "            "
   ]
  },
  {
   "cell_type": "code",
   "execution_count": 1,
   "id": "784b7dc0-be4d-471f-972d-1aaf39e390c2",
   "metadata": {},
   "outputs": [
    {
     "data": {
      "text/plain": [
       "1"
      ]
     },
     "execution_count": 1,
     "metadata": {},
     "output_type": "execute_result"
    }
   ],
   "source": [
    "import math\n",
    "def input_process(arr):\n",
    "    nums = []\n",
    "    ops = []\n",
    "    for element in arr:\n",
    "        if element == '-' or element == '+':\n",
    "            ops.append(element)\n",
    "        else:\n",
    "            nums.append(int(element))\n",
    "    return nums, ops\n",
    "\n",
    "\n",
    "def solution(arr):\n",
    "    nums, ops = input_process(arr)\n",
    "    indexes = list(range(len(nums)))\n",
    "    max_dp = [[] for x in range(len(ops) + 1)]\n",
    "    min_dp = [[] for x in range(len(ops) + 1)]\n",
    "    max_dp[0] = nums\n",
    "    min_dp[0] = nums\n",
    "    \n",
    "    for i in range(1, len(ops) + 1):\n",
    "        #print(f'---------i = {i}')\n",
    "        for j in range(0, len(indexes) - i):\n",
    "            temp = [x for x in range(j,j+i+1)]\n",
    "            #print(f'지금 계산하려는 => {temp}')\n",
    "            minimum = math.inf\n",
    "            maximum = -1*math.inf\n",
    "            for k in range(len(temp) - 1):\n",
    "                front = temp[0:k+1]\n",
    "                back = temp[k+1:]\n",
    "                #print(f'front : {front}\\nback  : {back}')\n",
    "                if ops[front[-1]] == '+':\n",
    "                    temp2 = max_dp[len(front)-1][front[0]] + max_dp[len(back)-1][back[0]]\n",
    "                    if temp2 < minimum:\n",
    "                        minimum = temp2\n",
    "                    if temp2 > maximum:\n",
    "                        maximum = temp2\n",
    "                else:\n",
    "                    temp2 = min_dp[len(front)-1][front[0]] - min_dp[len(back)-1][back[0]]\n",
    "                    if temp2 < minimum:\n",
    "                        minimum = temp2\n",
    "                    if temp2 > maximum:\n",
    "                        maximum = temp2\n",
    "            max_dp[i].append(maximum)\n",
    "            min_dp[i].append(minimum)    \n",
    "    return max_dp[-1][0]\n",
    "\n",
    "solution([\"1\", \"-\", \"3\", \"+\", \"5\", \"-\", \"8\"])"
   ]
  },
  {
   "cell_type": "raw",
   "id": "78a415aa-21cd-4ba7-b23f-530085c5df0e",
   "metadata": {
    "tags": []
   },
   "source": [
    "너무나 어려웠다. max_dp, min_dp를 따로 구분해서 해줘야하고, 각각을 위한 접근에서 인덱싱 지옥에 빠져버리고 말핬다...꼭 나중에 다시 최적화를 해보자"
   ]
  },
  {
   "cell_type": "markdown",
   "id": "65fcf750-8d7b-4a32-8b19-7b8d18fcc052",
   "metadata": {},
   "source": [
    "### 등굣길"
   ]
  },
  {
   "cell_type": "markdown",
   "id": "99b6239e-a544-43a2-99ea-78bfeacb267f",
   "metadata": {},
   "source": [
    "##### https://school.programmers.co.kr/learn/courses/30/lessons/42898?language=python3"
   ]
  },
  {
   "cell_type": "code",
   "execution_count": 129,
   "id": "48353526-086c-4ddc-8492-6aa2f5551764",
   "metadata": {},
   "outputs": [
    {
     "data": {
      "text/plain": [
       "4"
      ]
     },
     "execution_count": 129,
     "metadata": {},
     "output_type": "execute_result"
    }
   ],
   "source": [
    "def solution(m, n, puddles):\n",
    "    puddles = [[x[1], x[0]] for x in puddles]\n",
    "    dp = [[0 for _ in range(m+1)] for _ in range(n+1)]\n",
    "    dp[1][1] = 1\n",
    "\n",
    "    for i in range(1, n+1):\n",
    "        for j in range(1, m+1):\n",
    "            if i == 1 and j == 1: continue\n",
    "            if [i,j] in puddles: continue\n",
    "            else: \n",
    "                dp[i][j] = (dp[i - 1][j] + dp[i][j - 1]) % 1000000007\n",
    "\n",
    "    return dp[n][m]\n",
    "solution(4,3,[[3,2]])"
   ]
  },
  {
   "cell_type": "code",
   "execution_count": null,
   "id": "640a8e68-fca6-43aa-bb50-3e1a4c97ba25",
   "metadata": {},
   "outputs": [],
   "source": [
    "from collections import deque\n",
    "\n",
    "def solution(m, n, puddles):\n",
    "    dp = [[-1 for _ in range(m)] for _ in range(n)] \n",
    "    dp[0][0] = 1\n",
    "    for puddle in puddles:\n",
    "        dp[puddle[1]-1][puddle[0]-1] = -2\n",
    "    \"\"\"\n",
    "    for row in dp:\n",
    "        for element in row:\n",
    "            print(element, end = ' ')\n",
    "        print()\n",
    "    \"\"\"\n",
    "    queue = deque()\n",
    "    start_node = (0,0)\n",
    "    queue.append(start_node)\n",
    "    \n",
    "    while queue:\n",
    "        now_node = queue.popleft()\n",
    "        nr = now_node[0]\n",
    "        nc = now_node[1]\n",
    "        #print(f'---------현재 위치 : r:{nr} c:{nc}')\n",
    "        \n",
    "        if dp[nr][nc] != -1: # 탐색된 노드라면\n",
    "            pass\n",
    "        else:\n",
    "            temp = 0\n",
    "            if nc - 1 >= 0:\n",
    "                if dp[nr][nc - 1] != -2:\n",
    "                    temp += dp[nr][nc - 1]\n",
    "            if nr - 1 >= 0:\n",
    "                if dp[nr - 1][nc] != -2:\n",
    "                    temp += dp[nr - 1][nc]\n",
    "            dp[nr][nc] = temp\n",
    "            \n",
    "            #print(f'현재 노드에 dp값 저장! {temp}')\n",
    "            \n",
    "        if nc < m - 1: #=> 오른쪽 마지막에 위치한게 아니고 \n",
    "            if dp[nr][nc + 1] != -2: #오른쪽이 웅덩이가 아님\n",
    "                #print(f'오른쪽으로 갈 수 있음! => {nr},{nc + 1} 큐에 추가')\n",
    "                queue.append((nr, nc + 1))\n",
    "        #아래로 갈 수 있으면\n",
    "        if nr < n - 1: # => 아래 마지막에 위치한게 아니고\n",
    "            if dp[nr + 1][nc] != -2: #아래쪽이 웅덩이가 아님\n",
    "                #print(f'아래쪽으로 갈 수 있음! => {nr + 1},{nc} 큐에 추가')\n",
    "                queue.append((nr + 1, nc))\n",
    "\n",
    "    \"\"\"                \n",
    "    for row in dp:\n",
    "        for element in row:\n",
    "            print(element, end = ' ')\n",
    "        print()\n",
    "    \"\"\"\n",
    "        \n",
    "    return dp[n-1][m-1]\n",
    "#왜 틀렸지...."
   ]
  },
  {
   "cell_type": "markdown",
   "id": "a533f518-6ecb-45f4-8a80-a000af3cecf5",
   "metadata": {},
   "source": [
    "# 그리디"
   ]
  },
  {
   "cell_type": "markdown",
   "id": "b8645290-b655-4a86-9c72-76c588316154",
   "metadata": {},
   "source": [
    "### 체육복"
   ]
  },
  {
   "cell_type": "markdown",
   "id": "7dd8e339-9a84-45b9-a79a-6c99956e1676",
   "metadata": {},
   "source": [
    "##### https://school.programmers.co.kr/learn/courses/30/lessons/42862?language=python3"
   ]
  },
  {
   "cell_type": "raw",
   "id": "5d426599-e786-440a-8c93-a67fb33cd2a6",
   "metadata": {},
   "source": [
    "# 여벌을 가져왔는데 잃어버린 애들은 그냥 아무것도 아닌 애들이다\n",
    "    =>lost 집합과 reverse집합의 교집합은 제거해야한다\n",
    "    \n",
    "n길이 만큼 1배열을 형성\n",
    "lost애들은 0\n",
    "reserve애들은 2\n",
    "\n",
    "순회하면서 2인 애들은 왼쪽 먼저 빌려주고, 왼쪽애가 있으면 오른쪽 애를 빌려줌"
   ]
  },
  {
   "cell_type": "code",
   "execution_count": 7,
   "id": "1cb31191-96df-427d-a24c-848bbd3960a4",
   "metadata": {},
   "outputs": [
    {
     "data": {
      "text/plain": [
       "5"
      ]
     },
     "execution_count": 7,
     "metadata": {},
     "output_type": "execute_result"
    }
   ],
   "source": [
    "def solution(n, lost, reserve):\n",
    "    # 중복 처리\n",
    "    lost = set(lost)\n",
    "    reserve = set(reserve)\n",
    "    intersection = set.intersection(lost, reserve)\n",
    "    lost = set(lost) - intersection\n",
    "    reserve = set(reserve) - intersection\n",
    "    \n",
    "    students = [1 for x in range(n + 2)]\n",
    "    students[0] = -1 # 더미\n",
    "    students[-1] = -1 # 더미\n",
    "    for i in lost:\n",
    "        students[i] = 0\n",
    "    for i in reserve:\n",
    "        students[i] = 2\n",
    "        \n",
    "    # [-1,1,2,0,1,2,1,2,0,-1]\n",
    "    for i in range(1,n+1):\n",
    "        if students[i] == 2:\n",
    "            if students[i - 1] == 0:\n",
    "                students[i] -= 1\n",
    "                students[i - 1] += 1\n",
    "            elif students[i + 1] == 0:\n",
    "                students[i] -= 1\n",
    "                students[i + 1] += 1\n",
    "    count = 0\n",
    "    for i in students:\n",
    "        if i >= 1:\n",
    "            count += 1\n",
    "\n",
    "    return count\n",
    "\n",
    "solution(5, [2,4], [1,3,5])"
   ]
  },
  {
   "cell_type": "markdown",
   "id": "2d7b9ded-f0f7-43cb-a55c-fc5f2dc161d9",
   "metadata": {},
   "source": [
    "### 조이스틱"
   ]
  },
  {
   "cell_type": "markdown",
   "id": "08e285ac-56c5-4d3f-a348-0bcf2aa80e99",
   "metadata": {},
   "source": [
    "##### https://school.programmers.co.kr/learn/courses/30/lessons/42860?language=python3"
   ]
  },
  {
   "cell_type": "raw",
   "id": "eb6c9739-9cb5-43d3-b1ab-f7d33c5db263",
   "metadata": {},
   "source": [
    "[\"A\",\"B\",\"C\",\"D\",\"E\",\"F\",\"G\",\"H\",\"I\",\"J\",\"K\",\"L\",\"M\",\"N\",\"O\",\"P\",\"Q\",\"R\",\"S\",\"T\",\"U\",\"V\",\"W\",\"X\",\"Y\",\"Z\"]\n",
    "\n",
    "1. 조작해야하는 순서\n",
    "    만약 0 1 2 3 에서\n",
    "        1 2를 조작하지 않아도 된다면\n",
    "            0에서 왼쪽으로 한번 이동하면 끝\n",
    "        3 을 조작하지 않아도 된다면\n",
    "            오른쪽 오른쪽\n",
    "        1 3을 조작하지 않아도 된다면\n",
    "            오른쪽 오른쪽\n",
    "            완쪽 왼쪽 똑같이 두번\n",
    "        => 오른쪽 왼쪽으로 이동해봤을때 작은것을 카운트\n",
    "        => 오른쪽으로 쭉 이동할때는 왼쪽으로 쭉 갔을때 처음나오는 A가 아닌 문자가 중요\n",
    "        => 왼쪽으로 쭉 이동할때는 오른쪽으로 쭉 갔을때 처음 나오는 A가 아닌 문자가 중요\n",
    "2. 한 문자를 조작할때 => A에서 이동하는 것임 => A에서의 최소거리를 각 알파벳 별로 저장해둠?(딕셔너리)\n",
    "    "
   ]
  },
  {
   "cell_type": "code",
   "execution_count": 41,
   "id": "9647e37b-3e5f-41d0-b8a0-616420c7c645",
   "metadata": {},
   "outputs": [
    {
     "name": "stdout",
     "output_type": "stream",
     "text": [
      "1 10\n",
      "10\n",
      "5\n"
     ]
    },
    {
     "data": {
      "text/plain": [
       "15"
      ]
     },
     "execution_count": 41,
     "metadata": {},
     "output_type": "execute_result"
    }
   ],
   "source": [
    "\n",
    "def solution(name):\n",
    "    #알파벳 전처리\n",
    "    alphabets = [\"A\",\"B\",\"C\",\"D\",\"E\",\"F\",\"G\",\"H\",\"I\",\"J\",\"K\",\"L\",\"M\",\"N\",\"O\",\"P\",\"Q\",\"R\",\"S\",\"T\",\"U\",\"V\",\"W\",\"X\",\"Y\",\"Z\"]\n",
    "    alphabet_dic = dict()\n",
    "    for i in range(14):\n",
    "        alphabet_dic[alphabets[i]] = i\n",
    "    temp = 1\n",
    "    for i in range(25,13,-1):\n",
    "        alphabet_dic[alphabets[i]] = temp\n",
    "        temp += 1\n",
    "    #print(alphabet_dic)\n",
    "    \n",
    "    #오른쪽 왼쪽 이동 최소 이동거리 도출\n",
    "    first_not_A = -1\n",
    "    for i in range(1,len(name)):\n",
    "        if name[i] != 'A':\n",
    "            first_not_A = i\n",
    "            break\n",
    "    last_not_A = -1\n",
    "    for i in range(len(name) - 1, 0, -1):\n",
    "        if name[i] != 'A':\n",
    "            last_not_A = i\n",
    "            break\n",
    "    print(f'{first_not_A} {last_not_A}')\n",
    "    \n",
    "    horizontal_count = -1\n",
    "    if first_not_A == -1 and last_not_A == -1:\n",
    "        horizontal_count = 0\n",
    "    else:\n",
    "        left_move = last_not_A\n",
    "        right_move = len(name) - first_not_A\n",
    "        if left_move > right_move:\n",
    "            horizontal_count = right_move\n",
    "        else:\n",
    "            horizontal_count = left_move\n",
    "    print(horizontal_count)\n",
    "       \n",
    "    vertical_count = 0\n",
    "    for x in name:\n",
    "        vertical_count += alphabet_dic[x]\n",
    "    print(vertical_count)\n",
    "    \n",
    "    return vertical_count + horizontal_count\n",
    "    \n",
    "solution(\"ABBBAAAAABB\")"
   ]
  },
  {
   "cell_type": "raw",
   "id": "d5b209c8-60ef-48c8-88a3-9ef44d0829d8",
   "metadata": {},
   "source": [
    "테스트 케이스 몇개 실패\n",
    "반레 => BBBAAAB \n",
    "    본인의 로직대로라면 그냥 한쪽방향으로 쭉 움직임\n",
    "    하지만 오른쪽으로 움직이다가 왼쪽으로 쭉 가는게 횟수가 더 적음\n",
    "    => 따라서 매 순간(커서위치)에서 최적의 선택을 적용하는 것이 전체 최적 => 그리디\n",
    "    \n",
    "# horizontal_count 계산 로직 수정\n",
    "\n",
    "name에서 A => True , not A => False로\n",
    "=> BBBAAAB => boolean_list = [F,F,F,T,T,T,F]\n",
    "horizontal_count = 0 \n",
    "cursor = 0\n",
    "boolean_list에서 0번째 원소 T로\n",
    "불리안 리스트가 전체가 True될 때 까지\n",
    "    현재위치에서 오른쪽으로 제일가까운 False까지의 거리 계산\n",
    "    현재위치에서 왼쪽으로 제일가까운 False까지의 거리 계산\n",
    "    둘이 비교해서 가까운쪽으로 커서 이동, 그 위치에 있는 False를 True로 바꾸기\n",
    "    이동한 만큼 horizontal_count에 더하기\n",
    "\n",
    "\n",
    "0 1 2 3 4 / 5 6 7"
   ]
  },
  {
   "cell_type": "code",
   "execution_count": 102,
   "id": "b6654da9-1130-4796-b5b9-41870e7f19eb",
   "metadata": {},
   "outputs": [
    {
     "name": "stdout",
     "output_type": "stream",
     "text": [
      "4\n"
     ]
    },
    {
     "data": {
      "text/plain": [
       "8"
      ]
     },
     "execution_count": 102,
     "metadata": {},
     "output_type": "execute_result"
    }
   ],
   "source": [
    "\n",
    "def solution(name):\n",
    "    #알파벳 전처리\n",
    "    alphabets = [\"A\",\"B\",\"C\",\"D\",\"E\",\"F\",\"G\",\"H\",\"I\",\"J\",\"K\",\"L\",\"M\",\"N\",\"O\",\"P\",\"Q\",\"R\",\"S\",\"T\",\"U\",\"V\",\"W\",\"X\",\"Y\",\"Z\"]\n",
    "    alphabet_dic = dict()\n",
    "    for i in range(14):\n",
    "        alphabet_dic[alphabets[i]] = i\n",
    "    temp = 1\n",
    "    for i in range(25,13,-1):\n",
    "        alphabet_dic[alphabets[i]] = temp\n",
    "        temp += 1\n",
    "    #print(alphabet_dic)\n",
    "    \n",
    "    #print('-----------horizontal_count 계산')\n",
    "    boolean_list = [False for x in range(len(name))]\n",
    "    for i in range(len(name)):\n",
    "        if name[i] == 'A':\n",
    "            boolean_list[i] = True\n",
    "            \n",
    "    #print(f'boolean_list : {boolean_list}')\n",
    "    boolean_list[0] = True\n",
    "    cursor = 0\n",
    "    horizontal_count = 0\n",
    "    while not all(boolean_list):\n",
    "        near_right = 0\n",
    "        near_left = 0 \n",
    "        for i in range(1, len(name)):\n",
    "            if boolean_list[(cursor + i)%len(name)] == False:\n",
    "                near_right = i\n",
    "                break\n",
    "        for i in range(1, len(name)):\n",
    "            if boolean_list[(cursor - i)%len(name)] == False:\n",
    "                near_left = i\n",
    "                break\n",
    "        if near_right < near_left:\n",
    "            cursor = cursor + near_right\n",
    "            cursor = cursor % len(name)\n",
    "            boolean_list[cursor] = True\n",
    "            horizontal_count += near_right\n",
    "        else:\n",
    "            cursor = cursor - near_left\n",
    "            cursor = cursor % len(name)\n",
    "            boolean_list[cursor] = True\n",
    "            horizontal_count += near_left\n",
    "    \n",
    "\n",
    "    vertical_count = 0\n",
    "    for x in name:\n",
    "        vertical_count += alphabet_dic[x]\n",
    "    print(vertical_count)\n",
    "    \n",
    "    return vertical_count + horizontal_count\n",
    "    \n",
    "solution(\"ZZZAAAZ\")"
   ]
  },
  {
   "cell_type": "raw",
   "id": "a160c080-3141-4072-bb31-681ec42fa6e9",
   "metadata": {},
   "source": [
    "또 테스트케이스 몇개로 통과하지 못함\n",
    "아마 현재 위치에서 바로 가까운 A가 아닌 문자까지의 거리만 따지는데, \n",
    "\"ZZZAAAZ\" 일 때 8\n",
    "\"ZZAAAZZ\" 일 때도 8이 나와야 하는데\n",
    "라고 하는 거보니, 현재위치에서 가까운 A까지의 거리도 봐야하는듯.\n",
    "현재위치에서 가까운 A가아닌 문자까지의 거리가 같다면,\n",
    "현재위치에서 가까운 A의 거리가 짧은 방향으로 움직이게끔하는 로직이 필요할듯"
   ]
  },
  {
   "cell_type": "code",
   "execution_count": 64,
   "id": "c5fd6ec8-a4d3-473e-92e1-27af1507a742",
   "metadata": {},
   "outputs": [
    {
     "name": "stdout",
     "output_type": "stream",
     "text": [
      "현재 커서 위치 : 0\n",
      "near_right : 1\n",
      "near_left : 1\n",
      "near_right_A : 2\n",
      "near_left_A : 3\n",
      "현재 커서 위치 : 1\n",
      "near_right : 4\n",
      "near_left : 2\n",
      "near_right_A : 1\n",
      "near_left_A : 1\n",
      "현재 커서 위치 : 6\n",
      "near_right : 6\n",
      "near_left : 1\n",
      "near_right_A : 1\n",
      "near_left_A : 2\n",
      "4\n"
     ]
    },
    {
     "data": {
      "text/plain": [
       "8"
      ]
     },
     "execution_count": 64,
     "metadata": {},
     "output_type": "execute_result"
    }
   ],
   "source": [
    "\n",
    "def solution(name):\n",
    "    #알파벳 전처리\n",
    "    alphabets = [\"A\",\"B\",\"C\",\"D\",\"E\",\"F\",\"G\",\"H\",\"I\",\"J\",\"K\",\"L\",\"M\",\"N\",\"O\",\"P\",\"Q\",\"R\",\"S\",\"T\",\"U\",\"V\",\"W\",\"X\",\"Y\",\"Z\"]\n",
    "    alphabet_dic = dict()\n",
    "    for i in range(14):\n",
    "        alphabet_dic[alphabets[i]] = i\n",
    "    temp = 1\n",
    "    for i in range(25,13,-1):\n",
    "        alphabet_dic[alphabets[i]] = temp\n",
    "        temp += 1\n",
    "    #print(alphabet_dic)\n",
    "    \n",
    "    #print('-----------horizontal_count 계산')\n",
    "    boolean_list = [False for x in range(len(name))]\n",
    "    for i in range(len(name)):\n",
    "        if name[i] == 'A':\n",
    "            boolean_list[i] = True\n",
    "            \n",
    "    #print(f'boolean_list : {boolean_list}')\n",
    "    boolean_list[0] = True\n",
    "    cursor = 0\n",
    "    horizontal_count = 0\n",
    "    while not all(boolean_list):\n",
    "        print(f'현재 커서 위치 : {cursor}')\n",
    "        near_right = 0\n",
    "        near_left = 0 \n",
    "        near_right_A = 0\n",
    "        near_left_A = 0\n",
    "        for i in range(1, len(name)):\n",
    "            if boolean_list[(cursor + i)%len(name)] == False:\n",
    "                near_right = i\n",
    "                break\n",
    "        for i in range(1, len(name)):\n",
    "            if boolean_list[(cursor - i)%len(name)] == False:\n",
    "                near_left = i\n",
    "                break\n",
    "        for i in range(1, len(name)):\n",
    "            if boolean_list[(cursor + i)%len(name)] == True:\n",
    "                near_right_A = i\n",
    "                break\n",
    "        for i in range(1, len(name)):\n",
    "            if boolean_list[(cursor - i)%len(name)] == True:\n",
    "                near_left_A = i\n",
    "                break\n",
    "        print(f'near_right : {near_right}\\nnear_left : {near_left}')\n",
    "        print(f'near_right_A : {near_right_A}\\nnear_left_A : {near_left_A}')\n",
    "        \n",
    "        if near_right == near_left:\n",
    "            if near_right_A < near_left_A:\n",
    "                cursor = cursor + near_right\n",
    "                cursor = cursor % len(name)\n",
    "                boolean_list[cursor] = True\n",
    "                horizontal_count += near_right\n",
    "            else:\n",
    "                cursor = cursor - near_left\n",
    "                cursor = cursor % len(name)\n",
    "                boolean_list[cursor] = True\n",
    "                horizontal_count += near_left\n",
    "        elif near_right < near_left:\n",
    "            cursor = cursor + near_right\n",
    "            cursor = cursor % len(name)\n",
    "            boolean_list[cursor] = True\n",
    "            horizontal_count += near_right\n",
    "        else:\n",
    "            cursor = cursor - near_left\n",
    "            cursor = cursor % len(name)\n",
    "            boolean_list[cursor] = True\n",
    "            horizontal_count += near_left\n",
    "            \n",
    "            \n",
    "    vertical_count = 0\n",
    "    for x in name:\n",
    "        vertical_count += alphabet_dic[x]\n",
    "    print(vertical_count)\n",
    "    \n",
    "    return vertical_count + horizontal_count\n",
    "    \n",
    "solution(\"ZZAAAZZ\")"
   ]
  },
  {
   "cell_type": "raw",
   "id": "bab23044-3579-468f-a433-850c2858d3b5",
   "metadata": {},
   "source": [
    "이것도 85퍼만 맞다고....\n",
    "이렇게 된 이상 브루트 포스로....bfs를 사용해본다\n",
    "\n",
    "# 노드 정의 => [이동 횟수,커서위치, 불리언리스트]\n",
    "\n",
    "스타트 노드 = [0,0,처음 불리언리스트]\n",
    "큐에 넣기\n",
    "큐가 차있을 동안\n",
    "    큐에서 노드 빼기\n",
    "    \n",
    "    이동횟수\n",
    "    커서위치\n",
    "    불리언리스트\n",
    "    \n",
    "    현재 커서에서 오른쪽으로 이동해서 True로 바꾸기\n",
    "    이동한 만큼 이동횟수에 추가\n",
    "    커서 위치 재설정\n",
    "    \n",
    "    새 노드 만들어서 큐에 삽입"
   ]
  },
  {
   "cell_type": "code",
   "execution_count": 113,
   "id": "6898dcf2-7d20-4fa7-8d88-0d719a9f9c9d",
   "metadata": {},
   "outputs": [
    {
     "data": {
      "text/plain": [
       "56"
      ]
     },
     "execution_count": 113,
     "metadata": {},
     "output_type": "execute_result"
    }
   ],
   "source": [
    "from collections import deque\n",
    "import math\n",
    "def solution(name):\n",
    "    #알파벳 전처리\n",
    "    alphabets = [\"A\",\"B\",\"C\",\"D\",\"E\",\"F\",\"G\",\"H\",\"I\",\"J\",\"K\",\"L\",\"M\",\"N\",\"O\",\"P\",\"Q\",\"R\",\"S\",\"T\",\"U\",\"V\",\"W\",\"X\",\"Y\",\"Z\"]\n",
    "    alphabet_dic = dict()\n",
    "    for i in range(14):\n",
    "        alphabet_dic[alphabets[i]] = i\n",
    "    temp = 1\n",
    "    for i in range(25,13,-1):\n",
    "        alphabet_dic[alphabets[i]] = temp\n",
    "        temp += 1\n",
    "    #print(alphabet_dic)\n",
    "    vertical_count = 0\n",
    "    for x in name:\n",
    "        vertical_count += alphabet_dic[x]\n",
    "    \n",
    "    \n",
    "    boolean_list = [False for x in range(len(name))]\n",
    "    for i in range(len(name)):\n",
    "        if name[i] == 'A':\n",
    "            boolean_list[i] = True\n",
    "    \n",
    "    horizontal_min = math.inf\n",
    "    #print(f'boolean_list : {boolean_list}')\n",
    "    boolean_list[0] = True\n",
    "    \n",
    "    queue = deque()\n",
    "    queue.append([0,0,boolean_list])\n",
    "    \n",
    "    while queue:\n",
    "        #print(queue)\n",
    "        now_node = queue.popleft()\n",
    "        #print(f'now node : {now_node}')\n",
    "        now_count = now_node[0]\n",
    "        now_cursor = now_node[1]\n",
    "        now_bl = now_node[2]\n",
    "        \n",
    "        if all(now_bl):\n",
    "            #print(f'now node : {now_node}')\n",
    "            if horizontal_min > now_count:\n",
    "                horizontal_min = now_count\n",
    "            continue\n",
    "        #오른쪽 이동\n",
    "        near_right = 0\n",
    "        for i in range(1, len(name)):\n",
    "            if now_bl[(now_cursor + i)%len(name)] == False:\n",
    "                near_right = i\n",
    "                break\n",
    "        right_count = now_count + near_right\n",
    "        right_cursor = now_cursor + i\n",
    "        #print(f'=============={right_cursor}')\n",
    "        right_cursor = right_cursor % len(name)\n",
    "        right_bl = now_bl[:]\n",
    "        right_bl[right_cursor] = True\n",
    "        right_node = [right_count, right_cursor, right_bl]\n",
    "        queue.append(right_node)\n",
    "        \n",
    "        near_left = 0\n",
    "        for i in range(1, len(name)):\n",
    "            if now_bl[(now_cursor - i)%len(name)] == False:\n",
    "                near_left = i\n",
    "                break\n",
    "        left_count = now_count + near_left\n",
    "        left_cursor = now_cursor - near_left\n",
    "        left_cursor = left_cursor % len(name)\n",
    "        left_bl = now_bl[:]\n",
    "        left_bl[left_cursor] = True\n",
    "        left_node = [left_count, left_cursor, left_bl]\n",
    "        queue.append(left_node)\n",
    "        \n",
    "    return vertical_count + horizontal_min\n",
    "    \n",
    "solution(\"JEROEN\")"
   ]
  },
  {
   "cell_type": "raw",
   "id": "723572db-3f8f-4b9f-b645-21f739499e81",
   "metadata": {},
   "source": [
    "완전 탐색은 언제나 승리합니다."
   ]
  },
  {
   "cell_type": "markdown",
   "id": "c75d55be-d266-4bfb-8a6b-45aa465d020c",
   "metadata": {},
   "source": [
    "### 큰 수 만들기"
   ]
  },
  {
   "cell_type": "markdown",
   "id": "de5b4ad1-5340-4adf-830d-87e2d0398e16",
   "metadata": {},
   "source": [
    "##### https://school.programmers.co.kr/learn/courses/30/lessons/42883?language=python3"
   ]
  },
  {
   "cell_type": "raw",
   "id": "ca390f92-67c2-41ad-903c-2e6688d8c73e",
   "metadata": {},
   "source": [
    "# n자리 수에서 m개의 숫자를 빼면 어쨋든 모두 n-m자리수다\n",
    "# 맨 앞자리에 가장 큰 수가 있어야 한다.\n",
    "# 앞자리 수를 가능한 크게 만드는 법?\n",
    "    스택의 안에는 작은 수들이 들어있어야 한다\n",
    "    \n",
    "아 모르겠다 일단 해보자\n",
    "\n",
    "# stack은 뺄 수가 아니라 꼭 들어있어야 하는 수들을 저장"
   ]
  },
  {
   "cell_type": "code",
   "execution_count": 8,
   "id": "c9441312-3ffc-48ee-a3e0-fcd711c7d866",
   "metadata": {},
   "outputs": [
    {
     "data": {
      "text/plain": [
       "'775841'"
      ]
     },
     "execution_count": 8,
     "metadata": {},
     "output_type": "execute_result"
    }
   ],
   "source": [
    "def solution(number, k):\n",
    "    stack = []\n",
    "    for index, element in enumerate(number):\n",
    "        while stack and k and stack[-1] < int(element):\n",
    "            stack.pop()\n",
    "            k -= 1\n",
    "        stack.append(int(element))\n",
    "    stack = [str(x) for x in stack]\n",
    "    answer = ''.join(stack[:len(number) - k])\n",
    "    return answer\n",
    "    \n",
    "        \n",
    "        \n",
    "solution(\"4177252841\", 4)\n",
    "#12341234, 3\n"
   ]
  },
  {
   "cell_type": "raw",
   "id": "ee7b7360-2e0f-4007-a3ab-1969583a4fdb",
   "metadata": {},
   "source": [
    "여전히 모르겠다"
   ]
  },
  {
   "cell_type": "markdown",
   "id": "9102303b-bf2f-4e96-a4bf-9ff5eaadc713",
   "metadata": {},
   "source": [
    "# 완전 탐색"
   ]
  },
  {
   "cell_type": "markdown",
   "id": "9d7cbaec-b549-44a4-a67a-adc95cbe6a1f",
   "metadata": {},
   "source": [
    "### 최소 직사각형"
   ]
  },
  {
   "cell_type": "markdown",
   "id": "5582bb70-a6eb-44cf-af22-e430e0ec1f18",
   "metadata": {},
   "source": [
    "##### https://school.programmers.co.kr/learn/courses/30/lessons/42840?language=python3"
   ]
  },
  {
   "cell_type": "raw",
   "id": "232deada-657c-48b2-8d91-5f0d81c706b9",
   "metadata": {},
   "source": [
    "문제 진짜 좆같다\n",
    "무슨 이딴...\n",
    "\n"
   ]
  },
  {
   "cell_type": "code",
   "execution_count": 24,
   "id": "a9f27409-1d63-4bda-b94a-9fccc3436ae5",
   "metadata": {},
   "outputs": [
    {
     "name": "stdout",
     "output_type": "stream",
     "text": [
      "현재 정답 1\n",
      "첫번째학생 정답 : 1\n",
      "현재 정답 3\n",
      "현재 정답 2\n",
      "두번째학생 정답 : 2\n",
      "현재 정답 4\n",
      "첫번째학생 정답 : 4\n",
      "현재 정답 2\n",
      "두번째학생 정답 : 2\n",
      "[2, 4, 0]\n"
     ]
    },
    {
     "data": {
      "text/plain": [
       "[2]"
      ]
     },
     "execution_count": 24,
     "metadata": {},
     "output_type": "execute_result"
    }
   ],
   "source": [
    "def solution(answers):\n",
    "    pattern_1 = [1,2,3,4,5]\n",
    "    pattern_2 = [2,1,2,3,2,4,2,5]\n",
    "    pattern_3 = [3,3,1,1,2,2,4,4,5,5]\n",
    "    student_scores = [0,0,0]\n",
    "    for i, answer in enumerate(answers):\n",
    "        if answer == pattern_1[i%len(pattern_1)]:\n",
    "            student_scores[0] += 1\n",
    "        if answer == pattern_2[i%len(pattern_2)]:\n",
    "            student_scores[1] += 1\n",
    "        if answer == pattern_3[i%len(pattern_3)]:\n",
    "            student_scores[2] += 1\n",
    "    print(student_scores)\n",
    "    max_score = max(student_scores)\n",
    "    return_value = []\n",
    "    for i, element in enumerate(student_scores, start = 1):\n",
    "        if element == max_score:\n",
    "            return_value.append(i)\n",
    "    return return_value\n",
    "    \n",
    "solution([1, 3, 2, 4, 2])"
   ]
  },
  {
   "cell_type": "markdown",
   "id": "b5c48bac-039a-4fd5-8871-ee6453d4bfb6",
   "metadata": {},
   "source": [
    "### 소수 찾기"
   ]
  },
  {
   "cell_type": "markdown",
   "id": "03f6b122-62a1-456f-aaaf-b8587f99bdc1",
   "metadata": {},
   "source": [
    "##### https://school.programmers.co.kr/learn/courses/30/lessons/42839?language=python3"
   ]
  },
  {
   "cell_type": "code",
   "execution_count": 60,
   "id": "7553e230-5db3-47fa-857a-967426e85c6d",
   "metadata": {},
   "outputs": [
    {
     "name": "stdout",
     "output_type": "stream",
     "text": [
      "{0, 1, 101, 10, 11, 110}\n"
     ]
    },
    {
     "data": {
      "text/plain": [
       "2"
      ]
     },
     "execution_count": 60,
     "metadata": {},
     "output_type": "execute_result"
    }
   ],
   "source": [
    "from itertools import permutations\n",
    "def solution(numbers):\n",
    "    p = []\n",
    "    for i in range(len(numbers)):\n",
    "        p += list(permutations(numbers, i+1))\n",
    "    p = set([int(''.join(x)) for x in p])\n",
    "    print(p)\n",
    "    count = 0\n",
    "    for x in p:\n",
    "        #print(f'현재 검사 대상: {x} ')\n",
    "        #자기보다 작은 수로 나누어 떨어지면 소수가 아님\n",
    "        #자신보다 작은 수로도 나누어 떨어지는 경우가 단 한번도 없다면 소수임\n",
    "        #자신보다 작은 수로 단 한번이라도 나누어떨어지면 소수가 아님\n",
    "        if x == 1 or x == 0: continue\n",
    "        flag = True\n",
    "        for less_than_x in range(2,x//2+1):\n",
    "            if x % less_than_x == 0:\n",
    "                flag = False\n",
    "                #print(f'{less_than_x} 소수가 아님')\n",
    "                break\n",
    "        if flag == True:\n",
    "            count += 1\n",
    "        \n",
    "    return count\n",
    "    \n",
    "solution('101')"
   ]
  },
  {
   "cell_type": "raw",
   "id": "7da9782f-4722-4b49-afe8-84a9c8d9dc81",
   "metadata": {},
   "source": [
    "소수 찾기 주의"
   ]
  },
  {
   "cell_type": "markdown",
   "id": "c294772d-3bed-4e22-b84f-755e286089eb",
   "metadata": {},
   "source": [
    "### 카펫"
   ]
  },
  {
   "cell_type": "markdown",
   "id": "c92f3c92-a334-4699-a18d-4e97b23f52cb",
   "metadata": {},
   "source": [
    "##### https://school.programmers.co.kr/learn/courses/30/lessons/42842?language=python3"
   ]
  },
  {
   "cell_type": "raw",
   "id": "142bb4e1-ee2d-4712-9a64-7ad581cda23b",
   "metadata": {},
   "source": [
    "brown = m*n - (m-2)*(n-2) = 2m + 2n - 4\n",
    "yellow = (m-2)*(n-2)\n",
    "\n",
    "=> brown + yellow = m*n를 먼저 만족하는 m에 대해 위 두 식 중 아무거나를 테스트\n",
    "\n",
    "m,n을 도출"
   ]
  },
  {
   "cell_type": "code",
   "execution_count": 71,
   "id": "800730dd-612d-4b62-819b-e30d41fabad2",
   "metadata": {},
   "outputs": [
    {
     "data": {
      "text/plain": [
       "[4, 3]"
      ]
     },
     "execution_count": 71,
     "metadata": {},
     "output_type": "execute_result"
    }
   ],
   "source": [
    "def solution(brown, yellow):\n",
    "    mn = brown + yellow\n",
    "    for i in range(1,mn//2+1):\n",
    "        m = i\n",
    "        if mn % i == 0:\n",
    "            n = mn//i\n",
    "            if brown == 2*m + 2*n -4:\n",
    "                return [n,m]\n",
    "        \n",
    "solution(10,2)"
   ]
  },
  {
   "cell_type": "markdown",
   "id": "d17c4e50-423c-41fc-903e-303d97788df8",
   "metadata": {},
   "source": [
    "### 피로도"
   ]
  },
  {
   "cell_type": "markdown",
   "id": "4ff11560-7451-4777-8701-82eebed23754",
   "metadata": {},
   "source": [
    "##### https://school.programmers.co.kr/learn/courses/30/lessons/87946?language=python3"
   ]
  },
  {
   "cell_type": "raw",
   "id": "eb9597eb-c2b8-4d97-beee-189da057aab4",
   "metadata": {},
   "source": [
    "# bfs 이용\n",
    "# 노드 \n",
    "    => 현재 피로도, 탐험한 던전 boolean_list\n",
    "\n",
    "최대 방문 수\n",
    "\n",
    "큐가 차있을동안\n",
    "    지금 노드 = 큐.pop()\n",
    "    \n",
    "    현재 피로도\n",
    "    탐험한 던전 boolean_list\n",
    "    \n",
    "    최대 방문수 = 탐험한 던전리스트에서 True의 갯수 \n",
    "    \n",
    "    탐험하지 않은 던전들에 대해\n",
    "        해당 던전을 탐험할 수 있다면\n",
    "            해당 던전을 탐험하고 나서 피로도를 계산\n",
    "            그 피로도를 현재 피로도로\n",
    "            해당 던전을 탐험했다고 표시\n",
    "            새 노드 만들고 큐에 삽입"
   ]
  },
  {
   "cell_type": "code",
   "execution_count": 93,
   "id": "52d84e21-5f79-45cf-a883-fbbe465ea735",
   "metadata": {},
   "outputs": [
    {
     "data": {
      "text/plain": [
       "3"
      ]
     },
     "execution_count": 93,
     "metadata": {},
     "output_type": "execute_result"
    }
   ],
   "source": [
    "from collections import deque\n",
    "\n",
    "def solution(k, dungeons):\n",
    "    visited = [False for x in range(len(dungeons))]\n",
    "    start_node = [k, visited]\n",
    "    \n",
    "    max_count = 0\n",
    "    \n",
    "    queue = deque()\n",
    "    queue.append(start_node)\n",
    "    \n",
    "    while queue:\n",
    "        now_node = queue.pop()\n",
    "        #print(f'현재 노드 : {now_node}')\n",
    "        now_k = now_node[0]\n",
    "        now_visited = now_node[1]\n",
    "        \n",
    "        now_count = 0 \n",
    "        for x in now_visited:\n",
    "            if x == True: \n",
    "                now_count += 1\n",
    "        #print(f'현재 카운트 : {now_count}')\n",
    "        if now_count > max_count:\n",
    "            max_count = now_count\n",
    "        \n",
    "        for i, element in enumerate(now_visited):\n",
    "            #print(f'탐색 던전 : {i}')\n",
    "            if element == False:\n",
    "                dungeon_info = dungeons[i]\n",
    "                if now_k >= dungeon_info[0]:\n",
    "                    new_visited = now_visited[:]\n",
    "                    after_k = now_k - dungeon_info[1]\n",
    "                    #print(f'after_k : {after_k}')\n",
    "                    new_visited[i] = True\n",
    "                    new_node = [after_k, new_visited]\n",
    "                    queue.append(new_node)\n",
    "        \n",
    "    return max_count\n",
    "                    \n",
    "solution(80, [[80,20],[50,40],[30,10]])"
   ]
  },
  {
   "cell_type": "raw",
   "id": "ff104ffe-6f98-4899-badc-85d4851cffff",
   "metadata": {},
   "source": [
    "bfs는 언제나 승리\n",
    "(return 인덴트 조심)"
   ]
  },
  {
   "cell_type": "markdown",
   "id": "4cd93596-fd9b-4c61-9afa-629ac70111cb",
   "metadata": {},
   "source": [
    "### 전력망을 둘로 나누기"
   ]
  },
  {
   "cell_type": "markdown",
   "id": "a794761e-0b76-4da6-a44d-672831b75af6",
   "metadata": {},
   "source": [
    "##### https://school.programmers.co.kr/learn/courses/30/lessons/86971?language=python3"
   ]
  },
  {
   "cell_type": "raw",
   "id": "ce8bb8bc-c097-4684-aa74-d2ea99d9115a",
   "metadata": {},
   "source": [
    "# 인접행렬이 주어졌을때, 하나의 트리에서 연결된 모든 노드의 갯수와, 그 노드들에 대한 인접행렬 요소를 모두 제거하고나서의 인접행렬을 반환\n",
    "\n",
    "# 인접행렬 만드는 함수"
   ]
  },
  {
   "cell_type": "code",
   "execution_count": 7,
   "id": "6473f587-e01c-45a7-9561-2e442fe40b01",
   "metadata": {},
   "outputs": [],
   "source": [
    "def return_adj_mat(n,wires):\n",
    "    adj_mat = [[False for x in range(n)] for x in range(n)]\n",
    "    \n",
    "    for wire in wires:\n",
    "        adj_mat[wire[0]-1][wire[1]-1] = True\n",
    "        adj_mat[wire[1]-1][wire[0]-1] = True\n",
    "    \n",
    "    return adj_mat"
   ]
  },
  {
   "cell_type": "code",
   "execution_count": 83,
   "id": "1b4c41d3-ee8a-4ed6-a55f-eba3078c317c",
   "metadata": {},
   "outputs": [],
   "source": [
    "input_adj_mat = return_adj_mat(4, [[1,2],[2,3]])"
   ]
  },
  {
   "cell_type": "code",
   "execution_count": 84,
   "id": "6242b4fd-5cdb-4c4e-a879-f80898ccd52c",
   "metadata": {},
   "outputs": [
    {
     "data": {
      "text/plain": [
       "(1,\n",
       " [[False, False, False, False],\n",
       "  [False, False, False, False],\n",
       "  [False, False, False, False],\n",
       "  [False, False, False, False]])"
      ]
     },
     "execution_count": 87,
     "metadata": {},
     "output_type": "execute_result"
    }
   ],
   "source": [
    "from collections import deque\n",
    "import copy\n",
    "def return_after(n, input_adj_mat):\n",
    "    adj_mat = copy.deepcopy(input_adj_mat)\n",
    "    queue = deque()\n",
    "    \n",
    "    #시작 노드\n",
    "    start_node = -1\n",
    "    for i in range(n):\n",
    "        for j in range(n):\n",
    "            if adj_mat[i][j] == True:\n",
    "                start_node = i\n",
    "    if start_node == -1:\n",
    "        return False\n",
    "    \n",
    "    queue.append(start_node)\n",
    "    count = 1\n",
    "    while queue:\n",
    "        now_node = queue.pop()\n",
    "        for i in range(n):\n",
    "            if adj_mat[now_node][i] == True:\n",
    "                queue.append(i)\n",
    "                count += 1\n",
    "                adj_mat[now_node][i] = False\n",
    "                adj_mat[i][now_node] = False\n",
    "    \n",
    "    return count, adj_mat\n",
    "        \n",
    "    \n",
    "return_after(4, input_adj_mat)"
   ]
  },
  {
   "cell_type": "raw",
   "id": "0e4972ac-c537-45b3-918b-f0dc2a62268d",
   "metadata": {},
   "source": []
  },
  {
   "cell_type": "code",
   "execution_count": 90,
   "id": "cbaa3491-bdaa-45bf-aa80-5a7ab7757b35",
   "metadata": {},
   "outputs": [
    {
     "data": {
      "text/plain": [
       "3"
      ]
     },
     "execution_count": 90,
     "metadata": {},
     "output_type": "execute_result"
    }
   ],
   "source": [
    "from itertools import combinations\n",
    "from collections import deque\n",
    "import copy\n",
    "import math \n",
    "\n",
    "def return_adj_mat(n,wires):\n",
    "    adj_mat = [[False for x in range(n)] for x in range(n)]\n",
    "    \n",
    "    for wire in wires:\n",
    "        adj_mat[wire[0]-1][wire[1]-1] = True\n",
    "        adj_mat[wire[1]-1][wire[0]-1] = True\n",
    "    \n",
    "    return adj_mat\n",
    "\n",
    "\n",
    "def return_after(n, input_adj_mat):\n",
    "    adj_mat = copy.deepcopy(input_adj_mat)\n",
    "    queue = deque()\n",
    "    \n",
    "    #시작 노드\n",
    "    start_node = -1\n",
    "    for i in range(n):\n",
    "        for j in range(n):\n",
    "            if adj_mat[i][j] == True:\n",
    "                start_node = i\n",
    "\n",
    "    queue.append(start_node)\n",
    "    count = 1\n",
    "    while queue:\n",
    "        now_node = queue.pop()\n",
    "        for i in range(n):\n",
    "            if adj_mat[now_node][i] == True:\n",
    "                queue.append(i)\n",
    "                count += 1\n",
    "                adj_mat[now_node][i] = False\n",
    "                adj_mat[i][now_node] = False\n",
    "    \n",
    "    return count, adj_mat\n",
    "\n",
    "\n",
    "def solution(n, wires):\n",
    "    coms = combinations(wires, n-2)\n",
    "    min_count = math.inf \n",
    "    for com in coms:\n",
    "        com = list(com)\n",
    "        input_adj_mat = return_adj_mat(n, com)\n",
    "        count_1, input_adj_mat = return_after(n, input_adj_mat)\n",
    "        count_2, input_adj_mat = return_after(n, input_adj_mat)\n",
    "        if min_count > abs(count_1 - count_2):\n",
    "            min_count = abs(count_1 - count_2)\n",
    "    return min_count\n"
   ]
  },
  {
   "cell_type": "raw",
   "id": "69fb9f90-75ae-49ff-a519-d8420b37da48",
   "metadata": {},
   "source": [
    "기본 모듈을 꽤나 많이 썼다.\n",
    "이차원 배열의 deepcopy를 조심스레 쓰자\n",
    "인접 리스트가 더 편할 것 같다...."
   ]
  },
  {
   "cell_type": "markdown",
   "id": "37afcf55-deb3-4b45-821d-f390cc2bc892",
   "metadata": {},
   "source": [
    "### 모음사전"
   ]
  },
  {
   "cell_type": "markdown",
   "id": "f6f249ad-810a-4162-a8bb-4852c66cccfb",
   "metadata": {},
   "source": [
    "##### https://school.programmers.co.kr/learn/courses/30/lessons/84512?language=python3"
   ]
  },
  {
   "cell_type": "raw",
   "id": "a2984055-9ae7-4ba5-b0b5-288ff7e1b667",
   "metadata": {},
   "source": [
    "이거... dfs 노드 탐색 순서랑 똑같지 않나...?\n",
    "그냥 계산하려했는데 ...."
   ]
  },
  {
   "cell_type": "code",
   "execution_count": 97,
   "id": "f3202e47-151f-492a-a0eb-5bdb32b5c183",
   "metadata": {},
   "outputs": [
    {
     "data": {
      "text/plain": [
       "1563"
      ]
     },
     "execution_count": 97,
     "metadata": {},
     "output_type": "execute_result"
    }
   ],
   "source": [
    "def solution(word):\n",
    "    aeiou = ['U', 'O', 'I', 'E', 'A']\n",
    "    stack = []\n",
    "    stack += aeiou\n",
    "    count = 0\n",
    "    while stack:\n",
    "        now_node = stack.pop()\n",
    "        #print(now_node)\n",
    "        count += 1\n",
    "        if word == now_node:\n",
    "            return count\n",
    "        if len(now_node) < 5:\n",
    "            for x in aeiou:\n",
    "                new_node = now_node + x\n",
    "                stack.append(new_node)\n",
    "    return -1\n",
    "\n",
    "solution('I')"
   ]
  },
  {
   "cell_type": "raw",
   "id": "5dcc6e6f-2fe4-44a8-a837-3a10877affa4",
   "metadata": {},
   "source": [
    "신기하다... 사전순서는 dfs 탐색이랑 비슷한 구조이다...\n",
    "다만, 탐색 순서는 stack에 나중에 들어간 녀석이 먼저 pop되는 구조라서,\n",
    "    => 탐색 우선 순위가 높은 녀석은 stack에 나중에 들어가야한다\n",
    "    => A를 먼저 탐색하고 싶으면, stack에 가장 마지막에 넣어야 한다!\n",
    "    \n",
    "# 중복 순열 product를 이용해서 사전을 만들고, 그 안에서 찾는 방법도 있다"
   ]
  },
  {
   "cell_type": "markdown",
   "id": "f1524f75-63eb-4c31-8473-622f12a48591",
   "metadata": {},
   "source": [
    "# 힙"
   ]
  },
  {
   "cell_type": "markdown",
   "id": "a930e871-8182-4bcb-921b-1dd30bfbbed8",
   "metadata": {},
   "source": [
    "### 더 맵게"
   ]
  },
  {
   "cell_type": "markdown",
   "id": "b135b0fe-e2c8-4104-b062-fab97a174556",
   "metadata": {},
   "source": [
    "##### https://school.programmers.co.kr/learn/courses/30/lessons/42626?language=python3"
   ]
  },
  {
   "cell_type": "raw",
   "id": "5ef5fce3-3606-4bd3-8bfa-d4629a1e692e",
   "metadata": {},
   "source": [
    "# 최소 힙 사용\n",
    "\n",
    "스코빌리스트를 최소힙으로 변환\n",
    "카운트 = 0\n",
    "섞고 확인하기\n",
    "    최소힙에서 두 개 뽑기\n",
    "    섞고 최소힙에 넣기"
   ]
  },
  {
   "cell_type": "code",
   "execution_count": 7,
   "id": "93d7f78c-a5d0-4dbe-930c-5ed395c9f210",
   "metadata": {},
   "outputs": [
    {
     "data": {
      "text/plain": [
       "2"
      ]
     },
     "execution_count": 7,
     "metadata": {},
     "output_type": "execute_result"
    }
   ],
   "source": [
    "import heapq\n",
    "\n",
    "def solution(scoville, K):\n",
    "    heapq.heapify(scoville)\n",
    "    count = 0\n",
    "    while scoville[0] < K:\n",
    "        food_1 = heapq.heappop(scoville)\n",
    "        food_2 = heapq.heappop(scoville)\n",
    "        new_scoville = food_1 + (food_2 * 2)\n",
    "        count += 1\n",
    "        heapq.heappush(scoville, new_scoville)\n",
    "        if len(scoville) == 1 and scoville[0] < K:\n",
    "            return -1\n",
    "    return count\n",
    "\n",
    "solution([1, 2, 3, 9, 10, 12], 7)"
   ]
  },
  {
   "cell_type": "raw",
   "id": "2f13efd2-2313-47e9-8f6f-4986b1df1e40",
   "metadata": {},
   "source": [
    "조건 설정이 은근 까다로움.\n",
    "초기 설계 꼼꼼히."
   ]
  },
  {
   "cell_type": "markdown",
   "id": "ab8e9b3f-5080-4d60-adb9-025329392545",
   "metadata": {},
   "source": [
    "### 디스크 컨트롤러"
   ]
  },
  {
   "cell_type": "markdown",
   "id": "626607c6-1af4-4dea-b71e-81406def8daa",
   "metadata": {},
   "source": [
    "##### https://school.programmers.co.kr/learn/courses/30/lessons/42627?language=python3"
   ]
  },
  {
   "cell_type": "raw",
   "id": "70a3ec37-d03e-4339-94ff-153e9a28049c",
   "metadata": {},
   "source": [
    "시간 => for문\n",
    "min_heap에 요청 작업이 있다면\n",
    "    지금 그 작업을 실행할 수 있다면\n",
    "        그 작업을 실행\n",
    "\n",
    "현재 시간에 작업이 요청되면\n",
    "    그 작업의 요청시간\n",
    "    그 작업의 소요시간\n",
    "    지금 그 작업을 실행할 수 있다면\n",
    "        그 작업을 실행\n",
    "    아니라면\n",
    "        그 작업을 min_heap에 넣어놈(min_heap은 소요시간 기준)"
   ]
  },
  {
   "cell_type": "code",
   "execution_count": 117,
   "id": "76983a10-b557-40e5-8bae-6ef31712dc78",
   "metadata": {},
   "outputs": [],
   "source": [
    "import heapq\n",
    "\n",
    "def solution(jobs):\n",
    "    num_of_jobs = len(jobs)\n",
    "    heapq.heapify(jobs)\n",
    "    #print(jobs)\n",
    "    min_heap = [] # 작업 대기 힙\n",
    "    finish_time = 0\n",
    "    count = 0 \n",
    "    t = 0\n",
    "    while True:\n",
    "        #print(f'now_t : {t}')\n",
    "        if min_heap:\n",
    "            if finish_time <= t:\n",
    "                #print(f'현재 min_heap 작업 실행 , {min_heap[0]}')\n",
    "                job_request = heapq.heappop(min_heap)\n",
    "                request_time = job_request[1]\n",
    "                working_time = job_request[0]\n",
    "                finish_time = t + working_time\n",
    "                count += finish_time - request_time\n",
    "                #print(f'count : {count}')\n",
    "        if jobs:\n",
    "            while t == jobs[0][0]:\n",
    "                job_request = heapq.heappop(jobs)\n",
    "                request_time = job_request[0]\n",
    "                working_time = job_request[1]\n",
    "                #print(f'현재 작업 요청 들어옴, working_time : {working_time}')\n",
    "                if finish_time <= t:\n",
    "                    #print(f'들어온 작업 바로 수행')\n",
    "                    finish_time = t + working_time\n",
    "                    count += finish_time - request_time\n",
    "                else:\n",
    "                    #print(f'들어온 작업 바로 수행 불가, min_heap에 추가')\n",
    "                    heapq.heappush(min_heap, [working_time, request_time])\n",
    "                if not jobs:\n",
    "                    break\n",
    "        if t > finish_time and not jobs and not min_heap:\n",
    "            break\n",
    "        t += 1\n",
    "            \n",
    "                    \n",
    "    return count//num_of_jobs"
   ]
  },
  {
   "cell_type": "code",
   "execution_count": 118,
   "id": "7eb8cdfb-5928-43b4-99a2-6db1676575af",
   "metadata": {},
   "outputs": [
    {
     "data": {
      "text/plain": [
       "4"
      ]
     },
     "execution_count": 118,
     "metadata": {},
     "output_type": "execute_result"
    }
   ],
   "source": [
    "solution([[0, 3],[3, 6]])"
   ]
  },
  {
   "cell_type": "raw",
   "id": "de578f23-c737-4eb5-a6c0-f8efb2763da5",
   "metadata": {},
   "source": [
    "테스트 케이스 절반 실패 <= 처음에 시각을 1000초로 제한\n",
    "=> jobs 500개 소요시간 1000 => 그냥 제한 없애고 조건걸어서 break"
   ]
  },
  {
   "cell_type": "code",
   "execution_count": 5,
   "id": "41cbdc72-4072-473c-964a-325121c2010b",
   "metadata": {},
   "outputs": [],
   "source": [
    "from collections import deque\n",
    "import heapq\n",
    "\n",
    "def solution(jobs):\n",
    "    n = len(jobs)\n",
    "    jobs.sort(key = lambda x: x[0])\n",
    "    jobs = deque(jobs)\n",
    "    heap = []\n",
    "    finish_time = 0\n",
    "    working_time_sum = 0\n",
    "    t = 0\n",
    "    while heap or jobs:\n",
    "        if heap and t >= finish_time:\n",
    "            #print(f'힙에 작업 있고 바로 실행가능')\n",
    "            now_job = heapq.heappop(heap)\n",
    "            finish_time = t + now_job[0]\n",
    "            working_time_sum += finish_time - now_job[1]\n",
    "        while jobs and jobs[0][0] == t:\n",
    "            #print(f'작업이 들어옴')\n",
    "            if finish_time <= t:\n",
    "                #print(f'바로 실행 가능')\n",
    "                now_job = jobs.popleft()\n",
    "                finish_time += t + now_job[1]\n",
    "                working_time_sum += finish_time - now_job[0]\n",
    "            else:\n",
    "                #print(f'바로 실행 불가')\n",
    "                now_job = jobs.popleft()\n",
    "                heapq.heappush(heap, [now_job[1],now_job[0]])\n",
    "        t += 1\n",
    "    \n",
    "    return working_time_sum//n"
   ]
  },
  {
   "cell_type": "code",
   "execution_count": 11,
   "id": "8f7dc368-621c-4dba-b12f-d4868bcf020d",
   "metadata": {},
   "outputs": [
    {
     "data": {
      "text/plain": [
       "9"
      ]
     },
     "execution_count": 11,
     "metadata": {},
     "output_type": "execute_result"
    }
   ],
   "source": [
    "solution( [[7, 8], [3, 5], [8, 6]])"
   ]
  },
  {
   "cell_type": "raw",
   "id": "64939641-0b78-4a7e-8133-d79bc21b7748",
   "metadata": {},
   "source": [
    "이 코드 왜 안되지?"
   ]
  },
  {
   "cell_type": "code",
   "execution_count": 12,
   "id": "ed26025b-36e9-41a7-98b5-d3b1527fa5f2",
   "metadata": {},
   "outputs": [],
   "source": [
    "# 다른 사람의 메인 풀이\n",
    "from heapq import heappush, heappop\n",
    "def solution(jobs):\n",
    "    jobs.sort()\n",
    "    n = len(jobs)\n",
    "    heap = []\n",
    "    now = ans = 0\n",
    "    while jobs or heap: #일단 작업이 있는 동안은 계속 반복\n",
    "        while jobs and now >= jobs[0][0]:\n",
    "            #지금 시점보다 작은 애들 죄다 힙에 때려박기\n",
    "            heappush(heap,jobs.pop(0)[::-1])\n",
    "        if jobs and not heap:\n",
    "            now_job = jobs.pop(0)\n",
    "            now = now_job[0]\n",
    "            heappush(heap, now_job[::-1])\n",
    "        j = heappop(heap)\n",
    "        now += j[0]\n",
    "        ans += now-j[-1]\n",
    "    return ans//n\n"
   ]
  },
  {
   "cell_type": "code",
   "execution_count": 14,
   "id": "0f5675e7-aec8-4e90-aa03-32b6ffb893c8",
   "metadata": {},
   "outputs": [
    {
     "data": {
      "text/plain": [
       "4"
      ]
     },
     "execution_count": 14,
     "metadata": {},
     "output_type": "execute_result"
    }
   ],
   "source": [
    "solution([[0, 3],[3, 6]])"
   ]
  },
  {
   "cell_type": "markdown",
   "id": "62ab0768-bf30-4c1d-abda-7ce416667579",
   "metadata": {},
   "source": [
    "### 이중우선순위큐"
   ]
  },
  {
   "cell_type": "markdown",
   "id": "8379679c-009c-43fc-ba54-b88cb6c84178",
   "metadata": {},
   "source": [
    "##### https://school.programmers.co.kr/learn/courses/30/lessons/42628?language=python3"
   ]
  },
  {
   "cell_type": "raw",
   "id": "4ed7fc70-a326-4c53-87ac-81a329cc9e8d",
   "metadata": {},
   "source": [
    "삭제연산\n",
    "    ex) share_dic에 있는 것을 삭제해야함\n",
    "        => share_dic에 없으면 있을때까지 pop\n",
    "        \n",
    "힙이 비었을때 삭제함 => 무시\n",
    "\n",
    "최소 삭제 연산\n",
    "    힙이 비었을 때\n",
    "        아무것도 안함\n",
    "    힙이 차있을 때\n",
    "        삭제할 요소가 share_dic에 있을 때\n",
    "        삭제할 요소가 share_dic에 없을 때"
   ]
  },
  {
   "cell_type": "code",
   "execution_count": 154,
   "id": "fc9394ee-4117-4077-8017-cdf99c972dd2",
   "metadata": {},
   "outputs": [],
   "source": [
    "import heapq\n",
    "import math\n",
    "def solution(operations):\n",
    "    share_dic = dict()\n",
    "    min_heap = []\n",
    "    max_heap = []\n",
    "    \n",
    "    for op in operations:\n",
    "        op = op.split()\n",
    "        op[1] = int(op[1])\n",
    "        if op[0] == 'I':\n",
    "            heapq.heappush(min_heap, op[1])\n",
    "            heapq.heappush(max_heap, -1 * op[1])\n",
    "            if op[1] in share_dic:\n",
    "                share_dic[op[1]] += 1\n",
    "            else:\n",
    "                share_dic[op[1]] = 1\n",
    "        else: # D 연산\n",
    "            if op[1] == -1: #최소 삭제 연산\n",
    "                while True:\n",
    "                    if not min_heap:\n",
    "                        break\n",
    "                    else:\n",
    "                        target = min_heap[0]\n",
    "                        if target in share_dic:\n",
    "                            heapq.heappop(min_heap)\n",
    "                            if share_dic[target] == 1:\n",
    "                                del share_dic[target] \n",
    "                            else:\n",
    "                                share_dic[target] -= 1\n",
    "                            break\n",
    "                        else: #share_dic에 없을떄\n",
    "                            heapq.heappop(min_heap)\n",
    "                            continue\n",
    "            else: #최대 삭제 연산\n",
    "                while True:\n",
    "                    if not max_heap:\n",
    "                        break\n",
    "                    else:\n",
    "                        target = -1 * max_heap[0]\n",
    "                        if target in share_dic:\n",
    "                            heapq.heappop(max_heap)\n",
    "                            if share_dic[target] == 1:\n",
    "                                del share_dic[target] \n",
    "                            else:\n",
    "                                share_dic[target] -= 1\n",
    "                            break\n",
    "                        else: #share_dic에 없을떄\n",
    "                            heapq.heappop(max_heap)\n",
    "                            continue\n",
    "    print(share_dic)\n",
    "    print(min_heap)\n",
    "    print(max_heap)\n",
    "    min_value, max_value = 0, 0\n",
    "    while True:\n",
    "        if min_heap:\n",
    "            target = heapq.heappop(min_heap)\n",
    "            if target in share_dic:\n",
    "                min_value = target\n",
    "                break\n",
    "            else:\n",
    "                continue\n",
    "        else:#힙이 비었음\n",
    "            break\n",
    "    while True:\n",
    "        if max_heap:\n",
    "            target = -1 * heapq.heappop(max_heap)\n",
    "            if target in share_dic:\n",
    "                max_value = target\n",
    "                break\n",
    "            else:\n",
    "                continue\n",
    "        else: \n",
    "            break\n",
    "    \n",
    "    return [max_value, min_value]\n",
    "            \n",
    "            "
   ]
  },
  {
   "cell_type": "code",
   "execution_count": 155,
   "id": "46d3a5e4-c4ea-42f9-a0f6-fc05b768c886",
   "metadata": {},
   "outputs": [
    {
     "name": "stdout",
     "output_type": "stream",
     "text": [
      "{-45: 1, 45: 1, 333: 1}\n",
      "[-45, 45, 97, 653, 333]\n",
      "[-333, -45, 45, 642]\n"
     ]
    },
    {
     "data": {
      "text/plain": [
       "[333, -45]"
      ]
     },
     "execution_count": 155,
     "metadata": {},
     "output_type": "execute_result"
    }
   ],
   "source": [
    "solution([\"I -45\", \"I 653\", \"D 1\", \"I -642\", \"I 45\", \"I 97\", \"D 1\", \"D -1\", \"I 333\"])"
   ]
  },
  {
   "cell_type": "raw",
   "id": "55f3ab9f-7787-4177-adbb-4d58bda5e927",
   "metadata": {},
   "source": [
    "상황 분할이 중요\n",
    "문제 상황 분할이 완벽할때 루프 => while True도 괜첞"
   ]
  },
  {
   "cell_type": "markdown",
   "id": "ba9cd4d7-bf4b-48f7-adbe-f8dfac0d0548",
   "metadata": {},
   "source": [
    "# 해시"
   ]
  },
  {
   "cell_type": "markdown",
   "id": "ed9122b0-42b1-4b8f-add9-164edc6470e2",
   "metadata": {},
   "source": [
    "### 완주하지 못한 선수"
   ]
  },
  {
   "cell_type": "markdown",
   "id": "c1032463-9eb7-45d3-81ae-53e949729717",
   "metadata": {},
   "source": [
    "##### https://school.programmers.co.kr/learn/courses/30/lessons/42576?language=python3"
   ]
  },
  {
   "cell_type": "raw",
   "id": "be005eba-85b1-479f-8ef2-d27faa8e50b2",
   "metadata": {},
   "source": [
    "참가자 딕셔너리 형성\n",
    "동명이인이면 += 1\n",
    "\n",
    "완주자 순회하며\n",
    "    딕셔너리[현재 순회 원소] == 1 이면 삭제\n",
    "    그 이상이면 -= 1"
   ]
  },
  {
   "cell_type": "code",
   "execution_count": 161,
   "id": "577303bb-d115-4ded-bc66-4be53d034819",
   "metadata": {},
   "outputs": [],
   "source": [
    "def solution(participant, completion):\n",
    "    p_dict = dict()\n",
    "    for p in participant:\n",
    "        if p in p_dict:\n",
    "            p_dict[p] += 1\n",
    "        else:\n",
    "            p_dict[p] = 1\n",
    "    \n",
    "    for c in completion:\n",
    "        if p_dict[c] == 1:\n",
    "            del p_dict[c]\n",
    "        else:\n",
    "            p_dict[c] -= 1\n",
    "            \n",
    "    return list(p_dict.keys())[0]"
   ]
  },
  {
   "cell_type": "raw",
   "id": "2642cefd-484f-48fa-bf82-14e98b54731e",
   "metadata": {},
   "source": [
    "딕셔너리 접근법 익혀야함"
   ]
  },
  {
   "cell_type": "markdown",
   "id": "bc4b8cc1-7f44-44fb-9e6f-c46e2fcad650",
   "metadata": {},
   "source": [
    "### 전화번호 목록"
   ]
  },
  {
   "cell_type": "markdown",
   "id": "c6d74af1-29a3-4953-863b-5d166a5c9de9",
   "metadata": {},
   "source": [
    "##### https://school.programmers.co.kr/learn/courses/30/lessons/42577?language=python3"
   ]
  },
  {
   "cell_type": "raw",
   "id": "76bafb7f-8fcd-4ad4-a062-2fda16b112de",
   "metadata": {},
   "source": [
    "접두어 => 전화번호의 앞에서부터가 중요\n",
    "\n",
    "전화번호 리스트에 대해\n",
    "    각 전화번호가 가질 수 있는 접두어를 딕셔너리에 모두 저장한다\n",
    "    \n",
    "전화번호 리스트에 대해\n",
    "    각 전화번호가 리스트에 있는지 확인\n",
    "        있으면 return False\n",
    "\n",
    "return True"
   ]
  },
  {
   "cell_type": "code",
   "execution_count": 12,
   "id": "eba5b5e2-fb23-4024-821e-c0a2c59c2001",
   "metadata": {},
   "outputs": [],
   "source": [
    "def solution(phone_book):\n",
    "    phone_dict = dict()\n",
    "    for phone_num in phone_book:\n",
    "        for i in range(1, len(phone_num)):\n",
    "            if not phone_num[0:i] in phone_dict:\n",
    "                phone_dict[phone_num[0:i]] = True\n",
    "    \n",
    "    for phone_num in phone_book:\n",
    "        if phone_num in phone_dict:\n",
    "            return False\n",
    "    \n",
    "    return True"
   ]
  },
  {
   "cell_type": "raw",
   "id": "262afc6d-9f0f-4159-9ad3-808918a9a9c7",
   "metadata": {},
   "source": [
    "solution([\"123\",\"456\",\"789\"])"
   ]
  },
  {
   "cell_type": "raw",
   "id": "55b4d702-f75c-4abb-a9ae-1308607398dc",
   "metadata": {},
   "source": [
    "접두어사전에는 전화번호 자기 자신이 포함되지 않는다\n",
    "문제에서 같은 번호가 중복으로 있지 않다고 했다\n",
    "이는 지금 검사하고 있는 번호가 다른 번호 전체랑 같은지 비교할 일이 없게 만들기 떄문\n",
    "인덱싱 조심"
   ]
  },
  {
   "cell_type": "markdown",
   "id": "705b11a1-918e-4fae-b9ff-6d2361a31666",
   "metadata": {},
   "source": [
    "### 의상"
   ]
  },
  {
   "cell_type": "markdown",
   "id": "1aa63e64-d016-4b6a-8ddb-573ac1e67a7f",
   "metadata": {},
   "source": [
    "##### https://school.programmers.co.kr/learn/courses/30/lessons/42578?language=python3 "
   ]
  },
  {
   "cell_type": "raw",
   "id": "3a6df455-dda2-43b2-aba8-7c47e88ddf11",
   "metadata": {},
   "source": [
    "# 각 입력을 딕셔너리로 바꿔서 저장하고 각 요소에 대해 조합을 뽑으면됨\n",
    "# 상 : 1,2,3 중: 1,2 하: 1,2 일때\n",
    "    => 상 : 1,2,3,X 중 : 1,2,X 하:1,2,X\n",
    "    => 4 * 3 * 3 - 1(아무것도 안입는거)"
   ]
  },
  {
   "cell_type": "code",
   "execution_count": 16,
   "id": "ddc39847-1636-43da-b938-34f971318dfc",
   "metadata": {},
   "outputs": [],
   "source": [
    "def solution(clothes):\n",
    "    cloth_dict = dict()\n",
    "    for cloth in clothes:\n",
    "        if not cloth[1] in cloth_dict:\n",
    "            cloth_dict[cloth[1]] = 1\n",
    "        else:\n",
    "            cloth_dict[cloth[1]] += 1\n",
    "    nums = list(cloth_dict.values())\n",
    "    answer = 1\n",
    "    for num in nums:\n",
    "        answer *= num+1\n",
    "    return answer - 1"
   ]
  },
  {
   "cell_type": "code",
   "execution_count": 17,
   "id": "51667c42-832e-4699-9bc1-c32df4b572c9",
   "metadata": {},
   "outputs": [
    {
     "data": {
      "text/plain": [
       "5"
      ]
     },
     "execution_count": 17,
     "metadata": {},
     "output_type": "execute_result"
    }
   ],
   "source": [
    "solution([[\"yellow_hat\", \"headgear\"], [\"blue_sunglasses\", \"eyewear\"], [\"green_turban\", \"headgear\"]])"
   ]
  },
  {
   "cell_type": "markdown",
   "id": "d8d42224-df1d-4e71-8203-264e41c02400",
   "metadata": {},
   "source": [
    "### 베스트앨범"
   ]
  },
  {
   "cell_type": "markdown",
   "id": "523569c1-f884-4320-ba8a-8995825bf763",
   "metadata": {},
   "source": [
    "##### https://school.programmers.co.kr/learn/courses/30/lessons/42579?language=python3"
   ]
  },
  {
   "cell_type": "raw",
   "id": "ed2c2534-a6d9-4d33-9a68-5607c8f0d3fe",
   "metadata": {},
   "source": [
    "속한 장르로 먼저 구분\n",
    "장르 속에서 많이 재생된 노래 2개를 뽑음(많이 재생된 노래가 다수면 인덱스가 낮은거 부터)\n",
    "\n",
    "장르 횟수 딕셔너리\n",
    "장르에서 탑 2곡 <= 이거 최대 힙 써보자 \n",
    "=> 장르 곡 딕셔너리 \n",
    "=> {장르1: [힙]}\n",
    "\n",
    "장르 리스트에 대해\n",
    "    장르 딕셔너리에 이 장르가 없으면, 추가\n",
    "    있으면, += 횟수\n",
    "    장르 힙들에 이 장르가 없으면, \n",
    "        만들고\n",
    "        힙 push\n",
    "    있으면\n",
    "        힙 push\n",
    "        \n"
   ]
  },
  {
   "cell_type": "code",
   "execution_count": 31,
   "id": "b1a982f1-8eaa-4cff-95c1-f61412a967b9",
   "metadata": {},
   "outputs": [],
   "source": [
    "import heapq\n",
    "\n",
    "def solution(genres, plays):\n",
    "    \n",
    "    genres_dict = dict()\n",
    "    genres_heaps = dict()\n",
    "    \n",
    "    for i in range(len(genres)):\n",
    "        \n",
    "        if not genres[i] in genres_dict:\n",
    "            genres_dict[genres[i]] = plays[i]\n",
    "        else:\n",
    "            genres_dict[genres[i]] += plays[i]\n",
    "        \n",
    "        if not genres[i] in genres_heaps:\n",
    "            genres_heaps[genres[i]] = []\n",
    "            heapq.heappush(genres_heaps[genres[i]],(-1*plays[i], i))\n",
    "        else:\n",
    "            heapq.heappush(genres_heaps[genres[i]],(-1*plays[i], i))\n",
    "            \n",
    "    \n",
    "    #print(genres_dict)\n",
    "    #print(genres_heaps)\n",
    "    \n",
    "    max_genres = []\n",
    "    count = 0\n",
    "    while True:\n",
    "        target = max(genres_dict, key = genres_dict.get)\n",
    "        max_genres.append(target)\n",
    "        del genres_dict[target]\n",
    "        count += 1\n",
    "        if count == 2 or len(genres_dict) == 0:\n",
    "            break\n",
    "    #print(max_genres)\n",
    "    \n",
    "    output_plays = []\n",
    "    for max_genre in max_genres:\n",
    "        count_2 = 0 \n",
    "        while True:\n",
    "            if genres_heaps[max_genre]:\n",
    "                target = heapq.heappop(genres_heaps[max_genre])\n",
    "                output_plays.append(target[1])\n",
    "                count_2 += 1\n",
    "            else:\n",
    "                break\n",
    "            if count_2 == 2:\n",
    "                break\n",
    "    #print(output_plays)\n",
    "\n",
    "    return output_plays\n",
    "    "
   ]
  },
  {
   "cell_type": "code",
   "execution_count": 35,
   "id": "4292489b-3975-4390-96bf-5f00d1f8378a",
   "metadata": {},
   "outputs": [
    {
     "data": {
      "text/plain": [
       "[4, 1, 5]"
      ]
     },
     "execution_count": 35,
     "metadata": {},
     "output_type": "execute_result"
    }
   ],
   "source": [
    "solution([\"classic\", \"pop\", \"classic\", \"classic\", \"pop\", \"blues\"],[500, 600, 150, 800, 2500,3000])"
   ]
  },
  {
   "cell_type": "raw",
   "id": "0dc3e0be-32d2-4077-9581-c010e69b2575",
   "metadata": {},
   "source": [
    "실패다. \"많이 재생된 노래가 다수면 인덱스가 낮은거 부터\"이걸 생각안하고 있었음.\n",
    "우선 딕셔너리에서 value가 가장 높은 걸 뽑는것도 max를 쓴다(대신 key = 딕셔너리.get 으로 해야함)"
   ]
  },
  {
   "cell_type": "code",
   "execution_count": 13,
   "id": "731132ef-c522-4da0-8223-585566609cf2",
   "metadata": {},
   "outputs": [],
   "source": [
    "import heapq\n",
    "from collections import deque\n",
    "\n",
    "def solution(genres, plays):\n",
    "    \n",
    "    genres_dict = dict()\n",
    "    genres_plays = {} # (노래 횟수, 노래 인덱스)\n",
    "    \n",
    "    for i in range(len(genres)):\n",
    "        \n",
    "        if not genres[i] in genres_dict:\n",
    "            genres_dict[genres[i]] = plays[i]\n",
    "        else:\n",
    "            genres_dict[genres[i]] += plays[i]\n",
    "        \n",
    "        if not genres[i] in genres_plays:\n",
    "            genres_plays[genres[i]] = []\n",
    "            genres_plays[genres[i]].append((-plays[i],i))\n",
    "        else:\n",
    "            genres_plays[genres[i]].append((-plays[i],i))\n",
    "      \n",
    "    for genre in genres_plays.keys():\n",
    "        genres_plays[genre] = deque(sorted(genres_plays[genre], key = lambda x: (x[0],x[1])))\n",
    "        \n",
    "    # genres_plays 정렬\n",
    "    #print(genres_dict)\n",
    "    print(genres_plays)\n",
    "    \n",
    "    max_genres = []\n",
    "    #count = 0\n",
    "    while True:\n",
    "        target = max(genres_dict, key = genres_dict.get)\n",
    "        max_genres.append(target)\n",
    "        del genres_dict[target]\n",
    "        if len(genres_dict) == 0:\n",
    "            break\n",
    "    print(max_genres)\n",
    "    \n",
    "    output = []\n",
    "    for max_genre in max_genres:\n",
    "        count_2 = 0\n",
    "        while True:\n",
    "            if genres_plays[max_genre]:\n",
    "                target = genres_plays[max_genre].popleft()\n",
    "                output.append(target[1])\n",
    "                count_2 += 1\n",
    "            else:\n",
    "                break\n",
    "            if count_2 > 2: \n",
    "                break\n",
    "    return output"
   ]
  },
  {
   "cell_type": "code",
   "execution_count": 14,
   "id": "3fd61412-3a11-4c45-9c5e-12cb833999bf",
   "metadata": {},
   "outputs": [
    {
     "name": "stdout",
     "output_type": "stream",
     "text": [
      "{'classic': deque([(-800, 3), (-500, 0), (-150, 2)]), 'pop': deque([(-2500, 4), (-600, 1)]), 'blues': deque([(-3000, 5)])}\n",
      "['pop', 'blues', 'classic']\n"
     ]
    },
    {
     "data": {
      "text/plain": [
       "[4, 1, 5, 3, 0, 2]"
      ]
     },
     "execution_count": 14,
     "metadata": {},
     "output_type": "execute_result"
    }
   ],
   "source": [
    "solution([\"classic\", \"pop\", \"classic\", \"classic\", \"pop\", \"blues\"],[500, 600, 150, 800, 2500,3000])"
   ]
  },
  {
   "cell_type": "code",
   "execution_count": 15,
   "id": "34e1107a-e468-4cc3-867c-b2e47bbc52e2",
   "metadata": {},
   "outputs": [
    {
     "name": "stdout",
     "output_type": "stream",
     "text": [
      "{'a': deque([(-3, 2), (-1, 0)]), 'b': deque([(-2, 1)])}\n",
      "['a', 'b']\n"
     ]
    },
    {
     "data": {
      "text/plain": [
       "[2, 0, 1]"
      ]
     },
     "execution_count": 15,
     "metadata": {},
     "output_type": "execute_result"
    }
   ],
   "source": [
    "genres =['a','b','a']\n",
    "plays =[1,2,3]\n",
    "solution(genres, plays)"
   ]
  },
  {
   "cell_type": "code",
   "execution_count": 16,
   "id": "70a9eb01-e3d1-46e6-b904-0d8a39c4d862",
   "metadata": {},
   "outputs": [
    {
     "name": "stdout",
     "output_type": "stream",
     "text": [
      "{'classic': deque([(-800, 3), (-501, 2), (-500, 0)]), 'pop': deque([(-900, 4), (-600, 1)])}\n",
      "['classic', 'pop']\n"
     ]
    },
    {
     "data": {
      "text/plain": [
       "[3, 2, 0, 4, 1]"
      ]
     },
     "execution_count": 16,
     "metadata": {},
     "output_type": "execute_result"
    }
   ],
   "source": [
    "genres = [\"classic\", \"pop\", \"classic\", \"classic\", \"pop\"]\n",
    "plays =[500, 600, 501, 800, 900]\n",
    "solution(genres, plays)"
   ]
  },
  {
   "cell_type": "raw",
   "id": "65c0bb43-0787-4667-89ea-c7697eacac5b",
   "metadata": {},
   "source": [
    "틀린 이유는 문제 이해를 잘못해서였음.\n",
    "장르도 많이 재생된 Top2를 뽑고, 그 안에서 2개의 노래를 또 뽑는줄 알았음"
   ]
  },
  {
   "cell_type": "markdown",
   "id": "f4589b23-135f-40d6-ac82-4979494c8d20",
   "metadata": {},
   "source": [
    "##### 재풀이"
   ]
  },
  {
   "cell_type": "code",
   "execution_count": 3,
   "id": "d6da9e85-9be6-4ddd-9ffa-3c0946e3da6a",
   "metadata": {},
   "outputs": [],
   "source": [
    "from collections import defaultdict\n",
    "\n",
    "def solution(genres, plays):\n",
    "    # defaultdict 사용\n",
    "    # 없는 key값이 들어오면 default값으로 value를 생성\n",
    "    genre_dict = defaultdict(list)\n",
    "    genre_play_dict = defaultdict(int)\n",
    "    for i in range(len(plays)):\n",
    "        genre_dict[genres[i]].append((plays[i],i))\n",
    "        genre_play_dict[genres[i]] += plays[i]\n",
    "    for key in genre_dict.keys():\n",
    "        genre_dict[key].sort(key = lambda x:x[0], reverse = True)\n",
    "    print(genre_dict)\n",
    "    print(genre_play_dict)\n",
    "    genre_top = list(genre_play_dict.items())\n",
    "    genre_top.sort(key = lambda x:x[1], reverse = True)\n",
    "    print(genre_top)\n",
    "    result = []\n",
    "    for x in genre_top:\n",
    "        result += genre_dict[x[0]][:2]\n",
    "    result = [x[1] for x in result]\n",
    "    return result"
   ]
  },
  {
   "cell_type": "raw",
   "id": "583874c7-b3aa-445b-ae65-a5064276d1a3",
   "metadata": {},
   "source": [
    "# defaultdict 사용 => 편하다\n",
    "# 정렬 단순화 <= list.sort(key = lambda x:x[0]) => 리스트의 원소의 0번째 값을 기준으로 정렬\n",
    "# 참고로 .sort() 는 메서드, 반환값은 \"없음\" => 메서드를 적용한 리스트를 바로 변수에 할당하는 오류는 범하지 말자\n",
    "# 괜찮은 방법을 많이 썼어도 길이가 많이 길어진 감이 있는데, 처음에 input => output까지의 로직을 적어놓고 validation한 다음 코드를 작성하는 편이 빠르겠다"
   ]
  },
  {
   "cell_type": "markdown",
   "id": "e1892c5b-5fb6-426b-94c5-0030fb0b99ab",
   "metadata": {},
   "source": [
    "### 폰켓몬"
   ]
  },
  {
   "cell_type": "markdown",
   "id": "f9195a46-2127-414b-b65e-c5e991bb9a3b",
   "metadata": {},
   "source": [
    "##### https://school.programmers.co.kr/learn/courses/30/lessons/1845?language=python3"
   ]
  },
  {
   "cell_type": "raw",
   "id": "3699b431-a976-4a7a-907c-b0615710cfa1",
   "metadata": {},
   "source": [
    "지금 문제 상황을 이해했을때, 가장 간단해보이는 풀이는 모든 조합을 조사하는 것.\n",
    "itertools를 쓰면 될 것 같지만 효율적인 방법은 아닐 것 같음.\n",
    "일단 해보자."
   ]
  },
  {
   "cell_type": "code",
   "execution_count": 20,
   "id": "0d880f2d-bf24-4a8c-be51-683cc6da3df2",
   "metadata": {},
   "outputs": [
    {
     "data": {
      "text/plain": [
       "[(1, 2), (1, 3), (2, 3)]"
      ]
     },
     "execution_count": 20,
     "metadata": {},
     "output_type": "execute_result"
    }
   ],
   "source": [
    "from itertools import combinations\n",
    "list(combinations([1,2,3], 2))"
   ]
  },
  {
   "cell_type": "code",
   "execution_count": 40,
   "id": "e2a59585-b7b1-4dfa-96e9-ebc226c898e0",
   "metadata": {},
   "outputs": [],
   "source": [
    "from itertools import combinations\n",
    "\n",
    "def solution(nums):\n",
    "    coms = list(combinations(nums,len(nums)//2))\n",
    "    max_count = 0 \n",
    "    for com in coms:\n",
    "        com = set(com)\n",
    "        if max_count < len(com):\n",
    "            max_count = len(com)\n",
    "    return max_count"
   ]
  },
  {
   "cell_type": "raw",
   "id": "c9a9f098-af00-49d5-8465-56aaa1034a60",
   "metadata": {},
   "source": [
    "실패 <= 시간초과"
   ]
  },
  {
   "cell_type": "raw",
   "id": "980a7332-52c0-4d45-9a9b-e0fe31c28e2d",
   "metadata": {},
   "source": [
    "일단 nums를 순화하면서 포켓몬의 종류와 그 갯수를 체크하자\n",
    "절반보다 포켓몬의 종류가 많으면 그냥 절반 가져가면 되고,\n",
    "절반보다 포켓몬의 종류가 적으면 그냥 포켓몬의 종류를 가져가면됨."
   ]
  },
  {
   "cell_type": "code",
   "execution_count": 48,
   "id": "e9aa84e1-1189-4332-9a9c-b32d85a1be15",
   "metadata": {},
   "outputs": [],
   "source": [
    "def solution(nums):\n",
    "    mon_dict = dict()\n",
    "    for num in nums:\n",
    "        if not num in mon_dict:\n",
    "            mon_dict[num] = 1\n",
    "        else:\n",
    "            mon_dict[num] += 1\n",
    "    if len(nums)//2 > len(mon_dict):\n",
    "        return len(mon_dict)\n",
    "    else:\n",
    "        return len(nums)//2\n",
    "        "
   ]
  },
  {
   "cell_type": "code",
   "execution_count": 49,
   "id": "ea49b2ac-d844-4fb7-8ca2-d55619b56be3",
   "metadata": {},
   "outputs": [
    {
     "data": {
      "text/plain": [
       "5"
      ]
     },
     "execution_count": 49,
     "metadata": {},
     "output_type": "execute_result"
    }
   ],
   "source": [
    "solution([1,2,3,4,1,2,3,4,5,6])"
   ]
  },
  {
   "cell_type": "markdown",
   "id": "576f7442-db18-4ad4-a2ef-8693acd0c4b9",
   "metadata": {},
   "source": [
    "### 올바른 괄호"
   ]
  },
  {
   "cell_type": "markdown",
   "id": "b03a3bca-96db-4fd9-9a2c-ca33010c0369",
   "metadata": {},
   "source": [
    "##### https://school.programmers.co.kr/learn/courses/30/lessons/12909?language=python3"
   ]
  },
  {
   "cell_type": "raw",
   "id": "0a42e2a5-8ee9-4eb9-9de9-8e5b7faf2242",
   "metadata": {},
   "source": [
    "지금 마주친 괄호가 스택의 top원소를 닫아주는 원소면 stack에서 pop한다"
   ]
  },
  {
   "cell_type": "code",
   "execution_count": 53,
   "id": "cf519f8f-d029-4860-b36d-d705111e56af",
   "metadata": {},
   "outputs": [],
   "source": [
    "def solution(s):\n",
    "    stack = []\n",
    "    for x in s:\n",
    "        if stack:\n",
    "            if stack[-1] == '(':\n",
    "                if x == ')':\n",
    "                    stack.pop()\n",
    "                else:\n",
    "                    stack.append(x)\n",
    "            else:\n",
    "                stack.append(x)\n",
    "        else:\n",
    "            stack.append(x)\n",
    "    \n",
    "    if stack:\n",
    "        return False\n",
    "    else:\n",
    "        return True"
   ]
  },
  {
   "cell_type": "code",
   "execution_count": 54,
   "id": "66f1cf04-a782-4d8b-b4eb-bfd8e138f7e0",
   "metadata": {},
   "outputs": [
    {
     "data": {
      "text/plain": [
       "False"
      ]
     },
     "execution_count": 54,
     "metadata": {},
     "output_type": "execute_result"
    }
   ],
   "source": [
    "solution('()()()(')"
   ]
  },
  {
   "cell_type": "raw",
   "id": "99ddcca2-ecb4-471e-9951-582c1c2b406d",
   "metadata": {},
   "source": [
    "풀떄마다 로직이 달라지는 것 같다. 우선, 상황을 이진으로 나누는 것이 제일 중요한듯(개인적으로 생각했을때, 문제가 간단해진다)\n",
    "\n",
    "상황을 분할하여, 각 상황에 맞는 행동을 정의하도록 하자. (우선은)"
   ]
  },
  {
   "cell_type": "markdown",
   "id": "3185e7eb-451c-449d-93ff-91329a4e0408",
   "metadata": {},
   "source": [
    "### 기능 개발"
   ]
  },
  {
   "cell_type": "markdown",
   "id": "a0a34415-84e4-4989-8b62-3b644d916922",
   "metadata": {},
   "source": [
    "##### https://school.programmers.co.kr/learn/courses/30/lessons/42586?language=python3"
   ]
  },
  {
   "cell_type": "raw",
   "id": "10bf1a50-876b-4351-a15e-815859641629",
   "metadata": {},
   "source": [
    "# 작업 완료까지 필요한 일수 계산 => days 리스트\n",
    "\n",
    "# 스택 로직\n",
    "days배열을 히스토그램으로 나타냈을때, 삼각형의 길이를 산출하면됨\n",
    "\n",
    "days 리스트를 순회하며\n",
    "    큐가 비었다면,\n",
    "        일단 넣기\n",
    "    큐가 비지 않았다면,\n",
    "        큐의 첫 번째 원소(제일 크다고 판단되는)보다 작거나 같으면\n",
    "            넣기\n",
    "        큐의 첫 번째 원소보다 크면\n",
    "            큐의 길이를 정답에 저장하고 큐 비우기\n",
    "            큐에 넣기\n",
    "한번 다 돌았으면 큐에 무조건 뭐가 남아있음\n",
    "큐의 길이 정답에 추가하고 return"
   ]
  },
  {
   "cell_type": "code",
   "execution_count": 31,
   "id": "8d3208f6-2985-4a49-a198-fdd5c644c1fb",
   "metadata": {},
   "outputs": [],
   "source": [
    "from collections import deque\n",
    "\n",
    "def solution(progresses, speeds):\n",
    "    days = []\n",
    "    for i in range(len(progresses)):\n",
    "        count = 0\n",
    "        while progresses[i] < 100:\n",
    "            progresses[i] += speeds[i]\n",
    "            count += 1\n",
    "        days.append(count)\n",
    "    \n",
    "    queue = deque()\n",
    "    answer = []\n",
    "    for day in days:\n",
    "        if not queue:\n",
    "            queue.append(day)\n",
    "        else:\n",
    "            if day <= queue[0]:\n",
    "                queue.append(day)\n",
    "            else:\n",
    "                answer.append(len(queue))\n",
    "                queue.clear()\n",
    "                queue.append(day)\n",
    "    answer.append(len(queue))\n",
    "    \n",
    "    return answer"
   ]
  },
  {
   "cell_type": "code",
   "execution_count": 32,
   "id": "2bf1b6d3-28e0-49f9-84f8-2101f9eddb39",
   "metadata": {},
   "outputs": [
    {
     "name": "stdout",
     "output_type": "stream",
     "text": [
      "[1, 3, 2]\n"
     ]
    }
   ],
   "source": [
    "solution([95, 90, 99, 99, 80, 99],[1, 1, 1, 1, 1, 1])"
   ]
  },
  {
   "cell_type": "markdown",
   "id": "774a2f0d-b137-4253-83bd-21639008ba90",
   "metadata": {},
   "source": [
    "### 프로세스 "
   ]
  },
  {
   "cell_type": "markdown",
   "id": "f5fd5517-5871-4189-8a0d-05664d3440f1",
   "metadata": {},
   "source": [
    "##### https://school.programmers.co.kr/learn/courses/30/lessons/42587?language=python3"
   ]
  },
  {
   "cell_type": "raw",
   "id": "3a48f48c-8514-44d5-a1f7-784a197379cc",
   "metadata": {},
   "source": [
    "일단 그냥 적힌대로 해보자\n",
    "1. 실행 대기 큐(Queue)에서 대기중인 프로세스 하나를 꺼냅니다.\n",
    "2. 큐에 대기중인 프로세스 중 우선순위가 더 높은 프로세스가 있다면 방금 꺼낸 프로세스를 다시 큐에 넣습니다.\n",
    "3. 만약 그런 프로세스가 없다면 방금 꺼낸 프로세스를 실행합니다.\n",
    "  3.1 한 번 실행한 프로세스는 다시 큐에 넣지 않고 그대로 종료됩니다."
   ]
  },
  {
   "cell_type": "code",
   "execution_count": 44,
   "id": "9f7b6ec5-e326-43a9-833a-681cf2a9a0d8",
   "metadata": {},
   "outputs": [],
   "source": [
    "from collections import deque\n",
    "\n",
    "def solution(priorities, location):\n",
    "    index_list = deque(range(len(priorities))) #[0,1,2,3]\n",
    "    priorities = deque(priorities)\n",
    "    \n",
    "    exe_count = 0\n",
    "    while index_list:\n",
    "        max_priority = max(priorities)\n",
    "        now_work = index_list.popleft()\n",
    "        now_priority = priorities.popleft()\n",
    "        if now_priority >= max_priority:\n",
    "            #print('execute')\n",
    "            exe_count += 1\n",
    "            if now_work == location:\n",
    "                return exe_count\n",
    "        else:\n",
    "            index_list.append(now_work)\n",
    "            priorities.append(now_priority)\n",
    "            #print('do not execute')\n",
    "        \n",
    "    return -1"
   ]
  },
  {
   "cell_type": "code",
   "execution_count": 45,
   "id": "eb4e0e16-19eb-4732-9292-9c366cf2d111",
   "metadata": {},
   "outputs": [
    {
     "data": {
      "text/plain": [
       "1"
      ]
     },
     "execution_count": 45,
     "metadata": {},
     "output_type": "execute_result"
    }
   ],
   "source": [
    "solution([2, 1, 3, 2], 2)"
   ]
  },
  {
   "cell_type": "markdown",
   "id": "e18827dd-1a41-4ecb-b117-60994ae7629b",
   "metadata": {},
   "source": [
    "### 주식가격"
   ]
  },
  {
   "cell_type": "markdown",
   "id": "04ec3d14-4c1c-4957-9d91-f4e14783a4fb",
   "metadata": {},
   "source": [
    "##### https://school.programmers.co.kr/learn/courses/30/lessons/42584?language=python3"
   ]
  },
  {
   "cell_type": "raw",
   "id": "223594b7-0cee-481c-aa59-159569e519e6",
   "metadata": {},
   "source": []
  },
  {
   "cell_type": "code",
   "execution_count": 43,
   "id": "b79c118f-7e2d-473b-b18e-d1aa850ce02d",
   "metadata": {},
   "outputs": [],
   "source": [
    "def solution(prices):\n",
    "    prices = [[x,0] for x in prices]\n",
    "    for i in range(len(prices)):\n",
    "        prices[i].append(i)\n",
    "    # print(prices) \n",
    "    # [값, 버틴 기간, 원래 인덱스]\n",
    "    stack = []\n",
    "    pops = []\n",
    "    for price in prices:\n",
    "        for i in range(len(stack)):\n",
    "            stack[i][1] += 1\n",
    "        if stack:\n",
    "            while True:\n",
    "                if stack[-1][0] <= price[0]:\n",
    "                    stack.append(price)\n",
    "                    break\n",
    "                else:\n",
    "                    pops.append(stack.pop()) \n",
    "        else:\n",
    "            stack.append(price)\n",
    "    pops += stack\n",
    "    pops.sort(key = lambda x: x[2])\n",
    "    result = []\n",
    "    for pop in pops:\n",
    "        result.append(pop[1])\n",
    "    return result"
   ]
  },
  {
   "cell_type": "code",
   "execution_count": 45,
   "id": "55235156-37e2-4dff-89f1-0389e3114b32",
   "metadata": {},
   "outputs": [
    {
     "data": {
      "text/plain": [
       "[5, 4, 2, 1, 1, 0]"
      ]
     },
     "execution_count": 45,
     "metadata": {},
     "output_type": "execute_result"
    }
   ],
   "source": [
    "solution([1, 2, 3, 3, 2, 3])"
   ]
  },
  {
   "cell_type": "raw",
   "id": "21feabca-3f8a-41f5-9def-90a78f4b39fa",
   "metadata": {},
   "source": [
    "런타임 에러 <= 노드에 너무 많은 값을 저장하긴 함, 순회도 많이 하고,\n",
    "그리고 while문 계속 실행되는듯"
   ]
  },
  {
   "cell_type": "raw",
   "id": "c4f3c3ee-2bc0-4954-8bbe-a06faba5203e",
   "metadata": {},
   "source": [
    "[3,3,2,2,3,4,3,2,1]\n",
    "\n",
    "스택이 비었을때, 인덱스 먹음\n",
    "while stack:\n",
    "    스택 Top원소가 마주치는 원소보다 크면, \n",
    "        인덱스 뱉음\n",
    "        한번 더 비교\n",
    "    아니면, \n",
    "        인덱스 먹음\n",
    "        다음 원소로 넘어감"
   ]
  },
  {
   "cell_type": "code",
   "execution_count": 109,
   "id": "dea0e18d-8b75-4f78-974f-3072fcbc4c50",
   "metadata": {},
   "outputs": [],
   "source": [
    "def solution(prices):\n",
    "    result = [0 for _ in range(len(prices))]\n",
    "    stack = []\n",
    "    \n",
    "    for i in range(len(prices)):\n",
    "        #print(f'current price : {prices[i]}')\n",
    "        for j in stack:\n",
    "            result[j] += 1\n",
    "        while stack:\n",
    "            if prices[stack[-1]] > prices[i]:\n",
    "                stack.pop()\n",
    "                #print(f'pop! stack : {stack}')\n",
    "                continue\n",
    "            else:\n",
    "                stack.append(i)\n",
    "                break\n",
    "        if not stack:\n",
    "            stack.append(i)\n",
    "            #print(f'not stack stack.append({i})')\n",
    "            continue\n",
    "        #print(f'stack : {stack}')\n",
    "    return result  "
   ]
  },
  {
   "cell_type": "code",
   "execution_count": 110,
   "id": "c716caf2-4781-447b-841b-55bebdc21679",
   "metadata": {},
   "outputs": [
    {
     "data": {
      "text/plain": [
       "[4, 3, 1, 1, 0]"
      ]
     },
     "execution_count": 110,
     "metadata": {},
     "output_type": "execute_result"
    }
   ],
   "source": [
    "solution([1,2,3,2,3])"
   ]
  },
  {
   "cell_type": "raw",
   "id": "cdb38386-ed05-4c79-b569-6ee1033262df",
   "metadata": {},
   "source": [
    "어렵다 ... 루프 상에서 프로세스의 순서도 잘 배치해야함."
   ]
  },
  {
   "cell_type": "markdown",
   "id": "0d06a9a4-f367-485f-a668-b3d6cce3599b",
   "metadata": {},
   "source": [
    "#### 재풀이"
   ]
  },
  {
   "cell_type": "code",
   "execution_count": null,
   "id": "477159ed-2292-48dd-a794-9a1d65ed2ede",
   "metadata": {},
   "outputs": [],
   "source": [
    "def solution(prices):\n",
    "    # enumerate 사용\n",
    "    # 리스트의 값과 인덱스에 동시 접근 =\n",
    "    # stack 사용 \n",
    "    # => 스택이 비었으면 넣고, \n",
    "    #   스택이 비지 않았을때,\n",
    "    #       stack[-1]보다 지금 값이 크거나 같으면 넣음 \n",
    "    #       stack[-1]보다 지금 값이 작으면 \n",
    "    #           not stack이거나 stack[-1]이 지금값보다 크거나 같을때까지 pop\n",
    "    # stack에서 나올 때 필요한 것 => [원래 인덱스, 버틴 기간]\n",
    "    stack = []\n",
    "    pops = []\n",
    "    for idx, price in enumerate(prices):\n",
    "        #print(f'현재 idx : {idx}')\n",
    "        #print(f'stack : {stack}')\n",
    "        if not stack:\n",
    "            #print(f'스택 비었음, idx : {idx}, price : {price} 추가')\n",
    "            stack.append([idx, price])\n",
    "        else:\n",
    "            if stack[-1][1] <= price:\n",
    "                #print(f'stack[-1][1] : {stack[-1][1]}이 현재 price {price}보다 작거나 같음')\n",
    "                stack.append([idx, price])\n",
    "            else:\n",
    "                while True:\n",
    "                    if not stack or stack[-1][1] <= price:\n",
    "                        stack.append([idx, price])\n",
    "                        break\n",
    "                    else:\n",
    "                        popped = stack.pop()\n",
    "                        pops.append([popped[0], idx - popped[0]])\n",
    "    while stack: #끝까지 스택에 있던 애들은 끝가지 버틴 것.\n",
    "        now_node = stack.pop()\n",
    "        pops.append([now_node[0], len(prices) - 1 - now_node[0]])\n",
    "\n",
    "    pops.sort(key = lambda x: x[0])\n",
    "    result = [x[1] for x in pops]\n",
    "    return result"
   ]
  },
  {
   "cell_type": "raw",
   "id": "3d894484-62da-4934-b7d5-63b5cae37b6f",
   "metadata": {},
   "source": [
    "# 이전 풀이가 더 간단하네...\n",
    "# 디버그를 찍을 수 있는 타이밍 => 루프는 완벽하게 종료가 되게끔 만들어야함. => 루프 설계가 핵심\n",
    "# 루프가 완전히 종료가 되어야 찍은 print를 맛볼 수 있음. 무한 루프 돌면 print가 어떻게 찍히는지도 안보임. 절대로 완벽히 종료될 수 있어야함.\n",
    "# 루프 하나 만들고, 돌아가는지 보고, 돌아가면 원하는대로 결과가 나오는지 보고, 아니라면 print 를 찍어보고, 맞다면 다음단계"
   ]
  },
  {
   "cell_type": "raw",
   "id": "f1b20cf8-bf2b-45c9-9ec2-68d58b292ca2",
   "metadata": {},
   "source": [
    "이전 코드애선 미리 버틴 기간 배열을 만들어뒀네... 저게 나은듯.\n",
    "stack은 인덱스를 먹고, 뱉을 때, 현재 시간 인덱스랑 뱉은 인덱스의 차이를 계산해서 버틴 기간 배열을 업데이트 하는 방식"
   ]
  },
  {
   "cell_type": "markdown",
   "id": "b767067f-fffe-4123-ac20-7c9757022edf",
   "metadata": {},
   "source": [
    "### 다리를 지나는 트럭"
   ]
  },
  {
   "cell_type": "markdown",
   "id": "2d0378fb-d353-416a-ac8c-889051fd1cd1",
   "metadata": {},
   "source": [
    "##### https://school.programmers.co.kr/learn/courses/30/lessons/42583?language=python3"
   ]
  },
  {
   "cell_type": "raw",
   "id": "b5946ad7-ce3a-4583-a66e-c3f08117001a",
   "metadata": {},
   "source": [
    "# 1초에 진입 시작\n",
    "# 다리 위에 트럭의 무게의 합이 브릿지랭스보다 작을때만 진입 가능 \n",
    "# 다리에 진입하면 큐에 넣음\n",
    "# 큐에 들어가는건 [트럭의 무게, weight]\n",
    "\n",
    "    \n",
    "1초 단위로 실행되는 프로세스의 순서?\n",
    "나간놈 체크 => 다리 위 무게 갱신 => 들어올 놈 체크\n",
    "\n",
    "다리 위 애들 다리길이 - 1\n",
    "큐 0번 애의 다리길이가 0이 되면 큐에서 popleft\n",
    "지금 다리 위의 무게 + 대기열 0번 <= 리미트:\n",
    "    다리 위 큐에 트럭 넣기([트럭 무게, 다리 길이])"
   ]
  },
  {
   "cell_type": "code",
   "execution_count": 139,
   "id": "36ac2863-4245-47e9-91ab-35549b22abea",
   "metadata": {},
   "outputs": [],
   "source": [
    "from collections import deque\n",
    "\n",
    "def solution(bridge_length, weight, truck_weights):\n",
    "    count = 1\n",
    "    truck_weights = deque(truck_weights)\n",
    "    on_bridge = deque()\n",
    "    on_bridge_w = 0\n",
    "    while True:\n",
    "        #print(f'now count : {count}')\n",
    "        #print(f'on_bridge : {on_bridge}')\n",
    "        #print(f'on_bridge_w : {on_bridge_w}')\n",
    "        for i in range(len(on_bridge)):\n",
    "            on_bridge[i][1] -= 1\n",
    "        if on_bridge:\n",
    "            if on_bridge[0][1] == 0:\n",
    "                out_truck = on_bridge.popleft()\n",
    "                on_bridge_w -= out_truck[0]\n",
    "        if truck_weights:\n",
    "            if on_bridge_w + truck_weights[0] <= weight:\n",
    "                in_truck_w = truck_weights.popleft()\n",
    "                on_bridge_w += in_truck_w\n",
    "                on_bridge.append([in_truck_w, bridge_length])\n",
    "        if not truck_weights and not on_bridge:\n",
    "            break\n",
    "        count += 1\n",
    "        \n",
    "    return count"
   ]
  },
  {
   "cell_type": "code",
   "execution_count": 140,
   "id": "0f6cfa6f-afc4-4148-a395-4e8acb0ce116",
   "metadata": {},
   "outputs": [
    {
     "name": "stdout",
     "output_type": "stream",
     "text": [
      "101\n"
     ]
    }
   ],
   "source": [
    "solution(100,100,[10])"
   ]
  },
  {
   "cell_type": "raw",
   "id": "9de8d083-dbe4-4be8-a9c9-658632254cf3",
   "metadata": {},
   "source": [
    "# 문제를 오래 읽자\n",
    "이 문제는 그 과정들이 자세하게 머릿 속에 그려지기만 한다면 어렵게 풀 정도는 아닌듯..? \n",
    "대신 그 단위 시간 속에서 일어나는 일련의 과정들의 순서들이 잘 정리해야하는\n",
    "글로 정리를 잘 하자"
   ]
  },
  {
   "cell_type": "markdown",
   "id": "b9b85c31-846d-4cc7-8f19-b11c99b91452",
   "metadata": {},
   "source": [
    "# 정렬"
   ]
  },
  {
   "cell_type": "markdown",
   "id": "2b7e6fe6-f727-481c-b81a-30cc9e5822ae",
   "metadata": {},
   "source": [
    "### 가장 큰 수"
   ]
  },
  {
   "cell_type": "markdown",
   "id": "96524c4e-b537-47a9-beea-0396f3be06ae",
   "metadata": {},
   "source": [
    "##### https://school.programmers.co.kr/learn/courses/30/lessons/42746?language=python3"
   ]
  },
  {
   "cell_type": "raw",
   "id": "17234a5e-57e6-438a-b263-3ffeeefc0df5",
   "metadata": {},
   "source": [
    "순열을 쓴다면 너무 간단하겠지만.. 시간초과가 두렵다...\n",
    "하지만 해본다..."
   ]
  },
  {
   "cell_type": "code",
   "execution_count": 151,
   "id": "5ee80f5f-0290-4d05-8f29-94194734c20e",
   "metadata": {},
   "outputs": [],
   "source": [
    "from itertools import permutations\n",
    "\n",
    "def solution(numbers):\n",
    "    numbers = [str(x) for x in numbers]\n",
    "    numbers = list(permutations(numbers))\n",
    "    max_num = 0\n",
    "    for coms in numbers:\n",
    "        target = int(''.join(coms))\n",
    "        if max_num < target:\n",
    "            max_num = target\n",
    "    return str(max_num)"
   ]
  },
  {
   "cell_type": "code",
   "execution_count": 152,
   "id": "004788c2-0f82-4ff1-9302-beaa1f9935f6",
   "metadata": {},
   "outputs": [
    {
     "data": {
      "text/plain": [
       "'632'"
      ]
     },
     "execution_count": 152,
     "metadata": {},
     "output_type": "execute_result"
    }
   ],
   "source": [
    "solution([6,3,2])"
   ]
  },
  {
   "cell_type": "raw",
   "id": "500377c4-ee13-49d6-9fed-c9eea38ef621",
   "metadata": {},
   "source": [
    "역시 시간초과....."
   ]
  },
  {
   "cell_type": "code",
   "execution_count": 50,
   "id": "9da721bc-39f6-4846-96d8-314fa35c17b0",
   "metadata": {},
   "outputs": [],
   "source": [
    "def solution(numbers):\n",
    "    numbers = [str(x) for x in numbers]\n",
    "    for i in range(len(numbers)):\n",
    "        #print(f'i : {i}')\n",
    "        while True:\n",
    "            now_num = numbers[i]\n",
    "            #print(f'now_num : {now_num}')\n",
    "            if i != 0:\n",
    "                #print(f'?')\n",
    "                front = numbers[i-1]\n",
    "                switch = int(now_num + front)\n",
    "                #print(f'switch : {switch}')\n",
    "                not_switch = int(front + now_num)\n",
    "                #print(f'numbers : {numbers}')\n",
    "                if switch > not_switch:\n",
    "                    #print(f'switch!')\n",
    "                    temp = front\n",
    "                    numbers[i - 1] = now_num\n",
    "                    numbers[i] = temp\n",
    "                    i -= 1\n",
    "                else:\n",
    "                    break\n",
    "            else:\n",
    "                \n",
    "                break\n",
    "    if all(x == '0' for x in numbers):\n",
    "        return '0'\n",
    "    return ''.join(numbers)\n"
   ]
  },
  {
   "cell_type": "code",
   "execution_count": 51,
   "id": "7c353927-97fd-4513-ac14-7bb0f4c7ca4e",
   "metadata": {},
   "outputs": [
    {
     "data": {
      "text/plain": [
       "'99910'"
      ]
     },
     "execution_count": 51,
     "metadata": {},
     "output_type": "execute_result"
    }
   ],
   "source": [
    "solution([1,0,9,99])"
   ]
  },
  {
   "cell_type": "raw",
   "id": "d30b9109-ee8a-4545-9d38-b467b2cfa126",
   "metadata": {},
   "source": [
    "일부 테스트 케이스에서 시간초과...."
   ]
  },
  {
   "cell_type": "code",
   "execution_count": 56,
   "id": "f3162a6b-cfd5-4823-824e-657fa9f89b62",
   "metadata": {},
   "outputs": [],
   "source": [
    "def solution(numbers):\n",
    "    numbers = list(map(str, numbers))\n",
    "    numbers.sort(key=lambda x: x * 4, reverse=True)  # 정렬 기준을 변경하여 가장 큰 수부터 정렬\n",
    "    print(numbers)\n",
    "    if all(x == '0' for x in numbers):\n",
    "        return '0'\n",
    "    return ''.join(numbers)\n"
   ]
  },
  {
   "cell_type": "code",
   "execution_count": 58,
   "id": "35cf95c1-6589-4749-ad5b-028f6978fe9a",
   "metadata": {},
   "outputs": [
    {
     "name": "stdout",
     "output_type": "stream",
     "text": [
      "['9', '98', '1', '0']\n"
     ]
    },
    {
     "data": {
      "text/plain": [
       "'99810'"
      ]
     },
     "execution_count": 58,
     "metadata": {},
     "output_type": "execute_result"
    }
   ],
   "source": [
    "solution([1,0,9,98])"
   ]
  },
  {
   "cell_type": "raw",
   "id": "23165f6f-83c6-4664-94dc-6323e23aac7a",
   "metadata": {},
   "source": [
    "# 문자열 비교...\n",
    "12 vs 122 => '12121212' < '122122122122' \n",
    "=> 첫번째 인덱스 같으면 다음 인덱스 비교\n",
    "\n",
    "못 떠올리면 못푸는..."
   ]
  },
  {
   "cell_type": "code",
   "execution_count": 69,
   "id": "6c000871-9a10-49c6-aaaf-465557c2b0ad",
   "metadata": {},
   "outputs": [
    {
     "data": {
      "text/plain": [
       "True"
      ]
     },
     "execution_count": 69,
     "metadata": {},
     "output_type": "execute_result"
    }
   ],
   "source": [
    "'12121212' < '122122122122'"
   ]
  },
  {
   "cell_type": "markdown",
   "id": "55575864-a9b5-4ed5-be21-38bc5ef2947d",
   "metadata": {},
   "source": [
    "### H-Index"
   ]
  },
  {
   "cell_type": "markdown",
   "id": "a5c16680-95fa-4c55-b8e8-8a0e2eb82110",
   "metadata": {},
   "source": [
    "##### https://school.programmers.co.kr/learn/courses/30/lessons/42747?language=python3"
   ]
  },
  {
   "cell_type": "code",
   "execution_count": 70,
   "id": "f5fbbfba-3941-489e-b450-0c47ab732a89",
   "metadata": {},
   "outputs": [
    {
     "name": "stdout",
     "output_type": "stream",
     "text": [
      "new\n",
      "target : 3\n",
      "target : 3\n",
      "3\n"
     ]
    }
   ],
   "source": [
    "def solution(citations):\n",
    "    # [9,9,9,9,9] => 5편, 5회 이상 인용 => 5개 => h인덱스 5\n",
    "    # 이분 탐색?\n",
    "    # [4,4,4,4,4] => 5편, 5회 이상 0편 => 5편 2회 이상 5편 => 3회이상 5편 =>4회 이상 5편 \n",
    "    # [3,0,6,1,5] => 5편 => 5회 이상 2편 => 2회 이상 3편 => 3회 이상 3편 => 4회 이상 2편\n",
    "    print('new')\n",
    "    start = 0 \n",
    "    end = len(citations)\n",
    "    target = end\n",
    "    while True:\n",
    "        print(f'target : {target}')\n",
    "        if start == target: \n",
    "            break\n",
    "        more = 0\n",
    "        less = 0\n",
    "        for citation in citations:\n",
    "            if citation >= target:\n",
    "                more += 1\n",
    "        if more >= target:\n",
    "            start = target\n",
    "            target = (start+end)//2\n",
    "            continue\n",
    "        else: \n",
    "            end = target\n",
    "            target = (start+end)//2\n",
    "            continue\n",
    "            \n",
    "    return target\n",
    "\n",
    "print(solution([10, 50, 100]))"
   ]
  },
  {
   "cell_type": "raw",
   "id": "ddec9109-6fad-4fd5-80b4-7e5f426c1cc8",
   "metadata": {},
   "source": [
    "# 이분 탐색\n",
    " => 어떻게 탐색하냐에 따라서 end 값 혹은 start값에서는 탐색하지 못할 수도 있음\n",
    " => 본인 같은 경우 자주 \n",
    "     target = end\n",
    "     무한 루프\n",
    "        탈출 조건 : start == target\n",
    "        찾는 값이 target보다 크다면,\n",
    "            start = target\n",
    "            target = (start+end)//2\n",
    "        찾는 값이 target보다 작다면,\n",
    "            end = target \n",
    "            target = (start+end)//2\n",
    "=> 이렇게 하면 end부터 탐색 못함\n",
    "=> start(0)는 탐색못함\n",
    "\n",
    "# 아래 참조"
   ]
  },
  {
   "cell_type": "code",
   "execution_count": 71,
   "id": "cf499529-407d-4f8f-a9e9-5fa60aebd50c",
   "metadata": {},
   "outputs": [],
   "source": [
    "def binary_search(target, data):\n",
    "    data.sort()\n",
    "    start = 0\n",
    "    end = len(data) - 1\n",
    "\n",
    "    while start <= end:\n",
    "        mid = (start + end) // 2\n",
    "\n",
    "        if data[mid] == target:\n",
    "            return mid \n",
    "        elif data[mid] < target:\n",
    "            ###\n",
    "            start = mid + 1\n",
    "        else:\n",
    "            ###\n",
    "            end = mid -1\n",
    "\n",
    "    return None"
   ]
  },
  {
   "cell_type": "markdown",
   "id": "ee678b4e-bc7b-453a-a47e-ccb92970a15c",
   "metadata": {},
   "source": [
    "### BFS/DFS"
   ]
  },
  {
   "cell_type": "markdown",
   "id": "0dfad7b5-4aa1-4bc4-a7b6-ff41cf5b95d5",
   "metadata": {},
   "source": [
    "##### https://school.programmers.co.kr/learn/courses/30/lessons/43165?language=python3"
   ]
  },
  {
   "cell_type": "code",
   "execution_count": 5,
   "id": "d9b02742-f8e2-45be-94ed-fcb0917a139e",
   "metadata": {},
   "outputs": [],
   "source": [
    "from collections import deque\n",
    "import copy\n",
    "\n",
    "def solution(numbers, target):\n",
    "    # 노드 정의 => [계산 결과, [계산한 숫자 배열(boolean)]]\n",
    "    queue = deque()\n",
    "    start_node = [0, [False for _ in range(len(numbers))]]\n",
    "    queue.append(start_node)\n",
    "    \n",
    "    count = 0\n",
    "    while queue:\n",
    "        #print(f'queue : {queue}')\n",
    "        now_node = queue.popleft()\n",
    "        now_result = now_node[0]\n",
    "        now_boolean = now_node[1]\n",
    "        if all(now_boolean): \n",
    "            if now_result == target:\n",
    "                count += 1\n",
    "            continue\n",
    "        #now_node[1]을 순회\n",
    "        not_cal = False\n",
    "        for i in range(len(now_boolean)):\n",
    "            if now_boolean[i] == False:\n",
    "                not_cal = i\n",
    "                break\n",
    "        #print(f'not_cal : {not_cal}')\n",
    "        new_boolean = copy.deepcopy(now_boolean)\n",
    "        new_boolean[i] = True\n",
    "        plus = [now_result + numbers[not_cal], new_boolean]\n",
    "        minus = [now_result - numbers[not_cal], new_boolean]\n",
    "        queue.append(plus)\n",
    "        #print(f'plus : {plus}')\n",
    "        queue.append(minus)\n",
    "        #print(f'minus : {minus}')\n",
    "    return count"
   ]
  },
  {
   "cell_type": "code",
   "execution_count": 6,
   "id": "00f8da0f-0f9c-4467-b146-6c9346258901",
   "metadata": {},
   "outputs": [
    {
     "data": {
      "text/plain": [
       "2"
      ]
     },
     "execution_count": 6,
     "metadata": {},
     "output_type": "execute_result"
    }
   ],
   "source": [
    "solution([1,2,3],0)"
   ]
  },
  {
   "cell_type": "raw",
   "id": "901354b6-32e0-4d26-89cb-1be9549fa49c",
   "metadata": {},
   "source": [
    "테스트 케이스 1,2번 시간 초과"
   ]
  },
  {
   "cell_type": "code",
   "execution_count": 7,
   "id": "8578cc79-73bf-4353-bb95-ef764ceadad2",
   "metadata": {},
   "outputs": [],
   "source": [
    "from collections import deque\n",
    "\n",
    "def solution(numbers, target):\n",
    "    # node => [결과, 계산헤야하는 숫자 인덱스]\n",
    "    start_node = [0,0]\n",
    "    queue = deque()\n",
    "    queue.append(start_node)\n",
    "    count = 0 \n",
    "    while queue:\n",
    "        now_node = queue.popleft()\n",
    "        if now_node[1] == len(numbers):\n",
    "            if now_node[0] == target:\n",
    "                count += 1\n",
    "            continue\n",
    "        else:\n",
    "            plus = [now_node[0] + numbers[now_node[1]],now_node[1]+1]\n",
    "            minus = [now_node[0] - numbers[now_node[1]],now_node[1]+1]\n",
    "            queue.append(plus)\n",
    "            queue.append(minus)\n",
    "    return count"
   ]
  },
  {
   "cell_type": "raw",
   "id": "fea7b136-3dbc-456f-a3eb-e0a72d87879a",
   "metadata": {},
   "source": [
    "통과\n",
    "# 노드에 배열을 선언하는건 과연 미친짓일까? deepcopy는 미친짓인걸까?"
   ]
  },
  {
   "cell_type": "markdown",
   "id": "4d1f7a3a-51c8-4536-812f-8830bc4072c8",
   "metadata": {},
   "source": [
    "### 네트워크"
   ]
  },
  {
   "cell_type": "markdown",
   "id": "bda9629c-b293-431d-918a-70b811e8c173",
   "metadata": {},
   "source": [
    "##### https://school.programmers.co.kr/learn/courses/30/lessons/43162?language=python3"
   ]
  },
  {
   "cell_type": "code",
   "execution_count": 27,
   "id": "70d325ef-5c31-4a94-b6c3-0a6ddf6e7f7f",
   "metadata": {},
   "outputs": [],
   "source": [
    "from collections import deque\n",
    "def solution(n, computers):\n",
    "    # n은 노드 리스트 \n",
    "    node_list = [False for x in range(n)]\n",
    "    #print(f'node_list : {node_list}')\n",
    "    # computers => 인접리스트\n",
    "    # 몇개의 그래프가 있는지\n",
    "    \"\"\"\n",
    "    for row in computers:\n",
    "        for x in row:\n",
    "            print(x, end = ' ')\n",
    "        print()\n",
    "    \"\"\"\n",
    "    # 큐 루프가 한번 돌면 count += 1\n",
    "    count = 0 \n",
    "    # 탐색하지 않은 노드가 있을 떄\n",
    "    count = 0\n",
    "    while not all(node_list):\n",
    "        #print(f'node_list : {node_list}')\n",
    "        start_node = -1\n",
    "        for i in range(len(node_list)):\n",
    "            if node_list[i] == False: # 탐색하지 않았다면\n",
    "                start_node = i\n",
    "                break\n",
    "        #print(f'start_node : {start_node}')\n",
    "        queue = deque()\n",
    "        queue.append(start_node)\n",
    "        # 탐색한 노드와 이어진걸 큐에 넣기\n",
    "        while queue:\n",
    "            now_node = queue.popleft()\n",
    "            #print(f'now_node : {now_node}')\n",
    "            computers[now_node][now_node] = 0\n",
    "            \"\"\"\n",
    "            for row in computers:\n",
    "                for x in row:\n",
    "                    print(x, end = ' ')\n",
    "                print()\n",
    "            \"\"\"\n",
    "            for i in range(len(computers[now_node])):\n",
    "                if computers[now_node][i] == 1:\n",
    "                    #print(f'연결된 노드 : {i}')\n",
    "                    queue.append(i)\n",
    "                    computers[now_node][i] = 0\n",
    "                    computers[i][now_node] = 0\n",
    "            node_list[now_node] = True\n",
    "        count += 1\n",
    "    return count\n",
    "            "
   ]
  },
  {
   "cell_type": "code",
   "execution_count": 28,
   "id": "49aa1c3d-f551-4631-94a3-e5a37921820f",
   "metadata": {},
   "outputs": [
    {
     "data": {
      "text/plain": [
       "2"
      ]
     },
     "execution_count": 28,
     "metadata": {},
     "output_type": "execute_result"
    }
   ],
   "source": [
    "solution(3,[[1, 1, 0], [1, 1, 0], [0, 0, 1]])"
   ]
  },
  {
   "cell_type": "raw",
   "id": "00755ddd-47e2-46e5-a50b-3ec562d3690e",
   "metadata": {},
   "source": [
    "# 연결된 그래프가 몇개인지\n",
    "# 그래프가 인접행렬로 주어짐\n",
    "# ide 못쓰면 진짜 못찾을수도... 한번에 잘 설계하자\n",
    "\n",
    "노드의 탐색 여부를 확인하기 위해 노드 불린 배열\n",
    "\n",
    "노드가 다 탐색되지 않았다면 => not all(node_list) => 하나라도 False가 있다면 True를 반환 => 계속 실행\n",
    "    탐색되지 않은 노드가 뭔지 고른다\n",
    "    큐에 넣는다\n",
    "    큐가 차있을 동안\n",
    "        현재 노드 = 큐에서 pop\n",
    "        현재 노드를 탐색했다고 불린 배열에 표시\n",
    "        자기 자신으로 이어지는 간선 제거\n",
    "        현재 노드와 이어진 노드를 탐색\n",
    "            큐에 넣고 인접행렬에서 이어진 간선 제거\n",
    "    (이어진거 다 찾았으면 큐가 비어있음 => 루프 종료 => 그래프 하나 찾았다고 카운트 증가)"
   ]
  },
  {
   "cell_type": "markdown",
   "id": "6a49af2b-f082-45db-b45b-e6cd30852767",
   "metadata": {},
   "source": [
    "### 네트워크"
   ]
  },
  {
   "cell_type": "markdown",
   "id": "72989120-eabc-44bf-9333-e91ed1ee5e2d",
   "metadata": {},
   "source": [
    "##### https://school.programmers.co.kr/learn/courses/30/lessons/43162"
   ]
  },
  {
   "cell_type": "code",
   "execution_count": 29,
   "id": "1201e389-b4ab-4536-97f0-ff05e01b5cea",
   "metadata": {},
   "outputs": [],
   "source": [
    "from collections import deque\n",
    "def solution(n, computers):\n",
    "    # n은 노드 리스트 \n",
    "    node_list = [False for x in range(n)]\n",
    "    #print(f'node_list : {node_list}')\n",
    "    # computers => 인접리스트\n",
    "    # 몇개의 그래프가 있는지\n",
    "    \"\"\"\n",
    "    for row in computers:\n",
    "        for x in row:\n",
    "            print(x, end = ' ')\n",
    "        print()\n",
    "    \"\"\"\n",
    "    # 큐 루프가 한번 돌면 count += 1\n",
    "    count = 0 \n",
    "    # 탐색하지 않은 노드가 있을 떄\n",
    "    count = 0\n",
    "    while not all(node_list):\n",
    "        #print(f'node_list : {node_list}')\n",
    "        start_node = -1\n",
    "        for i in range(len(node_list)):\n",
    "            if node_list[i] == False: # 탐색하지 않았다면\n",
    "                start_node = i\n",
    "                break\n",
    "        #print(f'start_node : {start_node}')\n",
    "        queue = deque()\n",
    "        queue.append(start_node)\n",
    "        # 탐색한 노드와 이어진걸 큐에 넣기\n",
    "        while queue:\n",
    "            now_node = queue.popleft()\n",
    "            #print(f'now_node : {now_node}')\n",
    "            computers[now_node][now_node] = 0\n",
    "            \"\"\"\n",
    "            for row in computers:\n",
    "                for x in row:\n",
    "                    print(x, end = ' ')\n",
    "                print()\n",
    "            \"\"\"\n",
    "            for i in range(len(computers[now_node])):\n",
    "                if computers[now_node][i] == 1:\n",
    "                    #print(f'연결된 노드 : {i}')\n",
    "                    queue.append(i)\n",
    "                    computers[now_node][i] = 0\n",
    "                    computers[i][now_node] = 0\n",
    "            node_list[now_node] = True\n",
    "        count += 1\n",
    "    return count"
   ]
  },
  {
   "cell_type": "raw",
   "id": "4ab81c8e-41f1-4f18-ac29-05a9d730d235",
   "metadata": {},
   "source": [
    "# deepcopy를 떠서 노드에 넣어주는건 진짜 미친짓이다\n",
    "# visited 배열에 방문 여부 + 더 필요한 정보를 표시하자 "
   ]
  },
  {
   "cell_type": "markdown",
   "id": "7b312e0c-ca6c-4ce1-b3ac-6c162cf1ac9a",
   "metadata": {},
   "source": [
    "### 게임 맵 최단거리"
   ]
  },
  {
   "cell_type": "markdown",
   "id": "e5cd35a9-215f-49b3-b44c-549070d6416c",
   "metadata": {},
   "source": [
    "##### https://school.programmers.co.kr/learn/courses/30/lessons/1844?language=python3"
   ]
  },
  {
   "cell_type": "code",
   "execution_count": null,
   "id": "03209931-7f13-4b1d-91c5-6a7a9d0067c7",
   "metadata": {},
   "outputs": [],
   "source": [
    "from collections import deque\n",
    "\n",
    "def solution(maps):\n",
    "    #min_maps에 탐색된 좌표까지의 최단거리를 저장, 미방문 노드는 -1\n",
    "    min_maps = [[-1 for i in range(len(maps[0]))] for j in range(len(maps))]\n",
    "    #print(min_maps)\n",
    "    d_row = [1,0,-1,0]\n",
    "    d_col = [0,-1,0,1]\n",
    "    queue = deque()\n",
    "    start_node = [0,0] #시작 좌표\n",
    "    queue.append(start_node)\n",
    "    min_maps[0][0] = 1 # 시작 좌표 방문했다고 표시\n",
    "    while queue:\n",
    "        now_node = queue.popleft() #현재 좌표\n",
    "        now_node_path = min_maps[now_node[0]][now_node[1]] #현재 좌표까지의 최소 경로 \n",
    "        #현재 위치에서 갈 수 있는 좌표 탐색\n",
    "        #print(now_node)\n",
    "        for i in range(4):\n",
    "            next_node = [now_node[0] + d_row[i], now_node[1] + d_col[i]]\n",
    "            #print(f'next_node : {next_node}')\n",
    "            if 0 <= next_node[0] < len(maps) and 0<= next_node[1] < len(maps[0]): #maps안에 있음\n",
    "                #print(f'조건 1 통과!')\n",
    "                if maps[next_node[0]][next_node[1]] != 0: #벽이 아님\n",
    "                    #print(f'조건 2 통과!')\n",
    "                    #디버그\n",
    "                    \"\"\"\n",
    "                    for row in min_maps:\n",
    "                        for x in row:\n",
    "                            print(x, end =' ')\n",
    "                        print()\n",
    "                    \"\"\"\n",
    "                    if min_maps[next_node[0]][next_node[1]] == -1: # 미방문노드임\n",
    "                        #print(f'조건 3통과')\n",
    "                        min_maps[next_node[0]][next_node[1]] = now_node_path + 1\n",
    "                        queue.append(next_node)\n",
    "    return min_maps[-1][-1]"
   ]
  },
  {
   "cell_type": "raw",
   "id": "35d52429-5994-43dd-819a-bbd4fae4edb6",
   "metadata": {},
   "source": [
    "# DFS/BFS는 한번 방문한 노드는 다시 방문하지 않는다 <= 이게 메인임\n",
    "# => 노드를 잘 정의해야한다 => visited 배열을 그대로 노드에 넣어 줄 수 있다 <= 이 경우는 각 노드의 시점에서 visited가 달라지는 경우 \n",
    "# => 이런 경우는 꼭 visited는 1차원 배열이어야 한다 => 안그러면 노드가 개커서 터짐\n",
    "# => 1차원 visited배열을 노드에 같이 넣어주는 경우에는 이차원 이상의 배열은 안됨 => deepcopy를 사용해야함 => 메모리 터짐, 1차원까지는 [:] shallow copy로 어떻게든 가능"
   ]
  },
  {
   "cell_type": "markdown",
   "id": "d6bd078a-1dcb-4bcb-8d00-d8db698b14c5",
   "metadata": {},
   "source": [
    "### 단어 변환"
   ]
  },
  {
   "cell_type": "markdown",
   "id": "2a58e8dd-e58a-404d-a208-2ed74db3e1e5",
   "metadata": {
    "tags": []
   },
   "source": [
    "##### https://school.programmers.co.kr/learn/courses/30/lessons/43163?language=python3"
   ]
  },
  {
   "cell_type": "code",
   "execution_count": 1,
   "id": "d8d613b3-e307-4818-9691-b832fb514a6b",
   "metadata": {},
   "outputs": [],
   "source": [
    "from collections import deque\n",
    "\n",
    "def solution(begin, target, words):\n",
    "    n = len(words[0])\n",
    "    word_dict = dict()\n",
    "    for word in words:\n",
    "        word_dict[word] = True\n",
    "    # 딕셔너리 조작법 연습 필요\n",
    "    \"\"\"\n",
    "    for key in word_dict.keys():\n",
    "        print(key)\n",
    "    \"\"\"\n",
    "    result = 0\n",
    "    queue = deque()\n",
    "    start_node = (begin, 0)\n",
    "    queue.append(start_node)\n",
    "    while queue:\n",
    "        print(f'queue : {queue}')\n",
    "        now_node = queue.popleft()\n",
    "        now_word = now_node[0]\n",
    "        now_path = now_node[1]a\n",
    "        if now_word == target:\n",
    "            result = now_path\n",
    "            break\n",
    "        del_list = []\n",
    "        for del_word in del_list:\n",
    "            del word_dict[del_word]\n",
    "        # 하나만 바꿔서 만들 수 있는 녀석이 있는지 탐색\n",
    "        for word in word_dict.keys():\n",
    "            # 단어에 대해서\n",
    "            count = 0\n",
    "            for i in range(n):\n",
    "                # 철자에 대해서\n",
    "                if word[i] != now_word[i]:\n",
    "                    count += 1\n",
    "            if count == 1:\n",
    "                new_node = (word, now_path + 1)\n",
    "                queue.append(new_node)\n",
    "                del_list.append(word)\n",
    "    return result"
   ]
  },
  {
   "cell_type": "raw",
   "id": "090ac636-adbb-47d4-9c45-43302f127c87",
   "metadata": {},
   "source": [
    "# 아... 또 큐가 터졌다... 그냥 큐에는 배열을 넣지 말자....."
   ]
  },
  {
   "cell_type": "code",
   "execution_count": null,
   "id": "28f7b06e-1b78-46f0-a06c-b60e1791482d",
   "metadata": {},
   "outputs": [],
   "source": [
    "from collections import deque\n",
    "def solution(begin, target, words):\n",
    "    n = len(words[0])\n",
    "    # 방문한 단어 배열\n",
    "    visited = [0 for _ in range(len(words))]\n",
    "    # 방문한 적이 없으면 0, 아니면 몇번째에 방문했는지\n",
    "    queue = deque()\n",
    "    start_node = begin\n",
    "    queue.append(start_node)\n",
    "    result = 0\n",
    "    while queue:\n",
    "        now_node = queue.popleft()\n",
    "        now_node_index = -1\n",
    "        if now_node == target:\n",
    "            result = visited[now_node_index]\n",
    "            break\n",
    "        for i in range(len(words)):\n",
    "            if words[i] == now_node:\n",
    "                now_node_index = i\n",
    "        for x in range(len(words)):\n",
    "            if visited[x] != 0:\n",
    "                #방문한적 있으면\n",
    "                continue\n",
    "            word = words[x]\n",
    "            count = 0\n",
    "            for i in range(n):\n",
    "                if word[i] != now_node[i]:\n",
    "                    count += 1\n",
    "            if count == 1:\n",
    "                visited[x] += visited[now_node_index] + 1\n",
    "                queue.append(word)\n",
    "    return result"
   ]
  },
  {
   "cell_type": "raw",
   "id": "093b51b3-b3ff-47cb-af94-517e770b84db",
   "metadata": {},
   "source": [
    "# 테케 1 2 3 통과 못함.\n",
    "# 누더기 코드다.\n",
    "# 처음부터 설계를 잘해야한다.\n",
    "# 코테 상에서 디버깅을 제대로 못찍어보니까 진짜 죽을 것 같다."
   ]
  },
  {
   "cell_type": "code",
   "execution_count": 1,
   "id": "47476542-a2ce-455d-a10b-b7df06564214",
   "metadata": {},
   "outputs": [],
   "source": [
    "from collections import deque\n",
    "def solution(begin, target, words):\n",
    "    # 단어 딕셔너리 변환 => {'단어' : 몇번째에 탐색됐는지}\n",
    "    n = len(words[0]) #단어 길이\n",
    "    word_dict = dict()\n",
    "    for word in words:\n",
    "        word_dict[word] = 0\n",
    "    queue = deque()\n",
    "    queue.append(begin)\n",
    "    while queue:\n",
    "        now_node = queue.popleft()\n",
    "        print(f'now_node : {now_node}')\n",
    "        print(f'queue : {queue}')\n",
    "        # 지금 노드가 target일 경우 => word_dict에서 그 값을 반환\n",
    "        # 지금 노드가 begin일 경우 => now_node_path = 0\n",
    "        # 아닐 경우 => now_node_path = word_dict에서의 그 값\n",
    "        now_node_path = 0\n",
    "        if now_node == target:\n",
    "            return word_dict[now_node]\n",
    "        elif now_node == begin:\n",
    "            now_node_path = 0\n",
    "        else:\n",
    "            now_node_path = word_dict[now_node]\n",
    "        # now_node, now_node_path\n",
    "        # 방문하지 않은 노드들에 대해 한자리만 바꿔서 만들 수 있는 단어인지 검사\n",
    "        for word in words:\n",
    "            #방문?\n",
    "            if word_dict[word] == 0: #방문하지 않았다면\n",
    "                #지금 노드에서 한자리만 바꿔서 만들 수 있음?\n",
    "                count = 0\n",
    "                for i in range(n):\n",
    "                    if word[i] != now_node[i]:\n",
    "                        count += 1\n",
    "                if count == 1: #한자리만 바꿔서 만들 수 있다면\n",
    "                    queue.append(word)\n",
    "                    word_dict[word] = now_node_path + 1\n",
    "    return 0"
   ]
  },
  {
   "cell_type": "raw",
   "id": "a40af092-11d4-4d34-9ed4-06829f4fbc44",
   "metadata": {},
   "source": [
    "노드 방문 경로길이의 최솟값 배열 => 처음에 다 0\n",
    "큐에 시작 노드넣음\n",
    "큐가 차있을 동안\n",
    "    큐에서 노드 빼기\n",
    "        노드 검사\n",
    "    현재 노드까지의 경로 최소길이 체크\n",
    "    한번도 방문한 적 없는 노드들에 대해 한자리만 바꿔서 만들 수 있는 단어인지 검사\n",
    "    맞다면 그 노드의 방문 최소경로를 갱신(지금 노드까지의 최소 경로 + 1)\n",
    "    \n",
    "=> 결국 dp이구나 <= 중간부터 보면 dp + bfs를 발견하기 쉽다."
   ]
  },
  {
   "cell_type": "raw",
   "id": "50380f5c-92f2-4157-a3bb-b57fe912fab6",
   "metadata": {},
   "source": [
    "# 통과\n",
    "# bfs/dfs문제는 항상 신중히\n",
    "# 이미 방문한 노드는 다시 방문할 필요 없다\n",
    "# 내가 지금 어디 코드를 적고 있는지 항상 과정을 되뇌이자 => 주석으로\n",
    "# 무한 루프 돌면 디버그도 못찍는다. 무한 루프는 절대 안돼."
   ]
  },
  {
   "cell_type": "markdown",
   "id": "127526b9-78da-485a-a401-5496c21b6315",
   "metadata": {
    "tags": []
   },
   "source": [
    "#### 재풀이"
   ]
  },
  {
   "cell_type": "code",
   "execution_count": 15,
   "id": "7afb4b73-3d07-454b-9696-72b8b1419a05",
   "metadata": {},
   "outputs": [],
   "source": [
    "from collections import deque\n",
    "import math\n",
    "from collections import Counter\n",
    "def solution(begin, target, words):\n",
    "    visited = [False for x in range(len(words))]\n",
    "    dq = deque()\n",
    "    dq.append([begin,visited])\n",
    "    answers = []\n",
    "    while dq:\n",
    "        #print(f'dq : {dq}')\n",
    "        now_word, now_visited = dq.popleft()\n",
    "        #print(f'now_word:{now_word}, now_visited : {now_visited}')\n",
    "        # 지금 시점에서 방문하지 않은 단어들을 찾음, idx => 방문하지 않은 단어의 인덱스\n",
    "        if now_word == target:\n",
    "            answers.append(Counter(now_visited)[True])\n",
    "        for idx, is_visited in enumerate(now_visited):\n",
    "            #print(f'방문하지 않은 단어 찾기 idx, is_visited : {idx}, {is_visited}')\n",
    "            if not is_visited:\n",
    "                #print(f'!')\n",
    "                # 방문하지 않은 단어에 대해\n",
    "                count = 0\n",
    "                for i in range(len(words[0])):\n",
    "                    #print(f'now_word[i] != words[idx][i] => {now_word[i]} {words[idx][i]}')\n",
    "                    if now_word[i] != words[idx][i]:\n",
    "                        count += 1\n",
    "                if count == 1:\n",
    "                    #print('!')\n",
    "                    new_visited = now_visited[:]\n",
    "                    new_visited[idx] = True\n",
    "                    dq.append([words[idx], new_visited])\n",
    "    if answers:\n",
    "        return min(answers)\n",
    "    else:\n",
    "        return 0"
   ]
  },
  {
   "cell_type": "raw",
   "id": "b7ab2363-32df-4b98-8295-1cbdca91ef8a",
   "metadata": {},
   "source": [
    "# 이렇게 풀면 노드에 현재 visited 상태를 넣어놓은 상태 => 비효율적이긴함\n",
    "# 결국 최소값을 구하는 것 => bfs로 단어를 찾아가면 됨\n",
    "# 방문한 노드는 다시 방문하지 않는다 +  bfs =>  노드 방문의 최솟값 dp배열"
   ]
  },
  {
   "cell_type": "markdown",
   "id": "c1376dcf-1e8f-4bc7-a48e-302c585b2791",
   "metadata": {},
   "source": [
    "### 여행 경로"
   ]
  },
  {
   "cell_type": "code",
   "execution_count": null,
   "id": "f265b611-f6f1-46df-ba87-238e3d4847cc",
   "metadata": {},
   "outputs": [],
   "source": []
  },
  {
   "cell_type": "code",
   "execution_count": 8,
   "id": "1268af3c-aa63-442c-945e-470985abc2b0",
   "metadata": {},
   "outputs": [],
   "source": [
    "from collections import deque\n",
    "import copy\n",
    "\n",
    "def solution(tickets):\n",
    "    # 방향 그래프 => 인접 리스트\n",
    "    #만일 가능한 경로가 2개 이상일 경우 알파벳 순서가 앞서는 경로를 return 합니다. => 문자열 합쳐서 대소비교?\n",
    "    \n",
    "    # 인접리스트 => dict()\n",
    "    adj_list = dict()\n",
    "    visited = dict()\n",
    "    ticket_num = len(tickets)\n",
    "    for ticket in tickets:\n",
    "        start = ticket[0]\n",
    "        end = ticket[1]\n",
    "        #인접 리스트\n",
    "        if not start in adj_list: #없으면\n",
    "            adj_list[start] = [end]\n",
    "        else: #있으면\n",
    "            adj_list[start].append(end)\n",
    "    #print(adj_list)#\t{'ICN': ['SFO', 'ATL'], 'SFO': ['ATL'], 'ATL': ['ICN', 'SFO']}\n",
    "    \n",
    "    paths = []\n",
    "    for starting in adj_list.keys():\n",
    "        # node = [지금 노드,여기까지의 경로'str']\n",
    "        adj = copy.deepcopy(adj_list)\n",
    "        queue = deque()\n",
    "        queue.append([starting, starting])\n",
    "        while queue:\n",
    "            now_node = queue.popleft()\n",
    "            now_airport = now_node[0]\n",
    "            now_path = now_node[1]\n",
    "            if len(now_path) == 3*(ticket_num + 1):\n",
    "                paths.append(now_path)\n",
    "            adj_nodes = adj[now_airport]\n",
    "            for adj_node in adj_nodes:\n",
    "                queue.append([adj_node, now_path + adj_node])\n",
    "            #간선 지우기\n",
    "            adj_nodes.clear()\n",
    "                \n",
    "    print(paths)\n",
    "    \n",
    " \n",
    "        "
   ]
  },
  {
   "cell_type": "code",
   "execution_count": null,
   "id": "46c39485-a071-4fac-bb5d-6ac0b1caa19d",
   "metadata": {},
   "outputs": [],
   "source": []
  },
  {
   "cell_type": "code",
   "execution_count": null,
   "id": "027379f3-5ac5-4b87-8c28-6f60d133d397",
   "metadata": {},
   "outputs": [],
   "source": []
  },
  {
   "cell_type": "code",
   "execution_count": null,
   "id": "f9beb04f-c691-4142-aeb1-4fcb790cc25a",
   "metadata": {},
   "outputs": [],
   "source": []
  },
  {
   "cell_type": "code",
   "execution_count": null,
   "id": "3979f192-d86b-495b-b8db-9136527215a0",
   "metadata": {},
   "outputs": [
    {
     "ename": "KeyError",
     "evalue": "'IAD'",
     "output_type": "error",
     "traceback": [
      "\u001b[1;31m---------------------------------------------------------------------------\u001b[0m",
      "\u001b[1;31mKeyError\u001b[0m                                  Traceback (most recent call last)",
      "Cell \u001b[1;32mIn[9], line 1\u001b[0m\n\u001b[1;32m----> 1\u001b[0m \u001b[43msolution\u001b[49m\u001b[43m(\u001b[49m\u001b[43m[\u001b[49m\u001b[43m[\u001b[49m\u001b[38;5;124;43m\"\u001b[39;49m\u001b[38;5;124;43mICN\u001b[39;49m\u001b[38;5;124;43m\"\u001b[39;49m\u001b[43m,\u001b[49m\u001b[43m \u001b[49m\u001b[38;5;124;43m\"\u001b[39;49m\u001b[38;5;124;43mJFK\u001b[39;49m\u001b[38;5;124;43m\"\u001b[39;49m\u001b[43m]\u001b[49m\u001b[43m,\u001b[49m\u001b[43m \u001b[49m\u001b[43m[\u001b[49m\u001b[38;5;124;43m\"\u001b[39;49m\u001b[38;5;124;43mHND\u001b[39;49m\u001b[38;5;124;43m\"\u001b[39;49m\u001b[43m,\u001b[49m\u001b[43m \u001b[49m\u001b[38;5;124;43m\"\u001b[39;49m\u001b[38;5;124;43mIAD\u001b[39;49m\u001b[38;5;124;43m\"\u001b[39;49m\u001b[43m]\u001b[49m\u001b[43m,\u001b[49m\u001b[43m \u001b[49m\u001b[43m[\u001b[49m\u001b[38;5;124;43m\"\u001b[39;49m\u001b[38;5;124;43mJFK\u001b[39;49m\u001b[38;5;124;43m\"\u001b[39;49m\u001b[43m,\u001b[49m\u001b[43m \u001b[49m\u001b[38;5;124;43m\"\u001b[39;49m\u001b[38;5;124;43mHND\u001b[39;49m\u001b[38;5;124;43m\"\u001b[39;49m\u001b[43m]\u001b[49m\u001b[43m]\u001b[49m\u001b[43m)\u001b[49m\n",
      "Cell \u001b[1;32mIn[8], line 34\u001b[0m, in \u001b[0;36msolution\u001b[1;34m(tickets)\u001b[0m\n\u001b[0;32m     32\u001b[0m \u001b[38;5;28;01mif\u001b[39;00m \u001b[38;5;28mlen\u001b[39m(now_path) \u001b[38;5;241m==\u001b[39m \u001b[38;5;241m3\u001b[39m\u001b[38;5;241m*\u001b[39m(ticket_num \u001b[38;5;241m+\u001b[39m \u001b[38;5;241m1\u001b[39m):\n\u001b[0;32m     33\u001b[0m     paths\u001b[38;5;241m.\u001b[39mappend(now_path)\n\u001b[1;32m---> 34\u001b[0m adj_nodes \u001b[38;5;241m=\u001b[39m \u001b[43madj\u001b[49m\u001b[43m[\u001b[49m\u001b[43mnow_airport\u001b[49m\u001b[43m]\u001b[49m\n\u001b[0;32m     35\u001b[0m \u001b[38;5;28;01mfor\u001b[39;00m adj_node \u001b[38;5;129;01min\u001b[39;00m adj_nodes:\n\u001b[0;32m     36\u001b[0m     queue\u001b[38;5;241m.\u001b[39mappend([adj_node, now_path \u001b[38;5;241m+\u001b[39m adj_node])\n",
      "\u001b[1;31mKeyError\u001b[0m: 'IAD'"
     ]
    }
   ],
   "source": [
    "solution([[\"ICN\", \"JFK\"], [\"HND\", \"IAD\"], [\"JFK\", \"HND\"]])"
   ]
  },
  {
   "cell_type": "raw",
   "id": "2ee3e5e8-be0a-457c-ac05-1a161804f251",
   "metadata": {},
   "source": [
    "딕셔너리에 없는 키를 참조했을때 나타남"
   ]
  },
  {
   "cell_type": "code",
   "execution_count": 16,
   "id": "15aa2528-f9cc-4587-a577-14bbd88e082a",
   "metadata": {},
   "outputs": [],
   "source": [
    "from collections import deque\n",
    "import copy\n",
    "\n",
    "def solution(tickets):\n",
    "    # 방향 그래프 => 인접 리스트\n",
    "    #만일 가능한 경로가 2개 이상일 경우 알파벳 순서가 앞서는 경로를 return 합니다. => 문자열 합쳐서 대소비교?\n",
    "    \n",
    "    # 인접리스트 => dict()\n",
    "    adj_list = dict()\n",
    "    visited = dict()\n",
    "    ticket_num = len(tickets)\n",
    "    for ticket in tickets:\n",
    "        start = ticket[0]\n",
    "        end = ticket[1]\n",
    "        #인접 리스트\n",
    "        if not start in adj_list: #없으면\n",
    "            adj_list[start] = [end]\n",
    "        else: #있으면\n",
    "            adj_list[start].append(end)\n",
    "    print(adj_list)#\t{'ICN': ['SFO', 'ATL'], 'SFO': ['ATL'], 'ATL': ['ICN', 'SFO']}\n",
    "    \n",
    "    paths = []\n",
    "    for starting in adj_list.keys():\n",
    "        print(f'starting : {starting}')\n",
    "        # node = [지금 노드,여기까지의 경로'str']\n",
    "        adj = copy.deepcopy(adj_list)\n",
    "        queue = deque()\n",
    "        queue.append([starting, starting])\n",
    "        while queue:\n",
    "            print(f'q : {queue}')\n",
    "            now_node = queue.popleft()\n",
    "            now_airport = now_node[0]\n",
    "            now_path = now_node[1]\n",
    "            if len(now_path) == 3*(ticket_num + 1):\n",
    "                paths.append(now_path)\n",
    "            if now_airport in adj:\n",
    "                adj_nodes = adj[now_airport]\n",
    "                for adj_node in adj_nodes:\n",
    "                    queue.append([adj_node, now_path + adj_node])\n",
    "                #간선 지우기\n",
    "                adj_nodes.clear()\n",
    "                \n",
    "    paths.sort()\n",
    "    #모든 도시를 방문할 수 없는 경우는 주어지지 않습니다.\n",
    "    #3자리씩 자르기\n",
    "    return paths\n",
    " \n",
    "        "
   ]
  },
  {
   "cell_type": "code",
   "execution_count": 17,
   "id": "8ce121b4-5018-4470-82a9-3206e15b4bb3",
   "metadata": {},
   "outputs": [
    {
     "name": "stdout",
     "output_type": "stream",
     "text": [
      "{'ICN': ['SFO', 'ATL'], 'SFO': ['ATL'], 'ATL': ['ICN', 'SFO']}\n",
      "starting : ICN\n",
      "q : deque([['ICN', 'ICN']])\n",
      "q : deque([['SFO', 'ICNSFO'], ['ATL', 'ICNATL']])\n",
      "q : deque([['ATL', 'ICNATL'], ['ATL', 'ICNSFOATL']])\n",
      "q : deque([['ATL', 'ICNSFOATL'], ['ICN', 'ICNATLICN'], ['SFO', 'ICNATLSFO']])\n",
      "q : deque([['ICN', 'ICNATLICN'], ['SFO', 'ICNATLSFO']])\n",
      "q : deque([['SFO', 'ICNATLSFO']])\n",
      "starting : SFO\n",
      "q : deque([['SFO', 'SFO']])\n",
      "q : deque([['ATL', 'SFOATL']])\n",
      "q : deque([['ICN', 'SFOATLICN'], ['SFO', 'SFOATLSFO']])\n",
      "q : deque([['SFO', 'SFOATLSFO'], ['SFO', 'SFOATLICNSFO'], ['ATL', 'SFOATLICNATL']])\n",
      "q : deque([['SFO', 'SFOATLICNSFO'], ['ATL', 'SFOATLICNATL']])\n",
      "q : deque([['ATL', 'SFOATLICNATL']])\n",
      "starting : ATL\n",
      "q : deque([['ATL', 'ATL']])\n",
      "q : deque([['ICN', 'ATLICN'], ['SFO', 'ATLSFO']])\n",
      "q : deque([['SFO', 'ATLSFO'], ['SFO', 'ATLICNSFO'], ['ATL', 'ATLICNATL']])\n",
      "q : deque([['SFO', 'ATLICNSFO'], ['ATL', 'ATLICNATL'], ['ATL', 'ATLSFOATL']])\n",
      "q : deque([['ATL', 'ATLICNATL'], ['ATL', 'ATLSFOATL']])\n",
      "q : deque([['ATL', 'ATLSFOATL']])\n"
     ]
    },
    {
     "data": {
      "text/plain": [
       "[]"
      ]
     },
     "execution_count": 17,
     "metadata": {},
     "output_type": "execute_result"
    }
   ],
   "source": [
    "solution([[\"ICN\", \"SFO\"], [\"ICN\", \"ATL\"], [\"SFO\", \"ATL\"], [\"ATL\", \"ICN\"], [\"ATL\", \"SFO\"]])\n",
    "#\t[\"ICN\", \"ATL\", \"ICN\", \"SFO\", \"ATL\", \"SFO\"]"
   ]
  },
  {
   "cell_type": "raw",
   "id": "ea10a6fd-693f-4e78-a519-b08e6b4eac40",
   "metadata": {},
   "source": [
    "한 노드에서 두 노드를 갈 수 있다고 하면, 두 노드로 가는 경로를 넣어놓고 다 지우면 안됨.\n",
    "A -> B,C 일때, A -> B 했으면, A -> C는 남아있는 상태가 되기 떄문\n",
    "\n",
    "# 그리고 문제에서 시작은 무조건 ICN이라고... \n",
    "=> 처음부터 다시"
   ]
  },
  {
   "cell_type": "code",
   "execution_count": 39,
   "id": "74ad13b8-07e4-423a-a2e6-bc43bc5521b8",
   "metadata": {},
   "outputs": [],
   "source": [
    "from collections import defaultdict\n",
    "\n",
    "def solution(tickets):\n",
    "    t_dict = defaultdict(list)\n",
    "    \n",
    "    for s, e in tickets:\n",
    "        t_dict[s].append(e)\n",
    "    \n",
    "    for t_key in t_dict.keys():\n",
    "        t_dict[t_key].sort(reverse = True)\n",
    "    print(t_dict)\n",
    "    \n",
    "    answer = []\n",
    "    path = [\"ICN\"]\n",
    "    \n",
    "    while path:\n",
    "        now = path[-1]    \n",
    "        print(f'now : {now}')\n",
    "        if now not in t_dict or len(t_dict[now]) == 0:\n",
    "            print(f'now가 t_dict에 없거나 now에서 갈 수 있는 길이 없음')\n",
    "            answer.append(path.pop())\n",
    "            print(f'path에서 pop,path : {path}')\n",
    "            print(f'answer에 추가, answer : {answer}')\n",
    "        else:\n",
    "            print(f'now에서 갈 수 있는 노드가 있음')\n",
    "            path.append(t_dict[now].pop())\n",
    "            print(f't_dict : {t_dict}')\n",
    "            print(f'path : {path}')\n",
    "    return answer"
   ]
  },
  {
   "cell_type": "code",
   "execution_count": 40,
   "id": "1240df1f-168b-4b4e-a9e5-3fb66e2fd718",
   "metadata": {},
   "outputs": [
    {
     "name": "stdout",
     "output_type": "stream",
     "text": [
      "defaultdict(<class 'list'>, {'ICN': ['SFO', 'ATL'], 'SFO': ['ATL'], 'ATL': ['SFO', 'ICN']})\n",
      "now : ICN\n",
      "now에서 갈 수 있는 노드가 있음\n",
      "t_dict : defaultdict(<class 'list'>, {'ICN': ['SFO'], 'SFO': ['ATL'], 'ATL': ['SFO', 'ICN']})\n",
      "path : ['ICN', 'ATL']\n",
      "now : ATL\n",
      "now에서 갈 수 있는 노드가 있음\n",
      "t_dict : defaultdict(<class 'list'>, {'ICN': ['SFO'], 'SFO': ['ATL'], 'ATL': ['SFO']})\n",
      "path : ['ICN', 'ATL', 'ICN']\n",
      "now : ICN\n",
      "now에서 갈 수 있는 노드가 있음\n",
      "t_dict : defaultdict(<class 'list'>, {'ICN': [], 'SFO': ['ATL'], 'ATL': ['SFO']})\n",
      "path : ['ICN', 'ATL', 'ICN', 'SFO']\n",
      "now : SFO\n",
      "now에서 갈 수 있는 노드가 있음\n",
      "t_dict : defaultdict(<class 'list'>, {'ICN': [], 'SFO': [], 'ATL': ['SFO']})\n",
      "path : ['ICN', 'ATL', 'ICN', 'SFO', 'ATL']\n",
      "now : ATL\n",
      "now에서 갈 수 있는 노드가 있음\n",
      "t_dict : defaultdict(<class 'list'>, {'ICN': [], 'SFO': [], 'ATL': []})\n",
      "path : ['ICN', 'ATL', 'ICN', 'SFO', 'ATL', 'SFO']\n",
      "now : SFO\n",
      "now가 t_dict에 없거나 now에서 갈 수 있는 길이 없음\n",
      "path에서 pop,path : ['ICN', 'ATL', 'ICN', 'SFO', 'ATL']\n",
      "answer에 추가, answer : ['SFO']\n",
      "now : ATL\n",
      "now가 t_dict에 없거나 now에서 갈 수 있는 길이 없음\n",
      "path에서 pop,path : ['ICN', 'ATL', 'ICN', 'SFO']\n",
      "answer에 추가, answer : ['SFO', 'ATL']\n",
      "now : SFO\n",
      "now가 t_dict에 없거나 now에서 갈 수 있는 길이 없음\n",
      "path에서 pop,path : ['ICN', 'ATL', 'ICN']\n",
      "answer에 추가, answer : ['SFO', 'ATL', 'SFO']\n",
      "now : ICN\n",
      "now가 t_dict에 없거나 now에서 갈 수 있는 길이 없음\n",
      "path에서 pop,path : ['ICN', 'ATL']\n",
      "answer에 추가, answer : ['SFO', 'ATL', 'SFO', 'ICN']\n",
      "now : ATL\n",
      "now가 t_dict에 없거나 now에서 갈 수 있는 길이 없음\n",
      "path에서 pop,path : ['ICN']\n",
      "answer에 추가, answer : ['SFO', 'ATL', 'SFO', 'ICN', 'ATL']\n",
      "now : ICN\n",
      "now가 t_dict에 없거나 now에서 갈 수 있는 길이 없음\n",
      "path에서 pop,path : []\n",
      "answer에 추가, answer : ['SFO', 'ATL', 'SFO', 'ICN', 'ATL', 'ICN']\n"
     ]
    },
    {
     "data": {
      "text/plain": [
       "['SFO', 'ATL', 'SFO', 'ICN', 'ATL', 'ICN']"
      ]
     },
     "execution_count": 40,
     "metadata": {},
     "output_type": "execute_result"
    }
   ],
   "source": [
    "solution([[\"ICN\", \"SFO\"], [\"ICN\", \"ATL\"], [\"SFO\", \"ATL\"], [\"ATL\", \"ICN\"], [\"ATL\",\"SFO\"]])"
   ]
  },
  {
   "cell_type": "raw",
   "id": "f555113a-ae9e-49b8-aefa-0a1004faa80a",
   "metadata": {},
   "source": [
    "path\n",
    "check_list = {인접리스트에 있는 거: True}\n",
    "dq가 차있을 동안\n",
    "    현재 노드 = dq.pop\n",
    "    현재 노드에서 갈 수 있는 길이 있다\n",
    "        현재 노드에서 갈 수 있는 길 중 알파벳 빠른거 path에 추가\n",
    "        간선(티켓) 지우기\n",
    "        현재 노드에서 갈 수 있는 길이 더 있나?\n",
    "            없으면, check리스트에서 지움\n",
    "    현재 노드에서 갈 수 있는 길이 없다\n",
    "        현재 path가 티켓 다 쓴거?\n",
    "            바로 정답임\n",
    "        현재 path가 티켓 다 안쓴거?\n",
    "            path top에서 갈 수 있는 길이 없는 동안\n",
    "                path.pop\n",
    "                #경로 살려놔야함\n",
    "            (있으면)\n",
    "                dq에 appendleft\n",
    "            "
   ]
  },
  {
   "cell_type": "code",
   "execution_count": 99,
   "id": "f0b7eb26-ee17-4816-a9c1-6b4ce896d722",
   "metadata": {},
   "outputs": [],
   "source": [
    "from collections import deque\n",
    "\n",
    "def solution(tickets):\n",
    "    # 인접 리스트\n",
    "    adj_list = dict()\n",
    "    for ticket in tickets:\n",
    "        start = ticket[0] \n",
    "        end = ticket[1]\n",
    "        if not start in adj_list:\n",
    "            adj_list[start] = [end]\n",
    "        else:\n",
    "            adj_list[start].append(end)\n",
    "    #인접 리스트 알파벳 순으로 정렬 => 알파벳 빠른게 먼저 가게끔    \n",
    "    check_list = dict() #체크리스트에 있으면 갈 수 있는 길이 있음\n",
    "    for key in adj_list.keys():\n",
    "        check_list[key] = True\n",
    "        adj_list[key].sort()\n",
    "        adj_list[key] = deque(adj_list[key])\n",
    "    print(adj_list)\n",
    "    print(check_list)\n",
    "    #{'ICN': ['ATL','SFO'], 'SFO': ['ATL'], 'ATL': ['ICN','SFO']}\n",
    "    dq = deque()\n",
    "    start_node = 'ICN'\n",
    "    dq.append(start_node)\n",
    "    path = []\n",
    "    while dq:\n",
    "        print(f'path : {path}')\n",
    "        now_node = dq.pop()\n",
    "        path.append(now_node)\n",
    "        print(f'now_node : {now_node}')\n",
    "        if now_node in check_list:\n",
    "            print(f'갈 수 있음')\n",
    "            next_node = adj_list[now_node].popleft()\n",
    "            dq.append(next_node)\n",
    "            print(f'next_node: {next_node}')\n",
    "            if not adj_list[now_node]:\n",
    "                print(f'다른 갈 수 있는 길이 없음: {adj_list}')\n",
    "                del check_list[now_node]\n",
    "        else: #갈 수 있는 길이 없음\n",
    "            print(f'갈 수 없음')\n",
    "            if len(path) == len(tickets) + 1:\n",
    "                return path\n",
    "            else: #티켓 다 안씀\n",
    "                #path top에서 갈 수 있는 길이 없는 동안 => path[-1]이 check리스트에 없으면 갈 수 있는 길이 없음\n",
    "                while not path[-1] in check_list:\n",
    "                    path.pop()\n",
    "                dq.appendleft(path[-1])\n",
    "                    \n",
    "    return path\n",
    "                \n",
    "                \n",
    "        "
   ]
  },
  {
   "cell_type": "code",
   "execution_count": 100,
   "id": "b372254e-4115-4714-87b6-b18146339ca4",
   "metadata": {},
   "outputs": [
    {
     "name": "stdout",
     "output_type": "stream",
     "text": [
      "{'ICN': deque(['AAD', 'JFK']), 'JFK': deque(['ICN'])}\n",
      "{'ICN': True, 'JFK': True}\n",
      "path : []\n",
      "now_node : ICN\n",
      "갈 수 있음\n",
      "next_node: AAD\n",
      "path : ['ICN']\n",
      "now_node : AAD\n",
      "갈 수 없음\n",
      "path : ['ICN']\n",
      "now_node : ICN\n",
      "갈 수 있음\n",
      "next_node: JFK\n",
      "다른 갈 수 있는 길이 없음: {'ICN': deque([]), 'JFK': deque(['ICN'])}\n",
      "path : ['ICN', 'ICN']\n",
      "now_node : JFK\n",
      "갈 수 있음\n",
      "next_node: ICN\n",
      "다른 갈 수 있는 길이 없음: {'ICN': deque([]), 'JFK': deque([])}\n",
      "path : ['ICN', 'ICN', 'JFK']\n",
      "now_node : ICN\n",
      "갈 수 없음\n"
     ]
    },
    {
     "data": {
      "text/plain": [
       "['ICN', 'ICN', 'JFK', 'ICN']"
      ]
     },
     "execution_count": 100,
     "metadata": {},
     "output_type": "execute_result"
    }
   ],
   "source": [
    "solution([[\"ICN\", \"JFK\"], [\"ICN\", \"AAD\"], [\"JFK\", \"ICN\"]])"
   ]
  },
  {
   "cell_type": "raw",
   "id": "eb266b7f-15f7-4968-acf6-1cd1a5dcec54",
   "metadata": {},
   "source": [
    "테스트 케이스 1 2번 통과X => 경로 되살려야함"
   ]
  },
  {
   "cell_type": "raw",
   "id": "85459ab8-2837-4b0f-bcb7-82c314b954be",
   "metadata": {},
   "source": [
    "path\n",
    "check_list = {인접리스트에 있는 거: True}\n",
    "dq가 차있을 동안\n",
    "    현재 노드 = dq.pop\n",
    "    현재 노드에서 갈 수 있는 길이 있다\n",
    "        현재 노드에서 갈 수 있는 길 중 알파벳 빠른거 path에 추가\n",
    "        간선(티켓) 지우기\n",
    "        현재 노드에서 갈 수 있는 길이 더 있나?\n",
    "            없으면, check리스트에서 지움\n",
    "    현재 노드에서 갈 수 있는 길이 없다\n",
    "        현재 path가 티켓 다 쓴거?\n",
    "            바로 정답임\n",
    "        현재 path가 티켓 다 안쓴거?\n",
    "            path top에서 갈 수 있는 길이 없는 동안\n",
    "                path.pop\n",
    "                #경로 살려놔야함\n",
    "            (있으면)\n",
    "                dq에 appendleft\n",
    "            "
   ]
  },
  {
   "cell_type": "code",
   "execution_count": 7,
   "id": "fb3dc767-7df7-4039-8f07-beaed0e19fd6",
   "metadata": {},
   "outputs": [],
   "source": [
    "from collections import deque\n",
    "\n",
    "def solution(tickets):\n",
    "    # 인접 리스트\n",
    "    adj_list = dict()\n",
    "    for ticket in tickets:\n",
    "        start = ticket[0] \n",
    "        end = ticket[1]\n",
    "        if not start in adj_list:\n",
    "            adj_list[start] = [end]\n",
    "        else:\n",
    "            adj_list[start].append(end)\n",
    "    #인접 리스트 알파벳 순으로 정렬 => 알파벳 빠른게 먼저 가게끔    \n",
    "    for key in adj_list.keys():\n",
    "        adj_list[key].sort()\n",
    "        adj_list[key] = deque(adj_list[key])\n",
    "    print(adj_list)\n",
    "    dq = deque()\n",
    "    start_node = 'ICN'\n",
    "    dq.append(start_node)\n",
    "    path = []\n",
    "    while dq:\n",
    "        print(dq)\n",
    "        now_node = dq.pop()\n",
    "        print(f'now_node : {now_node}')\n",
    "        path.append(now_node)\n",
    "        print(f'path : {path}')\n",
    "        if now_node in adj_list:\n",
    "            if adj_list[now_node]:\n",
    "                print(f'갈 수 있음')\n",
    "                next_node = adj_list[now_node].popleft()\n",
    "                dq.append(next_node)\n",
    "        else:\n",
    "            print(f'못감')\n",
    "            if len(path) == len(tickets) + 1:\n",
    "                print('!')\n",
    "                return path\n",
    "            else: #티켓 다 안씀\n",
    "                for i in range(len(path),0,-1):\n",
    "                    # 경로 살리기\n",
    "                    if path[i-1] in adj_list:\n",
    "                        adj_list[path[i-1]].append(path[i])\n",
    "                        path.pop()\n",
    "                path.pop()\n",
    "                dq.append('ICN')\n",
    "\n",
    "                \n",
    "    return path       "
   ]
  },
  {
   "cell_type": "code",
   "execution_count": 8,
   "id": "f2045ba6-21a2-4aeb-bffe-fb2336cc5068",
   "metadata": {},
   "outputs": [
    {
     "name": "stdout",
     "output_type": "stream",
     "text": [
      "{'ICN': deque(['AAA', 'CCC']), 'CCC': deque(['DDD']), 'AAA': deque(['BBB', 'BBB']), 'DDD': deque(['ICN']), 'BBB': deque(['AAA'])}\n",
      "deque(['ICN'])\n",
      "now_node : ICN\n",
      "path : ['ICN']\n",
      "갈 수 있음\n",
      "deque(['AAA'])\n",
      "now_node : AAA\n",
      "path : ['ICN', 'AAA']\n",
      "갈 수 있음\n",
      "deque(['BBB'])\n",
      "now_node : BBB\n",
      "path : ['ICN', 'AAA', 'BBB']\n",
      "갈 수 있음\n",
      "deque(['AAA'])\n",
      "now_node : AAA\n",
      "path : ['ICN', 'AAA', 'BBB', 'AAA']\n",
      "갈 수 있음\n",
      "deque(['BBB'])\n",
      "now_node : BBB\n",
      "path : ['ICN', 'AAA', 'BBB', 'AAA', 'BBB']\n"
     ]
    },
    {
     "data": {
      "text/plain": [
       "['ICN', 'AAA', 'BBB', 'AAA', 'BBB']"
      ]
     },
     "execution_count": 8,
     "metadata": {},
     "output_type": "execute_result"
    }
   ],
   "source": [
    "solution([[\"ICN\", \"AAA\"], [\"ICN\", \"CCC\"], [\"CCC\", \"DDD\"], [\"AAA\", \"BBB\"], [\"AAA\", \"BBB\"], [\"DDD\", \"ICN\"], [\"BBB\", \"AAA\"]])"
   ]
  },
  {
   "cell_type": "raw",
   "id": "4b1ae95d-c7b3-40b6-94df-ca1277371daf",
   "metadata": {},
   "source": [
    "# 하... 심플하게 가보자..."
   ]
  },
  {
   "cell_type": "code",
   "execution_count": 17,
   "id": "5390164e-ac38-45f0-a350-72ddce18c2ca",
   "metadata": {},
   "outputs": [],
   "source": [
    "from collections import deque\n",
    "import copy\n",
    "\n",
    "def solution(tickets):\n",
    "    used = [False for x in range(len(tickets))]\n",
    "    \n",
    "    start_node = [['ICN'],used]\n",
    "    queue = deque()\n",
    "    queue.append(start_node)\n",
    "    \n",
    "    paths = []\n",
    "    while queue:\n",
    "        now_path, now_used = queue.popleft()\n",
    "        if all(now_used):\n",
    "            paths.append(now_path)\n",
    "        for idx, ticket in enumerate(tickets):\n",
    "            if now_used[idx] == False and ticket[0] == now_path[-1]:\n",
    "                next_path = now_path + [ticket[1]]\n",
    "                next_used = copy.deepcopy(now_used)\n",
    "                next_used[idx] = True\n",
    "                queue.append([next_path, next_used])\n",
    "    paths.sort()\n",
    "    return paths[0]"
   ]
  },
  {
   "cell_type": "code",
   "execution_count": 18,
   "id": "fe57694e-b5bb-4b01-af01-2b06059c37e6",
   "metadata": {},
   "outputs": [
    {
     "data": {
      "text/plain": [
       "['ICN', 'CCC', 'DDD', 'ICN', 'AAA', 'BBB', 'AAA', 'BBB']"
      ]
     },
     "execution_count": 18,
     "metadata": {},
     "output_type": "execute_result"
    }
   ],
   "source": [
    "solution([[\"ICN\", \"AAA\"], [\"ICN\", \"CCC\"], [\"CCC\", \"DDD\"], [\"AAA\", \"BBB\"], [\"AAA\", \"BBB\"], [\"DDD\", \"ICN\"], [\"BBB\", \"AAA\"]])"
   ]
  },
  {
   "cell_type": "raw",
   "id": "d0c01069-2b4d-4c7e-83d4-b365464136a2",
   "metadata": {},
   "source": [
    "# 몇시간 동안 고생한 보람이 없다...\n",
    "# 결국 simple is the best....\n",
    "# deepcopy는 2차원 배열 이상을 복사할때 쓰자.\n",
    "# 1차원 배열 복사할때는 [:] => shallow copy가 낫다. \n",
    "\n",
    "# 괜히 인접리스트를 만들었나 싶다...\n",
    "# 사이클이 생길 수도 있고\n",
    "# 한번 지날 때마다 간선을 지워줘야한다. \n",
    "# 간선을 지우는 기능이 메인 => 그냥 간선 정보를 담은 배열이 나은듯\n",
    "# 이 문제... 다른사람들이 푼것도 좀 봐야겠다."
   ]
  },
  {
   "cell_type": "markdown",
   "id": "9a07303e-bfd4-4c07-a92e-f85e4e384227",
   "metadata": {},
   "source": [
    "### 아이템 줍기"
   ]
  },
  {
   "cell_type": "markdown",
   "id": "0554a6cf-9174-470f-81dd-755758289500",
   "metadata": {},
   "source": [
    "##### https://school.programmers.co.kr/learn/courses/30/lessons/87694?language=python3"
   ]
  },
  {
   "cell_type": "code",
   "execution_count": null,
   "id": "3d2b143e-e336-49f1-9236-ced3e8b2d4e8",
   "metadata": {},
   "outputs": [],
   "source": [
    "def solution(rectangle, characterX, characterY, itemX, itemY):\n",
    "    # 꼭짓점 뽑기\n",
    "    "
   ]
  }
 ],
 "metadata": {
  "kernelspec": {
   "display_name": "Python 3 (ipykernel)",
   "language": "python",
   "name": "python3"
  },
  "language_info": {
   "codemirror_mode": {
    "name": "ipython",
    "version": 3
   },
   "file_extension": ".py",
   "mimetype": "text/x-python",
   "name": "python",
   "nbconvert_exporter": "python",
   "pygments_lexer": "ipython3",
   "version": "3.11.5"
  }
 },
 "nbformat": 4,
 "nbformat_minor": 5
}
