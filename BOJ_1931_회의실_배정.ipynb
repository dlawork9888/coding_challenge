{
 "cells": [
  {
   "cell_type": "markdown",
   "id": "28f0dd54-7651-41ce-8845-4bf2cd351254",
   "metadata": {},
   "source": [
    "# BOJ. 1931. 회의실 배정\n",
    "https://www.acmicpc.net/problem/1931"
   ]
  },
  {
   "cell_type": "code",
   "execution_count": 9,
   "id": "c343b85c-58ce-4148-b133-ea9eb4d9629b",
   "metadata": {
    "tags": []
   },
   "outputs": [
    {
     "name": "stdin",
     "output_type": "stream",
     "text": [
      " 1 4\n",
      " 3 5\n",
      " 0 6\n",
      " 5 7\n",
      " 3 8\n",
      " 5 9\n",
      " 6 10\n",
      " 8 11\n",
      " 8 12\n",
      " 2 13\n",
      " 12 14\n"
     ]
    }
   ],
   "source": [
    "def input_process(N):\n",
    "    meetings = []\n",
    "    for _ in range(N):\n",
    "        meeting = [int(x) for x in input().split()]\n",
    "        meetings.append(meeting)\n",
    "    return meetings\n",
    "\n",
    "meetings = input_process(11)"
   ]
  },
  {
   "cell_type": "code",
   "execution_count": 14,
   "id": "4bcda62d-9318-45c3-80de-31bb01889adc",
   "metadata": {
    "tags": []
   },
   "outputs": [
    {
     "data": {
      "text/plain": [
       "[[1, 4],\n",
       " [3, 5],\n",
       " [0, 6],\n",
       " [5, 7],\n",
       " [3, 8],\n",
       " [5, 9],\n",
       " [6, 10],\n",
       " [8, 11],\n",
       " [8, 12],\n",
       " [2, 13],\n",
       " [12, 14]]"
      ]
     },
     "execution_count": 14,
     "metadata": {},
     "output_type": "execute_result"
    }
   ],
   "source": [
    "meetings.sort(key = lambda x: x[1])\n",
    "meetings"
   ]
  },
  {
   "cell_type": "code",
   "execution_count": 19,
   "id": "dc3aca98-23a2-4179-a8f6-4009b7ffbb7c",
   "metadata": {
    "tags": []
   },
   "outputs": [
    {
     "name": "stdout",
     "output_type": "stream",
     "text": [
      "1\n"
     ]
    }
   ],
   "source": [
    "count = 0\n",
    "finish_time = 0\n",
    "for meeting in meetings:\n",
    "    if meeting[0] >= finish_time:\n",
    "        count += 1\n",
    "        finish_time = meeting[1]\n",
    "print(count)"
   ]
  },
  {
   "cell_type": "code",
   "execution_count": 22,
   "id": "c0471b34-ea75-4e39-944f-6eb97fd25ff5",
   "metadata": {
    "tags": []
   },
   "outputs": [
    {
     "name": "stdin",
     "output_type": "stream",
     "text": [
      " 2\n",
      " 1 4\n",
      " 4 4\n"
     ]
    },
    {
     "name": "stdout",
     "output_type": "stream",
     "text": [
      "2\n"
     ]
    }
   ],
   "source": [
    "# 최종\n",
    "N = int(input())\n",
    "\n",
    "def input_process(N):\n",
    "    meetings = []\n",
    "    for _ in range(N):\n",
    "        meeting = [int(x) for x in input().split()]\n",
    "        meetings.append(meeting)\n",
    "    return meetings\n",
    "\n",
    "meetings = input_process(N)\n",
    "meetings.sort(key = lambda x: (x[1],x[0]))\n",
    "\n",
    "count = 0\n",
    "finish_time = 0\n",
    "for meeting in meetings:\n",
    "    if meeting[0] >= finish_time:\n",
    "        count += 1\n",
    "        finish_time = meeting[1]\n",
    "print(count)"
   ]
  },
  {
   "cell_type": "code",
   "execution_count": null,
   "id": "aafe5690-98d1-4d03-8d1c-86a5227d9bd9",
   "metadata": {},
   "outputs": [],
   "source": []
  }
 ],
 "metadata": {
  "kernelspec": {
   "display_name": "Python 3 (ipykernel)",
   "language": "python",
   "name": "python3"
  },
  "language_info": {
   "codemirror_mode": {
    "name": "ipython",
    "version": 3
   },
   "file_extension": ".py",
   "mimetype": "text/x-python",
   "name": "python",
   "nbconvert_exporter": "python",
   "pygments_lexer": "ipython3",
   "version": "3.11.5"
  }
 },
 "nbformat": 4,
 "nbformat_minor": 5
}
