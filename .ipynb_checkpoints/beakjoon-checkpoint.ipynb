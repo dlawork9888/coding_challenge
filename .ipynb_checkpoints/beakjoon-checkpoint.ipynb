{
 "cells": [
  {
   "cell_type": "markdown",
   "id": "14e611ac-8fa2-44e5-b52d-557ef21f7301",
   "metadata": {},
   "source": [
    "# 1010. 다리 놓기"
   ]
  },
  {
   "cell_type": "markdown",
   "id": "40499adf-e64e-443d-915d-3c2a706b81e2",
   "metadata": {
    "tags": []
   },
   "source": [
    "##### https://www.acmicpc.net/problem/1010"
   ]
  },
  {
   "cell_type": "code",
   "execution_count": null,
   "id": "9afe3e8e-6cf9-42a3-bf64-6ae74525f930",
   "metadata": {},
   "outputs": [],
   "source": [
    " # Combination 구하기\n",
    " # 5C3 = 5*4*3/3*2*1 = 5P3/3P3\n",
    " # => permutation 구하기\n",
    " # 5P3 = 5*4P2 = 5*4*3P1"
   ]
  },
  {
   "cell_type": "code",
   "execution_count": 7,
   "id": "871c66bb-5db3-439c-90c3-2152c11b0f45",
   "metadata": {},
   "outputs": [
    {
     "name": "stdin",
     "output_type": "stream",
     "text": [
      " 1\n",
      " 13 29\n"
     ]
    },
    {
     "name": "stdout",
     "output_type": "stream",
     "text": [
      "67863915.0\n"
     ]
    }
   ],
   "source": [
    "def permutation(n,m):\n",
    "    result = 1\n",
    "    if m == 1:\n",
    "        return n\n",
    "    else:\n",
    "        return n * permutation(n-1,m-1)\n",
    "\n",
    "for T in range(int(input())):\n",
    "    m,n = [int(x) for x in input().split()]\n",
    "    print(int(permutation(n,m)/permutation(m,m)))\n",
    "    "
   ]
  },
  {
   "cell_type": "markdown",
   "id": "5d33338a-aab2-43ee-9dc6-3c15586d5c2a",
   "metadata": {},
   "source": [
    "# 1094. 막대기"
   ]
  },
  {
   "cell_type": "markdown",
   "id": "56e192d1-7277-465e-b95d-2e5506b3b341",
   "metadata": {},
   "source": [
    "##### https://www.acmicpc.net/problem/1094"
   ]
  },
  {
   "cell_type": "code",
   "execution_count": 1,
   "id": "d705db39-e7c7-4e50-900b-915812e323c9",
   "metadata": {},
   "outputs": [],
   "source": [
    "# 지민이가 가지고 있는 막대의 길이를 모두 더한다. 처음에는 64cm 막대 하나만 가지고 있다. \n",
    "#이때, 합이 X보다 크다면, 아래와 같은 과정을 반복한다.\n",
    "\n",
    "    #가지고 있는 막대 중 길이가 가장 짧은 것을 절반으로 자른다.\n",
    "    #만약, 위에서 자른 막대의 절반 중 하나를 버리고 남아있는 막대의 길이의 합이 X보다 크거나 같다면, 위에서 자른 막대의 절반 중 하나를 버린다.\n",
    "    \n",
    "#이제, 남아있는 모든 막대를 풀로 붙여서 Xcm를 만든다."
   ]
  },
  {
   "cell_type": "code",
   "execution_count": 3,
   "id": "b9a59630-3cd2-4bab-be88-ccd7a4afee4a",
   "metadata": {},
   "outputs": [
    {
     "name": "stdin",
     "output_type": "stream",
     "text": [
      " 32\n"
     ]
    },
    {
     "name": "stdout",
     "output_type": "stream",
     "text": [
      "1\n"
     ]
    }
   ],
   "source": [
    "def process(X):\n",
    "    sticks = [64]\n",
    "    while sum(sticks) > X: # 막대기의 합이 X가 아닐동안 반복 \n",
    "        now_stick = sticks.pop()\n",
    "        half = now_stick//2\n",
    "        sticks.append(half)\n",
    "        if not sum(sticks) >= X:\n",
    "            sticks.append(half)\n",
    "    return len(sticks)\n",
    "    \n",
    "print(process(int(input())))\n",
    "        "
   ]
  },
  {
   "cell_type": "markdown",
   "id": "2e83179e-f838-498a-b9dd-99cc52da36a0",
   "metadata": {},
   "source": [
    "# 수열 정렬"
   ]
  },
  {
   "cell_type": "markdown",
   "id": "f782b36d-94d8-44b4-9ff3-5b67af58685d",
   "metadata": {},
   "source": [
    "##### https://www.acmicpc.net/problem/1015"
   ]
  },
  {
   "cell_type": "code",
   "execution_count": 2,
   "id": "29954de2-5dc8-4806-9862-d4bb36fe24da",
   "metadata": {},
   "outputs": [],
   "source": [
    "# 비내림차순 => 오른차순\n",
    "# 우선순위가 같다면, 사전순으로"
   ]
  },
  {
   "cell_type": "code",
   "execution_count": 10,
   "id": "854136fe-f857-47d3-a86e-e81f8ab9ecf3",
   "metadata": {},
   "outputs": [
    {
     "name": "stdin",
     "output_type": "stream",
     "text": [
      " 4\n",
      " 2 1 3 1\n"
     ]
    },
    {
     "name": "stdout",
     "output_type": "stream",
     "text": [
      "2 0 3 1\n"
     ]
    }
   ],
   "source": [
    "from collections import deque\n",
    "\n",
    "def input_process():\n",
    "    N = int(input())\n",
    "    A = [int(x) for x in input().split()]\n",
    "    return N,A\n",
    "\n",
    "N, A = input_process()\n",
    "A_sorted = deque(sorted(A))\n",
    "P = ['' for x in range(N)]\n",
    "count = 0\n",
    "while A_sorted:\n",
    "    now_num = A_sorted.popleft()\n",
    "    for idx, num in enumerate(A):\n",
    "        if num == now_num and P[idx] == '':\n",
    "            P[idx] = str(count)\n",
    "            count += 1\n",
    "print(' '.join(P))"
   ]
  },
  {
   "cell_type": "markdown",
   "id": "3151c2b1-13f9-4436-bd42-d917ef79827e",
   "metadata": {},
   "source": [
    "# 체스판 다시 칠하기"
   ]
  },
  {
   "cell_type": "markdown",
   "id": "fe57bada-c163-4f34-91f6-b5c475afbf6b",
   "metadata": {},
   "source": [
    "##### https://www.acmicpc.net/problem/1018"
   ]
  },
  {
   "cell_type": "code",
   "execution_count": 1,
   "id": "718901f8-30c6-4f8c-b65d-915db8f03f42",
   "metadata": {},
   "outputs": [],
   "source": [
    "# 완전 탐색?\n",
    "# BFS? \n",
    "# check 활용\n",
    "# 왼쪽 위가 black, white인 체스판과 몇개의 원소가 다른지 비교\n",
    "# Convolutional layer와 비슷하게 작동"
   ]
  },
  {
   "cell_type": "code",
   "execution_count": 38,
   "id": "512b2f5d-80d4-4f04-b9d8-6ded51c85479",
   "metadata": {},
   "outputs": [
    {
     "name": "stdin",
     "output_type": "stream",
     "text": [
      " 11 12\n",
      " BWWBWWBWWBWW\n",
      " BWWBWBBWWBWW\n",
      " WBWWBWBBWWBW\n",
      " BWWBWBBWWBWW\n",
      " WBWWBWBBWWBW\n",
      " BWWBWBBWWBWW\n",
      " WBWWBWBBWWBW\n",
      " BWWBWBWWWBWW\n",
      " WBWWBWBBWWBW\n",
      " BWWBWBBWWBWW\n",
      " WBWWBWBBWWBW\n"
     ]
    },
    {
     "name": "stdout",
     "output_type": "stream",
     "text": [
      "15\n"
     ]
    }
   ],
   "source": [
    "N, M = [int(x) for x in input().split()]\n",
    "# 행이 몇개, 열이 몇개\n",
    "board = []\n",
    "for _ in range(N):\n",
    "    board.append([x for x in input()])\n",
    "white_start = ['W','B','W','B','W','B','W','B']\n",
    "black_start = ['B','W','B','W','B','W','B','W']\n",
    "ws_cb = []\n",
    "bs_cb = []\n",
    "for i in range(8):\n",
    "    if i % 2 == 0:\n",
    "        ws_cb.append(white_start)\n",
    "        bs_cb.append(black_start)\n",
    "    else:\n",
    "        ws_cb.append(black_start)\n",
    "        bs_cb.append(white_start)\n",
    "\n",
    "from collections import deque\n",
    "import math\n",
    "check = [[False for _ in range(M - 7)] for _ in range(N - 7)]\n",
    "d_row = [-1,0,1,0]\n",
    "d_col = [0,1,0,-1]\n",
    "dq = deque()\n",
    "start_node = (0,0)\n",
    "dq.append(start_node)\n",
    "\"\"\"\n",
    "for row in check:\n",
    "    for el in row:\n",
    "        print(el, end = ' ')\n",
    "    print()\n",
    "for row in board:\n",
    "    for el in row:\n",
    "        print(el, end = ' ')\n",
    "    print()\n",
    "\"\"\"\n",
    "min_count = math.inf\n",
    "while dq:\n",
    "    now_node = dq.popleft()\n",
    "    #print(f'now_node : {now_node}')\n",
    "    check[now_node[0]][now_node[1]] = True\n",
    "    now_board = []\n",
    "    for i in range(now_node[0], now_node[0]+8):\n",
    "        row = board[i]\n",
    "        now_board.append(row[now_node[1]:now_node[1]+8])\n",
    "    ws_count = 0\n",
    "    bs_count = 0\n",
    "    for i in range(8):\n",
    "        for j in range(8):\n",
    "            if ws_cb[i][j] != now_board[i][j]:\n",
    "                ws_count += 1\n",
    "            if bs_cb[i][j] != now_board[i][j]:\n",
    "                bs_count += 1\n",
    "    if min_count > ws_count:\n",
    "        min_count = ws_count\n",
    "    if min_count > bs_count:\n",
    "        min_count = bs_count\n",
    "    for i in range(4):\n",
    "        #print('!')\n",
    "        # 다음 탐색할 노드 집어넣는 로직\n",
    "        next_node = (now_node[0]+d_row[i], now_node[1]+d_col[i])\n",
    "        if 0 <= next_node[0] <= N - 8 and 0 <= next_node[1] <= M-8:\n",
    "            if check[next_node[0]][next_node[1]] == False:\n",
    "                #print('!')\n",
    "                dq.append(next_node)\n",
    "print(min_count)"
   ]
  },
  {
   "cell_type": "code",
   "execution_count": 39,
   "id": "48716fc4-85eb-49e3-963d-43692bc39444",
   "metadata": {},
   "outputs": [],
   "source": [
    "# => 로직은 잘 돌아가지만 시간초과\n",
    "# 사실.. bfs로 풀 이유가 없긴함\n",
    "# bfs를 사용하지 않고 풀어보자"
   ]
  },
  {
   "cell_type": "code",
   "execution_count": 48,
   "id": "514a18d9-7748-41d4-b52c-82f3b6750369",
   "metadata": {},
   "outputs": [
    {
     "name": "stdin",
     "output_type": "stream",
     "text": [
      " 9 23\n",
      " BBBBBBBBBBBBBBBBBBBBBBB\n",
      " BBBBBBBBBBBBBBBBBBBBBBB\n",
      " BBBBBBBBBBBBBBBBBBBBBBB\n",
      " BBBBBBBBBBBBBBBBBBBBBBB\n",
      " BBBBBBBBBBBBBBBBBBBBBBB\n",
      " BBBBBBBBBBBBBBBBBBBBBBB\n",
      " BBBBBBBBBBBBBBBBBBBBBBB\n",
      " BBBBBBBBBBBBBBBBBBBBBBB\n",
      " BBBBBBBBBBBBBBBBBBBBBBW\n"
     ]
    },
    {
     "name": "stdout",
     "output_type": "stream",
     "text": [
      "31\n"
     ]
    }
   ],
   "source": [
    "N, M = [int(x) for x in input().split()]\n",
    "# 행이 몇개, 열이 몇개\n",
    "board = []\n",
    "for _ in range(N):\n",
    "    board.append([x for x in input()])\n",
    "white_start = ['W','B','W','B','W','B','W','B']\n",
    "black_start = ['B','W','B','W','B','W','B','W']\n",
    "ws_cb = []\n",
    "bs_cb = []\n",
    "for i in range(8):\n",
    "    if i % 2 == 0:\n",
    "        ws_cb.append(white_start)\n",
    "        bs_cb.append(black_start)\n",
    "    else:\n",
    "        ws_cb.append(black_start)\n",
    "        bs_cb.append(white_start)\n",
    "        \n",
    "import math\n",
    "min_count = math.inf\n",
    "\n",
    "for i in range(N-7):\n",
    "    for j in range(M-7):\n",
    "        #print(f'start_point = {i},{j}')\n",
    "        ws_count = 0 \n",
    "        bs_count = 0\n",
    "        for m in range(8):\n",
    "            for n in range(8):\n",
    "                if ws_cb[m][n] != board[i+m][j+n]:\n",
    "                    ws_count += 1\n",
    "                if bs_cb[m][n] != board[i+m][j+n]:\n",
    "                    bs_count += 1\n",
    "        if min_count > ws_count:\n",
    "            min_count = ws_count\n",
    "        if min_count > bs_count:\n",
    "            min_count = bs_count\n",
    "print(min_count)"
   ]
  },
  {
   "cell_type": "code",
   "execution_count": null,
   "id": "c08a6296-7a0e-43aa-98bc-c63f2e3e5f0e",
   "metadata": {},
   "outputs": [],
   "source": []
  }
 ],
 "metadata": {
  "kernelspec": {
   "display_name": "Python 3 (ipykernel)",
   "language": "python",
   "name": "python3"
  },
  "language_info": {
   "codemirror_mode": {
    "name": "ipython",
    "version": 3
   },
   "file_extension": ".py",
   "mimetype": "text/x-python",
   "name": "python",
   "nbconvert_exporter": "python",
   "pygments_lexer": "ipython3",
   "version": "3.9.16"
  }
 },
 "nbformat": 4,
 "nbformat_minor": 5
}
