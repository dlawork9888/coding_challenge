{
 "cells": [
  {
   "cell_type": "markdown",
   "id": "14e611ac-8fa2-44e5-b52d-557ef21f7301",
   "metadata": {
    "jp-MarkdownHeadingCollapsed": true
   },
   "source": [
    "# 1010. 다리 놓기"
   ]
  },
  {
   "cell_type": "markdown",
   "id": "40499adf-e64e-443d-915d-3c2a706b81e2",
   "metadata": {
    "tags": []
   },
   "source": [
    "##### https://www.acmicpc.net/problem/1010"
   ]
  },
  {
   "cell_type": "code",
   "execution_count": null,
   "id": "9afe3e8e-6cf9-42a3-bf64-6ae74525f930",
   "metadata": {},
   "outputs": [],
   "source": [
    " # Combination 구하기\n",
    " # 5C3 = 5*4*3/3*2*1 = 5P3/3P3\n",
    " # => permutation 구하기\n",
    " # 5P3 = 5*4P2 = 5*4*3P1"
   ]
  },
  {
   "cell_type": "code",
   "execution_count": 7,
   "id": "871c66bb-5db3-439c-90c3-2152c11b0f45",
   "metadata": {},
   "outputs": [
    {
     "name": "stdin",
     "output_type": "stream",
     "text": [
      " 1\n",
      " 13 29\n"
     ]
    },
    {
     "name": "stdout",
     "output_type": "stream",
     "text": [
      "67863915.0\n"
     ]
    }
   ],
   "source": [
    "def permutation(n,m):\n",
    "    result = 1\n",
    "    if m == 1:\n",
    "        return n\n",
    "    else:\n",
    "        return n * permutation(n-1,m-1)\n",
    "\n",
    "for T in range(int(input())):\n",
    "    m,n = [int(x) for x in input().split()]\n",
    "    print(int(permutation(n,m)/permutation(m,m)))\n",
    "    "
   ]
  },
  {
   "cell_type": "markdown",
   "id": "5d33338a-aab2-43ee-9dc6-3c15586d5c2a",
   "metadata": {
    "jp-MarkdownHeadingCollapsed": true
   },
   "source": [
    "# 1094. 막대기"
   ]
  },
  {
   "cell_type": "markdown",
   "id": "56e192d1-7277-465e-b95d-2e5506b3b341",
   "metadata": {},
   "source": [
    "##### https://www.acmicpc.net/problem/1094"
   ]
  },
  {
   "cell_type": "code",
   "execution_count": 1,
   "id": "d705db39-e7c7-4e50-900b-915812e323c9",
   "metadata": {},
   "outputs": [],
   "source": [
    "# 지민이가 가지고 있는 막대의 길이를 모두 더한다. 처음에는 64cm 막대 하나만 가지고 있다. \n",
    "#이때, 합이 X보다 크다면, 아래와 같은 과정을 반복한다.\n",
    "\n",
    "    #가지고 있는 막대 중 길이가 가장 짧은 것을 절반으로 자른다.\n",
    "    #만약, 위에서 자른 막대의 절반 중 하나를 버리고 남아있는 막대의 길이의 합이 X보다 크거나 같다면, 위에서 자른 막대의 절반 중 하나를 버린다.\n",
    "    \n",
    "#이제, 남아있는 모든 막대를 풀로 붙여서 Xcm를 만든다."
   ]
  },
  {
   "cell_type": "code",
   "execution_count": 3,
   "id": "b9a59630-3cd2-4bab-be88-ccd7a4afee4a",
   "metadata": {},
   "outputs": [
    {
     "name": "stdin",
     "output_type": "stream",
     "text": [
      " 32\n"
     ]
    },
    {
     "name": "stdout",
     "output_type": "stream",
     "text": [
      "1\n"
     ]
    }
   ],
   "source": [
    "def process(X):\n",
    "    sticks = [64]\n",
    "    while sum(sticks) > X: # 막대기의 합이 X가 아닐동안 반복 \n",
    "        now_stick = sticks.pop()\n",
    "        half = now_stick//2\n",
    "        sticks.append(half)\n",
    "        if not sum(sticks) >= X:\n",
    "            sticks.append(half)\n",
    "    return len(sticks)\n",
    "    \n",
    "print(process(int(input())))\n",
    "        "
   ]
  },
  {
   "cell_type": "markdown",
   "id": "2e83179e-f838-498a-b9dd-99cc52da36a0",
   "metadata": {
    "jp-MarkdownHeadingCollapsed": true
   },
   "source": [
    "# 1015. 수열 정렬"
   ]
  },
  {
   "cell_type": "markdown",
   "id": "f782b36d-94d8-44b4-9ff3-5b67af58685d",
   "metadata": {},
   "source": [
    "##### https://www.acmicpc.net/problem/1015"
   ]
  },
  {
   "cell_type": "code",
   "execution_count": 2,
   "id": "29954de2-5dc8-4806-9862-d4bb36fe24da",
   "metadata": {},
   "outputs": [],
   "source": [
    "# 비내림차순 => 오른차순\n",
    "# 우선순위가 같다면, 사전순으로"
   ]
  },
  {
   "cell_type": "code",
   "execution_count": 10,
   "id": "854136fe-f857-47d3-a86e-e81f8ab9ecf3",
   "metadata": {},
   "outputs": [
    {
     "name": "stdin",
     "output_type": "stream",
     "text": [
      " 4\n",
      " 2 1 3 1\n"
     ]
    },
    {
     "name": "stdout",
     "output_type": "stream",
     "text": [
      "2 0 3 1\n"
     ]
    }
   ],
   "source": [
    "from collections import deque\n",
    "\n",
    "def input_process():\n",
    "    N = int(input())\n",
    "    A = [int(x) for x in input().split()]\n",
    "    return N,A\n",
    "\n",
    "N, A = input_process()\n",
    "A_sorted = deque(sorted(A))\n",
    "P = ['' for x in range(N)]\n",
    "count = 0\n",
    "while A_sorted:\n",
    "    now_num = A_sorted.popleft()\n",
    "    for idx, num in enumerate(A):\n",
    "        if num == now_num and P[idx] == '':\n",
    "            P[idx] = str(count)\n",
    "            count += 1\n",
    "print(' '.join(P))"
   ]
  },
  {
   "cell_type": "markdown",
   "id": "3151c2b1-13f9-4436-bd42-d917ef79827e",
   "metadata": {
    "jp-MarkdownHeadingCollapsed": true
   },
   "source": [
    "# 1018. 체스판 다시 칠하기"
   ]
  },
  {
   "cell_type": "markdown",
   "id": "fe57bada-c163-4f34-91f6-b5c475afbf6b",
   "metadata": {},
   "source": [
    "##### https://www.acmicpc.net/problem/1018"
   ]
  },
  {
   "cell_type": "code",
   "execution_count": 1,
   "id": "718901f8-30c6-4f8c-b65d-915db8f03f42",
   "metadata": {},
   "outputs": [],
   "source": [
    "# 완전 탐색?\n",
    "# BFS? \n",
    "# check 활용\n",
    "# 왼쪽 위가 black, white인 체스판과 몇개의 원소가 다른지 비교\n",
    "# Convolutional layer와 비슷하게 작동"
   ]
  },
  {
   "cell_type": "code",
   "execution_count": 38,
   "id": "512b2f5d-80d4-4f04-b9d8-6ded51c85479",
   "metadata": {},
   "outputs": [
    {
     "name": "stdin",
     "output_type": "stream",
     "text": [
      " 11 12\n",
      " BWWBWWBWWBWW\n",
      " BWWBWBBWWBWW\n",
      " WBWWBWBBWWBW\n",
      " BWWBWBBWWBWW\n",
      " WBWWBWBBWWBW\n",
      " BWWBWBBWWBWW\n",
      " WBWWBWBBWWBW\n",
      " BWWBWBWWWBWW\n",
      " WBWWBWBBWWBW\n",
      " BWWBWBBWWBWW\n",
      " WBWWBWBBWWBW\n"
     ]
    },
    {
     "name": "stdout",
     "output_type": "stream",
     "text": [
      "15\n"
     ]
    }
   ],
   "source": [
    "N, M = [int(x) for x in input().split()]\n",
    "# 행이 몇개, 열이 몇개\n",
    "board = []\n",
    "for _ in range(N):\n",
    "    board.append([x for x in input()])\n",
    "white_start = ['W','B','W','B','W','B','W','B']\n",
    "black_start = ['B','W','B','W','B','W','B','W']\n",
    "ws_cb = []\n",
    "bs_cb = []\n",
    "for i in range(8):\n",
    "    if i % 2 == 0:\n",
    "        ws_cb.append(white_start)\n",
    "        bs_cb.append(black_start)\n",
    "    else:\n",
    "        ws_cb.append(black_start)\n",
    "        bs_cb.append(white_start)\n",
    "\n",
    "from collections import deque\n",
    "import math\n",
    "check = [[False for _ in range(M - 7)] for _ in range(N - 7)]\n",
    "d_row = [-1,0,1,0]\n",
    "d_col = [0,1,0,-1]\n",
    "dq = deque()\n",
    "start_node = (0,0)\n",
    "dq.append(start_node)\n",
    "\"\"\"\n",
    "for row in check:\n",
    "    for el in row:\n",
    "        print(el, end = ' ')\n",
    "    print()\n",
    "for row in board:\n",
    "    for el in row:\n",
    "        print(el, end = ' ')\n",
    "    print()\n",
    "\"\"\"\n",
    "min_count = math.inf\n",
    "while dq:\n",
    "    now_node = dq.popleft()\n",
    "    #print(f'now_node : {now_node}')\n",
    "    check[now_node[0]][now_node[1]] = True\n",
    "    now_board = []\n",
    "    for i in range(now_node[0], now_node[0]+8):\n",
    "        row = board[i]\n",
    "        now_board.append(row[now_node[1]:now_node[1]+8])\n",
    "    ws_count = 0\n",
    "    bs_count = 0\n",
    "    for i in range(8):\n",
    "        for j in range(8):\n",
    "            if ws_cb[i][j] != now_board[i][j]:\n",
    "                ws_count += 1\n",
    "            if bs_cb[i][j] != now_board[i][j]:\n",
    "                bs_count += 1\n",
    "    if min_count > ws_count:\n",
    "        min_count = ws_count\n",
    "    if min_count > bs_count:\n",
    "        min_count = bs_count\n",
    "    for i in range(4):\n",
    "        #print('!')\n",
    "        # 다음 탐색할 노드 집어넣는 로직\n",
    "        next_node = (now_node[0]+d_row[i], now_node[1]+d_col[i])\n",
    "        if 0 <= next_node[0] <= N - 8 and 0 <= next_node[1] <= M-8:\n",
    "            if check[next_node[0]][next_node[1]] == False:\n",
    "                #print('!')\n",
    "                dq.append(next_node)\n",
    "print(min_count)"
   ]
  },
  {
   "cell_type": "code",
   "execution_count": 39,
   "id": "48716fc4-85eb-49e3-963d-43692bc39444",
   "metadata": {},
   "outputs": [],
   "source": [
    "# => 로직은 잘 돌아가지만 시간초과\n",
    "# 사실.. bfs로 풀 이유가 없긴함\n",
    "# bfs를 사용하지 않고 풀어보자"
   ]
  },
  {
   "cell_type": "code",
   "execution_count": 48,
   "id": "514a18d9-7748-41d4-b52c-82f3b6750369",
   "metadata": {},
   "outputs": [
    {
     "name": "stdin",
     "output_type": "stream",
     "text": [
      " 9 23\n",
      " BBBBBBBBBBBBBBBBBBBBBBB\n",
      " BBBBBBBBBBBBBBBBBBBBBBB\n",
      " BBBBBBBBBBBBBBBBBBBBBBB\n",
      " BBBBBBBBBBBBBBBBBBBBBBB\n",
      " BBBBBBBBBBBBBBBBBBBBBBB\n",
      " BBBBBBBBBBBBBBBBBBBBBBB\n",
      " BBBBBBBBBBBBBBBBBBBBBBB\n",
      " BBBBBBBBBBBBBBBBBBBBBBB\n",
      " BBBBBBBBBBBBBBBBBBBBBBW\n"
     ]
    },
    {
     "name": "stdout",
     "output_type": "stream",
     "text": [
      "31\n"
     ]
    }
   ],
   "source": [
    "N, M = [int(x) for x in input().split()]\n",
    "# 행이 몇개, 열이 몇개\n",
    "board = []\n",
    "for _ in range(N):\n",
    "    board.append([x for x in input()])\n",
    "white_start = ['W','B','W','B','W','B','W','B']\n",
    "black_start = ['B','W','B','W','B','W','B','W']\n",
    "ws_cb = []\n",
    "bs_cb = []\n",
    "for i in range(8):\n",
    "    if i % 2 == 0:\n",
    "        ws_cb.append(white_start)\n",
    "        bs_cb.append(black_start)\n",
    "    else:\n",
    "        ws_cb.append(black_start)\n",
    "        bs_cb.append(white_start)\n",
    "        \n",
    "import math\n",
    "min_count = math.inf\n",
    "\n",
    "for i in range(N-7):\n",
    "    for j in range(M-7):\n",
    "        #print(f'start_point = {i},{j}')\n",
    "        ws_count = 0 \n",
    "        bs_count = 0\n",
    "        for m in range(8):\n",
    "            for n in range(8):\n",
    "                if ws_cb[m][n] != board[i+m][j+n]:\n",
    "                    ws_count += 1\n",
    "                if bs_cb[m][n] != board[i+m][j+n]:\n",
    "                    bs_count += 1\n",
    "        if min_count > ws_count:\n",
    "            min_count = ws_count\n",
    "        if min_count > bs_count:\n",
    "            min_count = bs_count\n",
    "print(min_count)"
   ]
  },
  {
   "cell_type": "markdown",
   "id": "50d8688b-7dd0-45b2-9014-8046f236de8e",
   "metadata": {
    "jp-MarkdownHeadingCollapsed": true
   },
   "source": [
    "# 1463. 1로 만들기"
   ]
  },
  {
   "cell_type": "markdown",
   "id": "d7053d95-d92b-41d1-a937-16d6e8185183",
   "metadata": {},
   "source": [
    "##### https://www.acmicpc.net/problem/1463"
   ]
  },
  {
   "cell_type": "code",
   "execution_count": null,
   "id": "333548b5-e6f9-4a1b-be50-2aa23f22b364",
   "metadata": {},
   "outputs": [],
   "source": [
    "# X가 3으로 나누어 떨어지면, 3으로 나눈다.\n",
    "# X가 2로 나누어 떨어지면, 2로 나눈다.\n",
    "# 1을 뺀다.\n",
    "\n",
    "# 6으로 나누어자는 수 => 2와 3 둘 다로 나누어짐.\n",
    "# => 3으로 먼저 나누면 더 작은 수가 되지 않을까>\n",
    "# => 어차피 6으로 나누어지면 3으로 나누든 2로 나누든 상관없다. 어차피 둘 다 할거니까."
   ]
  },
  {
   "cell_type": "code",
   "execution_count": 5,
   "id": "7f58307a-ece6-465a-8858-2279d0bb6555",
   "metadata": {},
   "outputs": [
    {
     "name": "stdin",
     "output_type": "stream",
     "text": [
      " 10\n"
     ]
    },
    {
     "name": "stdout",
     "output_type": "stream",
     "text": [
      "4\n"
     ]
    }
   ],
   "source": [
    "def process(X):\n",
    "    if X % 3 == 0:\n",
    "        X = X//3\n",
    "    elif X % 2 == 0:\n",
    "        X = X//2\n",
    "    else:\n",
    "        X -= 1\n",
    "    #print(X)\n",
    "    return X\n",
    "\n",
    "count = 0\n",
    "\n",
    "N = int(input())\n",
    "while N != 1:\n",
    "    N = process(N)\n",
    "    count += 1\n",
    "    \n",
    "print(count)"
   ]
  },
  {
   "cell_type": "code",
   "execution_count": 6,
   "id": "93dc36c9-08b5-4408-9046-569a03e2a7f9",
   "metadata": {},
   "outputs": [],
   "source": [
    "# 주어진 순서로 따라가면 최솟값이 산출되지않음. \n",
    "# DP 사용\n",
    "# n번째 있는 애들 중 3가지 연산 중 가능한 걸 수행하고 그 n번째의 리스트에 추가\n",
    "# n번째 리스트 => 연산을 n번 수행한 결과\n",
    "\n",
    "# 루프문 \n",
    "# dp_list에 다음 항 추가\n",
    "# 지금 항에 있는 녀석들한테 수행할 수 있는 계산 수행하고 다음 항에 추가\n",
    "# 이때, 추가할 값이 1이면 다음 항의 인덱스를 출력하고 종료\n",
    "\n",
    "\n",
    "# 반례 => 1"
   ]
  },
  {
   "cell_type": "code",
   "execution_count": 13,
   "id": "91cebc45-ed8d-47ac-9925-477dc0d035d5",
   "metadata": {},
   "outputs": [
    {
     "name": "stdin",
     "output_type": "stream",
     "text": [
      " 1\n"
     ]
    },
    {
     "name": "stdout",
     "output_type": "stream",
     "text": [
      "0\n"
     ]
    }
   ],
   "source": [
    "dp_list = [[int(input())]]\n",
    "now_index = 0\n",
    "Flag = False\n",
    "\n",
    "while True:\n",
    "    # 반례용\n",
    "    if dp_list[0][0] == 1:\n",
    "        print(0)\n",
    "        break\n",
    "        \n",
    "    dp_list.append([])\n",
    "    for x in dp_list[now_index]:\n",
    "        if x%3 == 0:\n",
    "            dp_list[now_index + 1].append(x//3)\n",
    "            if x//3 == 1:\n",
    "                print(now_index + 1)\n",
    "                Flag = True\n",
    "                break\n",
    "        if x%2 == 0:\n",
    "            dp_list[now_index + 1].append(x//2)\n",
    "            if x//2 == 1:\n",
    "                print(now_index + 1)\n",
    "                Flag = True\n",
    "                break\n",
    "        dp_list[now_index + 1].append(x - 1)\n",
    "        if x - 1 == 1:\n",
    "            print(now_index + 1)\n",
    "            Flag = True\n",
    "            break\n",
    "    now_index += 1\n",
    "    #print(dp_list)\n",
    "    if Flag == True:\n",
    "        break"
   ]
  },
  {
   "cell_type": "markdown",
   "id": "afae1291-70d0-479e-b5e9-b9133b6f005b",
   "metadata": {
    "jp-MarkdownHeadingCollapsed": true
   },
   "source": [
    "# 1929. 소수 구하기"
   ]
  },
  {
   "cell_type": "markdown",
   "id": "3798919e-2fc3-4cc1-8343-4e2b0bf09dc7",
   "metadata": {},
   "source": [
    "##### https://www.acmicpc.net/problem/1929"
   ]
  },
  {
   "cell_type": "code",
   "execution_count": 18,
   "id": "d30effac-1d91-424d-9a65-d673528739cc",
   "metadata": {},
   "outputs": [],
   "source": [
    "# 에라토스테네스의 체 안씀\n",
    "# 2부터 n//2 + 1까지만 확인"
   ]
  },
  {
   "cell_type": "code",
   "execution_count": 17,
   "id": "028f32f8-387f-45b0-a629-dbdf62c67624",
   "metadata": {},
   "outputs": [
    {
     "name": "stdin",
     "output_type": "stream",
     "text": [
      " 3 16\n"
     ]
    },
    {
     "name": "stdout",
     "output_type": "stream",
     "text": [
      "3\n",
      "5\n",
      "7\n",
      "11\n",
      "13\n"
     ]
    }
   ],
   "source": [
    "M, N = [int(x) for x in input().split()]\n",
    "for x in range(M,N+1):\n",
    "    if x == 1:\n",
    "        continue\n",
    "    flag = True\n",
    "    for i in range(2,x//2+2):\n",
    "        if x%i == 0:\n",
    "            # 나누어떨어지면 소수가 아님\n",
    "            flag = False\n",
    "            break\n",
    "    if flag == True:\n",
    "        print(x)"
   ]
  },
  {
   "cell_type": "code",
   "execution_count": 22,
   "id": "b012a19b-8794-49a0-aa83-e914a0d46b9a",
   "metadata": {},
   "outputs": [
    {
     "name": "stdout",
     "output_type": "stream",
     "text": [
      "[2, 3, 5, 7, 11, 13, 17, 19, 23, 29, 31, 37, 41, 43, 47, 53, 59, 61, 67, 71, 73, 79, 83, 89, 97]\n"
     ]
    }
   ],
   "source": [
    "# 에라토스테네스의 체 사용!\n",
    "# 에라토스테네스의 체\n",
    "\n",
    "n = 100\n",
    "num_list = [False, False] + [True] * (n-1) # n번째 인덱스까지 있음. 0,1,2,...,n\n",
    "primes = []\n",
    "for i in range(2,n+1):\n",
    "    if num_list[i] == True:\n",
    "        primes.append(i)\n",
    "        for j in range(2*i, n+1, i):\n",
    "            num_list[j] = False\n",
    "print(primes)\n",
    "\n",
    "\n",
    "##### 어느 수가 소수이면, 그 수의 배수를 모두 지움!"
   ]
  },
  {
   "cell_type": "code",
   "execution_count": 32,
   "id": "1a2983fa-2f72-4185-8614-59d1ae1b69b3",
   "metadata": {},
   "outputs": [
    {
     "name": "stdin",
     "output_type": "stream",
     "text": [
      " 3 16\n"
     ]
    },
    {
     "name": "stdout",
     "output_type": "stream",
     "text": [
      "3\n",
      "5\n",
      "7\n",
      "11\n",
      "13\n"
     ]
    }
   ],
   "source": [
    "M, N = [int(x) for x in input().split()]\n",
    "# num_list 생성 \n",
    "num_list = [False, False] + [True]*(N+1) # 0,1,2,...,n번째 인덱스까지\n",
    "for i in range(2, N+1):\n",
    "    if num_list[i] == True: # 소수이면,\n",
    "        # 배수 다 지움\n",
    "        if M <= i <= N:\n",
    "            print(i)\n",
    "        for j in range(i*2, N+1, i):\n",
    "            num_list[j] = False"
   ]
  },
  {
   "cell_type": "markdown",
   "id": "748d28c3-790d-4dec-87aa-6fdcefdc35a4",
   "metadata": {},
   "source": [
    "# 1260. DFS와 BFS"
   ]
  },
  {
   "cell_type": "markdown",
   "id": "ff61dda4-8799-4f40-891a-3ba92bfcef05",
   "metadata": {},
   "source": [
    "##### https://www.acmicpc.net/problem/1260"
   ]
  },
  {
   "cell_type": "code",
   "execution_count": null,
   "id": "d860687a-02df-4008-8858-dc8b1d0d258a",
   "metadata": {},
   "outputs": [],
   "source": [
    "# 정점 1000 \n",
    "# 인접 행렬 시 => 4,000,000 바이트 => 4기가 => 인접 리스트로"
   ]
  },
  {
   "cell_type": "code",
   "execution_count": 53,
   "id": "3ac2a0f1-ed25-4bb3-8ee9-82c321c58bd7",
   "metadata": {},
   "outputs": [
    {
     "name": "stdin",
     "output_type": "stream",
     "text": [
      " 5 5 3\n"
     ]
    },
    {
     "name": "stdout",
     "output_type": "stream",
     "text": [
      "defaultdict(<class 'list'>, {1: [], 2: [], 3: [], 4: [], 5: []})\n"
     ]
    },
    {
     "name": "stdin",
     "output_type": "stream",
     "text": [
      " 5 4\n",
      " 5 2\n",
      " 1 2\n",
      " 3 4\n",
      " 3 1\n"
     ]
    },
    {
     "name": "stdout",
     "output_type": "stream",
     "text": [
      "defaultdict(<class 'list'>, {1: [2, 3], 2: [5, 1], 3: [4, 1], 4: [5, 3], 5: [4, 2]})\n"
     ]
    }
   ],
   "source": [
    "from collections import defaultdict\n",
    "from collections import deque\n",
    "\n",
    "N, M, V = [int(x) for x in input().split()]\n",
    "# 인접 리스트\n",
    "adj_list = defaultdict(list)\n",
    "for i in range(1,N+1):\n",
    "    adj_list[i] = []\n",
    "\n",
    "print(adj_list)\n",
    "for _ in range(M):\n",
    "    start, end = [int(x) for x in input().split()]\n",
    "    adj_list[start].append(end)\n",
    "    adj_list[end].append(start)\n",
    "\n",
    "#print(adj_list)"
   ]
  },
  {
   "cell_type": "code",
   "execution_count": 61,
   "id": "9848b896-6709-408a-97eb-cb03b31398fb",
   "metadata": {},
   "outputs": [
    {
     "name": "stdout",
     "output_type": "stream",
     "text": [
      "3 1 2 5 4\n",
      "3 1 4 2 5\n"
     ]
    }
   ],
   "source": [
    "for key in adj_list.keys():\n",
    "    adj_list[key].sort(reverse = True)\n",
    "\n",
    "# DFS \n",
    "# 노드 방문 횟수\n",
    "dfs_visit = [False for x in range(N + 1)]\n",
    "dfs_visit[0] = True\n",
    "dfs_route = []\n",
    "# DFS 실행\n",
    "dq = deque()\n",
    "dq.append(V)\n",
    "# pop\n",
    "# 방문 안한 노드면\n",
    "#     방문 표시\n",
    "#     그 정점에 인접한 방문하지 않은 모든 정점을 스택에 넣음\n",
    "while dq:\n",
    "    now_node = dq.pop()\n",
    "    if dfs_visit[now_node] == False:\n",
    "        dfs_visit[now_node] = True\n",
    "        dfs_route.append(now_node)\n",
    "        connected = adj_list[now_node]\n",
    "        for node in connected:\n",
    "            if dfs_visit[node] == False:\n",
    "                dq.append(node)\n",
    "# BFS\n",
    "bfs_visit = [False for x in range(N + 1)]\n",
    "bfs_visit[0] = True\n",
    "bfs_route = []\n",
    "# bfs 실행\n",
    "dq = deque()\n",
    "dq.append(V)\n",
    "# 큐에서 뺸다\n",
    "# 방문 표시\n",
    "# 큐에 인접한 노드들 중에서 방문 안한걸 넣는다 \n",
    "while dq:\n",
    "    now_node = dq.popleft()\n",
    "    #print(f'now_node : {now_node}')\n",
    "    if bfs_visit[now_node] == False:\n",
    "        bfs_visit[now_node] = True\n",
    "        bfs_route.append(now_node)\n",
    "        connected = adj_list[now_node]\n",
    "        for node in reversed(connected): # 여기 중요 (단, 방문할 수 있는 정점이 여러 개인 경우에는 정점 번호가 작은 것을 먼저 방문)\n",
    "            if bfs_visit[node] == False:\n",
    "                dq.append(node)\n",
    "    #print(f'dq :{dq}')\n",
    "    \n",
    "print(' '.join([str(x) for x in dfs_route]))\n",
    "print(' '.join([str(x) for x in bfs_route]))"
   ]
  },
  {
   "cell_type": "code",
   "execution_count": 2,
   "id": "7eca4d9d-2133-4de8-af5a-de42db0afe8e",
   "metadata": {},
   "outputs": [
    {
     "name": "stdin",
     "output_type": "stream",
     "text": [
      " 1000 1 1\n",
      " 999 1000\n"
     ]
    },
    {
     "name": "stdout",
     "output_type": "stream",
     "text": [
      "1\n",
      "1\n"
     ]
    }
   ],
   "source": [
    "### 통합\n",
    "from collections import defaultdict\n",
    "from collections import deque\n",
    "\n",
    "N, M, V = [int(x) for x in input().split()]\n",
    "# 인접 리스트\n",
    "adj_list = defaultdict(list)\n",
    "for i in range(1,N+1):\n",
    "    adj_list[i] = []\n",
    "\n",
    "#print(adj_list)\n",
    "for _ in range(M):\n",
    "    start, end = [int(x) for x in input().split()]\n",
    "    adj_list[start].append(end)\n",
    "    adj_list[end].append(start)\n",
    "\n",
    "#print(adj_list)\n",
    "\n",
    "for key in adj_list.keys():\n",
    "    adj_list[key].sort(reverse = True)\n",
    "\n",
    "# DFS \n",
    "# 노드 방문 횟수\n",
    "dfs_visit = [False for x in range(N + 1)]\n",
    "dfs_visit[0] = True\n",
    "dfs_route = []\n",
    "# DFS 실행\n",
    "dq = deque()\n",
    "dq.append(V)\n",
    "# pop\n",
    "# 방문 안한 노드면\n",
    "#     방문 표시\n",
    "#     그 정점에 인접한 방문하지 않은 모든 정점을 스택에 넣음\n",
    "while dq:\n",
    "    now_node = dq.pop()\n",
    "    if dfs_visit[now_node] == False:\n",
    "        dfs_visit[now_node] = True\n",
    "        dfs_route.append(now_node)\n",
    "        connected = adj_list[now_node]\n",
    "        for node in connected:\n",
    "            if dfs_visit[node] == False:\n",
    "                dq.append(node)\n",
    "# BFS\n",
    "bfs_visit = [False for x in range(N + 1)]\n",
    "bfs_visit[0] = True\n",
    "bfs_route = []\n",
    "# bfs 실행\n",
    "dq = deque()\n",
    "dq.append(V)\n",
    "# 큐에서 뺸다\n",
    "# 방문 표시\n",
    "# 큐에 인접한 노드들 중에서 방문 안한걸 넣는다 \n",
    "while dq:\n",
    "    now_node = dq.popleft()\n",
    "    #print(f'now_node : {now_node}')\n",
    "    if bfs_visit[now_node] == False:\n",
    "        bfs_visit[now_node] = True\n",
    "        bfs_route.append(now_node)\n",
    "        connected = adj_list[now_node]\n",
    "        for node in reversed(connected): # 여기 중요 (단, 방문할 수 있는 정점이 여러 개인 경우에는 정점 번호가 작은 것을 먼저 방문)\n",
    "            if bfs_visit[node] == False:\n",
    "                dq.append(node)\n",
    "    #print(f'dq :{dq}')\n",
    "    \n",
    "print(' '.join([str(x) for x in dfs_route]))\n",
    "print(' '.join([str(x) for x in bfs_route]))"
   ]
  },
  {
   "cell_type": "code",
   "execution_count": 76,
   "id": "84ddd1a3-1fd9-44a3-8541-8e54c8201564",
   "metadata": {},
   "outputs": [],
   "source": [
    "# => 런타임 에러\n",
    "# adj_list 주석 처리 해버렸음\n",
    "# 에러 메시지 확인 잘하기"
   ]
  },
  {
   "cell_type": "markdown",
   "id": "f375e7e6-71b3-4647-9933-c1e6eb825379",
   "metadata": {},
   "source": [
    "# 1012. 유기농 배추"
   ]
  },
  {
   "cell_type": "markdown",
   "id": "bc380c08-810d-4959-b59b-b0f4628131e6",
   "metadata": {},
   "source": [
    "##### https://www.acmicpc.net/problem/1012"
   ]
  },
  {
   "cell_type": "code",
   "execution_count": 44,
   "id": "ae3c1f5e-3846-4936-9daa-e6f0cf3516d6",
   "metadata": {},
   "outputs": [
    {
     "name": "stdin",
     "output_type": "stream",
     "text": [
      " 1\n"
     ]
    }
   ],
   "source": [
    "from collections import deque\n",
    "\n",
    "T = int(input())\n",
    "\n",
    "def return_map():\n",
    "    M,N,K = [int(x) for x in input().split()]\n",
    "    map = [[0 for _ in range(M)] for _ in range(N)]\n",
    "    for _ in range(K):\n",
    "        X, Y = [int(x) for x in input().split()]\n",
    "        map[Y][X] = 1\n",
    "    return map\n",
    "\n",
    "                    "
   ]
  },
  {
   "cell_type": "code",
   "execution_count": 62,
   "id": "d1af5b6b-8425-453d-8912-df293282fa50",
   "metadata": {},
   "outputs": [],
   "source": [
    "\n",
    "def how_many_flood_fill(map):\n",
    "    # directions\n",
    "    d_row = [-1,0,1,0]\n",
    "    d_col = [0,1,0,-1]\n",
    "    \n",
    "    num = 0\n",
    "    # map에서 하나라도 1이라면, 계속 bfs를 실행\n",
    "    while any([any(row) for row in map]):\n",
    "        #print('!')\n",
    "        # 시작 노드 찾기(좌표, 행, 렬)\n",
    "        start_node = [0,0]\n",
    "        for r_idx, row in enumerate(map):\n",
    "            for c_idx, col in enumerate(row):\n",
    "                if map[r_idx][c_idx] == 1:\n",
    "                    start_node = [r_idx, c_idx]\n",
    "                    break\n",
    "        #print(f'start_node : {start_node}')\n",
    "        # bfs\n",
    "        dq = deque()\n",
    "        dq.append(start_node)\n",
    "        while dq:\n",
    "            now_node = dq.popleft()\n",
    "            # 방문 표시\n",
    "            map[now_node[0]][now_node[1]] = 0\n",
    "            for i in range(4): # 4방향에 대해\n",
    "                next_node = [now_node[0]+d_row[i], now_node[1]+d_col[i]]\n",
    "                if 0 <= next_node[0] < len(map) and 0 <= next_node[1] < len(map[0]):\n",
    "                    if map[next_node[0]][next_node[1]] == 1:\n",
    "                        queue.append(next_node)\n",
    "        num += 1\n",
    "    return num"
   ]
  },
  {
   "cell_type": "code",
   "execution_count": 67,
   "id": "b31665d2-f2ad-45a3-8f84-2a80b93c9600",
   "metadata": {},
   "outputs": [
    {
     "name": "stdin",
     "output_type": "stream",
     "text": [
      " 2\n",
      " 5 5 3\n",
      " 1 1\n",
      " 2 3\n",
      " 3 3\n"
     ]
    },
    {
     "name": "stdout",
     "output_type": "stream",
     "text": [
      "2\n"
     ]
    },
    {
     "name": "stdin",
     "output_type": "stream",
     "text": [
      " 6 6 4\n",
      " 1 1\n",
      " 2 2\n",
      " 3 3\n",
      " 1 3\n"
     ]
    },
    {
     "name": "stdout",
     "output_type": "stream",
     "text": [
      "4\n"
     ]
    }
   ],
   "source": [
    "# 통합\n",
    "from collections import deque\n",
    "\n",
    "def return_map():\n",
    "    M,N,K = [int(x) for x in input().split()]\n",
    "    map = [[0 for _ in range(M)] for _ in range(N)]\n",
    "    for _ in range(K):\n",
    "        X, Y = [int(x) for x in input().split()]\n",
    "        map[Y][X] = 1\n",
    "    return map\n",
    "    \n",
    "def how_many_flood_fill(map):\n",
    "    # directions\n",
    "    d_row = [-1,0,1,0]\n",
    "    d_col = [0,1,0,-1]\n",
    "    \n",
    "    num = 0\n",
    "    # map에서 하나라도 1이라면, 계속 bfs를 실행\n",
    "    while any([any(row) for row in map]):\n",
    "        #print('!')\n",
    "        # 시작 노드 찾기(좌표, 행, 렬)\n",
    "        start_node = [0,0]\n",
    "        for r_idx, row in enumerate(map):\n",
    "            for c_idx, col in enumerate(row):\n",
    "                if map[r_idx][c_idx] == 1:\n",
    "                    start_node = [r_idx, c_idx]\n",
    "                    break\n",
    "        #print(f'start_node : {start_node}')\n",
    "        # bfs\n",
    "        dq = deque()\n",
    "        dq.append(start_node)\n",
    "        while dq:\n",
    "            now_node = dq.popleft()\n",
    "            # 방문 표시\n",
    "            map[now_node[0]][now_node[1]] = 0\n",
    "            for i in range(4): # 4방향에 대해\n",
    "                next_node = [now_node[0]+d_row[i], now_node[1]+d_col[i]]\n",
    "                if 0 <= next_node[0] < len(map) and 0 <= next_node[1] < len(map[0]):\n",
    "                    if map[next_node[0]][next_node[1]] == 1:\n",
    "                        dq.append(next_node)\n",
    "        num += 1\n",
    "    return num\n",
    "\n",
    "T = int(input())\n",
    "for _ in range(T):\n",
    "    print(how_many_flood_fill(return_map()))\n",
    "    "
   ]
  },
  {
   "cell_type": "code",
   "execution_count": 68,
   "id": "23a5b487-c1f2-4d19-a856-da96fe743989",
   "metadata": {},
   "outputs": [],
   "source": [
    "# => 메모리 초과"
   ]
  },
  {
   "cell_type": "code",
   "execution_count": 73,
   "id": "817966aa-6c91-4591-9990-947ba470f08e",
   "metadata": {},
   "outputs": [
    {
     "name": "stdin",
     "output_type": "stream",
     "text": [
      " 1\n",
      " 5 5 3\n",
      " 1 1\n",
      " 2 2\n",
      " 3 3\n"
     ]
    },
    {
     "name": "stdout",
     "output_type": "stream",
     "text": [
      "3\n"
     ]
    }
   ],
   "source": [
    "##### 50*50*int => 10000bytes => 10KB\n",
    "from collections import deque\n",
    "\n",
    "def return_map():\n",
    "    M,N,K = [int(x) for x in input().split()]\n",
    "    map = [[0 for _ in range(M)] for _ in range(N)]\n",
    "    for _ in range(K):\n",
    "        X, Y = [int(x) for x in input().split()]\n",
    "        map[Y][X] = 1\n",
    "    return map\n",
    "    \n",
    "def how_many_flood_fill(map):\n",
    "    # directions\n",
    "    d_row = [-1,0,1,0]\n",
    "    d_col = [0,1,0,-1]\n",
    "    \n",
    "    num = 0\n",
    "    # map에서 하나라도 1이라면, 계속 dfs를 실행\n",
    "    while any([any(row) for row in map]):\n",
    "        #print('!')\n",
    "        # 시작 노드 찾기(좌표, 행, 렬)\n",
    "        start_node = [0,0]\n",
    "        for r_idx, row in enumerate(map):\n",
    "            for c_idx, col in enumerate(row):\n",
    "                if map[r_idx][c_idx] == 1:\n",
    "                    start_node = [r_idx, c_idx]\n",
    "                    break\n",
    "        #print(f'start_node : {start_node}')\n",
    "        # dfs\n",
    "        dq = deque()\n",
    "        dq.append(start_node)\n",
    "        while dq:\n",
    "            now_node = dq.pop()\n",
    "            # 방문 표시\n",
    "            map[now_node[0]][now_node[1]] = 0\n",
    "            for i in range(4): # 4방향에 대해\n",
    "                next_node = [now_node[0]+d_row[i], now_node[1]+d_col[i]]\n",
    "                if 0 <= next_node[0] < len(map) and 0 <= next_node[1] < len(map[0]):\n",
    "                    if map[next_node[0]][next_node[1]] == 1:\n",
    "                        dq.append(next_node)\n",
    "        num += 1\n",
    "    return num\n",
    "\n",
    "T = int(input())\n",
    "for _ in range(T):\n",
    "    print(how_many_flood_fill(return_map()))\n",
    "    "
   ]
  },
  {
   "cell_type": "code",
   "execution_count": 74,
   "id": "c621fe19-f1f1-4387-9d22-227469daef5f",
   "metadata": {},
   "outputs": [],
   "source": [
    "# dfs로 푸니까 메모리 초과 안남!"
   ]
  },
  {
   "cell_type": "code",
   "execution_count": null,
   "id": "1604e513-19e5-40dc-8501-6c5b3a4b43aa",
   "metadata": {},
   "outputs": [],
   "source": []
  }
 ],
 "metadata": {
  "kernelspec": {
   "display_name": "Python 3 (ipykernel)",
   "language": "python",
   "name": "python3"
  },
  "language_info": {
   "codemirror_mode": {
    "name": "ipython",
    "version": 3
   },
   "file_extension": ".py",
   "mimetype": "text/x-python",
   "name": "python",
   "nbconvert_exporter": "python",
   "pygments_lexer": "ipython3",
   "version": "3.11.5"
  }
 },
 "nbformat": 4,
 "nbformat_minor": 5
}
